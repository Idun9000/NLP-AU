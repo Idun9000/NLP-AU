{
  "cells": [
    {
      "cell_type": "markdown",
      "metadata": {},
      "source": [
        "# Comparing contextual vectors"
      ]
    },
    {
      "cell_type": "code",
      "execution_count": 1,
      "metadata": {
        "id": "O05Vo2AbiMrE"
      },
      "outputs": [
        {
          "name": "stdout",
          "output_type": "stream",
          "text": [
            "Defaulting to user installation because normal site-packages is not writeable\n",
            "Collecting torch\n",
            "  Downloading torch-2.5.1-cp312-cp312-manylinux1_x86_64.whl.metadata (28 kB)\n",
            "Collecting transformers\n",
            "  Downloading transformers-4.46.2-py3-none-any.whl.metadata (44 kB)\n",
            "Collecting datasets\n",
            "  Downloading datasets-3.1.0-py3-none-any.whl.metadata (20 kB)\n",
            "Collecting bertviz\n",
            "  Downloading bertviz-1.4.0-py3-none-any.whl.metadata (19 kB)\n",
            "Collecting seaborn\n",
            "  Downloading seaborn-0.13.2-py3-none-any.whl.metadata (5.4 kB)\n",
            "Collecting scikit-learn\n",
            "  Downloading scikit_learn-1.5.2-cp312-cp312-manylinux_2_17_x86_64.manylinux2014_x86_64.whl.metadata (13 kB)\n",
            "Collecting filelock (from torch)\n",
            "  Downloading filelock-3.16.1-py3-none-any.whl.metadata (2.9 kB)\n",
            "Collecting typing-extensions>=4.8.0 (from torch)\n",
            "  Downloading typing_extensions-4.12.2-py3-none-any.whl.metadata (3.0 kB)\n",
            "Collecting networkx (from torch)\n",
            "  Downloading networkx-3.4.2-py3-none-any.whl.metadata (6.3 kB)\n",
            "Requirement already satisfied: jinja2 in /home/ucloud/.local/lib/python3.12/site-packages (from torch) (3.1.4)\n",
            "Collecting fsspec (from torch)\n",
            "  Downloading fsspec-2024.10.0-py3-none-any.whl.metadata (11 kB)\n",
            "Collecting nvidia-cuda-nvrtc-cu12==12.4.127 (from torch)\n",
            "  Downloading nvidia_cuda_nvrtc_cu12-12.4.127-py3-none-manylinux2014_x86_64.whl.metadata (1.5 kB)\n",
            "Collecting nvidia-cuda-runtime-cu12==12.4.127 (from torch)\n",
            "  Downloading nvidia_cuda_runtime_cu12-12.4.127-py3-none-manylinux2014_x86_64.whl.metadata (1.5 kB)\n",
            "Collecting nvidia-cuda-cupti-cu12==12.4.127 (from torch)\n",
            "  Downloading nvidia_cuda_cupti_cu12-12.4.127-py3-none-manylinux2014_x86_64.whl.metadata (1.6 kB)\n",
            "Collecting nvidia-cudnn-cu12==9.1.0.70 (from torch)\n",
            "  Downloading nvidia_cudnn_cu12-9.1.0.70-py3-none-manylinux2014_x86_64.whl.metadata (1.6 kB)\n",
            "Collecting nvidia-cublas-cu12==12.4.5.8 (from torch)\n",
            "  Downloading nvidia_cublas_cu12-12.4.5.8-py3-none-manylinux2014_x86_64.whl.metadata (1.5 kB)\n",
            "Collecting nvidia-cufft-cu12==11.2.1.3 (from torch)\n",
            "  Downloading nvidia_cufft_cu12-11.2.1.3-py3-none-manylinux2014_x86_64.whl.metadata (1.5 kB)\n",
            "Collecting nvidia-curand-cu12==10.3.5.147 (from torch)\n",
            "  Downloading nvidia_curand_cu12-10.3.5.147-py3-none-manylinux2014_x86_64.whl.metadata (1.5 kB)\n",
            "Collecting nvidia-cusolver-cu12==11.6.1.9 (from torch)\n",
            "  Downloading nvidia_cusolver_cu12-11.6.1.9-py3-none-manylinux2014_x86_64.whl.metadata (1.6 kB)\n",
            "Collecting nvidia-cusparse-cu12==12.3.1.170 (from torch)\n",
            "  Downloading nvidia_cusparse_cu12-12.3.1.170-py3-none-manylinux2014_x86_64.whl.metadata (1.6 kB)\n",
            "Collecting nvidia-nccl-cu12==2.21.5 (from torch)\n",
            "  Downloading nvidia_nccl_cu12-2.21.5-py3-none-manylinux2014_x86_64.whl.metadata (1.8 kB)\n",
            "Collecting nvidia-nvtx-cu12==12.4.127 (from torch)\n",
            "  Downloading nvidia_nvtx_cu12-12.4.127-py3-none-manylinux2014_x86_64.whl.metadata (1.7 kB)\n",
            "Collecting nvidia-nvjitlink-cu12==12.4.127 (from torch)\n",
            "  Downloading nvidia_nvjitlink_cu12-12.4.127-py3-none-manylinux2014_x86_64.whl.metadata (1.5 kB)\n",
            "Collecting triton==3.1.0 (from torch)\n",
            "  Downloading triton-3.1.0-cp312-cp312-manylinux_2_17_x86_64.manylinux2014_x86_64.whl.metadata (1.3 kB)\n",
            "Requirement already satisfied: setuptools in /usr/lib/python3/dist-packages (from torch) (68.1.2)\n",
            "Collecting sympy==1.13.1 (from torch)\n",
            "  Downloading sympy-1.13.1-py3-none-any.whl.metadata (12 kB)\n",
            "Collecting mpmath<1.4,>=1.1.0 (from sympy==1.13.1->torch)\n",
            "  Downloading mpmath-1.3.0-py3-none-any.whl.metadata (8.6 kB)\n",
            "Collecting huggingface-hub<1.0,>=0.23.2 (from transformers)\n",
            "  Downloading huggingface_hub-0.26.2-py3-none-any.whl.metadata (13 kB)\n",
            "Collecting numpy>=1.17 (from transformers)\n",
            "  Downloading numpy-2.1.3-cp312-cp312-manylinux_2_17_x86_64.manylinux2014_x86_64.whl.metadata (62 kB)\n",
            "Requirement already satisfied: packaging>=20.0 in /home/ucloud/.local/lib/python3.12/site-packages (from transformers) (24.1)\n",
            "Requirement already satisfied: pyyaml>=5.1 in /home/ucloud/.local/lib/python3.12/site-packages (from transformers) (6.0.2)\n",
            "Collecting regex!=2019.12.17 (from transformers)\n",
            "  Downloading regex-2024.9.11-cp312-cp312-manylinux_2_17_x86_64.manylinux2014_x86_64.whl.metadata (40 kB)\n",
            "Requirement already satisfied: requests in /home/ucloud/.local/lib/python3.12/site-packages (from transformers) (2.32.3)\n",
            "Collecting safetensors>=0.4.1 (from transformers)\n",
            "  Downloading safetensors-0.4.5-cp312-cp312-manylinux_2_17_x86_64.manylinux2014_x86_64.whl.metadata (3.8 kB)\n",
            "Collecting tokenizers<0.21,>=0.20 (from transformers)\n",
            "  Downloading tokenizers-0.20.3-cp312-cp312-manylinux_2_17_x86_64.manylinux2014_x86_64.whl.metadata (6.7 kB)\n",
            "Collecting tqdm>=4.27 (from transformers)\n",
            "  Downloading tqdm-4.66.6-py3-none-any.whl.metadata (57 kB)\n",
            "Collecting pyarrow>=15.0.0 (from datasets)\n",
            "  Downloading pyarrow-18.0.0-cp312-cp312-manylinux_2_28_x86_64.whl.metadata (3.3 kB)\n",
            "Collecting dill<0.3.9,>=0.3.0 (from datasets)\n",
            "  Downloading dill-0.3.8-py3-none-any.whl.metadata (10 kB)\n",
            "Collecting pandas (from datasets)\n",
            "  Downloading pandas-2.2.3-cp312-cp312-manylinux_2_17_x86_64.manylinux2014_x86_64.whl.metadata (89 kB)\n",
            "Collecting xxhash (from datasets)\n",
            "  Downloading xxhash-3.5.0-cp312-cp312-manylinux_2_17_x86_64.manylinux2014_x86_64.whl.metadata (12 kB)\n",
            "Collecting multiprocess<0.70.17 (from datasets)\n",
            "  Downloading multiprocess-0.70.16-py312-none-any.whl.metadata (7.2 kB)\n",
            "Collecting fsspec (from torch)\n",
            "  Downloading fsspec-2024.9.0-py3-none-any.whl.metadata (11 kB)\n",
            "Collecting aiohttp (from datasets)\n",
            "  Downloading aiohttp-3.10.10-cp312-cp312-manylinux_2_17_x86_64.manylinux2014_x86_64.whl.metadata (7.6 kB)\n",
            "Collecting boto3 (from bertviz)\n",
            "  Downloading boto3-1.35.54-py3-none-any.whl.metadata (6.7 kB)\n",
            "Collecting sentencepiece (from bertviz)\n",
            "  Downloading sentencepiece-0.2.0-cp312-cp312-manylinux_2_17_x86_64.manylinux2014_x86_64.whl.metadata (7.7 kB)\n",
            "Collecting matplotlib!=3.6.1,>=3.4 (from seaborn)\n",
            "  Downloading matplotlib-3.9.2-cp312-cp312-manylinux_2_17_x86_64.manylinux2014_x86_64.whl.metadata (11 kB)\n",
            "Collecting scipy>=1.6.0 (from scikit-learn)\n",
            "  Downloading scipy-1.14.1-cp312-cp312-manylinux_2_17_x86_64.manylinux2014_x86_64.whl.metadata (60 kB)\n",
            "Collecting joblib>=1.2.0 (from scikit-learn)\n",
            "  Downloading joblib-1.4.2-py3-none-any.whl.metadata (5.4 kB)\n",
            "Collecting threadpoolctl>=3.1.0 (from scikit-learn)\n",
            "  Downloading threadpoolctl-3.5.0-py3-none-any.whl.metadata (13 kB)\n",
            "Collecting aiohappyeyeballs>=2.3.0 (from aiohttp->datasets)\n",
            "  Downloading aiohappyeyeballs-2.4.3-py3-none-any.whl.metadata (6.1 kB)\n",
            "Collecting aiosignal>=1.1.2 (from aiohttp->datasets)\n",
            "  Downloading aiosignal-1.3.1-py3-none-any.whl.metadata (4.0 kB)\n",
            "Requirement already satisfied: attrs>=17.3.0 in /home/ucloud/.local/lib/python3.12/site-packages (from aiohttp->datasets) (24.2.0)\n",
            "Collecting frozenlist>=1.1.1 (from aiohttp->datasets)\n",
            "  Downloading frozenlist-1.5.0-cp312-cp312-manylinux_2_5_x86_64.manylinux1_x86_64.manylinux_2_17_x86_64.manylinux2014_x86_64.whl.metadata (13 kB)\n",
            "Collecting multidict<7.0,>=4.5 (from aiohttp->datasets)\n",
            "  Downloading multidict-6.1.0-cp312-cp312-manylinux_2_17_x86_64.manylinux2014_x86_64.whl.metadata (5.0 kB)\n",
            "Collecting yarl<2.0,>=1.12.0 (from aiohttp->datasets)\n",
            "  Downloading yarl-1.17.1-cp312-cp312-manylinux_2_17_x86_64.manylinux2014_x86_64.whl.metadata (64 kB)\n",
            "Collecting contourpy>=1.0.1 (from matplotlib!=3.6.1,>=3.4->seaborn)\n",
            "  Downloading contourpy-1.3.0-cp312-cp312-manylinux_2_17_x86_64.manylinux2014_x86_64.whl.metadata (5.4 kB)\n",
            "Collecting cycler>=0.10 (from matplotlib!=3.6.1,>=3.4->seaborn)\n",
            "  Downloading cycler-0.12.1-py3-none-any.whl.metadata (3.8 kB)\n",
            "Collecting fonttools>=4.22.0 (from matplotlib!=3.6.1,>=3.4->seaborn)\n",
            "  Downloading fonttools-4.54.1-cp312-cp312-manylinux_2_5_x86_64.manylinux1_x86_64.manylinux_2_17_x86_64.manylinux2014_x86_64.whl.metadata (163 kB)\n",
            "Collecting kiwisolver>=1.3.1 (from matplotlib!=3.6.1,>=3.4->seaborn)\n",
            "  Downloading kiwisolver-1.4.7-cp312-cp312-manylinux_2_17_x86_64.manylinux2014_x86_64.whl.metadata (6.3 kB)\n",
            "Collecting pillow>=8 (from matplotlib!=3.6.1,>=3.4->seaborn)\n",
            "  Downloading pillow-11.0.0-cp312-cp312-manylinux_2_28_x86_64.whl.metadata (9.1 kB)\n",
            "Requirement already satisfied: pyparsing>=2.3.1 in /usr/lib/python3/dist-packages (from matplotlib!=3.6.1,>=3.4->seaborn) (3.1.1)\n",
            "Requirement already satisfied: python-dateutil>=2.7 in /home/ucloud/.local/lib/python3.12/site-packages (from matplotlib!=3.6.1,>=3.4->seaborn) (2.9.0.post0)\n",
            "Collecting pytz>=2020.1 (from pandas->datasets)\n",
            "  Downloading pytz-2024.2-py2.py3-none-any.whl.metadata (22 kB)\n",
            "Collecting tzdata>=2022.7 (from pandas->datasets)\n",
            "  Downloading tzdata-2024.2-py2.py3-none-any.whl.metadata (1.4 kB)\n",
            "Requirement already satisfied: charset-normalizer<4,>=2 in /home/ucloud/.local/lib/python3.12/site-packages (from requests->transformers) (3.3.2)\n",
            "Requirement already satisfied: idna<4,>=2.5 in /home/ucloud/.local/lib/python3.12/site-packages (from requests->transformers) (3.10)\n",
            "Requirement already satisfied: urllib3<3,>=1.21.1 in /home/ucloud/.local/lib/python3.12/site-packages (from requests->transformers) (2.2.3)\n",
            "Requirement already satisfied: certifi>=2017.4.17 in /home/ucloud/.local/lib/python3.12/site-packages (from requests->transformers) (2024.8.30)\n",
            "Collecting botocore<1.36.0,>=1.35.54 (from boto3->bertviz)\n",
            "  Downloading botocore-1.35.54-py3-none-any.whl.metadata (5.7 kB)\n",
            "Collecting jmespath<2.0.0,>=0.7.1 (from boto3->bertviz)\n",
            "  Downloading jmespath-1.0.1-py3-none-any.whl.metadata (7.6 kB)\n",
            "Collecting s3transfer<0.11.0,>=0.10.0 (from boto3->bertviz)\n",
            "  Downloading s3transfer-0.10.3-py3-none-any.whl.metadata (1.7 kB)\n",
            "Requirement already satisfied: MarkupSafe>=2.0 in /home/ucloud/.local/lib/python3.12/site-packages (from jinja2->torch) (2.1.5)\n",
            "Requirement already satisfied: six>=1.5 in /usr/lib/python3/dist-packages (from python-dateutil>=2.7->matplotlib!=3.6.1,>=3.4->seaborn) (1.16.0)\n",
            "Collecting propcache>=0.2.0 (from yarl<2.0,>=1.12.0->aiohttp->datasets)\n",
            "  Downloading propcache-0.2.0-cp312-cp312-manylinux_2_17_x86_64.manylinux2014_x86_64.whl.metadata (7.7 kB)\n",
            "Downloading torch-2.5.1-cp312-cp312-manylinux1_x86_64.whl (906.4 MB)\n",
            "\u001b[2K   \u001b[90m━━━━━━━━━━━━━━━━━━━━━━━━━━━━━━━━━━━━━━━━\u001b[0m \u001b[32m906.4/906.4 MB\u001b[0m \u001b[31m54.0 MB/s\u001b[0m eta \u001b[36m0:00:00\u001b[0m00:01\u001b[0m00:01\u001b[0m\n",
            "\u001b[?25hDownloading nvidia_cublas_cu12-12.4.5.8-py3-none-manylinux2014_x86_64.whl (363.4 MB)\n",
            "\u001b[2K   \u001b[90m━━━━━━━━━━━━━━━━━━━━━━━━━━━━━━━━━━━━━━━━\u001b[0m \u001b[32m363.4/363.4 MB\u001b[0m \u001b[31m83.5 MB/s\u001b[0m eta \u001b[36m0:00:00\u001b[0m00:01\u001b[0m00:01\u001b[0m\n",
            "\u001b[?25hDownloading nvidia_cuda_cupti_cu12-12.4.127-py3-none-manylinux2014_x86_64.whl (13.8 MB)\n",
            "\u001b[2K   \u001b[90m━━━━━━━━━━━━━━━━━━━━━━━━━━━━━━━━━━━━━━━━\u001b[0m \u001b[32m13.8/13.8 MB\u001b[0m \u001b[31m10.9 MB/s\u001b[0m eta \u001b[36m0:00:00\u001b[0m:00:01\u001b[0m\n",
            "\u001b[?25hDownloading nvidia_cuda_nvrtc_cu12-12.4.127-py3-none-manylinux2014_x86_64.whl (24.6 MB)\n",
            "\u001b[2K   \u001b[90m━━━━━━━━━━━━━━━━━━━━━━━━━━━━━━━━━━━━━━━━\u001b[0m \u001b[32m24.6/24.6 MB\u001b[0m \u001b[31m26.2 MB/s\u001b[0m eta \u001b[36m0:00:00\u001b[0m:00:01\u001b[0m\n",
            "\u001b[?25hDownloading nvidia_cuda_runtime_cu12-12.4.127-py3-none-manylinux2014_x86_64.whl (883 kB)\n",
            "\u001b[2K   \u001b[90m━━━━━━━━━━━━━━━━━━━━━━━━━━━━━━━━━━━━━━━━\u001b[0m \u001b[32m883.7/883.7 kB\u001b[0m \u001b[31m1.5 MB/s\u001b[0m eta \u001b[36m0:00:00\u001b[0mta \u001b[36m0:00:01\u001b[0m\n",
            "\u001b[?25hDownloading nvidia_cudnn_cu12-9.1.0.70-py3-none-manylinux2014_x86_64.whl (664.8 MB)\n",
            "\u001b[2K   \u001b[90m━━━━━━━━━━━━━━━━━━━━━━━━━━━━━━━━━━━━━━━━\u001b[0m \u001b[32m664.8/664.8 MB\u001b[0m \u001b[31m61.4 MB/s\u001b[0m eta \u001b[36m0:00:00\u001b[0m00:01\u001b[0m00:01\u001b[0m\n",
            "\u001b[?25hDownloading nvidia_cufft_cu12-11.2.1.3-py3-none-manylinux2014_x86_64.whl (211.5 MB)\n",
            "\u001b[2K   \u001b[90m━━━━━━━━━━━━━━━━━━━━━━━━━━━━━━━━━━━━━━━━\u001b[0m \u001b[32m211.5/211.5 MB\u001b[0m \u001b[31m80.9 MB/s\u001b[0m eta \u001b[36m0:00:00\u001b[0m00:01\u001b[0m00:01\u001b[0m\n",
            "\u001b[?25hDownloading nvidia_curand_cu12-10.3.5.147-py3-none-manylinux2014_x86_64.whl (56.3 MB)\n",
            "\u001b[2K   \u001b[90m━━━━━━━━━━━━━━━━━━━━━━━━━━━━━━━━━━━━━━━━\u001b[0m \u001b[32m56.3/56.3 MB\u001b[0m \u001b[31m34.7 MB/s\u001b[0m eta \u001b[36m0:00:00\u001b[0m:00:01\u001b[0m00:01\u001b[0m\n",
            "\u001b[?25hDownloading nvidia_cusolver_cu12-11.6.1.9-py3-none-manylinux2014_x86_64.whl (127.9 MB)\n",
            "\u001b[2K   \u001b[90m━━━━━━━━━━━━━━━━━━━━━━━━━━━━━━━━━━━━━━━━\u001b[0m \u001b[32m127.9/127.9 MB\u001b[0m \u001b[31m62.4 MB/s\u001b[0m eta \u001b[36m0:00:00\u001b[0m00:01\u001b[0m00:01\u001b[0m\n",
            "\u001b[?25hDownloading nvidia_cusparse_cu12-12.3.1.170-py3-none-manylinux2014_x86_64.whl (207.5 MB)\n",
            "\u001b[2K   \u001b[90m━━━━━━━━━━━━━━━━━━━━━━━━━━━━━━━━━━━━━━━━\u001b[0m \u001b[32m207.5/207.5 MB\u001b[0m \u001b[31m80.7 MB/s\u001b[0m eta \u001b[36m0:00:00\u001b[0m00:01\u001b[0m00:01\u001b[0m\n",
            "\u001b[?25hDownloading nvidia_nccl_cu12-2.21.5-py3-none-manylinux2014_x86_64.whl (188.7 MB)\n",
            "\u001b[2K   \u001b[90m━━━━━━━━━━━━━━━━━━━━━━━━━━━━━━━━━━━━━━━━\u001b[0m \u001b[32m188.7/188.7 MB\u001b[0m \u001b[31m79.4 MB/s\u001b[0m eta \u001b[36m0:00:00\u001b[0m00:01\u001b[0m00:01\u001b[0m\n",
            "\u001b[?25hDownloading nvidia_nvjitlink_cu12-12.4.127-py3-none-manylinux2014_x86_64.whl (21.1 MB)\n",
            "\u001b[2K   \u001b[90m━━━━━━━━━━━━━━━━━━━━━━━━━━━━━━━━━━━━━━━━\u001b[0m \u001b[32m21.1/21.1 MB\u001b[0m \u001b[31m19.5 MB/s\u001b[0m eta \u001b[36m0:00:00\u001b[0m:00:01\u001b[0m\n",
            "\u001b[?25hDownloading nvidia_nvtx_cu12-12.4.127-py3-none-manylinux2014_x86_64.whl (99 kB)\n",
            "Downloading sympy-1.13.1-py3-none-any.whl (6.2 MB)\n",
            "\u001b[2K   \u001b[90m━━━━━━━━━━━━━━━━━━━━━━━━━━━━━━━━━━━━━━━━\u001b[0m \u001b[32m6.2/6.2 MB\u001b[0m \u001b[31m10.0 MB/s\u001b[0m eta \u001b[36m0:00:00\u001b[0mta \u001b[36m0:00:01\u001b[0m\n",
            "\u001b[?25hDownloading triton-3.1.0-cp312-cp312-manylinux_2_17_x86_64.manylinux2014_x86_64.whl (209.6 MB)\n",
            "\u001b[2K   \u001b[90m━━━━━━━━━━━━━━━━━━━━━━━━━━━━━━━━━━━━━━━━\u001b[0m \u001b[32m209.6/209.6 MB\u001b[0m \u001b[31m73.9 MB/s\u001b[0m eta \u001b[36m0:00:00\u001b[0m00:01\u001b[0m00:01\u001b[0m\n",
            "\u001b[?25hDownloading transformers-4.46.2-py3-none-any.whl (10.0 MB)\n",
            "\u001b[2K   \u001b[90m━━━━━━━━━━━━━━━━━━━━━━━━━━━━━━━━━━━━━━━━\u001b[0m \u001b[32m10.0/10.0 MB\u001b[0m \u001b[31m19.2 MB/s\u001b[0m eta \u001b[36m0:00:00\u001b[0m:00:01\u001b[0m\n",
            "\u001b[?25hDownloading datasets-3.1.0-py3-none-any.whl (480 kB)\n",
            "Downloading bertviz-1.4.0-py3-none-any.whl (157 kB)\n",
            "Downloading seaborn-0.13.2-py3-none-any.whl (294 kB)\n",
            "Downloading scikit_learn-1.5.2-cp312-cp312-manylinux_2_17_x86_64.manylinux2014_x86_64.whl (12.9 MB)\n",
            "\u001b[2K   \u001b[90m━━━━━━━━━━━━━━━━━━━━━━━━━━━━━━━━━━━━━━━━\u001b[0m \u001b[32m12.9/12.9 MB\u001b[0m \u001b[31m18.2 MB/s\u001b[0m eta \u001b[36m0:00:00\u001b[0m:00:01\u001b[0m\n",
            "\u001b[?25hDownloading dill-0.3.8-py3-none-any.whl (116 kB)\n",
            "Downloading fsspec-2024.9.0-py3-none-any.whl (179 kB)\n",
            "Downloading aiohttp-3.10.10-cp312-cp312-manylinux_2_17_x86_64.manylinux2014_x86_64.whl (1.3 MB)\n",
            "\u001b[2K   \u001b[90m━━━━━━━━━━━━━━━━━━━━━━━━━━━━━━━━━━━━━━━━\u001b[0m \u001b[32m1.3/1.3 MB\u001b[0m \u001b[31m3.1 MB/s\u001b[0m eta \u001b[36m0:00:00\u001b[0meta \u001b[36m0:00:01\u001b[0m\n",
            "\u001b[?25hDownloading huggingface_hub-0.26.2-py3-none-any.whl (447 kB)\n",
            "Downloading joblib-1.4.2-py3-none-any.whl (301 kB)\n",
            "Downloading matplotlib-3.9.2-cp312-cp312-manylinux_2_17_x86_64.manylinux2014_x86_64.whl (8.3 MB)\n",
            "\u001b[2K   \u001b[90m━━━━━━━━━━━━━━━━━━━━━━━━━━━━━━━━━━━━━━━━\u001b[0m \u001b[32m8.3/8.3 MB\u001b[0m \u001b[31m17.9 MB/s\u001b[0m eta \u001b[36m0:00:00\u001b[0m:00:01\u001b[0m\n",
            "\u001b[?25hDownloading multiprocess-0.70.16-py312-none-any.whl (146 kB)\n",
            "Downloading numpy-2.1.3-cp312-cp312-manylinux_2_17_x86_64.manylinux2014_x86_64.whl (16.0 MB)\n",
            "\u001b[2K   \u001b[90m━━━━━━━━━━━━━━━━━━━━━━━━━━━━━━━━━━━━━━━━\u001b[0m \u001b[32m16.0/16.0 MB\u001b[0m \u001b[31m28.7 MB/s\u001b[0m eta \u001b[36m0:00:00\u001b[0m:00:01\u001b[0m\n",
            "\u001b[?25hDownloading pandas-2.2.3-cp312-cp312-manylinux_2_17_x86_64.manylinux2014_x86_64.whl (12.7 MB)\n",
            "\u001b[2K   \u001b[90m━━━━━━━━━━━━━━━━━━━━━━━━━━━━━━━━━━━━━━━━\u001b[0m \u001b[32m12.7/12.7 MB\u001b[0m \u001b[31m27.0 MB/s\u001b[0m eta \u001b[36m0:00:00\u001b[0m:00:01\u001b[0m\n",
            "\u001b[?25hDownloading pyarrow-18.0.0-cp312-cp312-manylinux_2_28_x86_64.whl (40.0 MB)\n",
            "\u001b[2K   \u001b[90m━━━━━━━━━━━━━━━━━━━━━━━━━━━━━━━━━━━━━━━━\u001b[0m \u001b[32m40.0/40.0 MB\u001b[0m \u001b[31m62.6 MB/s\u001b[0m eta \u001b[36m0:00:00\u001b[0m:00:01\u001b[0m00:01\u001b[0m\n",
            "\u001b[?25hDownloading regex-2024.9.11-cp312-cp312-manylinux_2_17_x86_64.manylinux2014_x86_64.whl (797 kB)\n",
            "\u001b[2K   \u001b[90m━━━━━━━━━━━━━━━━━━━━━━━━━━━━━━━━━━━━━━━━\u001b[0m \u001b[32m797.0/797.0 kB\u001b[0m \u001b[31m6.1 MB/s\u001b[0m eta \u001b[36m0:00:00\u001b[0m\n",
            "\u001b[?25hDownloading safetensors-0.4.5-cp312-cp312-manylinux_2_17_x86_64.manylinux2014_x86_64.whl (434 kB)\n",
            "Downloading scipy-1.14.1-cp312-cp312-manylinux_2_17_x86_64.manylinux2014_x86_64.whl (40.8 MB)\n",
            "\u001b[2K   \u001b[90m━━━━━━━━━━━━━━━━━━━━━━━━━━━━━━━━━━━━━━━━\u001b[0m \u001b[32m40.8/40.8 MB\u001b[0m \u001b[31m33.6 MB/s\u001b[0m eta \u001b[36m0:00:00\u001b[0m:00:01\u001b[0m00:01\u001b[0m\n",
            "\u001b[?25hDownloading threadpoolctl-3.5.0-py3-none-any.whl (18 kB)\n",
            "Downloading tokenizers-0.20.3-cp312-cp312-manylinux_2_17_x86_64.manylinux2014_x86_64.whl (3.0 MB)\n",
            "\u001b[2K   \u001b[90m━━━━━━━━━━━━━━━━━━━━━━━━━━━━━━━━━━━━━━━━\u001b[0m \u001b[32m3.0/3.0 MB\u001b[0m \u001b[31m32.1 MB/s\u001b[0m eta \u001b[36m0:00:00\u001b[0m\n",
            "\u001b[?25hDownloading tqdm-4.66.6-py3-none-any.whl (78 kB)\n",
            "Downloading typing_extensions-4.12.2-py3-none-any.whl (37 kB)\n",
            "Downloading boto3-1.35.54-py3-none-any.whl (139 kB)\n",
            "Downloading filelock-3.16.1-py3-none-any.whl (16 kB)\n",
            "Downloading networkx-3.4.2-py3-none-any.whl (1.7 MB)\n",
            "\u001b[2K   \u001b[90m━━━━━━━━━━━━━━━━━━━━━━━━━━━━━━━━━━━━━━━━\u001b[0m \u001b[32m1.7/1.7 MB\u001b[0m \u001b[31m17.6 MB/s\u001b[0m eta \u001b[36m0:00:00\u001b[0m\n",
            "\u001b[?25hDownloading sentencepiece-0.2.0-cp312-cp312-manylinux_2_17_x86_64.manylinux2014_x86_64.whl (1.3 MB)\n",
            "\u001b[2K   \u001b[90m━━━━━━━━━━━━━━━━━━━━━━━━━━━━━━━━━━━━━━━━\u001b[0m \u001b[32m1.3/1.3 MB\u001b[0m \u001b[31m10.7 MB/s\u001b[0m eta \u001b[36m0:00:00\u001b[0m\n",
            "\u001b[?25hDownloading xxhash-3.5.0-cp312-cp312-manylinux_2_17_x86_64.manylinux2014_x86_64.whl (194 kB)\n",
            "Downloading aiohappyeyeballs-2.4.3-py3-none-any.whl (14 kB)\n",
            "Downloading aiosignal-1.3.1-py3-none-any.whl (7.6 kB)\n",
            "Downloading botocore-1.35.54-py3-none-any.whl (12.7 MB)\n",
            "\u001b[2K   \u001b[90m━━━━━━━━━━━━━━━━━━━━━━━━━━━━━━━━━━━━━━━━\u001b[0m \u001b[32m12.7/12.7 MB\u001b[0m \u001b[31m41.4 MB/s\u001b[0m eta \u001b[36m0:00:00\u001b[0m:00:01\u001b[0m\n",
            "\u001b[?25hDownloading contourpy-1.3.0-cp312-cp312-manylinux_2_17_x86_64.manylinux2014_x86_64.whl (320 kB)\n",
            "Downloading cycler-0.12.1-py3-none-any.whl (8.3 kB)\n",
            "Downloading fonttools-4.54.1-cp312-cp312-manylinux_2_5_x86_64.manylinux1_x86_64.manylinux_2_17_x86_64.manylinux2014_x86_64.whl (4.9 MB)\n",
            "\u001b[2K   \u001b[90m━━━━━━━━━━━━━━━━━━━━━━━━━━━━━━━━━━━━━━━━\u001b[0m \u001b[32m4.9/4.9 MB\u001b[0m \u001b[31m22.7 MB/s\u001b[0m eta \u001b[36m0:00:00\u001b[0mta \u001b[36m0:00:01\u001b[0m\n",
            "\u001b[?25hDownloading frozenlist-1.5.0-cp312-cp312-manylinux_2_5_x86_64.manylinux1_x86_64.manylinux_2_17_x86_64.manylinux2014_x86_64.whl (283 kB)\n",
            "Downloading jmespath-1.0.1-py3-none-any.whl (20 kB)\n",
            "Downloading kiwisolver-1.4.7-cp312-cp312-manylinux_2_17_x86_64.manylinux2014_x86_64.whl (1.5 MB)\n",
            "\u001b[2K   \u001b[90m━━━━━━━━━━━━━━━━━━━━━━━━━━━━━━━━━━━━━━━━\u001b[0m \u001b[32m1.5/1.5 MB\u001b[0m \u001b[31m14.7 MB/s\u001b[0m eta \u001b[36m0:00:00\u001b[0m\n",
            "\u001b[?25hDownloading mpmath-1.3.0-py3-none-any.whl (536 kB)\n",
            "\u001b[2K   \u001b[90m━━━━━━━━━━━━━━━━━━━━━━━━━━━━━━━━━━━━━━━━\u001b[0m \u001b[32m536.2/536.2 kB\u001b[0m \u001b[31m4.2 MB/s\u001b[0m eta \u001b[36m0:00:00\u001b[0m\n",
            "\u001b[?25hDownloading multidict-6.1.0-cp312-cp312-manylinux_2_17_x86_64.manylinux2014_x86_64.whl (131 kB)\n",
            "Downloading pillow-11.0.0-cp312-cp312-manylinux_2_28_x86_64.whl (4.4 MB)\n",
            "\u001b[2K   \u001b[90m━━━━━━━━━━━━━━━━━━━━━━━━━━━━━━━━━━━━━━━━\u001b[0m \u001b[32m4.4/4.4 MB\u001b[0m \u001b[31m8.9 MB/s\u001b[0m eta \u001b[36m0:00:00\u001b[0meta \u001b[36m0:00:01\u001b[0m\n",
            "\u001b[?25hDownloading pytz-2024.2-py2.py3-none-any.whl (508 kB)\n",
            "Downloading s3transfer-0.10.3-py3-none-any.whl (82 kB)\n",
            "Downloading tzdata-2024.2-py2.py3-none-any.whl (346 kB)\n",
            "Downloading yarl-1.17.1-cp312-cp312-manylinux_2_17_x86_64.manylinux2014_x86_64.whl (336 kB)\n",
            "Downloading propcache-0.2.0-cp312-cp312-manylinux_2_17_x86_64.manylinux2014_x86_64.whl (248 kB)\n",
            "Installing collected packages: sentencepiece, pytz, mpmath, xxhash, tzdata, typing-extensions, tqdm, threadpoolctl, sympy, safetensors, regex, pyarrow, propcache, pillow, nvidia-nvtx-cu12, nvidia-nvjitlink-cu12, nvidia-nccl-cu12, nvidia-curand-cu12, nvidia-cufft-cu12, nvidia-cuda-runtime-cu12, nvidia-cuda-nvrtc-cu12, nvidia-cuda-cupti-cu12, nvidia-cublas-cu12, numpy, networkx, multidict, kiwisolver, joblib, jmespath, fsspec, frozenlist, fonttools, filelock, dill, cycler, aiohappyeyeballs, yarl, triton, scipy, pandas, nvidia-cusparse-cu12, nvidia-cudnn-cu12, multiprocess, huggingface-hub, contourpy, botocore, aiosignal, tokenizers, scikit-learn, s3transfer, nvidia-cusolver-cu12, matplotlib, aiohttp, transformers, torch, seaborn, boto3, datasets, bertviz\n",
            "Successfully installed aiohappyeyeballs-2.4.3 aiohttp-3.10.10 aiosignal-1.3.1 bertviz-1.4.0 boto3-1.35.54 botocore-1.35.54 contourpy-1.3.0 cycler-0.12.1 datasets-3.1.0 dill-0.3.8 filelock-3.16.1 fonttools-4.54.1 frozenlist-1.5.0 fsspec-2024.9.0 huggingface-hub-0.26.2 jmespath-1.0.1 joblib-1.4.2 kiwisolver-1.4.7 matplotlib-3.9.2 mpmath-1.3.0 multidict-6.1.0 multiprocess-0.70.16 networkx-3.4.2 numpy-2.1.3 nvidia-cublas-cu12-12.4.5.8 nvidia-cuda-cupti-cu12-12.4.127 nvidia-cuda-nvrtc-cu12-12.4.127 nvidia-cuda-runtime-cu12-12.4.127 nvidia-cudnn-cu12-9.1.0.70 nvidia-cufft-cu12-11.2.1.3 nvidia-curand-cu12-10.3.5.147 nvidia-cusolver-cu12-11.6.1.9 nvidia-cusparse-cu12-12.3.1.170 nvidia-nccl-cu12-2.21.5 nvidia-nvjitlink-cu12-12.4.127 nvidia-nvtx-cu12-12.4.127 pandas-2.2.3 pillow-11.0.0 propcache-0.2.0 pyarrow-18.0.0 pytz-2024.2 regex-2024.9.11 s3transfer-0.10.3 safetensors-0.4.5 scikit-learn-1.5.2 scipy-1.14.1 seaborn-0.13.2 sentencepiece-0.2.0 sympy-1.13.1 threadpoolctl-3.5.0 tokenizers-0.20.3 torch-2.5.1 tqdm-4.66.6 transformers-4.46.2 triton-3.1.0 typing-extensions-4.12.2 tzdata-2024.2 xxhash-3.5.0 yarl-1.17.1\n",
            "\n",
            "\u001b[1m[\u001b[0m\u001b[34;49mnotice\u001b[0m\u001b[1;39;49m]\u001b[0m\u001b[39;49m A new release of pip is available: \u001b[0m\u001b[31;49m24.2\u001b[0m\u001b[39;49m -> \u001b[0m\u001b[32;49m24.3.1\u001b[0m\n",
            "\u001b[1m[\u001b[0m\u001b[34;49mnotice\u001b[0m\u001b[1;39;49m]\u001b[0m\u001b[39;49m To update, run: \u001b[0m\u001b[32;49mpip install --upgrade pip\u001b[0m\n"
          ]
        }
      ],
      "source": [
        "!pip install torch transformers datasets bertviz seaborn scikit-learn"
      ]
    },
    {
      "cell_type": "code",
      "execution_count": 4,
      "metadata": {
        "id": "dAKobPgEkloi"
      },
      "outputs": [],
      "source": [
        "import numpy as np\n",
        "import datasets\n",
        "import torch\n",
        "import torch.nn.functional as F\n",
        "from transformers import AutoTokenizer, AutoModel\n",
        "from sklearn.decomposition import PCA\n",
        "\n",
        "import seaborn as sns\n",
        "import matplotlib.pyplot as plt\n",
        "from bertviz import model_view, head_view"
      ]
    },
    {
      "cell_type": "markdown",
      "metadata": {
        "id": "kh5_ML0ZuWzP"
      },
      "source": [
        "So far, we have been working with *static* word (or sequence) embeddings.   \n",
        "Word2vec is an example of static word embeddings – it has a set vocabulary, where each word has a single embedding that is the same no matter the case.\n",
        "\n",
        "But as we know, words can take on different meanings depending on their context. \n",
        "Contextualized embeddings aim to learn something about the semantics of the whole sequence. Practically, contextualized embeddings, like those produced by Transformer models, generate different embeddings for the same word based on its surrounding context. \n",
        "\n",
        "It should be possible to capture the difference between \"bank\" in \"river bank\" vs. \"bank loan\". \n",
        "\n",
        "One of the mechanisms that allows this is attention.\n",
        "Let's start seeing if we can recreate the example from lecture: `\"The cat sat on the mat\"` with a real model."
      ]
    },
    {
      "cell_type": "code",
      "execution_count": 2,
      "metadata": {
        "colab": {
          "base_uri": "https://localhost:8080/"
        },
        "id": "VMQp3DI9gqp9",
        "outputId": "de72eb23-9258-4bae-8a11-d829aa8d97b8"
      },
      "outputs": [],
      "source": [
        "sentence = \"The cat sat on the mat\""
      ]
    },
    {
      "cell_type": "code",
      "execution_count": 5,
      "metadata": {},
      "outputs": [
        {
          "data": {
            "application/vnd.jupyter.widget-view+json": {
              "model_id": "1be42c7a9c2742ef891590b33f618c2e",
              "version_major": 2,
              "version_minor": 0
            },
            "text/plain": [
              "config.json:   0%|          | 0.00/286 [00:00<?, ?B/s]"
            ]
          },
          "metadata": {},
          "output_type": "display_data"
        },
        {
          "data": {
            "application/vnd.jupyter.widget-view+json": {
              "model_id": "c9d5106a887b4ae9abbde66fc9fb7706",
              "version_major": 2,
              "version_minor": 0
            },
            "text/plain": [
              "vocab.txt:   0%|          | 0.00/232k [00:00<?, ?B/s]"
            ]
          },
          "metadata": {},
          "output_type": "display_data"
        },
        {
          "data": {
            "application/vnd.jupyter.widget-view+json": {
              "model_id": "858aa2ba31ef4a3d8421f354b3adccc4",
              "version_major": 2,
              "version_minor": 0
            },
            "text/plain": [
              "pytorch_model.bin:   0%|          | 0.00/116M [00:00<?, ?B/s]"
            ]
          },
          "metadata": {},
          "output_type": "display_data"
        },
        {
          "data": {
            "application/vnd.jupyter.widget-view+json": {
              "model_id": "08d92bc872604d1b9c9e3091aee89471",
              "version_major": 2,
              "version_minor": 0
            },
            "text/plain": [
              "model.safetensors:   0%|          | 0.00/116M [00:00<?, ?B/s]"
            ]
          },
          "metadata": {},
          "output_type": "display_data"
        }
      ],
      "source": [
        "# Load a small pretrained transformer model to extract embeddings and attention\n",
        "model_name = \"prajjwal1/bert-small\"\n",
        "tokenizer = AutoTokenizer.from_pretrained(model_name)\n",
        "model = AutoModel.from_pretrained(\n",
        "    model_name, output_attentions=True, attn_implementation=\"eager\")"
      ]
    },
    {
      "cell_type": "code",
      "execution_count": 6,
      "metadata": {},
      "outputs": [
        {
          "data": {
            "text/plain": [
              "{'input_ids': tensor([[  101,  1996,  4937,  2938,  2006,  1996, 13523,   102]]), 'token_type_ids': tensor([[0, 0, 0, 0, 0, 0, 0, 0]]), 'attention_mask': tensor([[1, 1, 1, 1, 1, 1, 1, 1]])}"
            ]
          },
          "execution_count": 6,
          "metadata": {},
          "output_type": "execute_result"
        }
      ],
      "source": [
        "# Tokenize\n",
        "inputs = tokenizer(sentence, return_tensors='pt')\n",
        "inputs"
      ]
    },
    {
      "cell_type": "code",
      "execution_count": 7,
      "metadata": {},
      "outputs": [],
      "source": [
        "# Run inference\n",
        "with torch.no_grad():\n",
        "    outputs = model(**inputs)"
      ]
    },
    {
      "cell_type": "code",
      "execution_count": 8,
      "metadata": {},
      "outputs": [],
      "source": [
        "# Extract embeddings (last hidden state) and attention from the model\n",
        "embeddings = outputs.last_hidden_state  \n",
        "attentions = outputs.attentions  \n",
        "\n",
        "# Decode tokens for visualization\n",
        "tokens = tokenizer.convert_ids_to_tokens(inputs['input_ids'][0])"
      ]
    },
    {
      "cell_type": "code",
      "execution_count": 9,
      "metadata": {},
      "outputs": [
        {
          "data": {
            "text/plain": [
              "torch.Size([1, 8, 512])"
            ]
          },
          "execution_count": 9,
          "metadata": {},
          "output_type": "execute_result"
        }
      ],
      "source": [
        "embeddings.shape"
      ]
    },
    {
      "cell_type": "code",
      "execution_count": 10,
      "metadata": {},
      "outputs": [
        {
          "data": {
            "text/plain": [
              "torch.Size([1, 8, 512])"
            ]
          },
          "execution_count": 10,
          "metadata": {},
          "output_type": "execute_result"
        }
      ],
      "source": [
        "# embeddings are a tensor shape (batch_size, sequence_length, embedding_size)\n",
        "embeddings.shape"
      ]
    },
    {
      "cell_type": "code",
      "execution_count": 11,
      "metadata": {},
      "outputs": [
        {
          "data": {
            "text/plain": [
              "[tuple, 4]"
            ]
          },
          "execution_count": 11,
          "metadata": {},
          "output_type": "execute_result"
        }
      ],
      "source": [
        "# attentions is a tuple of tenros...\n",
        "[\n",
        "    type(attentions),\n",
        "    len(attentions)\n",
        "]\n"
      ]
    },
    {
      "cell_type": "code",
      "execution_count": 12,
      "metadata": {},
      "outputs": [
        {
          "data": {
            "text/plain": [
              "torch.Size([1, 8, 8, 8])"
            ]
          },
          "execution_count": 12,
          "metadata": {},
          "output_type": "execute_result"
        }
      ],
      "source": [
        "# ...where each layer has (batch_size, num_heads, sequence_length, sequence_length)\n",
        "attentions[0].shape"
      ]
    },
    {
      "cell_type": "markdown",
      "metadata": {},
      "source": [
        "Let's see how that looks visualized.\n",
        "\n",
        "This specific model has just 4 layers of attention (this is actually quite low). \n",
        " \n",
        "And 8 attention heads. This number has nothing to do with the specific sentence (which is 8 tokens long), but instead, this is decided by the model's architecture;\n",
        "  "
      ]
    },
    {
      "cell_type": "code",
      "execution_count": 13,
      "metadata": {
        "colab": {
          "base_uri": "https://localhost:8080/",
          "height": 185
        },
        "id": "0MqLRo-KhSjN",
        "outputId": "4d8b0e3e-0095-4f6f-a77f-91fc21f6380c"
      },
      "outputs": [
        {
          "data": {
            "text/html": [
              "<script src=\"https://cdnjs.cloudflare.com/ajax/libs/require.js/2.3.6/require.min.js\"></script>"
            ],
            "text/plain": [
              "<IPython.core.display.HTML object>"
            ]
          },
          "metadata": {},
          "output_type": "display_data"
        },
        {
          "data": {
            "text/html": [
              "      \n",
              "        <div id=\"bertviz-34a0aebab7ab485b88ba1c98504a91a3\" style=\"font-family:'Helvetica Neue', Helvetica, Arial, sans-serif;\">\n",
              "            <span style=\"user-select:none\">\n",
              "                Layer: <select id=\"layer\"></select>\n",
              "                \n",
              "            </span>\n",
              "            <div id='vis'></div>\n",
              "        </div>\n",
              "    "
            ],
            "text/plain": [
              "<IPython.core.display.HTML object>"
            ]
          },
          "metadata": {},
          "output_type": "display_data"
        },
        {
          "data": {
            "application/javascript": "/**\n * @fileoverview Transformer Visualization D3 javascript code.\n *\n *\n *  Based on: https://github.com/tensorflow/tensor2tensor/blob/master/tensor2tensor/visualization/attention.js\n *\n * Change log:\n *\n * 12/19/18  Jesse Vig   Assorted cleanup. Changed orientation of attention matrices.\n * 12/29/20  Jesse Vig   Significant refactor.\n * 12/31/20  Jesse Vig   Support multiple visualizations in single notebook.\n * 02/06/21  Jesse Vig   Move require config from separate jupyter notebook step\n * 05/03/21  Jesse Vig   Adjust height of visualization dynamically\n * 07/25/21  Jesse Vig   Support layer filtering\n * 03/23/22  Daniel SC   Update requirement URLs for d3 and jQuery (source of bug not allowing end result to be displayed on browsers)\n **/\n\nrequire.config({\n  paths: {\n      d3: 'https://cdnjs.cloudflare.com/ajax/libs/d3/5.7.0/d3.min',\n    jquery: 'https://cdnjs.cloudflare.com/ajax/libs/jquery/2.0.0/jquery.min',\n  }\n});\n\nrequirejs(['jquery', 'd3'], function ($, d3) {\n\n    const params = {\"attention\": [{\"name\": null, \"attn\": [[[[0.18662472069263458, 0.08013234287500381, 0.07552144676446915, 0.15747606754302979, 0.10564763844013214, 0.06892536580562592, 0.08924569934606552, 0.23642680048942566], [0.03268476203083992, 0.23785459995269775, 0.06945554912090302, 0.035561539232730865, 0.0250842422246933, 0.38005322217941284, 0.0867278128862381, 0.1325782835483551], [0.1432727426290512, 0.06563907861709595, 0.01858905702829361, 0.06582977622747421, 0.14589723944664001, 0.07912544906139374, 0.13358072936534882, 0.34806594252586365], [0.07772459834814072, 0.0826437771320343, 0.08518967777490616, 0.010395864024758339, 0.10208859294652939, 0.1395772248506546, 0.18384705483913422, 0.3185332119464874], [0.029289299622178078, 0.02735445834696293, 0.0394141711294651, 0.10810176283121109, 0.4765647053718567, 0.0344136580824852, 0.08361701667308807, 0.20124496519565582], [0.0451173409819603, 0.26855769753456116, 0.08427220582962036, 0.05034668371081352, 0.0282751452177763, 0.284195214509964, 0.0860787183046341, 0.15315702557563782], [0.13746771216392517, 0.10509467124938965, 0.1763012707233429, 0.08615472912788391, 0.12544995546340942, 0.1173907071352005, 0.024158796295523643, 0.22798217833042145], [0.07691819220781326, 0.128713920712471, 0.14945566654205322, 0.1916198432445526, 0.0983033999800682, 0.13323770463466644, 0.10019278526306152, 0.12155845761299133]], [[0.1052679643034935, 0.0894961804151535, 0.10551456362009048, 0.1453884392976761, 0.1261453628540039, 0.12854236364364624, 0.11745745688676834, 0.18218766152858734], [0.2775688171386719, 0.016092346981167793, 0.026226291432976723, 0.049767013639211655, 0.041011326014995575, 0.04368428885936737, 0.049536801874637604, 0.496113121509552], [0.12266074866056442, 0.005561844911426306, 0.7701103687286377, 0.007509808521717787, 0.006464007310569286, 0.012603487819433212, 0.011968729086220264, 0.06312098354101181], [0.09477207809686661, 0.0059155127964913845, 0.004230108577758074, 0.7810506820678711, 0.008929469622671604, 0.007445030380040407, 0.014858128502964973, 0.08279892057180405], [0.35968607664108276, 0.05999571830034256, 0.010914272628724575, 0.04750365391373634, 0.06158315762877464, 0.022114606574177742, 0.015188897959887981, 0.4230136573314667], [0.36819425225257874, 0.07931338995695114, 0.0708797425031662, 0.06889292597770691, 0.036111630499362946, 0.027125144377350807, 0.03148384764790535, 0.31799906492233276], [0.12757670879364014, 0.02053958922624588, 0.014613857492804527, 0.01958228275179863, 0.010132531635463238, 0.007407298777252436, 0.7646554708480835, 0.03549230098724365], [0.6122301816940308, 0.04247643053531647, 0.004639890044927597, 0.03378232568502426, 0.03368159011006355, 0.01776200532913208, 0.0018469843780621886, 0.25358062982559204]], [[0.09096606075763702, 0.274073988199234, 0.03383905813097954, 0.051018279045820236, 0.051544271409511566, 0.25003084540367126, 0.027892930433154106, 0.22063450515270233], [0.0002152415254386142, 6.109703826950863e-05, 4.389869354781695e-05, 2.471674270054791e-05, 3.8186142774065956e-05, 4.6603880036855116e-05, 4.833671482629143e-05, 0.9995219707489014], [0.027697362005710602, 0.28358322381973267, 0.0472906231880188, 0.06867549568414688, 0.06656988710165024, 0.096046082675457, 0.09528512507677078, 0.31485217809677124], [0.01460545789450407, 0.22443066537380219, 0.20608316361904144, 0.08317898958921432, 0.11545728892087936, 0.044211987406015396, 0.06634745746850967, 0.24568495154380798], [0.021999020129442215, 0.12257634103298187, 0.23989784717559814, 0.21222224831581116, 0.09495412558317184, 0.0382261723279953, 0.06629283726215363, 0.20383140444755554], [0.024451542645692825, 0.06753462553024292, 0.1728343516588211, 0.329285591840744, 0.12510721385478973, 0.044108014553785324, 0.03466476872563362, 0.20201382040977478], [0.009234161116182804, 0.036115605384111404, 0.16026930510997772, 0.2644042670726776, 0.29143011569976807, 0.08442430198192596, 0.04647279530763626, 0.10764949768781662], [0.008738869801163673, 8.103754225885496e-06, 0.00018421189452055842, 0.0007602220866829157, 0.0004676259122788906, 0.00014400252257473767, 0.00043214025208726525, 0.9892648458480835]], [[0.8634690046310425, 0.02004818618297577, 0.01871815137565136, 0.019480306655168533, 0.019607270136475563, 0.013320188969373703, 0.015530713833868504, 0.029826151207089424], [1.33143512357492e-05, 0.00040855430415831506, 0.9982061386108398, 0.0012999315513297915, 1.6324732996508828e-06, 8.499728032518306e-09, 1.3200323337514419e-05, 5.7135766837745905e-05], [9.115586180996615e-06, 0.0001030683342833072, 0.0014125837478786707, 0.9956941604614258, 0.002773213665932417, 5.698342192772543e-06, 9.359197861158464e-08, 2.1088551420689328e-06], [6.436376764895613e-08, 4.488758520437841e-08, 2.995252543769311e-06, 0.0003909434308297932, 0.998339056968689, 0.0012666566763073206, 1.3849417257461027e-07, 6.512951511439269e-09], [8.778079063631594e-07, 1.6401534139731666e-06, 9.509735576784806e-08, 3.8016172766219825e-05, 0.0012540456373244524, 0.9711326360702515, 0.027572253718972206, 4.163279072599835e-07], [2.653912645200762e-07, 7.191489999058831e-07, 7.026192179182544e-07, 2.287561251534953e-08, 4.113725026400061e-06, 0.0004924193490296602, 0.9984853863716125, 0.0010163591941818595], [1.494362322773668e-07, 7.169273885665461e-05, 2.8432459657778963e-05, 2.5273317660889916e-08, 1.7582813427452493e-08, 1.5970928870956413e-05, 0.003977783024311066, 0.9959059953689575], [0.999821126461029, 2.2200449478759765e-08, 3.770198418351356e-06, 3.839242708636448e-06, 6.152880427379159e-10, 8.052402494795885e-11, 1.4925957430023118e-06, 0.00016981207591015846]], [[0.0738835483789444, 0.08034360408782959, 0.06002651900053024, 0.08575259894132614, 0.10181671380996704, 0.05457380414009094, 0.04788745939731598, 0.49571579694747925], [0.05556297302246094, 0.04669266939163208, 0.07898819446563721, 0.2174731194972992, 0.19628171622753143, 0.08187059313058853, 0.12675142288208008, 0.19637936353683472], [0.07659912109375, 0.08423922955989838, 0.14748288691043854, 0.24815009534358978, 0.13674090802669525, 0.1109761968255043, 0.08288617432117462, 0.11292535066604614], [0.04030035063624382, 0.08929072320461273, 0.35840412974357605, 0.16464321315288544, 0.04723047465085983, 0.07753361761569977, 0.12159162014722824, 0.10100588947534561], [0.037997256964445114, 0.1369040608406067, 0.05325871706008911, 0.28554925322532654, 0.053344614803791046, 0.07621216028928757, 0.17149724066257477, 0.18523670732975006], [0.05980324745178223, 0.08055911958217621, 0.09605373442173004, 0.2436315417289734, 0.13846635818481445, 0.05057374760508537, 0.07842005044221878, 0.252492219209671], [0.03682661056518555, 0.08581636101007462, 0.10622649639844894, 0.5299842953681946, 0.09415798634290695, 0.07119262218475342, 0.027306390926241875, 0.048489321023225784], [0.02994888834655285, 0.12292851507663727, 0.1122380942106247, 0.16072311997413635, 0.18633152544498444, 0.14909052848815918, 0.13658839464187622, 0.10215097665786743]], [[0.18052789568901062, 0.1565483808517456, 0.0880783423781395, 0.10087435692548752, 0.09159363806247711, 0.10900278389453888, 0.1178932785987854, 0.1554812490940094], [0.24961109459400177, 0.08881957083940506, 0.08351647853851318, 0.14434345066547394, 0.1609201729297638, 0.1035316064953804, 0.07436200976371765, 0.09489557892084122], [0.3375014364719391, 0.03916947916150093, 0.046384047716856, 0.1892116218805313, 0.10081758350133896, 0.0561022125184536, 0.12355399131774902, 0.10725954920053482], [0.19944316148757935, 0.09379006922245026, 0.1123201921582222, 0.1586134433746338, 0.12173228710889816, 0.07594896852970123, 0.1246790811419487, 0.11347285658121109], [0.18346719443798065, 0.1255919188261032, 0.04904518276453018, 0.1027454361319542, 0.12125848233699799, 0.19999319314956665, 0.11600347608327866, 0.10189513117074966], [0.1929943561553955, 0.09676329791545868, 0.11599107086658478, 0.10960710793733597, 0.1748998910188675, 0.1050792932510376, 0.10292809456586838, 0.10173678398132324], [0.3505716025829315, 0.1275489181280136, 0.1068636104464531, 0.11791688948869705, 0.08221805095672607, 0.08941864967346191, 0.026470104232430458, 0.09899216890335083], [0.2940194606781006, 0.1027366891503334, 0.05599008500576019, 0.06998351216316223, 0.15121346712112427, 0.12174760550260544, 0.10801509022712708, 0.09629405289888382]], [[0.9951692223548889, 0.002026547910645604, 9.540694009047002e-05, 9.25063286558725e-05, 0.0007534131873399019, 0.001278612995520234, 0.00041227610199712217, 0.00017198013665620238], [0.9999657869338989, 3.4130986023228616e-05, 6.375640015932049e-10, 1.1413751345966394e-13, 3.963331399181591e-11, 2.9708195903310752e-09, 1.7215035086337593e-07, 1.3614166738395994e-10], [8.937740147985096e-08, 0.9999945163726807, 5.344889359548688e-06, 1.108604614358244e-11, 3.220885927675228e-16, 2.309338430119684e-13, 2.692882006272157e-08, 4.003072007208175e-08], [4.6410589260581503e-10, 6.080982529965695e-06, 0.9999897480010986, 4.1918960960174445e-06, 1.0310896234044797e-11, 2.169545589518536e-16, 1.7398584014612995e-15, 4.4154075951041705e-09], [9.078159231290517e-12, 8.227056866707064e-14, 1.5895795968390303e-06, 0.999990701675415, 7.751312296022661e-06, 5.559198500842966e-12, 1.3039792966805156e-16, 3.489176996273127e-16], [3.038883381045743e-11, 8.174410571485833e-16, 4.7954943103523454e-14, 1.9897629499610048e-06, 0.9999806880950928, 1.7362181097269058e-05, 2.330855126964071e-11, 2.5733198427275566e-17], [1.3183815150696887e-10, 5.527558619156103e-11, 5.216641399891965e-16, 4.039561111827961e-15, 1.589617386343889e-05, 0.9999492168426514, 3.4933000279124826e-05, 1.1902333285629396e-11], [7.828570014467573e-10, 2.9600923312500527e-07, 4.748558859492269e-13, 3.327455195954293e-18, 1.8959515388054533e-15, 1.0678545550035778e-06, 0.9999922513961792, 6.348809165501734e-06]], [[0.16371163725852966, 0.07074053585529327, 0.1188318207859993, 0.13657377660274506, 0.05904442444443703, 0.07557587325572968, 0.18393513560295105, 0.19158676266670227], [0.20708070695400238, 0.027622118592262268, 0.1287422925233841, 0.25060799717903137, 0.05981648713350296, 0.03734038770198822, 0.1721227467060089, 0.116667240858078], [0.08127498626708984, 0.16840940713882446, 0.2523925006389618, 0.04529916122555733, 0.10899639129638672, 0.17748844623565674, 0.08105434477329254, 0.08508472889661789], [0.028828253969550133, 0.01755635067820549, 0.22549191117286682, 0.07789500802755356, 0.03818601369857788, 0.02053098939359188, 0.5464265942573547, 0.04508478567004204], [0.12140766531229019, 0.040895987302064896, 0.0668291226029396, 0.45887893438339233, 0.01725468412041664, 0.04367418959736824, 0.1542677879333496, 0.09679166227579117], [0.1898784190416336, 0.03944547101855278, 0.1435360163450241, 0.22458863258361816, 0.08685067296028137, 0.03880539536476135, 0.1601909101009369, 0.11670445650815964], [0.08672530949115753, 0.14246827363967896, 0.13020585477352142, 0.07074400037527084, 0.07133978605270386, 0.1431322544813156, 0.23808811604976654, 0.11729647219181061], [0.2477109432220459, 0.23021773993968964, 0.10175629705190659, 0.020913776010274887, 0.128400981426239, 0.1149100735783577, 0.07506509870290756, 0.0810251533985138]]], [[[0.6431371569633484, 0.02960369735956192, 0.04501562938094139, 0.052825406193733215, 0.020357530564069748, 0.02840230241417885, 0.02331261709332466, 0.15734565258026123], [0.30145105719566345, 0.06780028343200684, 0.060273177921772, 0.020371977239847183, 0.029849372804164886, 0.05710066854953766, 0.024739861488342285, 0.43841353058815], [0.573728084564209, 0.07579103112220764, 0.006246716249734163, 0.03576367720961571, 0.013053908944129944, 0.07011112570762634, 0.03294999152421951, 0.19235548377037048], [0.5438792705535889, 0.038928743451833725, 0.07484051585197449, 0.007934252731502056, 0.03994721174240112, 0.0368041954934597, 0.03569972887635231, 0.22196611762046814], [0.3719380795955658, 0.10946551710367203, 0.04747605323791504, 0.03426653519272804, 0.08475535362958908, 0.11082834005355835, 0.024309197440743446, 0.21696095168590546], [0.39441680908203125, 0.056593745946884155, 0.06588114798069, 0.021951908245682716, 0.05108180269598961, 0.05895886570215225, 0.022999096661806107, 0.3281167149543762], [0.574826717376709, 0.04890809580683708, 0.121526800096035, 0.020284056663513184, 0.04986800253391266, 0.06136078014969826, 0.0027502633165568113, 0.12047528475522995], [0.23066160082817078, 0.12884408235549927, 0.05825383588671684, 0.10684237629175186, 0.08425743877887726, 0.12808893620967865, 0.051519498229026794, 0.21153227984905243]], [[0.500981867313385, 0.031843964010477066, 0.06615693867206573, 0.09866931289434433, 0.03938859701156616, 0.04091973602771759, 0.09171286970376968, 0.13032673299312592], [0.08411001414060593, 0.019148673862218857, 0.8713747262954712, 0.015769094228744507, 0.002070922404527664, 7.778139843139797e-05, 0.001831518835388124, 0.0056173005141317844], [0.3139338195323944, 0.002599449595436454, 0.040526390075683594, 0.6141990423202515, 0.025496862828731537, 0.00043934042332693934, 1.0931746146525256e-05, 0.0027942508459091187], [0.05363541468977928, 9.944056364474818e-05, 0.0011829541763290763, 0.07363731414079666, 0.8317529559135437, 0.03882429003715515, 0.0006434803945012391, 0.00022416288265958428], [0.16363805532455444, 4.7675479436293244e-05, 0.00016959292406681925, 0.0008342217188328505, 0.05495411530137062, 0.29973873496055603, 0.4798314869403839, 0.000786042190156877], [0.030372386798262596, 0.0001485456305090338, 0.00015329211601056159, 7.656672096345574e-06, 0.0010643408168107271, 0.010368713177740574, 0.9479308724403381, 0.009954183362424374], [0.008774956688284874, 0.00034303110442124307, 0.00031915123690851033, 1.3875479453417938e-05, 9.796296581043862e-06, 0.0002970997884403914, 0.012911181896924973, 0.9773310422897339], [0.8506269454956055, 0.00027060386491939425, 0.013405256904661655, 0.0029049506410956383, 0.00018449057824909687, 0.00014758006727788597, 0.004219078458845615, 0.12824121117591858]], [[0.05778992548584938, 0.12408425658941269, 0.1684514284133911, 0.2161552906036377, 0.1170535758137703, 0.07944487780332565, 0.16502264142036438, 0.07199809700250626], [0.03025595098733902, 0.0165033470839262, 0.677391529083252, 0.1705380380153656, 0.007682478986680508, 0.004973436705768108, 0.06092161312699318, 0.031733669340610504], [0.19268599152565002, 0.12533403933048248, 0.1320369988679886, 0.35195815563201904, 0.03116798959672451, 0.04117608442902565, 0.03319060057401657, 0.0924500972032547], [0.044654347002506256, 0.012471959926187992, 0.22473753988742828, 0.021504949778318405, 0.3911316692829132, 0.03472146391868591, 0.2300272285938263, 0.04075076803565025], [0.02852177619934082, 0.007668026722967625, 0.010478085838258266, 0.13716812431812286, 0.011414233595132828, 0.02572980523109436, 0.7337069511413574, 0.04531292989850044], [0.04613227769732475, 0.0053558615036308765, 0.07590202242136002, 0.08336540311574936, 0.015038866549730301, 0.019314823672175407, 0.6159305572509766, 0.13896022737026215], [0.07748417556285858, 0.02591301128268242, 0.04539012908935547, 0.00646625179797411, 0.026314258575439453, 0.06471690535545349, 0.11230014264583588, 0.6414151191711426], [0.05983777716755867, 0.0654459223151207, 0.05026770383119583, 0.0481158122420311, 0.01534183882176876, 0.058382485061883926, 0.1226072832942009, 0.5800012350082397]], [[0.1539982706308365, 0.06715008616447449, 0.04504949599504471, 0.2301914393901825, 0.07325337082147598, 0.04128532111644745, 0.0918695256114006, 0.2972024381160736], [0.012264525517821312, 0.01981150545179844, 0.11220182478427887, 0.5311335325241089, 0.13295932114124298, 0.051608458161354065, 0.03976500406861305, 0.1002558246254921], [0.2400362193584442, 0.015480350703001022, 0.04237845167517662, 0.27461549639701843, 0.10281791538000107, 0.12251289933919907, 0.07044833898544312, 0.13171038031578064], [0.05782876908779144, 0.004782774019986391, 0.009291835129261017, 0.05553751438856125, 0.2248019129037857, 0.18156389892101288, 0.23173658549785614, 0.23445682227611542], [0.03553738445043564, 0.0018293679459020495, 0.00330322771333158, 0.021931583061814308, 0.022883735597133636, 0.052924249321222305, 0.6142925024032593, 0.2472979575395584], [0.03463244065642357, 0.004512236453592777, 0.008735190145671368, 0.021399544551968575, 0.01726522669196129, 0.0271170474588871, 0.18419098854064941, 0.702147364616394], [0.22877022624015808, 0.004947625566273928, 0.010370494797825813, 0.013796194456517696, 0.012318744324147701, 0.013036878779530525, 0.0499199815094471, 0.6668398380279541], [0.9079981446266174, 0.006222869269549847, 0.0038526945281773806, 0.006272118538618088, 0.003369151381775737, 0.0052129910327494144, 0.007068920414894819, 0.06000319495797157]], [[0.4548899829387665, 0.08153469115495682, 0.04963233321905136, 0.23074482381343842, 0.0808224081993103, 0.04440828040242195, 0.033081602305173874, 0.024885866791009903], [0.7801846265792847, 0.05828610807657242, 0.054902583360672, 0.035229604691267014, 0.015167857520282269, 0.007871432229876518, 0.019468363374471664, 0.028889525681734085], [0.7390211224555969, 0.10096433758735657, 0.06064550206065178, 0.04297637194395065, 0.005547118838876486, 0.0033407814335078, 0.012795665301382542, 0.03470909222960472], [0.34146377444267273, 0.19059120118618011, 0.30442753434181213, 0.1003970131278038, 0.03044556826353073, 0.00612771837040782, 0.002676144242286682, 0.02387109026312828], [0.04000154510140419, 0.03233608603477478, 0.05759906768798828, 0.8450188040733337, 0.0074057262390851974, 0.008772817440330982, 0.0032672900706529617, 0.005598688032478094], [0.15314370393753052, 0.044181037694215775, 0.08232823014259338, 0.458717942237854, 0.1674405336380005, 0.03697581961750984, 0.030339261516928673, 0.02687348797917366], [0.3002634346485138, 0.010932516306638718, 0.015594919212162495, 0.16000661253929138, 0.35228389501571655, 0.07709917426109314, 0.042945828288793564, 0.04087361693382263], [0.7824585437774658, 0.006579467095434666, 0.0063854665495455265, 0.019565735012292862, 0.01601530611515045, 0.035904791206121445, 0.07986368238925934, 0.0532270185649395]], [[0.03988538309931755, 0.06377654522657394, 0.29308462142944336, 0.27152377367019653, 0.03464445471763611, 0.03403973951935768, 0.12104372680187225, 0.14200171828269958], [0.028987133875489235, 0.04110714793205261, 0.13873520493507385, 0.3544902503490448, 0.05437232926487923, 0.03801544010639191, 0.1162002682685852, 0.228092223405838], [0.150387704372406, 0.016815287992358208, 0.3831445574760437, 0.10413532704114914, 0.020348211750388145, 0.017987262457609177, 0.1576247662305832, 0.1495569497346878], [0.04363468289375305, 0.02981293387711048, 0.16110125184059143, 0.1632823646068573, 0.06825755536556244, 0.02453198842704296, 0.15039637684822083, 0.3589828610420227], [0.18892239034175873, 0.05613568425178528, 0.15231414139270782, 0.18000528216362, 0.032835040241479874, 0.047321923077106476, 0.15892475843429565, 0.18354082107543945], [0.1034751608967781, 0.05394970253109932, 0.2719336748123169, 0.2153657078742981, 0.024677565321326256, 0.03581538423895836, 0.1645701676607132, 0.13021260499954224], [0.2188313901424408, 0.04594819247722626, 0.3778497278690338, 0.09777118265628815, 0.023116759955883026, 0.044939424842596054, 0.08675670623779297, 0.10478658229112625], [0.5948511958122253, 0.05680905282497406, 0.05504021793603897, 0.011698584072291851, 0.010077598504722118, 0.07564248889684677, 0.035003162920475006, 0.16087771952152252]], [[0.3336029648780823, 0.0988679900765419, 0.059395018965005875, 0.0675240308046341, 0.09325560182332993, 0.1338498592376709, 0.058051999658346176, 0.15545259416103363], [0.4556104242801666, 0.13502632081508636, 0.021883005276322365, 0.004795240703970194, 0.058643124997615814, 0.1751938909292221, 0.0016914989100769162, 0.1471565216779709], [0.33368563652038574, 0.019193831831216812, 0.4631577730178833, 0.0009722155518829823, 0.006445258390158415, 0.043014757335186005, 0.0027416313532739878, 0.1307888627052307], [0.5934473872184753, 0.009094160050153732, 0.0011706758523359895, 0.23452012240886688, 0.007545966189354658, 0.024839451536536217, 0.012572734616696835, 0.11680953204631805], [0.2548929452896118, 0.026015812531113625, 0.005204975139349699, 0.0013321933802217245, 0.5995728373527527, 0.02904234081506729, 0.0005256657605059445, 0.08341329544782639], [0.38988932967185974, 0.2189832627773285, 0.031358376145362854, 0.01106280367821455, 0.07397589087486267, 0.15303735435009003, 0.001643978408537805, 0.12004898488521576], [0.46817103028297424, 0.014662100933492184, 0.0033869638573378325, 0.027950169518589973, 0.005329606123268604, 0.03696870803833008, 0.33127421140670776, 0.1122572049498558], [0.39422789216041565, 0.07731448858976364, 0.0645282194018364, 0.0766010656952858, 0.10802826285362244, 0.11471737176179886, 0.041387028992176056, 0.12319568544626236]], [[0.3209041655063629, 0.002201354131102562, 0.07833803445100784, 0.13653025031089783, 0.012468316592276096, 0.0018633451545611024, 0.0419028215110302, 0.4057917296886444], [0.4949871599674225, 0.005038308445364237, 0.06617014855146408, 0.06520774960517883, 0.010449782945215702, 0.003482639556750655, 0.04414452984929085, 0.31051966547966003], [0.4913330078125, 0.005312290042638779, 0.13157202303409576, 0.06340476870536804, 0.004762825556099415, 0.004112698137760162, 0.0817713662981987, 0.2177310734987259], [0.4668692648410797, 0.005615788046270609, 0.04730347916483879, 0.12333013862371445, 0.005432341247797012, 0.003537005977705121, 0.07083060592412949, 0.2770814299583435], [0.7183517813682556, 0.0032839507330209017, 0.05435984581708908, 0.05443371832370758, 0.0019671109039336443, 0.002725816098973155, 0.033489905297756195, 0.13138790428638458], [0.6835438013076782, 0.0035847164690494537, 0.06344631314277649, 0.056873101741075516, 0.0030616356525570154, 0.0019587369170039892, 0.029275720939040184, 0.15825599431991577], [0.6823638677597046, 0.002911235438659787, 0.08517103642225266, 0.06518419831991196, 0.016183018684387207, 0.00297811278142035, 0.02785443887114525, 0.1173541471362114], [0.014938629232347012, 0.4417511224746704, 0.0016398351872339845, 0.0008823275566101074, 0.00010276752436766401, 0.5390426516532898, 0.000764035212341696, 0.0008787104743532836]]], [[[0.10606124252080917, 0.010495192371308804, 0.015016856603324413, 0.04527737572789192, 0.01896866224706173, 0.009653775952756405, 0.007769069168716669, 0.7867578268051147], [0.06301195174455643, 0.08586722612380981, 0.01566808857023716, 0.01668630912899971, 0.006389327347278595, 0.0023303604684770107, 0.0006736459909006953, 0.8093730807304382], [0.12286089360713959, 0.16094745695590973, 0.037531912326812744, 0.01247094664722681, 0.0029730533715337515, 0.0013532508164644241, 0.004697219468653202, 0.6571652293205261], [0.03847004473209381, 0.389740526676178, 0.16732974350452423, 0.10739699006080627, 0.004081657622009516, 0.0018808661261573434, 0.0008444390259683132, 0.29025575518608093], [0.017024166882038116, 0.06536046415567398, 0.38762035965919495, 0.36023998260498047, 0.03238316997885704, 0.010242159478366375, 0.0007366401259787381, 0.12639300525188446], [0.008432457223534584, 0.0064523774199187756, 0.09030630439519882, 0.4013368487358093, 0.382735013961792, 0.026653816923499107, 0.0017582520376890898, 0.08232494443655014], [0.016522347927093506, 0.0013192584738135338, 0.014323864132165909, 0.23977483808994293, 0.5314959287643433, 0.05375625938177109, 0.012688612565398216, 0.1301189363002777], [0.05312345176935196, 0.01056875940412283, 0.01150909997522831, 0.018771491944789886, 0.011603792198002338, 0.0054782177321612835, 0.0064946869388222694, 0.8824505805969238]], [[0.04110550507903099, 0.08610278367996216, 0.15764084458351135, 0.4418419599533081, 0.058082710951566696, 0.03511444106698036, 0.15318964421749115, 0.026922181248664856], [0.031602222472429276, 0.04825981333851814, 0.027128364890813828, 0.021198049187660217, 0.004811186343431473, 0.0013574690092355013, 0.001184634049423039, 0.8644582033157349], [0.05035235360264778, 0.10731842368841171, 0.07321558892726898, 0.030829235911369324, 0.0057554589584469795, 0.0015561680775135756, 0.002614804310724139, 0.7283579707145691], [0.026152169331908226, 0.22934837639331818, 0.09466604888439178, 0.07011015713214874, 0.01709103211760521, 0.005061933305114508, 0.005940459202975035, 0.5516297817230225], [0.02636399306356907, 0.1007414311170578, 0.22343218326568604, 0.42307642102241516, 0.04366064444184303, 0.011198158375918865, 0.005450168624520302, 0.16607697308063507], [0.007575593888759613, 0.030007481575012207, 0.19964268803596497, 0.6175491809844971, 0.08813828229904175, 0.008181110955774784, 0.005348108243197203, 0.04355752840638161], [0.00976988673210144, 0.02599778212606907, 0.1167154312133789, 0.536361813545227, 0.1581471562385559, 0.015324223786592484, 0.01840103231370449, 0.11928270757198334], [0.11968649923801422, 0.018347278237342834, 0.02319665439426899, 0.02969202771782875, 0.01658552698791027, 0.011951079592108727, 0.020614106208086014, 0.7599267363548279]], [[0.08370660245418549, 0.08991118520498276, 0.25887519121170044, 0.33058157563209534, 0.062077946960926056, 0.06219591572880745, 0.08623603731393814, 0.026415569707751274], [0.23074394464492798, 0.0029176638927310705, 8.23178379505407e-06, 2.8480573632805317e-07, 4.298299700167263e-06, 4.299983265809715e-05, 6.595782178919762e-05, 0.7662165760993958], [0.02112608030438423, 0.9526576399803162, 0.0012485380284488201, 4.630158400686923e-06, 1.8629016551585664e-08, 2.336150970450035e-07, 1.9011357608178514e-06, 0.024960925802588463], [0.0036184429191052914, 0.001661973656155169, 0.9783390760421753, 0.00889377947896719, 6.933906206540996e-06, 9.227603925410222e-08, 1.5279644571819517e-07, 0.0074796052649617195], [0.0005170017248019576, 1.889430905066547e-06, 0.0014685195637866855, 0.9824841618537903, 0.0039269207045435905, 1.2018552297377028e-05, 1.1536345212448396e-09, 0.01158948801457882], [0.00012389494804665446, 6.175376654482534e-08, 1.586926288155155e-07, 0.0009102972107939422, 0.9926704168319702, 0.003765283850952983, 5.313999054123997e-07, 0.0025293822400271893], [0.0024125268682837486, 1.817566044337582e-05, 2.027574552698752e-08, 7.224657110782573e-06, 0.025971168652176857, 0.9606896042823792, 0.001224436447955668, 0.009676842950284481], [0.4722415506839752, 0.026812734082341194, 0.010067163966596127, 0.008185469545423985, 0.0030630887486040592, 0.012242134660482407, 0.007692067883908749, 0.45969581604003906]], [[0.032778192311525345, 0.05423920974135399, 0.11425259709358215, 0.03556351363658905, 0.016823187470436096, 0.017772868275642395, 0.03123023733496666, 0.6973401308059692], [0.05793100222945213, 0.12700891494750977, 0.2175540179014206, 0.11056747287511826, 0.0580391101539135, 0.09232471883296967, 0.1351197361946106, 0.20145493745803833], [0.0815344750881195, 0.11726627498865128, 0.15664279460906982, 0.139619842171669, 0.06756415218114853, 0.0843498483300209, 0.0653298869729042, 0.28769269585609436], [0.052559372037649155, 0.18440958857536316, 0.26974883675575256, 0.11122175306081772, 0.12308912724256516, 0.09020495414733887, 0.06778289377689362, 0.10098347067832947], [0.05470304563641548, 0.17826539278030396, 0.2213873565196991, 0.1092623621225357, 0.080050989985466, 0.07193484157323837, 0.07528074085712433, 0.20911526679992676], [0.018117859959602356, 0.2782020568847656, 0.3318392038345337, 0.17124450206756592, 0.03899800777435303, 0.054510027170181274, 0.047907814383506775, 0.05918057635426521], [0.032804716378450394, 0.15058431029319763, 0.18126212060451508, 0.2930283546447754, 0.04809379205107689, 0.0508563406765461, 0.03285098075866699, 0.2105194479227066], [0.04379541426897049, 0.006982361897826195, 0.015177514404058456, 0.007741878740489483, 0.0026079625822603703, 0.0040786294266581535, 0.006474707741290331, 0.9131416082382202]], [[0.11791696399450302, 0.07829169183969498, 0.07415740936994553, 0.21433359384536743, 0.08799278736114502, 0.1072947308421135, 0.09250029921531677, 0.22751258313655853], [0.014547553844749928, 0.03679736331105232, 0.27258944511413574, 0.2423957884311676, 0.1626482456922531, 0.06141749769449234, 0.13431142270565033, 0.07529260963201523], [0.03269044682383537, 0.02331908419728279, 0.0659121423959732, 0.12877197563648224, 0.16509731113910675, 0.23660840094089508, 0.1224425733089447, 0.22515814006328583], [0.010920536704361439, 0.020270299166440964, 0.02815008908510208, 0.06814009696245193, 0.12709738314151764, 0.2772912085056305, 0.3657412528991699, 0.10238906741142273], [0.006784772966057062, 0.00333553203381598, 0.01932501420378685, 0.023035909980535507, 0.03245735168457031, 0.07905880361795425, 0.7264304757118225, 0.10957203060388565], [0.026402099058032036, 0.007267445791512728, 0.023671722039580345, 0.028547490015625954, 0.05324629321694374, 0.08192834258079529, 0.4558229446411133, 0.32311373949050903], [0.03747862949967384, 0.003998033236712217, 0.003707676427438855, 0.0029295235872268677, 0.005959651432931423, 0.018003232777118683, 0.01314867939800024, 0.9147745370864868], [0.0934610664844513, 0.0072747645899653435, 0.010752215050160885, 0.011075904592871666, 0.007769182324409485, 0.00847357977181673, 0.007963999174535275, 0.8532293438911438]], [[0.11347061395645142, 0.20827463269233704, 0.023464152589440346, 0.07444395869970322, 0.11421507596969604, 0.19809764623641968, 0.11578202247619629, 0.15225191414356232], [0.04265863448381424, 0.13932716846466064, 0.018568100407719612, 0.0017981411656364799, 0.004162159748375416, 0.0017346093663945794, 0.012458764016628265, 0.7792924046516418], [0.030270744115114212, 0.21135883033275604, 0.04123122990131378, 0.0020314219873398542, 0.00024197743914555758, 0.0001053960804711096, 0.001376730971969664, 0.713383674621582], [0.04446389153599739, 0.047825053334236145, 0.06897586584091187, 0.11464648693799973, 0.002496211091056466, 0.0007079484639689326, 0.00019504058582242578, 0.7206895351409912], [0.03574545308947563, 0.003577273804694414, 0.004341269377619028, 0.5332550406455994, 0.020451951771974564, 0.006782108917832375, 5.603107638307847e-05, 0.39579087495803833], [0.027021124958992004, 0.00024094576656352729, 0.0005151212681084871, 0.01798233762383461, 0.7549890875816345, 0.035735659301280975, 0.00408839201554656, 0.15942738950252533], [0.018725978210568428, 0.0006752116023562849, 9.621700155548751e-05, 0.0012278752401471138, 0.13113926351070404, 0.3437083065509796, 0.0584062822163105, 0.44602087140083313], [0.16789168119430542, 0.016237638890743256, 0.030547773465514183, 0.009887549094855785, 0.014454521238803864, 0.011994884349405766, 0.038494888693094254, 0.7104911208152771]], [[0.06862577050924301, 0.005363201256841421, 0.006610412150621414, 0.008115235716104507, 0.0020709000527858734, 0.0030447097960859537, 0.0017304139910265803, 0.9044393301010132], [0.04420571029186249, 0.03896846994757652, 0.510994553565979, 0.03983413055539131, 0.0013461402850225568, 0.00020954628416802734, 0.0008632239769212902, 0.3635782301425934], [0.07651403546333313, 0.007337134797126055, 0.03379936143755913, 0.08669651299715042, 0.018886975944042206, 0.0017822557128965855, 2.9605218514916487e-05, 0.774954080581665], [0.035672664642333984, 0.0010253851069137454, 0.0027874878142029047, 0.0758691057562828, 0.19449959695339203, 0.04402991011738777, 0.0005042347474955022, 0.6456116437911987], [0.02326977625489235, 0.0004712361260317266, 0.00031329752528108656, 0.011651882901787758, 0.054387371987104416, 0.292786568403244, 0.1966399848461151, 0.4204799234867096], [0.04217778518795967, 0.00044706513290293515, 0.0005557520780712366, 0.0008757991017773747, 0.0031618920620530844, 0.027584878727793694, 0.44556882977485657, 0.47962793707847595], [0.06169861555099487, 0.0035932185128331184, 0.0018393928185105324, 0.0012452008668333292, 0.0002733504807110876, 0.00909469835460186, 0.04480975493788719, 0.8774457573890686], [0.1758284568786621, 0.02480677329003811, 0.042245153337717056, 0.02035791613161564, 0.009400605224072933, 0.010595720261335373, 0.03524882346391678, 0.6815165281295776]], [[0.0073824492283165455, 0.07271701097488403, 0.004917855840176344, 0.047060173004865646, 0.09227784723043442, 0.29843756556510925, 0.0003830594359897077, 0.4768241047859192], [2.2281250494415872e-05, 0.0036847256124019623, 0.9959230422973633, 4.3340307456674054e-05, 3.116056035423753e-08, 1.2423564399455245e-09, 6.090395743285626e-08, 0.00032645929604768753], [1.5580209264953737e-06, 4.307139533921145e-07, 0.0020067135337740183, 0.9977709054946899, 0.00011877965880557895, 4.8638404415157765e-09, 6.681143810936818e-13, 0.00010160673264181241], [3.3381686534994515e-06, 6.229959659265205e-09, 4.670843978260564e-08, 0.0007392841507680714, 0.9933637380599976, 0.0001884860685095191, 8.100327630877757e-10, 0.005705185700207949], [1.099065457310644e-06, 8.056635891762198e-08, 1.8593978787229126e-11, 6.4179430658839465e-09, 0.0002887024311348796, 0.9992296695709229, 0.00011010693560820073, 0.00037035776767879725], [5.387634882936254e-05, 5.128430302647757e-07, 4.0308938409339135e-09, 9.533170780562372e-11, 1.2353599743164523e-07, 0.0013835298595950007, 0.9984727501869202, 8.921378321247175e-05], [1.077128644055847e-07, 1.2973553786821412e-08, 2.5729265940022117e-10, 2.3445199774652092e-12, 1.5707663576954023e-13, 6.785070838510876e-10, 1.5574285328057158e-07, 0.9999997615814209], [0.10205423086881638, 0.0013586780987679958, 0.0007825593347661197, 0.0013006961671635509, 0.000872114731464535, 0.0010833581909537315, 0.00024346062855329365, 0.8923048377037048]]], [[[0.0538894459605217, 0.0091758007183671, 0.03751397877931595, 0.02223273180425167, 0.017144953832030296, 0.002526081632822752, 0.009239177219569683, 0.8482778072357178], [0.007870957255363464, 0.011425056494772434, 0.05558177828788757, 0.014757497236132622, 0.002784313401207328, 0.0001578184455865994, 0.00047377313603647053, 0.9069488048553467], [0.028804969042539597, 0.004350847098976374, 0.04086718335747719, 0.3568415939807892, 0.2236853688955307, 0.006547726225107908, 0.0019224804127588868, 0.33697977662086487], [0.020249566063284874, 0.005255912896245718, 0.017381612211465836, 0.0745452344417572, 0.10687978565692902, 0.021304970607161522, 0.011207706294953823, 0.743175208568573], [0.0120538379997015, 0.002262132242321968, 0.010443238541483879, 0.012186883948743343, 0.017690885812044144, 0.017471320927143097, 0.03552224859595299, 0.8923695087432861], [0.009007374756038189, 0.0009258962236344814, 0.0018665725365281105, 0.0014337464235723019, 0.001926382421515882, 0.002303281333297491, 0.02990765869617462, 0.9526290893554688], [0.016989953815937042, 0.0037765761371701956, 0.011267540045082569, 0.012704125605523586, 0.005043343175202608, 0.006171817891299725, 0.026183215901255608, 0.9178634285926819], [0.16605064272880554, 0.10278621315956116, 0.1323234736919403, 0.1118900403380394, 0.08760777115821838, 0.06259200721979141, 0.11752105504274368, 0.2192288488149643]], [[0.032775070518255234, 0.021655624732375145, 0.17217567563056946, 0.025147845968604088, 0.02843387983739376, 0.013306185603141785, 0.09180823713541031, 0.6146974563598633], [0.009018806740641594, 0.04735708609223366, 0.002245835494250059, 0.0011160647263750434, 0.001264180988073349, 0.0010241448180750012, 0.00044664283632300794, 0.9375272989273071], [0.011086487211287022, 0.003100736066699028, 0.05581245571374893, 0.002295462880283594, 0.0013973381137475371, 0.0003937535220757127, 0.0009295242489315569, 0.924984335899353], [0.004778353497385979, 0.0022922998759895563, 0.0021155490539968014, 0.038526151329278946, 0.002983509097248316, 0.000894938362762332, 0.00010804353223647922, 0.9483010768890381], [0.012477628886699677, 0.002899151062592864, 0.0016244938597083092, 0.005163812078535557, 0.059751104563474655, 0.003924403339624405, 0.0001238738768734038, 0.914035439491272], [0.005314614158123732, 0.001089608995243907, 0.0006060193409211934, 0.0009882673621177673, 0.004259562585502863, 0.09156433492898941, 0.0009663726668804884, 0.8952112197875977], [0.014555796049535275, 0.0009304232080467045, 0.011806132271885872, 0.0003666171105578542, 0.0007997446227818727, 0.0015778971137478948, 0.02730450965464115, 0.9426589608192444], [0.0818118304014206, 0.05079646036028862, 0.12312038242816925, 0.07279936969280243, 0.03192101791501045, 0.031528688967227936, 0.15901023149490356, 0.44901204109191895]], [[0.08888829499483109, 0.08796532452106476, 0.2144324779510498, 0.08340385556221008, 0.02619745582342148, 0.019625358283519745, 0.1336677521467209, 0.34581947326660156], [0.04361807554960251, 0.06582440435886383, 0.0603485107421875, 0.06327874958515167, 0.02727426029741764, 0.03648895397782326, 0.0331631563603878, 0.6700039505958557], [0.07090947031974792, 0.022326065227389336, 0.04707852005958557, 0.07882088422775269, 0.07220346480607986, 0.0568305142223835, 0.079921193420887, 0.5719098448753357], [0.0406174436211586, 0.009948878549039364, 0.03396134451031685, 0.03987959772348404, 0.01615440472960472, 0.024703234434127808, 0.09143571555614471, 0.7432994246482849], [0.019313164055347443, 0.002050909213721752, 0.014938673004508018, 0.007592751644551754, 0.004456005524843931, 0.008453593589365482, 0.06486041098833084, 0.8783345818519592], [0.010120092891156673, 0.0011389367282390594, 0.002317564096301794, 0.0009463743772357702, 0.00045869723544456065, 0.002047792077064514, 0.008528383448719978, 0.9744421243667603], [0.03655622899532318, 0.00791226327419281, 0.0290931798517704, 0.009811392053961754, 0.004905272275209427, 0.010593388229608536, 0.0335368737578392, 0.8675914406776428], [0.07271566987037659, 0.14909225702285767, 0.17154069244861603, 0.12839515507221222, 0.09543238580226898, 0.10299370437860489, 0.17970721423625946, 0.1001228392124176]], [[0.04356290400028229, 0.2602311968803406, 0.25107014179229736, 0.11244367808103561, 0.10837285965681076, 0.03480160981416702, 0.12288853526115417, 0.06662905961275101], [0.005150396842509508, 0.016830023378133774, 0.008896308951079845, 0.003500281134620309, 0.0006597312167286873, 0.0006422551232390106, 0.006007764022797346, 0.9583132266998291], [0.02284419536590576, 0.2065122127532959, 0.10357076674699783, 0.08894626796245575, 0.06485887616872787, 0.014795243740081787, 0.04827957600355148, 0.4501928389072418], [0.020762713626027107, 0.08406441658735275, 0.03549812734127045, 0.04044942557811737, 0.017174702137708664, 0.006772455293685198, 0.02016029879450798, 0.7751178741455078], [0.006645290181040764, 0.054102834314107895, 0.042155005037784576, 0.00877510104328394, 0.004558151587843895, 0.002206838456913829, 0.006994469556957483, 0.8745622634887695], [0.005181600805372, 0.026808980852365494, 0.052248138934373856, 0.008921739645302296, 0.013154491782188416, 0.006288738455623388, 0.0170398261398077, 0.8703565001487732], [0.025646300986409187, 0.07839087396860123, 0.2251834124326706, 0.0913703516125679, 0.22372858226299286, 0.09508196264505386, 0.06117381528019905, 0.19942478835582733], [0.059401433914899826, 0.16487909853458405, 0.18630963563919067, 0.14696615934371948, 0.07001613080501556, 0.06632296741008759, 0.23262718319892883, 0.0734773725271225]], [[0.0705314576625824, 0.1170911192893982, 0.15623661875724792, 0.2483266144990921, 0.050915978848934174, 0.035169631242752075, 0.09095389395952225, 0.2307746410369873], [0.011716673150658607, 0.15682043135166168, 0.004925903864204884, 0.002052800729870796, 0.0012256130576133728, 0.0014004958793520927, 0.00032192518119700253, 0.8215361833572388], [0.012342949397861958, 0.0018456827383488417, 0.06312888115644455, 0.007140757981687784, 0.0004997216747142375, 0.0006497559370473027, 0.00019206097931601107, 0.9142001271247864], [0.005407362710684538, 0.001112712430767715, 0.0012800813419744372, 0.05822223052382469, 0.0015681700315326452, 0.0011510212207213044, 1.0731975635280833e-05, 0.9312475323677063], [0.004143973346799612, 0.002384465653449297, 0.0004469464474823326, 0.0038741605821996927, 0.021609093993902206, 0.003179842373356223, 2.497790592315141e-05, 0.9643365144729614], [0.006758329924196005, 0.0020751366391777992, 0.0009799053659662604, 0.002381294034421444, 0.0028562231454998255, 0.033330194652080536, 0.00034491269616410136, 0.9512739777565002], [0.01718956232070923, 0.002651524031534791, 0.012397607788443565, 0.0004343980981502682, 0.0006814473890699446, 0.0026834344025701284, 0.03635000064969063, 0.9276121258735657], [0.0863649919629097, 0.09234365820884705, 0.11329882591962814, 0.07483670115470886, 0.05942080169916153, 0.04067175090312958, 0.13731011748313904, 0.39575305581092834]], [[0.05638232082128525, 0.145191490650177, 0.07042450457811356, 0.050717271864414215, 0.10500024259090424, 0.05988515168428421, 0.1350528597831726, 0.3773461878299713], [0.0246601402759552, 0.10503558069467545, 0.01879347488284111, 0.0009364107390865684, 0.004278099164366722, 0.0031976033933460712, 0.0069122761487960815, 0.8361865282058716], [0.04558670520782471, 0.024182695895433426, 0.047242797911167145, 0.0068114944733679295, 0.006565469782799482, 0.0058539691381156445, 0.007120069116353989, 0.8566368818283081], [0.0365908108651638, 0.014242365024983883, 0.015522370114922523, 0.0797523632645607, 0.0329858772456646, 0.008708583191037178, 0.01154535822570324, 0.8006523251533508], [0.03777680546045303, 0.022959301248192787, 0.0076126656495034695, 0.008607191033661366, 0.08779966086149216, 0.013130590319633484, 0.016374655067920685, 0.8057392239570618], [0.030214503407478333, 0.040573347359895706, 0.00793131347745657, 0.0031181389931589365, 0.018815847113728523, 0.13661885261535645, 0.028238261118531227, 0.7344897985458374], [0.030430901795625687, 0.01039101928472519, 0.01863277330994606, 0.001906887860968709, 0.007619953248649836, 0.02001740224659443, 0.01916651241481304, 0.8918344974517822], [0.09614177793264389, 0.07074282318353653, 0.15469200909137726, 0.06661581248044968, 0.05422162264585495, 0.057817243039608, 0.32341232895851135, 0.17635641992092133]], [[0.10378742963075638, 0.17462630569934845, 0.14626725018024445, 0.09842870384454727, 0.06481163203716278, 0.0671103224158287, 0.11823830753564835, 0.22672998905181885], [0.00661758566275239, 0.006636017933487892, 0.00658799335360527, 0.0009640392381697893, 0.00047262708540074527, 0.00027115867123939097, 0.0020148467738181353, 0.9764357209205627], [0.06677669286727905, 0.04249782860279083, 0.04193507134914398, 0.05378612503409386, 0.02997303009033203, 0.011249376460909843, 0.0422026701271534, 0.7115791440010071], [0.007053652312606573, 0.008971772156655788, 0.015473340637981892, 0.004257764667272568, 0.005912225693464279, 0.0024314906913787127, 0.006588542368263006, 0.9493112564086914], [0.003733596997335553, 0.0015166719676926732, 0.003959363326430321, 0.0009258665377274156, 0.0003701428940985352, 0.00013346878404263407, 0.0012973130214959383, 0.9880635142326355], [0.005838322918862104, 0.00236900569871068, 0.005535642150789499, 0.0024917814880609512, 0.0013003258500248194, 0.00042044685687869787, 0.001070244936272502, 0.9809742569923401], [0.06724529713392258, 0.03818664327263832, 0.08918628096580505, 0.10068327933549881, 0.08426707237958908, 0.02691284753382206, 0.03615032136440277, 0.557368278503418], [0.0853692814707756, 0.11238318681716919, 0.13359428942203522, 0.1113002821803093, 0.12717638909816742, 0.10703121870756149, 0.23101086914539337, 0.0921345055103302]], [[0.13238407671451569, 0.04668563976883888, 0.2732125520706177, 0.0315437987446785, 0.056661590933799744, 0.018761396408081055, 0.18065501749515533, 0.2600959241390228], [0.019243894144892693, 0.015598228201270103, 0.005462923087179661, 0.0010100394720211625, 0.001330530853010714, 0.0005595558322966099, 0.010071683675050735, 0.9467230439186096], [0.04841725528240204, 0.507595419883728, 0.12575021386146545, 0.00965381320565939, 0.021530812606215477, 0.01375170424580574, 0.018785294145345688, 0.25451549887657166], [0.018315499648451805, 0.17445388436317444, 0.22288523614406586, 0.023054225370287895, 0.014216233976185322, 0.003948274999856949, 0.005325875710695982, 0.5378007888793945], [0.031790558248758316, 0.01408568024635315, 0.09022916108369827, 0.034254755824804306, 0.03305622562766075, 0.015518889762461185, 0.0060503208078444, 0.7750144004821777], [0.007645707111805677, 0.001474821474403143, 0.004065054468810558, 0.003812337527051568, 0.0782899484038353, 0.013391181826591492, 0.018724359571933746, 0.8725966215133667], [0.056291237473487854, 0.020333880558609962, 0.043789517134428024, 0.019843528047204018, 0.2752552926540375, 0.26644155383110046, 0.01941615343093872, 0.2986288368701935], [0.12601391971111298, 0.13323377072811127, 0.1651245504617691, 0.07071161270141602, 0.10552214086055756, 0.08600471168756485, 0.20174063742160797, 0.11164873838424683]]]], \"left_text\": [\"[CLS]\", \"the\", \"cat\", \"sat\", \"on\", \"the\", \"mat\", \"[SEP]\"], \"right_text\": [\"[CLS]\", \"the\", \"cat\", \"sat\", \"on\", \"the\", \"mat\", \"[SEP]\"]}], \"default_filter\": \"0\", \"root_div_id\": \"bertviz-34a0aebab7ab485b88ba1c98504a91a3\", \"layer\": null, \"heads\": null, \"include_layers\": [0, 1, 2, 3]}; // HACK: {\"attention\": [{\"name\": null, \"attn\": [[[[0.18662472069263458, 0.08013234287500381, 0.07552144676446915, 0.15747606754302979, 0.10564763844013214, 0.06892536580562592, 0.08924569934606552, 0.23642680048942566], [0.03268476203083992, 0.23785459995269775, 0.06945554912090302, 0.035561539232730865, 0.0250842422246933, 0.38005322217941284, 0.0867278128862381, 0.1325782835483551], [0.1432727426290512, 0.06563907861709595, 0.01858905702829361, 0.06582977622747421, 0.14589723944664001, 0.07912544906139374, 0.13358072936534882, 0.34806594252586365], [0.07772459834814072, 0.0826437771320343, 0.08518967777490616, 0.010395864024758339, 0.10208859294652939, 0.1395772248506546, 0.18384705483913422, 0.3185332119464874], [0.029289299622178078, 0.02735445834696293, 0.0394141711294651, 0.10810176283121109, 0.4765647053718567, 0.0344136580824852, 0.08361701667308807, 0.20124496519565582], [0.0451173409819603, 0.26855769753456116, 0.08427220582962036, 0.05034668371081352, 0.0282751452177763, 0.284195214509964, 0.0860787183046341, 0.15315702557563782], [0.13746771216392517, 0.10509467124938965, 0.1763012707233429, 0.08615472912788391, 0.12544995546340942, 0.1173907071352005, 0.024158796295523643, 0.22798217833042145], [0.07691819220781326, 0.128713920712471, 0.14945566654205322, 0.1916198432445526, 0.0983033999800682, 0.13323770463466644, 0.10019278526306152, 0.12155845761299133]], [[0.1052679643034935, 0.0894961804151535, 0.10551456362009048, 0.1453884392976761, 0.1261453628540039, 0.12854236364364624, 0.11745745688676834, 0.18218766152858734], [0.2775688171386719, 0.016092346981167793, 0.026226291432976723, 0.049767013639211655, 0.041011326014995575, 0.04368428885936737, 0.049536801874637604, 0.496113121509552], [0.12266074866056442, 0.005561844911426306, 0.7701103687286377, 0.007509808521717787, 0.006464007310569286, 0.012603487819433212, 0.011968729086220264, 0.06312098354101181], [0.09477207809686661, 0.0059155127964913845, 0.004230108577758074, 0.7810506820678711, 0.008929469622671604, 0.007445030380040407, 0.014858128502964973, 0.08279892057180405], [0.35968607664108276, 0.05999571830034256, 0.010914272628724575, 0.04750365391373634, 0.06158315762877464, 0.022114606574177742, 0.015188897959887981, 0.4230136573314667], [0.36819425225257874, 0.07931338995695114, 0.0708797425031662, 0.06889292597770691, 0.036111630499362946, 0.027125144377350807, 0.03148384764790535, 0.31799906492233276], [0.12757670879364014, 0.02053958922624588, 0.014613857492804527, 0.01958228275179863, 0.010132531635463238, 0.007407298777252436, 0.7646554708480835, 0.03549230098724365], [0.6122301816940308, 0.04247643053531647, 0.004639890044927597, 0.03378232568502426, 0.03368159011006355, 0.01776200532913208, 0.0018469843780621886, 0.25358062982559204]], [[0.09096606075763702, 0.274073988199234, 0.03383905813097954, 0.051018279045820236, 0.051544271409511566, 0.25003084540367126, 0.027892930433154106, 0.22063450515270233], [0.0002152415254386142, 6.109703826950863e-05, 4.389869354781695e-05, 2.471674270054791e-05, 3.8186142774065956e-05, 4.6603880036855116e-05, 4.833671482629143e-05, 0.9995219707489014], [0.027697362005710602, 0.28358322381973267, 0.0472906231880188, 0.06867549568414688, 0.06656988710165024, 0.096046082675457, 0.09528512507677078, 0.31485217809677124], [0.01460545789450407, 0.22443066537380219, 0.20608316361904144, 0.08317898958921432, 0.11545728892087936, 0.044211987406015396, 0.06634745746850967, 0.24568495154380798], [0.021999020129442215, 0.12257634103298187, 0.23989784717559814, 0.21222224831581116, 0.09495412558317184, 0.0382261723279953, 0.06629283726215363, 0.20383140444755554], [0.024451542645692825, 0.06753462553024292, 0.1728343516588211, 0.329285591840744, 0.12510721385478973, 0.044108014553785324, 0.03466476872563362, 0.20201382040977478], [0.009234161116182804, 0.036115605384111404, 0.16026930510997772, 0.2644042670726776, 0.29143011569976807, 0.08442430198192596, 0.04647279530763626, 0.10764949768781662], [0.008738869801163673, 8.103754225885496e-06, 0.00018421189452055842, 0.0007602220866829157, 0.0004676259122788906, 0.00014400252257473767, 0.00043214025208726525, 0.9892648458480835]], [[0.8634690046310425, 0.02004818618297577, 0.01871815137565136, 0.019480306655168533, 0.019607270136475563, 0.013320188969373703, 0.015530713833868504, 0.029826151207089424], [1.33143512357492e-05, 0.00040855430415831506, 0.9982061386108398, 0.0012999315513297915, 1.6324732996508828e-06, 8.499728032518306e-09, 1.3200323337514419e-05, 5.7135766837745905e-05], [9.115586180996615e-06, 0.0001030683342833072, 0.0014125837478786707, 0.9956941604614258, 0.002773213665932417, 5.698342192772543e-06, 9.359197861158464e-08, 2.1088551420689328e-06], [6.436376764895613e-08, 4.488758520437841e-08, 2.995252543769311e-06, 0.0003909434308297932, 0.998339056968689, 0.0012666566763073206, 1.3849417257461027e-07, 6.512951511439269e-09], [8.778079063631594e-07, 1.6401534139731666e-06, 9.509735576784806e-08, 3.8016172766219825e-05, 0.0012540456373244524, 0.9711326360702515, 0.027572253718972206, 4.163279072599835e-07], [2.653912645200762e-07, 7.191489999058831e-07, 7.026192179182544e-07, 2.287561251534953e-08, 4.113725026400061e-06, 0.0004924193490296602, 0.9984853863716125, 0.0010163591941818595], [1.494362322773668e-07, 7.169273885665461e-05, 2.8432459657778963e-05, 2.5273317660889916e-08, 1.7582813427452493e-08, 1.5970928870956413e-05, 0.003977783024311066, 0.9959059953689575], [0.999821126461029, 2.2200449478759765e-08, 3.770198418351356e-06, 3.839242708636448e-06, 6.152880427379159e-10, 8.052402494795885e-11, 1.4925957430023118e-06, 0.00016981207591015846]], [[0.0738835483789444, 0.08034360408782959, 0.06002651900053024, 0.08575259894132614, 0.10181671380996704, 0.05457380414009094, 0.04788745939731598, 0.49571579694747925], [0.05556297302246094, 0.04669266939163208, 0.07898819446563721, 0.2174731194972992, 0.19628171622753143, 0.08187059313058853, 0.12675142288208008, 0.19637936353683472], [0.07659912109375, 0.08423922955989838, 0.14748288691043854, 0.24815009534358978, 0.13674090802669525, 0.1109761968255043, 0.08288617432117462, 0.11292535066604614], [0.04030035063624382, 0.08929072320461273, 0.35840412974357605, 0.16464321315288544, 0.04723047465085983, 0.07753361761569977, 0.12159162014722824, 0.10100588947534561], [0.037997256964445114, 0.1369040608406067, 0.05325871706008911, 0.28554925322532654, 0.053344614803791046, 0.07621216028928757, 0.17149724066257477, 0.18523670732975006], [0.05980324745178223, 0.08055911958217621, 0.09605373442173004, 0.2436315417289734, 0.13846635818481445, 0.05057374760508537, 0.07842005044221878, 0.252492219209671], [0.03682661056518555, 0.08581636101007462, 0.10622649639844894, 0.5299842953681946, 0.09415798634290695, 0.07119262218475342, 0.027306390926241875, 0.048489321023225784], [0.02994888834655285, 0.12292851507663727, 0.1122380942106247, 0.16072311997413635, 0.18633152544498444, 0.14909052848815918, 0.13658839464187622, 0.10215097665786743]], [[0.18052789568901062, 0.1565483808517456, 0.0880783423781395, 0.10087435692548752, 0.09159363806247711, 0.10900278389453888, 0.1178932785987854, 0.1554812490940094], [0.24961109459400177, 0.08881957083940506, 0.08351647853851318, 0.14434345066547394, 0.1609201729297638, 0.1035316064953804, 0.07436200976371765, 0.09489557892084122], [0.3375014364719391, 0.03916947916150093, 0.046384047716856, 0.1892116218805313, 0.10081758350133896, 0.0561022125184536, 0.12355399131774902, 0.10725954920053482], [0.19944316148757935, 0.09379006922245026, 0.1123201921582222, 0.1586134433746338, 0.12173228710889816, 0.07594896852970123, 0.1246790811419487, 0.11347285658121109], [0.18346719443798065, 0.1255919188261032, 0.04904518276453018, 0.1027454361319542, 0.12125848233699799, 0.19999319314956665, 0.11600347608327866, 0.10189513117074966], [0.1929943561553955, 0.09676329791545868, 0.11599107086658478, 0.10960710793733597, 0.1748998910188675, 0.1050792932510376, 0.10292809456586838, 0.10173678398132324], [0.3505716025829315, 0.1275489181280136, 0.1068636104464531, 0.11791688948869705, 0.08221805095672607, 0.08941864967346191, 0.026470104232430458, 0.09899216890335083], [0.2940194606781006, 0.1027366891503334, 0.05599008500576019, 0.06998351216316223, 0.15121346712112427, 0.12174760550260544, 0.10801509022712708, 0.09629405289888382]], [[0.9951692223548889, 0.002026547910645604, 9.540694009047002e-05, 9.25063286558725e-05, 0.0007534131873399019, 0.001278612995520234, 0.00041227610199712217, 0.00017198013665620238], [0.9999657869338989, 3.4130986023228616e-05, 6.375640015932049e-10, 1.1413751345966394e-13, 3.963331399181591e-11, 2.9708195903310752e-09, 1.7215035086337593e-07, 1.3614166738395994e-10], [8.937740147985096e-08, 0.9999945163726807, 5.344889359548688e-06, 1.108604614358244e-11, 3.220885927675228e-16, 2.309338430119684e-13, 2.692882006272157e-08, 4.003072007208175e-08], [4.6410589260581503e-10, 6.080982529965695e-06, 0.9999897480010986, 4.1918960960174445e-06, 1.0310896234044797e-11, 2.169545589518536e-16, 1.7398584014612995e-15, 4.4154075951041705e-09], [9.078159231290517e-12, 8.227056866707064e-14, 1.5895795968390303e-06, 0.999990701675415, 7.751312296022661e-06, 5.559198500842966e-12, 1.3039792966805156e-16, 3.489176996273127e-16], [3.038883381045743e-11, 8.174410571485833e-16, 4.7954943103523454e-14, 1.9897629499610048e-06, 0.9999806880950928, 1.7362181097269058e-05, 2.330855126964071e-11, 2.5733198427275566e-17], [1.3183815150696887e-10, 5.527558619156103e-11, 5.216641399891965e-16, 4.039561111827961e-15, 1.589617386343889e-05, 0.9999492168426514, 3.4933000279124826e-05, 1.1902333285629396e-11], [7.828570014467573e-10, 2.9600923312500527e-07, 4.748558859492269e-13, 3.327455195954293e-18, 1.8959515388054533e-15, 1.0678545550035778e-06, 0.9999922513961792, 6.348809165501734e-06]], [[0.16371163725852966, 0.07074053585529327, 0.1188318207859993, 0.13657377660274506, 0.05904442444443703, 0.07557587325572968, 0.18393513560295105, 0.19158676266670227], [0.20708070695400238, 0.027622118592262268, 0.1287422925233841, 0.25060799717903137, 0.05981648713350296, 0.03734038770198822, 0.1721227467060089, 0.116667240858078], [0.08127498626708984, 0.16840940713882446, 0.2523925006389618, 0.04529916122555733, 0.10899639129638672, 0.17748844623565674, 0.08105434477329254, 0.08508472889661789], [0.028828253969550133, 0.01755635067820549, 0.22549191117286682, 0.07789500802755356, 0.03818601369857788, 0.02053098939359188, 0.5464265942573547, 0.04508478567004204], [0.12140766531229019, 0.040895987302064896, 0.0668291226029396, 0.45887893438339233, 0.01725468412041664, 0.04367418959736824, 0.1542677879333496, 0.09679166227579117], [0.1898784190416336, 0.03944547101855278, 0.1435360163450241, 0.22458863258361816, 0.08685067296028137, 0.03880539536476135, 0.1601909101009369, 0.11670445650815964], [0.08672530949115753, 0.14246827363967896, 0.13020585477352142, 0.07074400037527084, 0.07133978605270386, 0.1431322544813156, 0.23808811604976654, 0.11729647219181061], [0.2477109432220459, 0.23021773993968964, 0.10175629705190659, 0.020913776010274887, 0.128400981426239, 0.1149100735783577, 0.07506509870290756, 0.0810251533985138]]], [[[0.6431371569633484, 0.02960369735956192, 0.04501562938094139, 0.052825406193733215, 0.020357530564069748, 0.02840230241417885, 0.02331261709332466, 0.15734565258026123], [0.30145105719566345, 0.06780028343200684, 0.060273177921772, 0.020371977239847183, 0.029849372804164886, 0.05710066854953766, 0.024739861488342285, 0.43841353058815], [0.573728084564209, 0.07579103112220764, 0.006246716249734163, 0.03576367720961571, 0.013053908944129944, 0.07011112570762634, 0.03294999152421951, 0.19235548377037048], [0.5438792705535889, 0.038928743451833725, 0.07484051585197449, 0.007934252731502056, 0.03994721174240112, 0.0368041954934597, 0.03569972887635231, 0.22196611762046814], [0.3719380795955658, 0.10946551710367203, 0.04747605323791504, 0.03426653519272804, 0.08475535362958908, 0.11082834005355835, 0.024309197440743446, 0.21696095168590546], [0.39441680908203125, 0.056593745946884155, 0.06588114798069, 0.021951908245682716, 0.05108180269598961, 0.05895886570215225, 0.022999096661806107, 0.3281167149543762], [0.574826717376709, 0.04890809580683708, 0.121526800096035, 0.020284056663513184, 0.04986800253391266, 0.06136078014969826, 0.0027502633165568113, 0.12047528475522995], [0.23066160082817078, 0.12884408235549927, 0.05825383588671684, 0.10684237629175186, 0.08425743877887726, 0.12808893620967865, 0.051519498229026794, 0.21153227984905243]], [[0.500981867313385, 0.031843964010477066, 0.06615693867206573, 0.09866931289434433, 0.03938859701156616, 0.04091973602771759, 0.09171286970376968, 0.13032673299312592], [0.08411001414060593, 0.019148673862218857, 0.8713747262954712, 0.015769094228744507, 0.002070922404527664, 7.778139843139797e-05, 0.001831518835388124, 0.0056173005141317844], [0.3139338195323944, 0.002599449595436454, 0.040526390075683594, 0.6141990423202515, 0.025496862828731537, 0.00043934042332693934, 1.0931746146525256e-05, 0.0027942508459091187], [0.05363541468977928, 9.944056364474818e-05, 0.0011829541763290763, 0.07363731414079666, 0.8317529559135437, 0.03882429003715515, 0.0006434803945012391, 0.00022416288265958428], [0.16363805532455444, 4.7675479436293244e-05, 0.00016959292406681925, 0.0008342217188328505, 0.05495411530137062, 0.29973873496055603, 0.4798314869403839, 0.000786042190156877], [0.030372386798262596, 0.0001485456305090338, 0.00015329211601056159, 7.656672096345574e-06, 0.0010643408168107271, 0.010368713177740574, 0.9479308724403381, 0.009954183362424374], [0.008774956688284874, 0.00034303110442124307, 0.00031915123690851033, 1.3875479453417938e-05, 9.796296581043862e-06, 0.0002970997884403914, 0.012911181896924973, 0.9773310422897339], [0.8506269454956055, 0.00027060386491939425, 0.013405256904661655, 0.0029049506410956383, 0.00018449057824909687, 0.00014758006727788597, 0.004219078458845615, 0.12824121117591858]], [[0.05778992548584938, 0.12408425658941269, 0.1684514284133911, 0.2161552906036377, 0.1170535758137703, 0.07944487780332565, 0.16502264142036438, 0.07199809700250626], [0.03025595098733902, 0.0165033470839262, 0.677391529083252, 0.1705380380153656, 0.007682478986680508, 0.004973436705768108, 0.06092161312699318, 0.031733669340610504], [0.19268599152565002, 0.12533403933048248, 0.1320369988679886, 0.35195815563201904, 0.03116798959672451, 0.04117608442902565, 0.03319060057401657, 0.0924500972032547], [0.044654347002506256, 0.012471959926187992, 0.22473753988742828, 0.021504949778318405, 0.3911316692829132, 0.03472146391868591, 0.2300272285938263, 0.04075076803565025], [0.02852177619934082, 0.007668026722967625, 0.010478085838258266, 0.13716812431812286, 0.011414233595132828, 0.02572980523109436, 0.7337069511413574, 0.04531292989850044], [0.04613227769732475, 0.0053558615036308765, 0.07590202242136002, 0.08336540311574936, 0.015038866549730301, 0.019314823672175407, 0.6159305572509766, 0.13896022737026215], [0.07748417556285858, 0.02591301128268242, 0.04539012908935547, 0.00646625179797411, 0.026314258575439453, 0.06471690535545349, 0.11230014264583588, 0.6414151191711426], [0.05983777716755867, 0.0654459223151207, 0.05026770383119583, 0.0481158122420311, 0.01534183882176876, 0.058382485061883926, 0.1226072832942009, 0.5800012350082397]], [[0.1539982706308365, 0.06715008616447449, 0.04504949599504471, 0.2301914393901825, 0.07325337082147598, 0.04128532111644745, 0.0918695256114006, 0.2972024381160736], [0.012264525517821312, 0.01981150545179844, 0.11220182478427887, 0.5311335325241089, 0.13295932114124298, 0.051608458161354065, 0.03976500406861305, 0.1002558246254921], [0.2400362193584442, 0.015480350703001022, 0.04237845167517662, 0.27461549639701843, 0.10281791538000107, 0.12251289933919907, 0.07044833898544312, 0.13171038031578064], [0.05782876908779144, 0.004782774019986391, 0.009291835129261017, 0.05553751438856125, 0.2248019129037857, 0.18156389892101288, 0.23173658549785614, 0.23445682227611542], [0.03553738445043564, 0.0018293679459020495, 0.00330322771333158, 0.021931583061814308, 0.022883735597133636, 0.052924249321222305, 0.6142925024032593, 0.2472979575395584], [0.03463244065642357, 0.004512236453592777, 0.008735190145671368, 0.021399544551968575, 0.01726522669196129, 0.0271170474588871, 0.18419098854064941, 0.702147364616394], [0.22877022624015808, 0.004947625566273928, 0.010370494797825813, 0.013796194456517696, 0.012318744324147701, 0.013036878779530525, 0.0499199815094471, 0.6668398380279541], [0.9079981446266174, 0.006222869269549847, 0.0038526945281773806, 0.006272118538618088, 0.003369151381775737, 0.0052129910327494144, 0.007068920414894819, 0.06000319495797157]], [[0.4548899829387665, 0.08153469115495682, 0.04963233321905136, 0.23074482381343842, 0.0808224081993103, 0.04440828040242195, 0.033081602305173874, 0.024885866791009903], [0.7801846265792847, 0.05828610807657242, 0.054902583360672, 0.035229604691267014, 0.015167857520282269, 0.007871432229876518, 0.019468363374471664, 0.028889525681734085], [0.7390211224555969, 0.10096433758735657, 0.06064550206065178, 0.04297637194395065, 0.005547118838876486, 0.0033407814335078, 0.012795665301382542, 0.03470909222960472], [0.34146377444267273, 0.19059120118618011, 0.30442753434181213, 0.1003970131278038, 0.03044556826353073, 0.00612771837040782, 0.002676144242286682, 0.02387109026312828], [0.04000154510140419, 0.03233608603477478, 0.05759906768798828, 0.8450188040733337, 0.0074057262390851974, 0.008772817440330982, 0.0032672900706529617, 0.005598688032478094], [0.15314370393753052, 0.044181037694215775, 0.08232823014259338, 0.458717942237854, 0.1674405336380005, 0.03697581961750984, 0.030339261516928673, 0.02687348797917366], [0.3002634346485138, 0.010932516306638718, 0.015594919212162495, 0.16000661253929138, 0.35228389501571655, 0.07709917426109314, 0.042945828288793564, 0.04087361693382263], [0.7824585437774658, 0.006579467095434666, 0.0063854665495455265, 0.019565735012292862, 0.01601530611515045, 0.035904791206121445, 0.07986368238925934, 0.0532270185649395]], [[0.03988538309931755, 0.06377654522657394, 0.29308462142944336, 0.27152377367019653, 0.03464445471763611, 0.03403973951935768, 0.12104372680187225, 0.14200171828269958], [0.028987133875489235, 0.04110714793205261, 0.13873520493507385, 0.3544902503490448, 0.05437232926487923, 0.03801544010639191, 0.1162002682685852, 0.228092223405838], [0.150387704372406, 0.016815287992358208, 0.3831445574760437, 0.10413532704114914, 0.020348211750388145, 0.017987262457609177, 0.1576247662305832, 0.1495569497346878], [0.04363468289375305, 0.02981293387711048, 0.16110125184059143, 0.1632823646068573, 0.06825755536556244, 0.02453198842704296, 0.15039637684822083, 0.3589828610420227], [0.18892239034175873, 0.05613568425178528, 0.15231414139270782, 0.18000528216362, 0.032835040241479874, 0.047321923077106476, 0.15892475843429565, 0.18354082107543945], [0.1034751608967781, 0.05394970253109932, 0.2719336748123169, 0.2153657078742981, 0.024677565321326256, 0.03581538423895836, 0.1645701676607132, 0.13021260499954224], [0.2188313901424408, 0.04594819247722626, 0.3778497278690338, 0.09777118265628815, 0.023116759955883026, 0.044939424842596054, 0.08675670623779297, 0.10478658229112625], [0.5948511958122253, 0.05680905282497406, 0.05504021793603897, 0.011698584072291851, 0.010077598504722118, 0.07564248889684677, 0.035003162920475006, 0.16087771952152252]], [[0.3336029648780823, 0.0988679900765419, 0.059395018965005875, 0.0675240308046341, 0.09325560182332993, 0.1338498592376709, 0.058051999658346176, 0.15545259416103363], [0.4556104242801666, 0.13502632081508636, 0.021883005276322365, 0.004795240703970194, 0.058643124997615814, 0.1751938909292221, 0.0016914989100769162, 0.1471565216779709], [0.33368563652038574, 0.019193831831216812, 0.4631577730178833, 0.0009722155518829823, 0.006445258390158415, 0.043014757335186005, 0.0027416313532739878, 0.1307888627052307], [0.5934473872184753, 0.009094160050153732, 0.0011706758523359895, 0.23452012240886688, 0.007545966189354658, 0.024839451536536217, 0.012572734616696835, 0.11680953204631805], [0.2548929452896118, 0.026015812531113625, 0.005204975139349699, 0.0013321933802217245, 0.5995728373527527, 0.02904234081506729, 0.0005256657605059445, 0.08341329544782639], [0.38988932967185974, 0.2189832627773285, 0.031358376145362854, 0.01106280367821455, 0.07397589087486267, 0.15303735435009003, 0.001643978408537805, 0.12004898488521576], [0.46817103028297424, 0.014662100933492184, 0.0033869638573378325, 0.027950169518589973, 0.005329606123268604, 0.03696870803833008, 0.33127421140670776, 0.1122572049498558], [0.39422789216041565, 0.07731448858976364, 0.0645282194018364, 0.0766010656952858, 0.10802826285362244, 0.11471737176179886, 0.041387028992176056, 0.12319568544626236]], [[0.3209041655063629, 0.002201354131102562, 0.07833803445100784, 0.13653025031089783, 0.012468316592276096, 0.0018633451545611024, 0.0419028215110302, 0.4057917296886444], [0.4949871599674225, 0.005038308445364237, 0.06617014855146408, 0.06520774960517883, 0.010449782945215702, 0.003482639556750655, 0.04414452984929085, 0.31051966547966003], [0.4913330078125, 0.005312290042638779, 0.13157202303409576, 0.06340476870536804, 0.004762825556099415, 0.004112698137760162, 0.0817713662981987, 0.2177310734987259], [0.4668692648410797, 0.005615788046270609, 0.04730347916483879, 0.12333013862371445, 0.005432341247797012, 0.003537005977705121, 0.07083060592412949, 0.2770814299583435], [0.7183517813682556, 0.0032839507330209017, 0.05435984581708908, 0.05443371832370758, 0.0019671109039336443, 0.002725816098973155, 0.033489905297756195, 0.13138790428638458], [0.6835438013076782, 0.0035847164690494537, 0.06344631314277649, 0.056873101741075516, 0.0030616356525570154, 0.0019587369170039892, 0.029275720939040184, 0.15825599431991577], [0.6823638677597046, 0.002911235438659787, 0.08517103642225266, 0.06518419831991196, 0.016183018684387207, 0.00297811278142035, 0.02785443887114525, 0.1173541471362114], [0.014938629232347012, 0.4417511224746704, 0.0016398351872339845, 0.0008823275566101074, 0.00010276752436766401, 0.5390426516532898, 0.000764035212341696, 0.0008787104743532836]]], [[[0.10606124252080917, 0.010495192371308804, 0.015016856603324413, 0.04527737572789192, 0.01896866224706173, 0.009653775952756405, 0.007769069168716669, 0.7867578268051147], [0.06301195174455643, 0.08586722612380981, 0.01566808857023716, 0.01668630912899971, 0.006389327347278595, 0.0023303604684770107, 0.0006736459909006953, 0.8093730807304382], [0.12286089360713959, 0.16094745695590973, 0.037531912326812744, 0.01247094664722681, 0.0029730533715337515, 0.0013532508164644241, 0.004697219468653202, 0.6571652293205261], [0.03847004473209381, 0.389740526676178, 0.16732974350452423, 0.10739699006080627, 0.004081657622009516, 0.0018808661261573434, 0.0008444390259683132, 0.29025575518608093], [0.017024166882038116, 0.06536046415567398, 0.38762035965919495, 0.36023998260498047, 0.03238316997885704, 0.010242159478366375, 0.0007366401259787381, 0.12639300525188446], [0.008432457223534584, 0.0064523774199187756, 0.09030630439519882, 0.4013368487358093, 0.382735013961792, 0.026653816923499107, 0.0017582520376890898, 0.08232494443655014], [0.016522347927093506, 0.0013192584738135338, 0.014323864132165909, 0.23977483808994293, 0.5314959287643433, 0.05375625938177109, 0.012688612565398216, 0.1301189363002777], [0.05312345176935196, 0.01056875940412283, 0.01150909997522831, 0.018771491944789886, 0.011603792198002338, 0.0054782177321612835, 0.0064946869388222694, 0.8824505805969238]], [[0.04110550507903099, 0.08610278367996216, 0.15764084458351135, 0.4418419599533081, 0.058082710951566696, 0.03511444106698036, 0.15318964421749115, 0.026922181248664856], [0.031602222472429276, 0.04825981333851814, 0.027128364890813828, 0.021198049187660217, 0.004811186343431473, 0.0013574690092355013, 0.001184634049423039, 0.8644582033157349], [0.05035235360264778, 0.10731842368841171, 0.07321558892726898, 0.030829235911369324, 0.0057554589584469795, 0.0015561680775135756, 0.002614804310724139, 0.7283579707145691], [0.026152169331908226, 0.22934837639331818, 0.09466604888439178, 0.07011015713214874, 0.01709103211760521, 0.005061933305114508, 0.005940459202975035, 0.5516297817230225], [0.02636399306356907, 0.1007414311170578, 0.22343218326568604, 0.42307642102241516, 0.04366064444184303, 0.011198158375918865, 0.005450168624520302, 0.16607697308063507], [0.007575593888759613, 0.030007481575012207, 0.19964268803596497, 0.6175491809844971, 0.08813828229904175, 0.008181110955774784, 0.005348108243197203, 0.04355752840638161], [0.00976988673210144, 0.02599778212606907, 0.1167154312133789, 0.536361813545227, 0.1581471562385559, 0.015324223786592484, 0.01840103231370449, 0.11928270757198334], [0.11968649923801422, 0.018347278237342834, 0.02319665439426899, 0.02969202771782875, 0.01658552698791027, 0.011951079592108727, 0.020614106208086014, 0.7599267363548279]], [[0.08370660245418549, 0.08991118520498276, 0.25887519121170044, 0.33058157563209534, 0.062077946960926056, 0.06219591572880745, 0.08623603731393814, 0.026415569707751274], [0.23074394464492798, 0.0029176638927310705, 8.23178379505407e-06, 2.8480573632805317e-07, 4.298299700167263e-06, 4.299983265809715e-05, 6.595782178919762e-05, 0.7662165760993958], [0.02112608030438423, 0.9526576399803162, 0.0012485380284488201, 4.630158400686923e-06, 1.8629016551585664e-08, 2.336150970450035e-07, 1.9011357608178514e-06, 0.024960925802588463], [0.0036184429191052914, 0.001661973656155169, 0.9783390760421753, 0.00889377947896719, 6.933906206540996e-06, 9.227603925410222e-08, 1.5279644571819517e-07, 0.0074796052649617195], [0.0005170017248019576, 1.889430905066547e-06, 0.0014685195637866855, 0.9824841618537903, 0.0039269207045435905, 1.2018552297377028e-05, 1.1536345212448396e-09, 0.01158948801457882], [0.00012389494804665446, 6.175376654482534e-08, 1.586926288155155e-07, 0.0009102972107939422, 0.9926704168319702, 0.003765283850952983, 5.313999054123997e-07, 0.0025293822400271893], [0.0024125268682837486, 1.817566044337582e-05, 2.027574552698752e-08, 7.224657110782573e-06, 0.025971168652176857, 0.9606896042823792, 0.001224436447955668, 0.009676842950284481], [0.4722415506839752, 0.026812734082341194, 0.010067163966596127, 0.008185469545423985, 0.0030630887486040592, 0.012242134660482407, 0.007692067883908749, 0.45969581604003906]], [[0.032778192311525345, 0.05423920974135399, 0.11425259709358215, 0.03556351363658905, 0.016823187470436096, 0.017772868275642395, 0.03123023733496666, 0.6973401308059692], [0.05793100222945213, 0.12700891494750977, 0.2175540179014206, 0.11056747287511826, 0.0580391101539135, 0.09232471883296967, 0.1351197361946106, 0.20145493745803833], [0.0815344750881195, 0.11726627498865128, 0.15664279460906982, 0.139619842171669, 0.06756415218114853, 0.0843498483300209, 0.0653298869729042, 0.28769269585609436], [0.052559372037649155, 0.18440958857536316, 0.26974883675575256, 0.11122175306081772, 0.12308912724256516, 0.09020495414733887, 0.06778289377689362, 0.10098347067832947], [0.05470304563641548, 0.17826539278030396, 0.2213873565196991, 0.1092623621225357, 0.080050989985466, 0.07193484157323837, 0.07528074085712433, 0.20911526679992676], [0.018117859959602356, 0.2782020568847656, 0.3318392038345337, 0.17124450206756592, 0.03899800777435303, 0.054510027170181274, 0.047907814383506775, 0.05918057635426521], [0.032804716378450394, 0.15058431029319763, 0.18126212060451508, 0.2930283546447754, 0.04809379205107689, 0.0508563406765461, 0.03285098075866699, 0.2105194479227066], [0.04379541426897049, 0.006982361897826195, 0.015177514404058456, 0.007741878740489483, 0.0026079625822603703, 0.0040786294266581535, 0.006474707741290331, 0.9131416082382202]], [[0.11791696399450302, 0.07829169183969498, 0.07415740936994553, 0.21433359384536743, 0.08799278736114502, 0.1072947308421135, 0.09250029921531677, 0.22751258313655853], [0.014547553844749928, 0.03679736331105232, 0.27258944511413574, 0.2423957884311676, 0.1626482456922531, 0.06141749769449234, 0.13431142270565033, 0.07529260963201523], [0.03269044682383537, 0.02331908419728279, 0.0659121423959732, 0.12877197563648224, 0.16509731113910675, 0.23660840094089508, 0.1224425733089447, 0.22515814006328583], [0.010920536704361439, 0.020270299166440964, 0.02815008908510208, 0.06814009696245193, 0.12709738314151764, 0.2772912085056305, 0.3657412528991699, 0.10238906741142273], [0.006784772966057062, 0.00333553203381598, 0.01932501420378685, 0.023035909980535507, 0.03245735168457031, 0.07905880361795425, 0.7264304757118225, 0.10957203060388565], [0.026402099058032036, 0.007267445791512728, 0.023671722039580345, 0.028547490015625954, 0.05324629321694374, 0.08192834258079529, 0.4558229446411133, 0.32311373949050903], [0.03747862949967384, 0.003998033236712217, 0.003707676427438855, 0.0029295235872268677, 0.005959651432931423, 0.018003232777118683, 0.01314867939800024, 0.9147745370864868], [0.0934610664844513, 0.0072747645899653435, 0.010752215050160885, 0.011075904592871666, 0.007769182324409485, 0.00847357977181673, 0.007963999174535275, 0.8532293438911438]], [[0.11347061395645142, 0.20827463269233704, 0.023464152589440346, 0.07444395869970322, 0.11421507596969604, 0.19809764623641968, 0.11578202247619629, 0.15225191414356232], [0.04265863448381424, 0.13932716846466064, 0.018568100407719612, 0.0017981411656364799, 0.004162159748375416, 0.0017346093663945794, 0.012458764016628265, 0.7792924046516418], [0.030270744115114212, 0.21135883033275604, 0.04123122990131378, 0.0020314219873398542, 0.00024197743914555758, 0.0001053960804711096, 0.001376730971969664, 0.713383674621582], [0.04446389153599739, 0.047825053334236145, 0.06897586584091187, 0.11464648693799973, 0.002496211091056466, 0.0007079484639689326, 0.00019504058582242578, 0.7206895351409912], [0.03574545308947563, 0.003577273804694414, 0.004341269377619028, 0.5332550406455994, 0.020451951771974564, 0.006782108917832375, 5.603107638307847e-05, 0.39579087495803833], [0.027021124958992004, 0.00024094576656352729, 0.0005151212681084871, 0.01798233762383461, 0.7549890875816345, 0.035735659301280975, 0.00408839201554656, 0.15942738950252533], [0.018725978210568428, 0.0006752116023562849, 9.621700155548751e-05, 0.0012278752401471138, 0.13113926351070404, 0.3437083065509796, 0.0584062822163105, 0.44602087140083313], [0.16789168119430542, 0.016237638890743256, 0.030547773465514183, 0.009887549094855785, 0.014454521238803864, 0.011994884349405766, 0.038494888693094254, 0.7104911208152771]], [[0.06862577050924301, 0.005363201256841421, 0.006610412150621414, 0.008115235716104507, 0.0020709000527858734, 0.0030447097960859537, 0.0017304139910265803, 0.9044393301010132], [0.04420571029186249, 0.03896846994757652, 0.510994553565979, 0.03983413055539131, 0.0013461402850225568, 0.00020954628416802734, 0.0008632239769212902, 0.3635782301425934], [0.07651403546333313, 0.007337134797126055, 0.03379936143755913, 0.08669651299715042, 0.018886975944042206, 0.0017822557128965855, 2.9605218514916487e-05, 0.774954080581665], [0.035672664642333984, 0.0010253851069137454, 0.0027874878142029047, 0.0758691057562828, 0.19449959695339203, 0.04402991011738777, 0.0005042347474955022, 0.6456116437911987], [0.02326977625489235, 0.0004712361260317266, 0.00031329752528108656, 0.011651882901787758, 0.054387371987104416, 0.292786568403244, 0.1966399848461151, 0.4204799234867096], [0.04217778518795967, 0.00044706513290293515, 0.0005557520780712366, 0.0008757991017773747, 0.0031618920620530844, 0.027584878727793694, 0.44556882977485657, 0.47962793707847595], [0.06169861555099487, 0.0035932185128331184, 0.0018393928185105324, 0.0012452008668333292, 0.0002733504807110876, 0.00909469835460186, 0.04480975493788719, 0.8774457573890686], [0.1758284568786621, 0.02480677329003811, 0.042245153337717056, 0.02035791613161564, 0.009400605224072933, 0.010595720261335373, 0.03524882346391678, 0.6815165281295776]], [[0.0073824492283165455, 0.07271701097488403, 0.004917855840176344, 0.047060173004865646, 0.09227784723043442, 0.29843756556510925, 0.0003830594359897077, 0.4768241047859192], [2.2281250494415872e-05, 0.0036847256124019623, 0.9959230422973633, 4.3340307456674054e-05, 3.116056035423753e-08, 1.2423564399455245e-09, 6.090395743285626e-08, 0.00032645929604768753], [1.5580209264953737e-06, 4.307139533921145e-07, 0.0020067135337740183, 0.9977709054946899, 0.00011877965880557895, 4.8638404415157765e-09, 6.681143810936818e-13, 0.00010160673264181241], [3.3381686534994515e-06, 6.229959659265205e-09, 4.670843978260564e-08, 0.0007392841507680714, 0.9933637380599976, 0.0001884860685095191, 8.100327630877757e-10, 0.005705185700207949], [1.099065457310644e-06, 8.056635891762198e-08, 1.8593978787229126e-11, 6.4179430658839465e-09, 0.0002887024311348796, 0.9992296695709229, 0.00011010693560820073, 0.00037035776767879725], [5.387634882936254e-05, 5.128430302647757e-07, 4.0308938409339135e-09, 9.533170780562372e-11, 1.2353599743164523e-07, 0.0013835298595950007, 0.9984727501869202, 8.921378321247175e-05], [1.077128644055847e-07, 1.2973553786821412e-08, 2.5729265940022117e-10, 2.3445199774652092e-12, 1.5707663576954023e-13, 6.785070838510876e-10, 1.5574285328057158e-07, 0.9999997615814209], [0.10205423086881638, 0.0013586780987679958, 0.0007825593347661197, 0.0013006961671635509, 0.000872114731464535, 0.0010833581909537315, 0.00024346062855329365, 0.8923048377037048]]], [[[0.0538894459605217, 0.0091758007183671, 0.03751397877931595, 0.02223273180425167, 0.017144953832030296, 0.002526081632822752, 0.009239177219569683, 0.8482778072357178], [0.007870957255363464, 0.011425056494772434, 0.05558177828788757, 0.014757497236132622, 0.002784313401207328, 0.0001578184455865994, 0.00047377313603647053, 0.9069488048553467], [0.028804969042539597, 0.004350847098976374, 0.04086718335747719, 0.3568415939807892, 0.2236853688955307, 0.006547726225107908, 0.0019224804127588868, 0.33697977662086487], [0.020249566063284874, 0.005255912896245718, 0.017381612211465836, 0.0745452344417572, 0.10687978565692902, 0.021304970607161522, 0.011207706294953823, 0.743175208568573], [0.0120538379997015, 0.002262132242321968, 0.010443238541483879, 0.012186883948743343, 0.017690885812044144, 0.017471320927143097, 0.03552224859595299, 0.8923695087432861], [0.009007374756038189, 0.0009258962236344814, 0.0018665725365281105, 0.0014337464235723019, 0.001926382421515882, 0.002303281333297491, 0.02990765869617462, 0.9526290893554688], [0.016989953815937042, 0.0037765761371701956, 0.011267540045082569, 0.012704125605523586, 0.005043343175202608, 0.006171817891299725, 0.026183215901255608, 0.9178634285926819], [0.16605064272880554, 0.10278621315956116, 0.1323234736919403, 0.1118900403380394, 0.08760777115821838, 0.06259200721979141, 0.11752105504274368, 0.2192288488149643]], [[0.032775070518255234, 0.021655624732375145, 0.17217567563056946, 0.025147845968604088, 0.02843387983739376, 0.013306185603141785, 0.09180823713541031, 0.6146974563598633], [0.009018806740641594, 0.04735708609223366, 0.002245835494250059, 0.0011160647263750434, 0.001264180988073349, 0.0010241448180750012, 0.00044664283632300794, 0.9375272989273071], [0.011086487211287022, 0.003100736066699028, 0.05581245571374893, 0.002295462880283594, 0.0013973381137475371, 0.0003937535220757127, 0.0009295242489315569, 0.924984335899353], [0.004778353497385979, 0.0022922998759895563, 0.0021155490539968014, 0.038526151329278946, 0.002983509097248316, 0.000894938362762332, 0.00010804353223647922, 0.9483010768890381], [0.012477628886699677, 0.002899151062592864, 0.0016244938597083092, 0.005163812078535557, 0.059751104563474655, 0.003924403339624405, 0.0001238738768734038, 0.914035439491272], [0.005314614158123732, 0.001089608995243907, 0.0006060193409211934, 0.0009882673621177673, 0.004259562585502863, 0.09156433492898941, 0.0009663726668804884, 0.8952112197875977], [0.014555796049535275, 0.0009304232080467045, 0.011806132271885872, 0.0003666171105578542, 0.0007997446227818727, 0.0015778971137478948, 0.02730450965464115, 0.9426589608192444], [0.0818118304014206, 0.05079646036028862, 0.12312038242816925, 0.07279936969280243, 0.03192101791501045, 0.031528688967227936, 0.15901023149490356, 0.44901204109191895]], [[0.08888829499483109, 0.08796532452106476, 0.2144324779510498, 0.08340385556221008, 0.02619745582342148, 0.019625358283519745, 0.1336677521467209, 0.34581947326660156], [0.04361807554960251, 0.06582440435886383, 0.0603485107421875, 0.06327874958515167, 0.02727426029741764, 0.03648895397782326, 0.0331631563603878, 0.6700039505958557], [0.07090947031974792, 0.022326065227389336, 0.04707852005958557, 0.07882088422775269, 0.07220346480607986, 0.0568305142223835, 0.079921193420887, 0.5719098448753357], [0.0406174436211586, 0.009948878549039364, 0.03396134451031685, 0.03987959772348404, 0.01615440472960472, 0.024703234434127808, 0.09143571555614471, 0.7432994246482849], [0.019313164055347443, 0.002050909213721752, 0.014938673004508018, 0.007592751644551754, 0.004456005524843931, 0.008453593589365482, 0.06486041098833084, 0.8783345818519592], [0.010120092891156673, 0.0011389367282390594, 0.002317564096301794, 0.0009463743772357702, 0.00045869723544456065, 0.002047792077064514, 0.008528383448719978, 0.9744421243667603], [0.03655622899532318, 0.00791226327419281, 0.0290931798517704, 0.009811392053961754, 0.004905272275209427, 0.010593388229608536, 0.0335368737578392, 0.8675914406776428], [0.07271566987037659, 0.14909225702285767, 0.17154069244861603, 0.12839515507221222, 0.09543238580226898, 0.10299370437860489, 0.17970721423625946, 0.1001228392124176]], [[0.04356290400028229, 0.2602311968803406, 0.25107014179229736, 0.11244367808103561, 0.10837285965681076, 0.03480160981416702, 0.12288853526115417, 0.06662905961275101], [0.005150396842509508, 0.016830023378133774, 0.008896308951079845, 0.003500281134620309, 0.0006597312167286873, 0.0006422551232390106, 0.006007764022797346, 0.9583132266998291], [0.02284419536590576, 0.2065122127532959, 0.10357076674699783, 0.08894626796245575, 0.06485887616872787, 0.014795243740081787, 0.04827957600355148, 0.4501928389072418], [0.020762713626027107, 0.08406441658735275, 0.03549812734127045, 0.04044942557811737, 0.017174702137708664, 0.006772455293685198, 0.02016029879450798, 0.7751178741455078], [0.006645290181040764, 0.054102834314107895, 0.042155005037784576, 0.00877510104328394, 0.004558151587843895, 0.002206838456913829, 0.006994469556957483, 0.8745622634887695], [0.005181600805372, 0.026808980852365494, 0.052248138934373856, 0.008921739645302296, 0.013154491782188416, 0.006288738455623388, 0.0170398261398077, 0.8703565001487732], [0.025646300986409187, 0.07839087396860123, 0.2251834124326706, 0.0913703516125679, 0.22372858226299286, 0.09508196264505386, 0.06117381528019905, 0.19942478835582733], [0.059401433914899826, 0.16487909853458405, 0.18630963563919067, 0.14696615934371948, 0.07001613080501556, 0.06632296741008759, 0.23262718319892883, 0.0734773725271225]], [[0.0705314576625824, 0.1170911192893982, 0.15623661875724792, 0.2483266144990921, 0.050915978848934174, 0.035169631242752075, 0.09095389395952225, 0.2307746410369873], [0.011716673150658607, 0.15682043135166168, 0.004925903864204884, 0.002052800729870796, 0.0012256130576133728, 0.0014004958793520927, 0.00032192518119700253, 0.8215361833572388], [0.012342949397861958, 0.0018456827383488417, 0.06312888115644455, 0.007140757981687784, 0.0004997216747142375, 0.0006497559370473027, 0.00019206097931601107, 0.9142001271247864], [0.005407362710684538, 0.001112712430767715, 0.0012800813419744372, 0.05822223052382469, 0.0015681700315326452, 0.0011510212207213044, 1.0731975635280833e-05, 0.9312475323677063], [0.004143973346799612, 0.002384465653449297, 0.0004469464474823326, 0.0038741605821996927, 0.021609093993902206, 0.003179842373356223, 2.497790592315141e-05, 0.9643365144729614], [0.006758329924196005, 0.0020751366391777992, 0.0009799053659662604, 0.002381294034421444, 0.0028562231454998255, 0.033330194652080536, 0.00034491269616410136, 0.9512739777565002], [0.01718956232070923, 0.002651524031534791, 0.012397607788443565, 0.0004343980981502682, 0.0006814473890699446, 0.0026834344025701284, 0.03635000064969063, 0.9276121258735657], [0.0863649919629097, 0.09234365820884705, 0.11329882591962814, 0.07483670115470886, 0.05942080169916153, 0.04067175090312958, 0.13731011748313904, 0.39575305581092834]], [[0.05638232082128525, 0.145191490650177, 0.07042450457811356, 0.050717271864414215, 0.10500024259090424, 0.05988515168428421, 0.1350528597831726, 0.3773461878299713], [0.0246601402759552, 0.10503558069467545, 0.01879347488284111, 0.0009364107390865684, 0.004278099164366722, 0.0031976033933460712, 0.0069122761487960815, 0.8361865282058716], [0.04558670520782471, 0.024182695895433426, 0.047242797911167145, 0.0068114944733679295, 0.006565469782799482, 0.0058539691381156445, 0.007120069116353989, 0.8566368818283081], [0.0365908108651638, 0.014242365024983883, 0.015522370114922523, 0.0797523632645607, 0.0329858772456646, 0.008708583191037178, 0.01154535822570324, 0.8006523251533508], [0.03777680546045303, 0.022959301248192787, 0.0076126656495034695, 0.008607191033661366, 0.08779966086149216, 0.013130590319633484, 0.016374655067920685, 0.8057392239570618], [0.030214503407478333, 0.040573347359895706, 0.00793131347745657, 0.0031181389931589365, 0.018815847113728523, 0.13661885261535645, 0.028238261118531227, 0.7344897985458374], [0.030430901795625687, 0.01039101928472519, 0.01863277330994606, 0.001906887860968709, 0.007619953248649836, 0.02001740224659443, 0.01916651241481304, 0.8918344974517822], [0.09614177793264389, 0.07074282318353653, 0.15469200909137726, 0.06661581248044968, 0.05422162264585495, 0.057817243039608, 0.32341232895851135, 0.17635641992092133]], [[0.10378742963075638, 0.17462630569934845, 0.14626725018024445, 0.09842870384454727, 0.06481163203716278, 0.0671103224158287, 0.11823830753564835, 0.22672998905181885], [0.00661758566275239, 0.006636017933487892, 0.00658799335360527, 0.0009640392381697893, 0.00047262708540074527, 0.00027115867123939097, 0.0020148467738181353, 0.9764357209205627], [0.06677669286727905, 0.04249782860279083, 0.04193507134914398, 0.05378612503409386, 0.02997303009033203, 0.011249376460909843, 0.0422026701271534, 0.7115791440010071], [0.007053652312606573, 0.008971772156655788, 0.015473340637981892, 0.004257764667272568, 0.005912225693464279, 0.0024314906913787127, 0.006588542368263006, 0.9493112564086914], [0.003733596997335553, 0.0015166719676926732, 0.003959363326430321, 0.0009258665377274156, 0.0003701428940985352, 0.00013346878404263407, 0.0012973130214959383, 0.9880635142326355], [0.005838322918862104, 0.00236900569871068, 0.005535642150789499, 0.0024917814880609512, 0.0013003258500248194, 0.00042044685687869787, 0.001070244936272502, 0.9809742569923401], [0.06724529713392258, 0.03818664327263832, 0.08918628096580505, 0.10068327933549881, 0.08426707237958908, 0.02691284753382206, 0.03615032136440277, 0.557368278503418], [0.0853692814707756, 0.11238318681716919, 0.13359428942203522, 0.1113002821803093, 0.12717638909816742, 0.10703121870756149, 0.23101086914539337, 0.0921345055103302]], [[0.13238407671451569, 0.04668563976883888, 0.2732125520706177, 0.0315437987446785, 0.056661590933799744, 0.018761396408081055, 0.18065501749515533, 0.2600959241390228], [0.019243894144892693, 0.015598228201270103, 0.005462923087179661, 0.0010100394720211625, 0.001330530853010714, 0.0005595558322966099, 0.010071683675050735, 0.9467230439186096], [0.04841725528240204, 0.507595419883728, 0.12575021386146545, 0.00965381320565939, 0.021530812606215477, 0.01375170424580574, 0.018785294145345688, 0.25451549887657166], [0.018315499648451805, 0.17445388436317444, 0.22288523614406586, 0.023054225370287895, 0.014216233976185322, 0.003948274999856949, 0.005325875710695982, 0.5378007888793945], [0.031790558248758316, 0.01408568024635315, 0.09022916108369827, 0.034254755824804306, 0.03305622562766075, 0.015518889762461185, 0.0060503208078444, 0.7750144004821777], [0.007645707111805677, 0.001474821474403143, 0.004065054468810558, 0.003812337527051568, 0.0782899484038353, 0.013391181826591492, 0.018724359571933746, 0.8725966215133667], [0.056291237473487854, 0.020333880558609962, 0.043789517134428024, 0.019843528047204018, 0.2752552926540375, 0.26644155383110046, 0.01941615343093872, 0.2986288368701935], [0.12601391971111298, 0.13323377072811127, 0.1651245504617691, 0.07071161270141602, 0.10552214086055756, 0.08600471168756485, 0.20174063742160797, 0.11164873838424683]]]], \"left_text\": [\"[CLS]\", \"the\", \"cat\", \"sat\", \"on\", \"the\", \"mat\", \"[SEP]\"], \"right_text\": [\"[CLS]\", \"the\", \"cat\", \"sat\", \"on\", \"the\", \"mat\", \"[SEP]\"]}], \"default_filter\": \"0\", \"root_div_id\": \"bertviz-34a0aebab7ab485b88ba1c98504a91a3\", \"layer\": null, \"heads\": null, \"include_layers\": [0, 1, 2, 3]} is a template marker that is replaced by actual params.\n    const TEXT_SIZE = 15;\n    const BOXWIDTH = 110;\n    const BOXHEIGHT = 22.5;\n    const MATRIX_WIDTH = 115;\n    const CHECKBOX_SIZE = 20;\n    const TEXT_TOP = 30;\n\n    console.log(\"d3 version\", d3.version)\n    let headColors;\n    try {\n        headColors = d3.scaleOrdinal(d3.schemeCategory10);\n    } catch (err) {\n        console.log('Older d3 version')\n        headColors = d3.scale.category10();\n    }\n    let config = {};\n    initialize();\n    renderVis();\n\n    function initialize() {\n        config.attention = params['attention'];\n        config.filter = params['default_filter'];\n        config.rootDivId = params['root_div_id'];\n        config.nLayers = config.attention[config.filter]['attn'].length;\n        config.nHeads = config.attention[config.filter]['attn'][0].length;\n        config.layers = params['include_layers']\n\n        if (params['heads']) {\n            config.headVis = new Array(config.nHeads).fill(false);\n            params['heads'].forEach(x => config.headVis[x] = true);\n        } else {\n            config.headVis = new Array(config.nHeads).fill(true);\n        }\n        config.initialTextLength = config.attention[config.filter].right_text.length;\n        config.layer_seq = (params['layer'] == null ? 0 : config.layers.findIndex(layer => params['layer'] === layer));\n        config.layer = config.layers[config.layer_seq]\n\n        let layerEl = $(`#${config.rootDivId} #layer`);\n        for (const layer of config.layers) {\n            layerEl.append($(\"<option />\").val(layer).text(layer));\n        }\n        layerEl.val(config.layer).change();\n        layerEl.on('change', function (e) {\n            config.layer = +e.currentTarget.value;\n            config.layer_seq = config.layers.findIndex(layer => config.layer === layer);\n            renderVis();\n        });\n\n        $(`#${config.rootDivId} #filter`).on('change', function (e) {\n            config.filter = e.currentTarget.value;\n            renderVis();\n        });\n    }\n\n    function renderVis() {\n\n        // Load parameters\n        const attnData = config.attention[config.filter];\n        const leftText = attnData.left_text;\n        const rightText = attnData.right_text;\n\n        // Select attention for given layer\n        const layerAttention = attnData.attn[config.layer_seq];\n\n        // Clear vis\n        $(`#${config.rootDivId} #vis`).empty();\n\n        // Determine size of visualization\n        const height = Math.max(leftText.length, rightText.length) * BOXHEIGHT + TEXT_TOP;\n        const svg = d3.select(`#${config.rootDivId} #vis`)\n            .append('svg')\n            .attr(\"width\", \"100%\")\n            .attr(\"height\", height + \"px\");\n\n        // Display tokens on left and right side of visualization\n        renderText(svg, leftText, true, layerAttention, 0);\n        renderText(svg, rightText, false, layerAttention, MATRIX_WIDTH + BOXWIDTH);\n\n        // Render attention arcs\n        renderAttention(svg, layerAttention);\n\n        // Draw squares at top of visualization, one for each head\n        drawCheckboxes(0, svg, layerAttention);\n    }\n\n    function renderText(svg, text, isLeft, attention, leftPos) {\n\n        const textContainer = svg.append(\"svg:g\")\n            .attr(\"id\", isLeft ? \"left\" : \"right\");\n\n        // Add attention highlights superimposed over words\n        textContainer.append(\"g\")\n            .classed(\"attentionBoxes\", true)\n            .selectAll(\"g\")\n            .data(attention)\n            .enter()\n            .append(\"g\")\n            .attr(\"head-index\", (d, i) => i)\n            .selectAll(\"rect\")\n            .data(d => isLeft ? d : transpose(d)) // if right text, transpose attention to get right-to-left weights\n            .enter()\n            .append(\"rect\")\n            .attr(\"x\", function () {\n                var headIndex = +this.parentNode.getAttribute(\"head-index\");\n                return leftPos + boxOffsets(headIndex);\n            })\n            .attr(\"y\", (+1) * BOXHEIGHT)\n            .attr(\"width\", BOXWIDTH / activeHeads())\n            .attr(\"height\", BOXHEIGHT)\n            .attr(\"fill\", function () {\n                return headColors(+this.parentNode.getAttribute(\"head-index\"))\n            })\n            .style(\"opacity\", 0.0);\n\n        const tokenContainer = textContainer.append(\"g\").selectAll(\"g\")\n            .data(text)\n            .enter()\n            .append(\"g\");\n\n        // Add gray background that appears when hovering over text\n        tokenContainer.append(\"rect\")\n            .classed(\"background\", true)\n            .style(\"opacity\", 0.0)\n            .attr(\"fill\", \"lightgray\")\n            .attr(\"x\", leftPos)\n            .attr(\"y\", (d, i) => TEXT_TOP + i * BOXHEIGHT)\n            .attr(\"width\", BOXWIDTH)\n            .attr(\"height\", BOXHEIGHT);\n\n        // Add token text\n        const textEl = tokenContainer.append(\"text\")\n            .text(d => d)\n            .attr(\"font-size\", TEXT_SIZE + \"px\")\n            .style(\"cursor\", \"default\")\n            .style(\"-webkit-user-select\", \"none\")\n            .attr(\"x\", leftPos)\n            .attr(\"y\", (d, i) => TEXT_TOP + i * BOXHEIGHT);\n\n        if (isLeft) {\n            textEl.style(\"text-anchor\", \"end\")\n                .attr(\"dx\", BOXWIDTH - 0.5 * TEXT_SIZE)\n                .attr(\"dy\", TEXT_SIZE);\n        } else {\n            textEl.style(\"text-anchor\", \"start\")\n                .attr(\"dx\", +0.5 * TEXT_SIZE)\n                .attr(\"dy\", TEXT_SIZE);\n        }\n\n        tokenContainer.on(\"mouseover\", function (d, index) {\n\n            // Show gray background for moused-over token\n            textContainer.selectAll(\".background\")\n                .style(\"opacity\", (d, i) => i === index ? 1.0 : 0.0)\n\n            // Reset visibility attribute for any previously highlighted attention arcs\n            svg.select(\"#attention\")\n                .selectAll(\"line[visibility='visible']\")\n                .attr(\"visibility\", null)\n\n            // Hide group containing attention arcs\n            svg.select(\"#attention\").attr(\"visibility\", \"hidden\");\n\n            // Set to visible appropriate attention arcs to be highlighted\n            if (isLeft) {\n                svg.select(\"#attention\").selectAll(\"line[left-token-index='\" + index + \"']\").attr(\"visibility\", \"visible\");\n            } else {\n                svg.select(\"#attention\").selectAll(\"line[right-token-index='\" + index + \"']\").attr(\"visibility\", \"visible\");\n            }\n\n            // Update color boxes superimposed over tokens\n            const id = isLeft ? \"right\" : \"left\";\n            const leftPos = isLeft ? MATRIX_WIDTH + BOXWIDTH : 0;\n            svg.select(\"#\" + id)\n                .selectAll(\".attentionBoxes\")\n                .selectAll(\"g\")\n                .attr(\"head-index\", (d, i) => i)\n                .selectAll(\"rect\")\n                .attr(\"x\", function () {\n                    const headIndex = +this.parentNode.getAttribute(\"head-index\");\n                    return leftPos + boxOffsets(headIndex);\n                })\n                .attr(\"y\", (d, i) => TEXT_TOP + i * BOXHEIGHT)\n                .attr(\"width\", BOXWIDTH / activeHeads())\n                .attr(\"height\", BOXHEIGHT)\n                .style(\"opacity\", function (d) {\n                    const headIndex = +this.parentNode.getAttribute(\"head-index\");\n                    if (config.headVis[headIndex])\n                        if (d) {\n                            return d[index];\n                        } else {\n                            return 0.0;\n                        }\n                    else\n                        return 0.0;\n                });\n        });\n\n        textContainer.on(\"mouseleave\", function () {\n\n            // Unhighlight selected token\n            d3.select(this).selectAll(\".background\")\n                .style(\"opacity\", 0.0);\n\n            // Reset visibility attributes for previously selected lines\n            svg.select(\"#attention\")\n                .selectAll(\"line[visibility='visible']\")\n                .attr(\"visibility\", null) ;\n            svg.select(\"#attention\").attr(\"visibility\", \"visible\");\n\n            // Reset highlights superimposed over tokens\n            svg.selectAll(\".attentionBoxes\")\n                .selectAll(\"g\")\n                .selectAll(\"rect\")\n                .style(\"opacity\", 0.0);\n        });\n    }\n\n    function renderAttention(svg, attention) {\n\n        // Remove previous dom elements\n        svg.select(\"#attention\").remove();\n\n        // Add new elements\n        svg.append(\"g\")\n            .attr(\"id\", \"attention\") // Container for all attention arcs\n            .selectAll(\".headAttention\")\n            .data(attention)\n            .enter()\n            .append(\"g\")\n            .classed(\"headAttention\", true) // Group attention arcs by head\n            .attr(\"head-index\", (d, i) => i)\n            .selectAll(\".tokenAttention\")\n            .data(d => d)\n            .enter()\n            .append(\"g\")\n            .classed(\"tokenAttention\", true) // Group attention arcs by left token\n            .attr(\"left-token-index\", (d, i) => i)\n            .selectAll(\"line\")\n            .data(d => d)\n            .enter()\n            .append(\"line\")\n            .attr(\"x1\", BOXWIDTH)\n            .attr(\"y1\", function () {\n                const leftTokenIndex = +this.parentNode.getAttribute(\"left-token-index\")\n                return TEXT_TOP + leftTokenIndex * BOXHEIGHT + (BOXHEIGHT / 2)\n            })\n            .attr(\"x2\", BOXWIDTH + MATRIX_WIDTH)\n            .attr(\"y2\", (d, rightTokenIndex) => TEXT_TOP + rightTokenIndex * BOXHEIGHT + (BOXHEIGHT / 2))\n            .attr(\"stroke-width\", 2)\n            .attr(\"stroke\", function () {\n                const headIndex = +this.parentNode.parentNode.getAttribute(\"head-index\");\n                return headColors(headIndex)\n            })\n            .attr(\"left-token-index\", function () {\n                return +this.parentNode.getAttribute(\"left-token-index\")\n            })\n            .attr(\"right-token-index\", (d, i) => i)\n        ;\n        updateAttention(svg)\n    }\n\n    function updateAttention(svg) {\n        svg.select(\"#attention\")\n            .selectAll(\"line\")\n            .attr(\"stroke-opacity\", function (d) {\n                const headIndex = +this.parentNode.parentNode.getAttribute(\"head-index\");\n                // If head is selected\n                if (config.headVis[headIndex]) {\n                    // Set opacity to attention weight divided by number of active heads\n                    return d / activeHeads()\n                } else {\n                    return 0.0;\n                }\n            })\n    }\n\n    function boxOffsets(i) {\n        const numHeadsAbove = config.headVis.reduce(\n            function (acc, val, cur) {\n                return val && cur < i ? acc + 1 : acc;\n            }, 0);\n        return numHeadsAbove * (BOXWIDTH / activeHeads());\n    }\n\n    function activeHeads() {\n        return config.headVis.reduce(function (acc, val) {\n            return val ? acc + 1 : acc;\n        }, 0);\n    }\n\n    function drawCheckboxes(top, svg) {\n        const checkboxContainer = svg.append(\"g\");\n        const checkbox = checkboxContainer.selectAll(\"rect\")\n            .data(config.headVis)\n            .enter()\n            .append(\"rect\")\n            .attr(\"fill\", (d, i) => headColors(i))\n            .attr(\"x\", (d, i) => i * CHECKBOX_SIZE)\n            .attr(\"y\", top)\n            .attr(\"width\", CHECKBOX_SIZE)\n            .attr(\"height\", CHECKBOX_SIZE);\n\n        function updateCheckboxes() {\n            checkboxContainer.selectAll(\"rect\")\n                .data(config.headVis)\n                .attr(\"fill\", (d, i) => d ? headColors(i): lighten(headColors(i)));\n        }\n\n        updateCheckboxes();\n\n        checkbox.on(\"click\", function (d, i) {\n            if (config.headVis[i] && activeHeads() === 1) return;\n            config.headVis[i] = !config.headVis[i];\n            updateCheckboxes();\n            updateAttention(svg);\n        });\n\n        checkbox.on(\"dblclick\", function (d, i) {\n            // If we double click on the only active head then reset\n            if (config.headVis[i] && activeHeads() === 1) {\n                config.headVis = new Array(config.nHeads).fill(true);\n            } else {\n                config.headVis = new Array(config.nHeads).fill(false);\n                config.headVis[i] = true;\n            }\n            updateCheckboxes();\n            updateAttention(svg);\n        });\n    }\n\n    function lighten(color) {\n        const c = d3.hsl(color);\n        const increment = (1 - c.l) * 0.6;\n        c.l += increment;\n        c.s -= increment;\n        return c;\n    }\n\n    function transpose(mat) {\n        return mat[0].map(function (col, i) {\n            return mat.map(function (row) {\n                return row[i];\n            });\n        });\n    }\n\n});",
            "text/plain": [
              "<IPython.core.display.Javascript object>"
            ]
          },
          "metadata": {},
          "output_type": "display_data"
        }
      ],
      "source": [
        "head_view(attentions, tokens)"
      ]
    },
    {
      "cell_type": "markdown",
      "metadata": {},
      "source": [
        "Or you can plot each attention head separately:"
      ]
    },
    {
      "cell_type": "code",
      "execution_count": 14,
      "metadata": {
        "colab": {
          "base_uri": "https://localhost:8080/",
          "height": 545
        },
        "id": "G4SNEahWpCmJ",
        "outputId": "7a08f91b-8c75-4056-c003-57fad5311cd2"
      },
      "outputs": [
        {
          "data": {
            "image/png": "[encoded data removed]",
            "text/plain": [
              "<Figure size 1000x600 with 2 Axes>"
            ]
          },
          "metadata": {},
          "output_type": "display_data"
        }
      ],
      "source": [
        "# Attention from the first layer, first head\n",
        "L1H1 = attentions[0][0, 0]\n",
        "\n",
        "# Plot attention weights for the CLS token (attention_scores[0] gives weights from CLS to all tokens)\n",
        "plt.figure(figsize=(10, 6))\n",
        "sns.heatmap(L1H1, annot=True, xticklabels=tokens, yticklabels=tokens, cmap='Blues')\n",
        "plt.show()"
      ]
    },
    {
      "cell_type": "code",
      "execution_count": 15,
      "metadata": {
        "colab": {
          "base_uri": "https://localhost:8080/",
          "height": 308
        },
        "id": "AMFCDc5FiJEe",
        "outputId": "59269809-dbaf-4624-af46-450d4ecd9c57"
      },
      "outputs": [
        {
          "data": {
            "text/html": [
              "<script src=\"https://cdnjs.cloudflare.com/ajax/libs/require.js/2.3.6/require.min.js\"></script>"
            ],
            "text/plain": [
              "<IPython.core.display.HTML object>"
            ]
          },
          "metadata": {},
          "output_type": "display_data"
        },
        {
          "data": {
            "text/html": [
              "      \n",
              "        <div id=\"bertviz-89038963e1484350873e652ecfd33cd1\" style=\"font-family:'Helvetica Neue', Helvetica, Arial, sans-serif;\">\n",
              "            <span style=\"user-select:none\">\n",
              "                \n",
              "            </span>\n",
              "            <div id='vis'></div>\n",
              "        </div>\n",
              "    "
            ],
            "text/plain": [
              "<IPython.core.display.HTML object>"
            ]
          },
          "metadata": {},
          "output_type": "display_data"
        },
        {
          "data": {
            "application/javascript": "/**\n * @fileoverview Transformer Visualization D3 javascript code.\n *\n * Based on: https://github.com/tensorflow/tensor2tensor/blob/master/tensor2tensor/visualization/attention.js\n *\n * Change log:\n *\n * 02/01/19  Jesse Vig   Initial implementation\n * 12/31/20  Jesse Vig   Support multiple visualizations in single notebook.\n * 01/19/21  Jesse Vig   Support light/dark modes\n * 02/06/21  Jesse Vig   Move require config from separate jupyter notebook step\n * 05/03/21  Jesse Vig   Adjust visualization height dynamically\n * 03/23/22  Daniel SC   Update requirement URLs for d3 and jQuery (source of bug not allowing end result to be displayed on browsers)\n **/\n\nrequire.config({\n  paths: {\n      d3: 'https://cdnjs.cloudflare.com/ajax/libs/d3/5.7.0/d3.min',\n    jquery: 'https://cdnjs.cloudflare.com/ajax/libs/jquery/2.0.0/jquery.min',\n  }\n});\n\nrequirejs(['jquery', 'd3'], function($, d3) {\n\n        const params = {\"attention\": [{\"name\": null, \"attn\": [[[[0.18662472069263458, 0.08013234287500381, 0.07552144676446915, 0.15747606754302979, 0.10564763844013214, 0.06892536580562592, 0.08924569934606552, 0.23642680048942566], [0.03268476203083992, 0.23785459995269775, 0.06945554912090302, 0.035561539232730865, 0.0250842422246933, 0.38005322217941284, 0.0867278128862381, 0.1325782835483551], [0.1432727426290512, 0.06563907861709595, 0.01858905702829361, 0.06582977622747421, 0.14589723944664001, 0.07912544906139374, 0.13358072936534882, 0.34806594252586365], [0.07772459834814072, 0.0826437771320343, 0.08518967777490616, 0.010395864024758339, 0.10208859294652939, 0.1395772248506546, 0.18384705483913422, 0.3185332119464874], [0.029289299622178078, 0.02735445834696293, 0.0394141711294651, 0.10810176283121109, 0.4765647053718567, 0.0344136580824852, 0.08361701667308807, 0.20124496519565582], [0.0451173409819603, 0.26855769753456116, 0.08427220582962036, 0.05034668371081352, 0.0282751452177763, 0.284195214509964, 0.0860787183046341, 0.15315702557563782], [0.13746771216392517, 0.10509467124938965, 0.1763012707233429, 0.08615472912788391, 0.12544995546340942, 0.1173907071352005, 0.024158796295523643, 0.22798217833042145], [0.07691819220781326, 0.128713920712471, 0.14945566654205322, 0.1916198432445526, 0.0983033999800682, 0.13323770463466644, 0.10019278526306152, 0.12155845761299133]], [[0.1052679643034935, 0.0894961804151535, 0.10551456362009048, 0.1453884392976761, 0.1261453628540039, 0.12854236364364624, 0.11745745688676834, 0.18218766152858734], [0.2775688171386719, 0.016092346981167793, 0.026226291432976723, 0.049767013639211655, 0.041011326014995575, 0.04368428885936737, 0.049536801874637604, 0.496113121509552], [0.12266074866056442, 0.005561844911426306, 0.7701103687286377, 0.007509808521717787, 0.006464007310569286, 0.012603487819433212, 0.011968729086220264, 0.06312098354101181], [0.09477207809686661, 0.0059155127964913845, 0.004230108577758074, 0.7810506820678711, 0.008929469622671604, 0.007445030380040407, 0.014858128502964973, 0.08279892057180405], [0.35968607664108276, 0.05999571830034256, 0.010914272628724575, 0.04750365391373634, 0.06158315762877464, 0.022114606574177742, 0.015188897959887981, 0.4230136573314667], [0.36819425225257874, 0.07931338995695114, 0.0708797425031662, 0.06889292597770691, 0.036111630499362946, 0.027125144377350807, 0.03148384764790535, 0.31799906492233276], [0.12757670879364014, 0.02053958922624588, 0.014613857492804527, 0.01958228275179863, 0.010132531635463238, 0.007407298777252436, 0.7646554708480835, 0.03549230098724365], [0.6122301816940308, 0.04247643053531647, 0.004639890044927597, 0.03378232568502426, 0.03368159011006355, 0.01776200532913208, 0.0018469843780621886, 0.25358062982559204]], [[0.09096606075763702, 0.274073988199234, 0.03383905813097954, 0.051018279045820236, 0.051544271409511566, 0.25003084540367126, 0.027892930433154106, 0.22063450515270233], [0.0002152415254386142, 6.109703826950863e-05, 4.389869354781695e-05, 2.471674270054791e-05, 3.8186142774065956e-05, 4.6603880036855116e-05, 4.833671482629143e-05, 0.9995219707489014], [0.027697362005710602, 0.28358322381973267, 0.0472906231880188, 0.06867549568414688, 0.06656988710165024, 0.096046082675457, 0.09528512507677078, 0.31485217809677124], [0.01460545789450407, 0.22443066537380219, 0.20608316361904144, 0.08317898958921432, 0.11545728892087936, 0.044211987406015396, 0.06634745746850967, 0.24568495154380798], [0.021999020129442215, 0.12257634103298187, 0.23989784717559814, 0.21222224831581116, 0.09495412558317184, 0.0382261723279953, 0.06629283726215363, 0.20383140444755554], [0.024451542645692825, 0.06753462553024292, 0.1728343516588211, 0.329285591840744, 0.12510721385478973, 0.044108014553785324, 0.03466476872563362, 0.20201382040977478], [0.009234161116182804, 0.036115605384111404, 0.16026930510997772, 0.2644042670726776, 0.29143011569976807, 0.08442430198192596, 0.04647279530763626, 0.10764949768781662], [0.008738869801163673, 8.103754225885496e-06, 0.00018421189452055842, 0.0007602220866829157, 0.0004676259122788906, 0.00014400252257473767, 0.00043214025208726525, 0.9892648458480835]], [[0.8634690046310425, 0.02004818618297577, 0.01871815137565136, 0.019480306655168533, 0.019607270136475563, 0.013320188969373703, 0.015530713833868504, 0.029826151207089424], [1.33143512357492e-05, 0.00040855430415831506, 0.9982061386108398, 0.0012999315513297915, 1.6324732996508828e-06, 8.499728032518306e-09, 1.3200323337514419e-05, 5.7135766837745905e-05], [9.115586180996615e-06, 0.0001030683342833072, 0.0014125837478786707, 0.9956941604614258, 0.002773213665932417, 5.698342192772543e-06, 9.359197861158464e-08, 2.1088551420689328e-06], [6.436376764895613e-08, 4.488758520437841e-08, 2.995252543769311e-06, 0.0003909434308297932, 0.998339056968689, 0.0012666566763073206, 1.3849417257461027e-07, 6.512951511439269e-09], [8.778079063631594e-07, 1.6401534139731666e-06, 9.509735576784806e-08, 3.8016172766219825e-05, 0.0012540456373244524, 0.9711326360702515, 0.027572253718972206, 4.163279072599835e-07], [2.653912645200762e-07, 7.191489999058831e-07, 7.026192179182544e-07, 2.287561251534953e-08, 4.113725026400061e-06, 0.0004924193490296602, 0.9984853863716125, 0.0010163591941818595], [1.494362322773668e-07, 7.169273885665461e-05, 2.8432459657778963e-05, 2.5273317660889916e-08, 1.7582813427452493e-08, 1.5970928870956413e-05, 0.003977783024311066, 0.9959059953689575], [0.999821126461029, 2.2200449478759765e-08, 3.770198418351356e-06, 3.839242708636448e-06, 6.152880427379159e-10, 8.052402494795885e-11, 1.4925957430023118e-06, 0.00016981207591015846]], [[0.0738835483789444, 0.08034360408782959, 0.06002651900053024, 0.08575259894132614, 0.10181671380996704, 0.05457380414009094, 0.04788745939731598, 0.49571579694747925], [0.05556297302246094, 0.04669266939163208, 0.07898819446563721, 0.2174731194972992, 0.19628171622753143, 0.08187059313058853, 0.12675142288208008, 0.19637936353683472], [0.07659912109375, 0.08423922955989838, 0.14748288691043854, 0.24815009534358978, 0.13674090802669525, 0.1109761968255043, 0.08288617432117462, 0.11292535066604614], [0.04030035063624382, 0.08929072320461273, 0.35840412974357605, 0.16464321315288544, 0.04723047465085983, 0.07753361761569977, 0.12159162014722824, 0.10100588947534561], [0.037997256964445114, 0.1369040608406067, 0.05325871706008911, 0.28554925322532654, 0.053344614803791046, 0.07621216028928757, 0.17149724066257477, 0.18523670732975006], [0.05980324745178223, 0.08055911958217621, 0.09605373442173004, 0.2436315417289734, 0.13846635818481445, 0.05057374760508537, 0.07842005044221878, 0.252492219209671], [0.03682661056518555, 0.08581636101007462, 0.10622649639844894, 0.5299842953681946, 0.09415798634290695, 0.07119262218475342, 0.027306390926241875, 0.048489321023225784], [0.02994888834655285, 0.12292851507663727, 0.1122380942106247, 0.16072311997413635, 0.18633152544498444, 0.14909052848815918, 0.13658839464187622, 0.10215097665786743]], [[0.18052789568901062, 0.1565483808517456, 0.0880783423781395, 0.10087435692548752, 0.09159363806247711, 0.10900278389453888, 0.1178932785987854, 0.1554812490940094], [0.24961109459400177, 0.08881957083940506, 0.08351647853851318, 0.14434345066547394, 0.1609201729297638, 0.1035316064953804, 0.07436200976371765, 0.09489557892084122], [0.3375014364719391, 0.03916947916150093, 0.046384047716856, 0.1892116218805313, 0.10081758350133896, 0.0561022125184536, 0.12355399131774902, 0.10725954920053482], [0.19944316148757935, 0.09379006922245026, 0.1123201921582222, 0.1586134433746338, 0.12173228710889816, 0.07594896852970123, 0.1246790811419487, 0.11347285658121109], [0.18346719443798065, 0.1255919188261032, 0.04904518276453018, 0.1027454361319542, 0.12125848233699799, 0.19999319314956665, 0.11600347608327866, 0.10189513117074966], [0.1929943561553955, 0.09676329791545868, 0.11599107086658478, 0.10960710793733597, 0.1748998910188675, 0.1050792932510376, 0.10292809456586838, 0.10173678398132324], [0.3505716025829315, 0.1275489181280136, 0.1068636104464531, 0.11791688948869705, 0.08221805095672607, 0.08941864967346191, 0.026470104232430458, 0.09899216890335083], [0.2940194606781006, 0.1027366891503334, 0.05599008500576019, 0.06998351216316223, 0.15121346712112427, 0.12174760550260544, 0.10801509022712708, 0.09629405289888382]], [[0.9951692223548889, 0.002026547910645604, 9.540694009047002e-05, 9.25063286558725e-05, 0.0007534131873399019, 0.001278612995520234, 0.00041227610199712217, 0.00017198013665620238], [0.9999657869338989, 3.4130986023228616e-05, 6.375640015932049e-10, 1.1413751345966394e-13, 3.963331399181591e-11, 2.9708195903310752e-09, 1.7215035086337593e-07, 1.3614166738395994e-10], [8.937740147985096e-08, 0.9999945163726807, 5.344889359548688e-06, 1.108604614358244e-11, 3.220885927675228e-16, 2.309338430119684e-13, 2.692882006272157e-08, 4.003072007208175e-08], [4.6410589260581503e-10, 6.080982529965695e-06, 0.9999897480010986, 4.1918960960174445e-06, 1.0310896234044797e-11, 2.169545589518536e-16, 1.7398584014612995e-15, 4.4154075951041705e-09], [9.078159231290517e-12, 8.227056866707064e-14, 1.5895795968390303e-06, 0.999990701675415, 7.751312296022661e-06, 5.559198500842966e-12, 1.3039792966805156e-16, 3.489176996273127e-16], [3.038883381045743e-11, 8.174410571485833e-16, 4.7954943103523454e-14, 1.9897629499610048e-06, 0.9999806880950928, 1.7362181097269058e-05, 2.330855126964071e-11, 2.5733198427275566e-17], [1.3183815150696887e-10, 5.527558619156103e-11, 5.216641399891965e-16, 4.039561111827961e-15, 1.589617386343889e-05, 0.9999492168426514, 3.4933000279124826e-05, 1.1902333285629396e-11], [7.828570014467573e-10, 2.9600923312500527e-07, 4.748558859492269e-13, 3.327455195954293e-18, 1.8959515388054533e-15, 1.0678545550035778e-06, 0.9999922513961792, 6.348809165501734e-06]], [[0.16371163725852966, 0.07074053585529327, 0.1188318207859993, 0.13657377660274506, 0.05904442444443703, 0.07557587325572968, 0.18393513560295105, 0.19158676266670227], [0.20708070695400238, 0.027622118592262268, 0.1287422925233841, 0.25060799717903137, 0.05981648713350296, 0.03734038770198822, 0.1721227467060089, 0.116667240858078], [0.08127498626708984, 0.16840940713882446, 0.2523925006389618, 0.04529916122555733, 0.10899639129638672, 0.17748844623565674, 0.08105434477329254, 0.08508472889661789], [0.028828253969550133, 0.01755635067820549, 0.22549191117286682, 0.07789500802755356, 0.03818601369857788, 0.02053098939359188, 0.5464265942573547, 0.04508478567004204], [0.12140766531229019, 0.040895987302064896, 0.0668291226029396, 0.45887893438339233, 0.01725468412041664, 0.04367418959736824, 0.1542677879333496, 0.09679166227579117], [0.1898784190416336, 0.03944547101855278, 0.1435360163450241, 0.22458863258361816, 0.08685067296028137, 0.03880539536476135, 0.1601909101009369, 0.11670445650815964], [0.08672530949115753, 0.14246827363967896, 0.13020585477352142, 0.07074400037527084, 0.07133978605270386, 0.1431322544813156, 0.23808811604976654, 0.11729647219181061], [0.2477109432220459, 0.23021773993968964, 0.10175629705190659, 0.020913776010274887, 0.128400981426239, 0.1149100735783577, 0.07506509870290756, 0.0810251533985138]]], [[[0.6431371569633484, 0.02960369735956192, 0.04501562938094139, 0.052825406193733215, 0.020357530564069748, 0.02840230241417885, 0.02331261709332466, 0.15734565258026123], [0.30145105719566345, 0.06780028343200684, 0.060273177921772, 0.020371977239847183, 0.029849372804164886, 0.05710066854953766, 0.024739861488342285, 0.43841353058815], [0.573728084564209, 0.07579103112220764, 0.006246716249734163, 0.03576367720961571, 0.013053908944129944, 0.07011112570762634, 0.03294999152421951, 0.19235548377037048], [0.5438792705535889, 0.038928743451833725, 0.07484051585197449, 0.007934252731502056, 0.03994721174240112, 0.0368041954934597, 0.03569972887635231, 0.22196611762046814], [0.3719380795955658, 0.10946551710367203, 0.04747605323791504, 0.03426653519272804, 0.08475535362958908, 0.11082834005355835, 0.024309197440743446, 0.21696095168590546], [0.39441680908203125, 0.056593745946884155, 0.06588114798069, 0.021951908245682716, 0.05108180269598961, 0.05895886570215225, 0.022999096661806107, 0.3281167149543762], [0.574826717376709, 0.04890809580683708, 0.121526800096035, 0.020284056663513184, 0.04986800253391266, 0.06136078014969826, 0.0027502633165568113, 0.12047528475522995], [0.23066160082817078, 0.12884408235549927, 0.05825383588671684, 0.10684237629175186, 0.08425743877887726, 0.12808893620967865, 0.051519498229026794, 0.21153227984905243]], [[0.500981867313385, 0.031843964010477066, 0.06615693867206573, 0.09866931289434433, 0.03938859701156616, 0.04091973602771759, 0.09171286970376968, 0.13032673299312592], [0.08411001414060593, 0.019148673862218857, 0.8713747262954712, 0.015769094228744507, 0.002070922404527664, 7.778139843139797e-05, 0.001831518835388124, 0.0056173005141317844], [0.3139338195323944, 0.002599449595436454, 0.040526390075683594, 0.6141990423202515, 0.025496862828731537, 0.00043934042332693934, 1.0931746146525256e-05, 0.0027942508459091187], [0.05363541468977928, 9.944056364474818e-05, 0.0011829541763290763, 0.07363731414079666, 0.8317529559135437, 0.03882429003715515, 0.0006434803945012391, 0.00022416288265958428], [0.16363805532455444, 4.7675479436293244e-05, 0.00016959292406681925, 0.0008342217188328505, 0.05495411530137062, 0.29973873496055603, 0.4798314869403839, 0.000786042190156877], [0.030372386798262596, 0.0001485456305090338, 0.00015329211601056159, 7.656672096345574e-06, 0.0010643408168107271, 0.010368713177740574, 0.9479308724403381, 0.009954183362424374], [0.008774956688284874, 0.00034303110442124307, 0.00031915123690851033, 1.3875479453417938e-05, 9.796296581043862e-06, 0.0002970997884403914, 0.012911181896924973, 0.9773310422897339], [0.8506269454956055, 0.00027060386491939425, 0.013405256904661655, 0.0029049506410956383, 0.00018449057824909687, 0.00014758006727788597, 0.004219078458845615, 0.12824121117591858]], [[0.05778992548584938, 0.12408425658941269, 0.1684514284133911, 0.2161552906036377, 0.1170535758137703, 0.07944487780332565, 0.16502264142036438, 0.07199809700250626], [0.03025595098733902, 0.0165033470839262, 0.677391529083252, 0.1705380380153656, 0.007682478986680508, 0.004973436705768108, 0.06092161312699318, 0.031733669340610504], [0.19268599152565002, 0.12533403933048248, 0.1320369988679886, 0.35195815563201904, 0.03116798959672451, 0.04117608442902565, 0.03319060057401657, 0.0924500972032547], [0.044654347002506256, 0.012471959926187992, 0.22473753988742828, 0.021504949778318405, 0.3911316692829132, 0.03472146391868591, 0.2300272285938263, 0.04075076803565025], [0.02852177619934082, 0.007668026722967625, 0.010478085838258266, 0.13716812431812286, 0.011414233595132828, 0.02572980523109436, 0.7337069511413574, 0.04531292989850044], [0.04613227769732475, 0.0053558615036308765, 0.07590202242136002, 0.08336540311574936, 0.015038866549730301, 0.019314823672175407, 0.6159305572509766, 0.13896022737026215], [0.07748417556285858, 0.02591301128268242, 0.04539012908935547, 0.00646625179797411, 0.026314258575439453, 0.06471690535545349, 0.11230014264583588, 0.6414151191711426], [0.05983777716755867, 0.0654459223151207, 0.05026770383119583, 0.0481158122420311, 0.01534183882176876, 0.058382485061883926, 0.1226072832942009, 0.5800012350082397]], [[0.1539982706308365, 0.06715008616447449, 0.04504949599504471, 0.2301914393901825, 0.07325337082147598, 0.04128532111644745, 0.0918695256114006, 0.2972024381160736], [0.012264525517821312, 0.01981150545179844, 0.11220182478427887, 0.5311335325241089, 0.13295932114124298, 0.051608458161354065, 0.03976500406861305, 0.1002558246254921], [0.2400362193584442, 0.015480350703001022, 0.04237845167517662, 0.27461549639701843, 0.10281791538000107, 0.12251289933919907, 0.07044833898544312, 0.13171038031578064], [0.05782876908779144, 0.004782774019986391, 0.009291835129261017, 0.05553751438856125, 0.2248019129037857, 0.18156389892101288, 0.23173658549785614, 0.23445682227611542], [0.03553738445043564, 0.0018293679459020495, 0.00330322771333158, 0.021931583061814308, 0.022883735597133636, 0.052924249321222305, 0.6142925024032593, 0.2472979575395584], [0.03463244065642357, 0.004512236453592777, 0.008735190145671368, 0.021399544551968575, 0.01726522669196129, 0.0271170474588871, 0.18419098854064941, 0.702147364616394], [0.22877022624015808, 0.004947625566273928, 0.010370494797825813, 0.013796194456517696, 0.012318744324147701, 0.013036878779530525, 0.0499199815094471, 0.6668398380279541], [0.9079981446266174, 0.006222869269549847, 0.0038526945281773806, 0.006272118538618088, 0.003369151381775737, 0.0052129910327494144, 0.007068920414894819, 0.06000319495797157]], [[0.4548899829387665, 0.08153469115495682, 0.04963233321905136, 0.23074482381343842, 0.0808224081993103, 0.04440828040242195, 0.033081602305173874, 0.024885866791009903], [0.7801846265792847, 0.05828610807657242, 0.054902583360672, 0.035229604691267014, 0.015167857520282269, 0.007871432229876518, 0.019468363374471664, 0.028889525681734085], [0.7390211224555969, 0.10096433758735657, 0.06064550206065178, 0.04297637194395065, 0.005547118838876486, 0.0033407814335078, 0.012795665301382542, 0.03470909222960472], [0.34146377444267273, 0.19059120118618011, 0.30442753434181213, 0.1003970131278038, 0.03044556826353073, 0.00612771837040782, 0.002676144242286682, 0.02387109026312828], [0.04000154510140419, 0.03233608603477478, 0.05759906768798828, 0.8450188040733337, 0.0074057262390851974, 0.008772817440330982, 0.0032672900706529617, 0.005598688032478094], [0.15314370393753052, 0.044181037694215775, 0.08232823014259338, 0.458717942237854, 0.1674405336380005, 0.03697581961750984, 0.030339261516928673, 0.02687348797917366], [0.3002634346485138, 0.010932516306638718, 0.015594919212162495, 0.16000661253929138, 0.35228389501571655, 0.07709917426109314, 0.042945828288793564, 0.04087361693382263], [0.7824585437774658, 0.006579467095434666, 0.0063854665495455265, 0.019565735012292862, 0.01601530611515045, 0.035904791206121445, 0.07986368238925934, 0.0532270185649395]], [[0.03988538309931755, 0.06377654522657394, 0.29308462142944336, 0.27152377367019653, 0.03464445471763611, 0.03403973951935768, 0.12104372680187225, 0.14200171828269958], [0.028987133875489235, 0.04110714793205261, 0.13873520493507385, 0.3544902503490448, 0.05437232926487923, 0.03801544010639191, 0.1162002682685852, 0.228092223405838], [0.150387704372406, 0.016815287992358208, 0.3831445574760437, 0.10413532704114914, 0.020348211750388145, 0.017987262457609177, 0.1576247662305832, 0.1495569497346878], [0.04363468289375305, 0.02981293387711048, 0.16110125184059143, 0.1632823646068573, 0.06825755536556244, 0.02453198842704296, 0.15039637684822083, 0.3589828610420227], [0.18892239034175873, 0.05613568425178528, 0.15231414139270782, 0.18000528216362, 0.032835040241479874, 0.047321923077106476, 0.15892475843429565, 0.18354082107543945], [0.1034751608967781, 0.05394970253109932, 0.2719336748123169, 0.2153657078742981, 0.024677565321326256, 0.03581538423895836, 0.1645701676607132, 0.13021260499954224], [0.2188313901424408, 0.04594819247722626, 0.3778497278690338, 0.09777118265628815, 0.023116759955883026, 0.044939424842596054, 0.08675670623779297, 0.10478658229112625], [0.5948511958122253, 0.05680905282497406, 0.05504021793603897, 0.011698584072291851, 0.010077598504722118, 0.07564248889684677, 0.035003162920475006, 0.16087771952152252]], [[0.3336029648780823, 0.0988679900765419, 0.059395018965005875, 0.0675240308046341, 0.09325560182332993, 0.1338498592376709, 0.058051999658346176, 0.15545259416103363], [0.4556104242801666, 0.13502632081508636, 0.021883005276322365, 0.004795240703970194, 0.058643124997615814, 0.1751938909292221, 0.0016914989100769162, 0.1471565216779709], [0.33368563652038574, 0.019193831831216812, 0.4631577730178833, 0.0009722155518829823, 0.006445258390158415, 0.043014757335186005, 0.0027416313532739878, 0.1307888627052307], [0.5934473872184753, 0.009094160050153732, 0.0011706758523359895, 0.23452012240886688, 0.007545966189354658, 0.024839451536536217, 0.012572734616696835, 0.11680953204631805], [0.2548929452896118, 0.026015812531113625, 0.005204975139349699, 0.0013321933802217245, 0.5995728373527527, 0.02904234081506729, 0.0005256657605059445, 0.08341329544782639], [0.38988932967185974, 0.2189832627773285, 0.031358376145362854, 0.01106280367821455, 0.07397589087486267, 0.15303735435009003, 0.001643978408537805, 0.12004898488521576], [0.46817103028297424, 0.014662100933492184, 0.0033869638573378325, 0.027950169518589973, 0.005329606123268604, 0.03696870803833008, 0.33127421140670776, 0.1122572049498558], [0.39422789216041565, 0.07731448858976364, 0.0645282194018364, 0.0766010656952858, 0.10802826285362244, 0.11471737176179886, 0.041387028992176056, 0.12319568544626236]], [[0.3209041655063629, 0.002201354131102562, 0.07833803445100784, 0.13653025031089783, 0.012468316592276096, 0.0018633451545611024, 0.0419028215110302, 0.4057917296886444], [0.4949871599674225, 0.005038308445364237, 0.06617014855146408, 0.06520774960517883, 0.010449782945215702, 0.003482639556750655, 0.04414452984929085, 0.31051966547966003], [0.4913330078125, 0.005312290042638779, 0.13157202303409576, 0.06340476870536804, 0.004762825556099415, 0.004112698137760162, 0.0817713662981987, 0.2177310734987259], [0.4668692648410797, 0.005615788046270609, 0.04730347916483879, 0.12333013862371445, 0.005432341247797012, 0.003537005977705121, 0.07083060592412949, 0.2770814299583435], [0.7183517813682556, 0.0032839507330209017, 0.05435984581708908, 0.05443371832370758, 0.0019671109039336443, 0.002725816098973155, 0.033489905297756195, 0.13138790428638458], [0.6835438013076782, 0.0035847164690494537, 0.06344631314277649, 0.056873101741075516, 0.0030616356525570154, 0.0019587369170039892, 0.029275720939040184, 0.15825599431991577], [0.6823638677597046, 0.002911235438659787, 0.08517103642225266, 0.06518419831991196, 0.016183018684387207, 0.00297811278142035, 0.02785443887114525, 0.1173541471362114], [0.014938629232347012, 0.4417511224746704, 0.0016398351872339845, 0.0008823275566101074, 0.00010276752436766401, 0.5390426516532898, 0.000764035212341696, 0.0008787104743532836]]], [[[0.10606124252080917, 0.010495192371308804, 0.015016856603324413, 0.04527737572789192, 0.01896866224706173, 0.009653775952756405, 0.007769069168716669, 0.7867578268051147], [0.06301195174455643, 0.08586722612380981, 0.01566808857023716, 0.01668630912899971, 0.006389327347278595, 0.0023303604684770107, 0.0006736459909006953, 0.8093730807304382], [0.12286089360713959, 0.16094745695590973, 0.037531912326812744, 0.01247094664722681, 0.0029730533715337515, 0.0013532508164644241, 0.004697219468653202, 0.6571652293205261], [0.03847004473209381, 0.389740526676178, 0.16732974350452423, 0.10739699006080627, 0.004081657622009516, 0.0018808661261573434, 0.0008444390259683132, 0.29025575518608093], [0.017024166882038116, 0.06536046415567398, 0.38762035965919495, 0.36023998260498047, 0.03238316997885704, 0.010242159478366375, 0.0007366401259787381, 0.12639300525188446], [0.008432457223534584, 0.0064523774199187756, 0.09030630439519882, 0.4013368487358093, 0.382735013961792, 0.026653816923499107, 0.0017582520376890898, 0.08232494443655014], [0.016522347927093506, 0.0013192584738135338, 0.014323864132165909, 0.23977483808994293, 0.5314959287643433, 0.05375625938177109, 0.012688612565398216, 0.1301189363002777], [0.05312345176935196, 0.01056875940412283, 0.01150909997522831, 0.018771491944789886, 0.011603792198002338, 0.0054782177321612835, 0.0064946869388222694, 0.8824505805969238]], [[0.04110550507903099, 0.08610278367996216, 0.15764084458351135, 0.4418419599533081, 0.058082710951566696, 0.03511444106698036, 0.15318964421749115, 0.026922181248664856], [0.031602222472429276, 0.04825981333851814, 0.027128364890813828, 0.021198049187660217, 0.004811186343431473, 0.0013574690092355013, 0.001184634049423039, 0.8644582033157349], [0.05035235360264778, 0.10731842368841171, 0.07321558892726898, 0.030829235911369324, 0.0057554589584469795, 0.0015561680775135756, 0.002614804310724139, 0.7283579707145691], [0.026152169331908226, 0.22934837639331818, 0.09466604888439178, 0.07011015713214874, 0.01709103211760521, 0.005061933305114508, 0.005940459202975035, 0.5516297817230225], [0.02636399306356907, 0.1007414311170578, 0.22343218326568604, 0.42307642102241516, 0.04366064444184303, 0.011198158375918865, 0.005450168624520302, 0.16607697308063507], [0.007575593888759613, 0.030007481575012207, 0.19964268803596497, 0.6175491809844971, 0.08813828229904175, 0.008181110955774784, 0.005348108243197203, 0.04355752840638161], [0.00976988673210144, 0.02599778212606907, 0.1167154312133789, 0.536361813545227, 0.1581471562385559, 0.015324223786592484, 0.01840103231370449, 0.11928270757198334], [0.11968649923801422, 0.018347278237342834, 0.02319665439426899, 0.02969202771782875, 0.01658552698791027, 0.011951079592108727, 0.020614106208086014, 0.7599267363548279]], [[0.08370660245418549, 0.08991118520498276, 0.25887519121170044, 0.33058157563209534, 0.062077946960926056, 0.06219591572880745, 0.08623603731393814, 0.026415569707751274], [0.23074394464492798, 0.0029176638927310705, 8.23178379505407e-06, 2.8480573632805317e-07, 4.298299700167263e-06, 4.299983265809715e-05, 6.595782178919762e-05, 0.7662165760993958], [0.02112608030438423, 0.9526576399803162, 0.0012485380284488201, 4.630158400686923e-06, 1.8629016551585664e-08, 2.336150970450035e-07, 1.9011357608178514e-06, 0.024960925802588463], [0.0036184429191052914, 0.001661973656155169, 0.9783390760421753, 0.00889377947896719, 6.933906206540996e-06, 9.227603925410222e-08, 1.5279644571819517e-07, 0.0074796052649617195], [0.0005170017248019576, 1.889430905066547e-06, 0.0014685195637866855, 0.9824841618537903, 0.0039269207045435905, 1.2018552297377028e-05, 1.1536345212448396e-09, 0.01158948801457882], [0.00012389494804665446, 6.175376654482534e-08, 1.586926288155155e-07, 0.0009102972107939422, 0.9926704168319702, 0.003765283850952983, 5.313999054123997e-07, 0.0025293822400271893], [0.0024125268682837486, 1.817566044337582e-05, 2.027574552698752e-08, 7.224657110782573e-06, 0.025971168652176857, 0.9606896042823792, 0.001224436447955668, 0.009676842950284481], [0.4722415506839752, 0.026812734082341194, 0.010067163966596127, 0.008185469545423985, 0.0030630887486040592, 0.012242134660482407, 0.007692067883908749, 0.45969581604003906]], [[0.032778192311525345, 0.05423920974135399, 0.11425259709358215, 0.03556351363658905, 0.016823187470436096, 0.017772868275642395, 0.03123023733496666, 0.6973401308059692], [0.05793100222945213, 0.12700891494750977, 0.2175540179014206, 0.11056747287511826, 0.0580391101539135, 0.09232471883296967, 0.1351197361946106, 0.20145493745803833], [0.0815344750881195, 0.11726627498865128, 0.15664279460906982, 0.139619842171669, 0.06756415218114853, 0.0843498483300209, 0.0653298869729042, 0.28769269585609436], [0.052559372037649155, 0.18440958857536316, 0.26974883675575256, 0.11122175306081772, 0.12308912724256516, 0.09020495414733887, 0.06778289377689362, 0.10098347067832947], [0.05470304563641548, 0.17826539278030396, 0.2213873565196991, 0.1092623621225357, 0.080050989985466, 0.07193484157323837, 0.07528074085712433, 0.20911526679992676], [0.018117859959602356, 0.2782020568847656, 0.3318392038345337, 0.17124450206756592, 0.03899800777435303, 0.054510027170181274, 0.047907814383506775, 0.05918057635426521], [0.032804716378450394, 0.15058431029319763, 0.18126212060451508, 0.2930283546447754, 0.04809379205107689, 0.0508563406765461, 0.03285098075866699, 0.2105194479227066], [0.04379541426897049, 0.006982361897826195, 0.015177514404058456, 0.007741878740489483, 0.0026079625822603703, 0.0040786294266581535, 0.006474707741290331, 0.9131416082382202]], [[0.11791696399450302, 0.07829169183969498, 0.07415740936994553, 0.21433359384536743, 0.08799278736114502, 0.1072947308421135, 0.09250029921531677, 0.22751258313655853], [0.014547553844749928, 0.03679736331105232, 0.27258944511413574, 0.2423957884311676, 0.1626482456922531, 0.06141749769449234, 0.13431142270565033, 0.07529260963201523], [0.03269044682383537, 0.02331908419728279, 0.0659121423959732, 0.12877197563648224, 0.16509731113910675, 0.23660840094089508, 0.1224425733089447, 0.22515814006328583], [0.010920536704361439, 0.020270299166440964, 0.02815008908510208, 0.06814009696245193, 0.12709738314151764, 0.2772912085056305, 0.3657412528991699, 0.10238906741142273], [0.006784772966057062, 0.00333553203381598, 0.01932501420378685, 0.023035909980535507, 0.03245735168457031, 0.07905880361795425, 0.7264304757118225, 0.10957203060388565], [0.026402099058032036, 0.007267445791512728, 0.023671722039580345, 0.028547490015625954, 0.05324629321694374, 0.08192834258079529, 0.4558229446411133, 0.32311373949050903], [0.03747862949967384, 0.003998033236712217, 0.003707676427438855, 0.0029295235872268677, 0.005959651432931423, 0.018003232777118683, 0.01314867939800024, 0.9147745370864868], [0.0934610664844513, 0.0072747645899653435, 0.010752215050160885, 0.011075904592871666, 0.007769182324409485, 0.00847357977181673, 0.007963999174535275, 0.8532293438911438]], [[0.11347061395645142, 0.20827463269233704, 0.023464152589440346, 0.07444395869970322, 0.11421507596969604, 0.19809764623641968, 0.11578202247619629, 0.15225191414356232], [0.04265863448381424, 0.13932716846466064, 0.018568100407719612, 0.0017981411656364799, 0.004162159748375416, 0.0017346093663945794, 0.012458764016628265, 0.7792924046516418], [0.030270744115114212, 0.21135883033275604, 0.04123122990131378, 0.0020314219873398542, 0.00024197743914555758, 0.0001053960804711096, 0.001376730971969664, 0.713383674621582], [0.04446389153599739, 0.047825053334236145, 0.06897586584091187, 0.11464648693799973, 0.002496211091056466, 0.0007079484639689326, 0.00019504058582242578, 0.7206895351409912], [0.03574545308947563, 0.003577273804694414, 0.004341269377619028, 0.5332550406455994, 0.020451951771974564, 0.006782108917832375, 5.603107638307847e-05, 0.39579087495803833], [0.027021124958992004, 0.00024094576656352729, 0.0005151212681084871, 0.01798233762383461, 0.7549890875816345, 0.035735659301280975, 0.00408839201554656, 0.15942738950252533], [0.018725978210568428, 0.0006752116023562849, 9.621700155548751e-05, 0.0012278752401471138, 0.13113926351070404, 0.3437083065509796, 0.0584062822163105, 0.44602087140083313], [0.16789168119430542, 0.016237638890743256, 0.030547773465514183, 0.009887549094855785, 0.014454521238803864, 0.011994884349405766, 0.038494888693094254, 0.7104911208152771]], [[0.06862577050924301, 0.005363201256841421, 0.006610412150621414, 0.008115235716104507, 0.0020709000527858734, 0.0030447097960859537, 0.0017304139910265803, 0.9044393301010132], [0.04420571029186249, 0.03896846994757652, 0.510994553565979, 0.03983413055539131, 0.0013461402850225568, 0.00020954628416802734, 0.0008632239769212902, 0.3635782301425934], [0.07651403546333313, 0.007337134797126055, 0.03379936143755913, 0.08669651299715042, 0.018886975944042206, 0.0017822557128965855, 2.9605218514916487e-05, 0.774954080581665], [0.035672664642333984, 0.0010253851069137454, 0.0027874878142029047, 0.0758691057562828, 0.19449959695339203, 0.04402991011738777, 0.0005042347474955022, 0.6456116437911987], [0.02326977625489235, 0.0004712361260317266, 0.00031329752528108656, 0.011651882901787758, 0.054387371987104416, 0.292786568403244, 0.1966399848461151, 0.4204799234867096], [0.04217778518795967, 0.00044706513290293515, 0.0005557520780712366, 0.0008757991017773747, 0.0031618920620530844, 0.027584878727793694, 0.44556882977485657, 0.47962793707847595], [0.06169861555099487, 0.0035932185128331184, 0.0018393928185105324, 0.0012452008668333292, 0.0002733504807110876, 0.00909469835460186, 0.04480975493788719, 0.8774457573890686], [0.1758284568786621, 0.02480677329003811, 0.042245153337717056, 0.02035791613161564, 0.009400605224072933, 0.010595720261335373, 0.03524882346391678, 0.6815165281295776]], [[0.0073824492283165455, 0.07271701097488403, 0.004917855840176344, 0.047060173004865646, 0.09227784723043442, 0.29843756556510925, 0.0003830594359897077, 0.4768241047859192], [2.2281250494415872e-05, 0.0036847256124019623, 0.9959230422973633, 4.3340307456674054e-05, 3.116056035423753e-08, 1.2423564399455245e-09, 6.090395743285626e-08, 0.00032645929604768753], [1.5580209264953737e-06, 4.307139533921145e-07, 0.0020067135337740183, 0.9977709054946899, 0.00011877965880557895, 4.8638404415157765e-09, 6.681143810936818e-13, 0.00010160673264181241], [3.3381686534994515e-06, 6.229959659265205e-09, 4.670843978260564e-08, 0.0007392841507680714, 0.9933637380599976, 0.0001884860685095191, 8.100327630877757e-10, 0.005705185700207949], [1.099065457310644e-06, 8.056635891762198e-08, 1.8593978787229126e-11, 6.4179430658839465e-09, 0.0002887024311348796, 0.9992296695709229, 0.00011010693560820073, 0.00037035776767879725], [5.387634882936254e-05, 5.128430302647757e-07, 4.0308938409339135e-09, 9.533170780562372e-11, 1.2353599743164523e-07, 0.0013835298595950007, 0.9984727501869202, 8.921378321247175e-05], [1.077128644055847e-07, 1.2973553786821412e-08, 2.5729265940022117e-10, 2.3445199774652092e-12, 1.5707663576954023e-13, 6.785070838510876e-10, 1.5574285328057158e-07, 0.9999997615814209], [0.10205423086881638, 0.0013586780987679958, 0.0007825593347661197, 0.0013006961671635509, 0.000872114731464535, 0.0010833581909537315, 0.00024346062855329365, 0.8923048377037048]]], [[[0.0538894459605217, 0.0091758007183671, 0.03751397877931595, 0.02223273180425167, 0.017144953832030296, 0.002526081632822752, 0.009239177219569683, 0.8482778072357178], [0.007870957255363464, 0.011425056494772434, 0.05558177828788757, 0.014757497236132622, 0.002784313401207328, 0.0001578184455865994, 0.00047377313603647053, 0.9069488048553467], [0.028804969042539597, 0.004350847098976374, 0.04086718335747719, 0.3568415939807892, 0.2236853688955307, 0.006547726225107908, 0.0019224804127588868, 0.33697977662086487], [0.020249566063284874, 0.005255912896245718, 0.017381612211465836, 0.0745452344417572, 0.10687978565692902, 0.021304970607161522, 0.011207706294953823, 0.743175208568573], [0.0120538379997015, 0.002262132242321968, 0.010443238541483879, 0.012186883948743343, 0.017690885812044144, 0.017471320927143097, 0.03552224859595299, 0.8923695087432861], [0.009007374756038189, 0.0009258962236344814, 0.0018665725365281105, 0.0014337464235723019, 0.001926382421515882, 0.002303281333297491, 0.02990765869617462, 0.9526290893554688], [0.016989953815937042, 0.0037765761371701956, 0.011267540045082569, 0.012704125605523586, 0.005043343175202608, 0.006171817891299725, 0.026183215901255608, 0.9178634285926819], [0.16605064272880554, 0.10278621315956116, 0.1323234736919403, 0.1118900403380394, 0.08760777115821838, 0.06259200721979141, 0.11752105504274368, 0.2192288488149643]], [[0.032775070518255234, 0.021655624732375145, 0.17217567563056946, 0.025147845968604088, 0.02843387983739376, 0.013306185603141785, 0.09180823713541031, 0.6146974563598633], [0.009018806740641594, 0.04735708609223366, 0.002245835494250059, 0.0011160647263750434, 0.001264180988073349, 0.0010241448180750012, 0.00044664283632300794, 0.9375272989273071], [0.011086487211287022, 0.003100736066699028, 0.05581245571374893, 0.002295462880283594, 0.0013973381137475371, 0.0003937535220757127, 0.0009295242489315569, 0.924984335899353], [0.004778353497385979, 0.0022922998759895563, 0.0021155490539968014, 0.038526151329278946, 0.002983509097248316, 0.000894938362762332, 0.00010804353223647922, 0.9483010768890381], [0.012477628886699677, 0.002899151062592864, 0.0016244938597083092, 0.005163812078535557, 0.059751104563474655, 0.003924403339624405, 0.0001238738768734038, 0.914035439491272], [0.005314614158123732, 0.001089608995243907, 0.0006060193409211934, 0.0009882673621177673, 0.004259562585502863, 0.09156433492898941, 0.0009663726668804884, 0.8952112197875977], [0.014555796049535275, 0.0009304232080467045, 0.011806132271885872, 0.0003666171105578542, 0.0007997446227818727, 0.0015778971137478948, 0.02730450965464115, 0.9426589608192444], [0.0818118304014206, 0.05079646036028862, 0.12312038242816925, 0.07279936969280243, 0.03192101791501045, 0.031528688967227936, 0.15901023149490356, 0.44901204109191895]], [[0.08888829499483109, 0.08796532452106476, 0.2144324779510498, 0.08340385556221008, 0.02619745582342148, 0.019625358283519745, 0.1336677521467209, 0.34581947326660156], [0.04361807554960251, 0.06582440435886383, 0.0603485107421875, 0.06327874958515167, 0.02727426029741764, 0.03648895397782326, 0.0331631563603878, 0.6700039505958557], [0.07090947031974792, 0.022326065227389336, 0.04707852005958557, 0.07882088422775269, 0.07220346480607986, 0.0568305142223835, 0.079921193420887, 0.5719098448753357], [0.0406174436211586, 0.009948878549039364, 0.03396134451031685, 0.03987959772348404, 0.01615440472960472, 0.024703234434127808, 0.09143571555614471, 0.7432994246482849], [0.019313164055347443, 0.002050909213721752, 0.014938673004508018, 0.007592751644551754, 0.004456005524843931, 0.008453593589365482, 0.06486041098833084, 0.8783345818519592], [0.010120092891156673, 0.0011389367282390594, 0.002317564096301794, 0.0009463743772357702, 0.00045869723544456065, 0.002047792077064514, 0.008528383448719978, 0.9744421243667603], [0.03655622899532318, 0.00791226327419281, 0.0290931798517704, 0.009811392053961754, 0.004905272275209427, 0.010593388229608536, 0.0335368737578392, 0.8675914406776428], [0.07271566987037659, 0.14909225702285767, 0.17154069244861603, 0.12839515507221222, 0.09543238580226898, 0.10299370437860489, 0.17970721423625946, 0.1001228392124176]], [[0.04356290400028229, 0.2602311968803406, 0.25107014179229736, 0.11244367808103561, 0.10837285965681076, 0.03480160981416702, 0.12288853526115417, 0.06662905961275101], [0.005150396842509508, 0.016830023378133774, 0.008896308951079845, 0.003500281134620309, 0.0006597312167286873, 0.0006422551232390106, 0.006007764022797346, 0.9583132266998291], [0.02284419536590576, 0.2065122127532959, 0.10357076674699783, 0.08894626796245575, 0.06485887616872787, 0.014795243740081787, 0.04827957600355148, 0.4501928389072418], [0.020762713626027107, 0.08406441658735275, 0.03549812734127045, 0.04044942557811737, 0.017174702137708664, 0.006772455293685198, 0.02016029879450798, 0.7751178741455078], [0.006645290181040764, 0.054102834314107895, 0.042155005037784576, 0.00877510104328394, 0.004558151587843895, 0.002206838456913829, 0.006994469556957483, 0.8745622634887695], [0.005181600805372, 0.026808980852365494, 0.052248138934373856, 0.008921739645302296, 0.013154491782188416, 0.006288738455623388, 0.0170398261398077, 0.8703565001487732], [0.025646300986409187, 0.07839087396860123, 0.2251834124326706, 0.0913703516125679, 0.22372858226299286, 0.09508196264505386, 0.06117381528019905, 0.19942478835582733], [0.059401433914899826, 0.16487909853458405, 0.18630963563919067, 0.14696615934371948, 0.07001613080501556, 0.06632296741008759, 0.23262718319892883, 0.0734773725271225]], [[0.0705314576625824, 0.1170911192893982, 0.15623661875724792, 0.2483266144990921, 0.050915978848934174, 0.035169631242752075, 0.09095389395952225, 0.2307746410369873], [0.011716673150658607, 0.15682043135166168, 0.004925903864204884, 0.002052800729870796, 0.0012256130576133728, 0.0014004958793520927, 0.00032192518119700253, 0.8215361833572388], [0.012342949397861958, 0.0018456827383488417, 0.06312888115644455, 0.007140757981687784, 0.0004997216747142375, 0.0006497559370473027, 0.00019206097931601107, 0.9142001271247864], [0.005407362710684538, 0.001112712430767715, 0.0012800813419744372, 0.05822223052382469, 0.0015681700315326452, 0.0011510212207213044, 1.0731975635280833e-05, 0.9312475323677063], [0.004143973346799612, 0.002384465653449297, 0.0004469464474823326, 0.0038741605821996927, 0.021609093993902206, 0.003179842373356223, 2.497790592315141e-05, 0.9643365144729614], [0.006758329924196005, 0.0020751366391777992, 0.0009799053659662604, 0.002381294034421444, 0.0028562231454998255, 0.033330194652080536, 0.00034491269616410136, 0.9512739777565002], [0.01718956232070923, 0.002651524031534791, 0.012397607788443565, 0.0004343980981502682, 0.0006814473890699446, 0.0026834344025701284, 0.03635000064969063, 0.9276121258735657], [0.0863649919629097, 0.09234365820884705, 0.11329882591962814, 0.07483670115470886, 0.05942080169916153, 0.04067175090312958, 0.13731011748313904, 0.39575305581092834]], [[0.05638232082128525, 0.145191490650177, 0.07042450457811356, 0.050717271864414215, 0.10500024259090424, 0.05988515168428421, 0.1350528597831726, 0.3773461878299713], [0.0246601402759552, 0.10503558069467545, 0.01879347488284111, 0.0009364107390865684, 0.004278099164366722, 0.0031976033933460712, 0.0069122761487960815, 0.8361865282058716], [0.04558670520782471, 0.024182695895433426, 0.047242797911167145, 0.0068114944733679295, 0.006565469782799482, 0.0058539691381156445, 0.007120069116353989, 0.8566368818283081], [0.0365908108651638, 0.014242365024983883, 0.015522370114922523, 0.0797523632645607, 0.0329858772456646, 0.008708583191037178, 0.01154535822570324, 0.8006523251533508], [0.03777680546045303, 0.022959301248192787, 0.0076126656495034695, 0.008607191033661366, 0.08779966086149216, 0.013130590319633484, 0.016374655067920685, 0.8057392239570618], [0.030214503407478333, 0.040573347359895706, 0.00793131347745657, 0.0031181389931589365, 0.018815847113728523, 0.13661885261535645, 0.028238261118531227, 0.7344897985458374], [0.030430901795625687, 0.01039101928472519, 0.01863277330994606, 0.001906887860968709, 0.007619953248649836, 0.02001740224659443, 0.01916651241481304, 0.8918344974517822], [0.09614177793264389, 0.07074282318353653, 0.15469200909137726, 0.06661581248044968, 0.05422162264585495, 0.057817243039608, 0.32341232895851135, 0.17635641992092133]], [[0.10378742963075638, 0.17462630569934845, 0.14626725018024445, 0.09842870384454727, 0.06481163203716278, 0.0671103224158287, 0.11823830753564835, 0.22672998905181885], [0.00661758566275239, 0.006636017933487892, 0.00658799335360527, 0.0009640392381697893, 0.00047262708540074527, 0.00027115867123939097, 0.0020148467738181353, 0.9764357209205627], [0.06677669286727905, 0.04249782860279083, 0.04193507134914398, 0.05378612503409386, 0.02997303009033203, 0.011249376460909843, 0.0422026701271534, 0.7115791440010071], [0.007053652312606573, 0.008971772156655788, 0.015473340637981892, 0.004257764667272568, 0.005912225693464279, 0.0024314906913787127, 0.006588542368263006, 0.9493112564086914], [0.003733596997335553, 0.0015166719676926732, 0.003959363326430321, 0.0009258665377274156, 0.0003701428940985352, 0.00013346878404263407, 0.0012973130214959383, 0.9880635142326355], [0.005838322918862104, 0.00236900569871068, 0.005535642150789499, 0.0024917814880609512, 0.0013003258500248194, 0.00042044685687869787, 0.001070244936272502, 0.9809742569923401], [0.06724529713392258, 0.03818664327263832, 0.08918628096580505, 0.10068327933549881, 0.08426707237958908, 0.02691284753382206, 0.03615032136440277, 0.557368278503418], [0.0853692814707756, 0.11238318681716919, 0.13359428942203522, 0.1113002821803093, 0.12717638909816742, 0.10703121870756149, 0.23101086914539337, 0.0921345055103302]], [[0.13238407671451569, 0.04668563976883888, 0.2732125520706177, 0.0315437987446785, 0.056661590933799744, 0.018761396408081055, 0.18065501749515533, 0.2600959241390228], [0.019243894144892693, 0.015598228201270103, 0.005462923087179661, 0.0010100394720211625, 0.001330530853010714, 0.0005595558322966099, 0.010071683675050735, 0.9467230439186096], [0.04841725528240204, 0.507595419883728, 0.12575021386146545, 0.00965381320565939, 0.021530812606215477, 0.01375170424580574, 0.018785294145345688, 0.25451549887657166], [0.018315499648451805, 0.17445388436317444, 0.22288523614406586, 0.023054225370287895, 0.014216233976185322, 0.003948274999856949, 0.005325875710695982, 0.5378007888793945], [0.031790558248758316, 0.01408568024635315, 0.09022916108369827, 0.034254755824804306, 0.03305622562766075, 0.015518889762461185, 0.0060503208078444, 0.7750144004821777], [0.007645707111805677, 0.001474821474403143, 0.004065054468810558, 0.003812337527051568, 0.0782899484038353, 0.013391181826591492, 0.018724359571933746, 0.8725966215133667], [0.056291237473487854, 0.020333880558609962, 0.043789517134428024, 0.019843528047204018, 0.2752552926540375, 0.26644155383110046, 0.01941615343093872, 0.2986288368701935], [0.12601391971111298, 0.13323377072811127, 0.1651245504617691, 0.07071161270141602, 0.10552214086055756, 0.08600471168756485, 0.20174063742160797, 0.11164873838424683]]]], \"left_text\": [\"[CLS]\", \"the\", \"cat\", \"sat\", \"on\", \"the\", \"mat\", \"[SEP]\"], \"right_text\": [\"[CLS]\", \"the\", \"cat\", \"sat\", \"on\", \"the\", \"mat\", \"[SEP]\"]}], \"default_filter\": \"0\", \"display_mode\": \"dark\", \"root_div_id\": \"bertviz-89038963e1484350873e652ecfd33cd1\", \"include_layers\": [0, 1, 2, 3], \"include_heads\": [0, 1, 2, 3, 4, 5, 6, 7], \"total_heads\": 8}; // HACK: {\"attention\": [{\"name\": null, \"attn\": [[[[0.18662472069263458, 0.08013234287500381, 0.07552144676446915, 0.15747606754302979, 0.10564763844013214, 0.06892536580562592, 0.08924569934606552, 0.23642680048942566], [0.03268476203083992, 0.23785459995269775, 0.06945554912090302, 0.035561539232730865, 0.0250842422246933, 0.38005322217941284, 0.0867278128862381, 0.1325782835483551], [0.1432727426290512, 0.06563907861709595, 0.01858905702829361, 0.06582977622747421, 0.14589723944664001, 0.07912544906139374, 0.13358072936534882, 0.34806594252586365], [0.07772459834814072, 0.0826437771320343, 0.08518967777490616, 0.010395864024758339, 0.10208859294652939, 0.1395772248506546, 0.18384705483913422, 0.3185332119464874], [0.029289299622178078, 0.02735445834696293, 0.0394141711294651, 0.10810176283121109, 0.4765647053718567, 0.0344136580824852, 0.08361701667308807, 0.20124496519565582], [0.0451173409819603, 0.26855769753456116, 0.08427220582962036, 0.05034668371081352, 0.0282751452177763, 0.284195214509964, 0.0860787183046341, 0.15315702557563782], [0.13746771216392517, 0.10509467124938965, 0.1763012707233429, 0.08615472912788391, 0.12544995546340942, 0.1173907071352005, 0.024158796295523643, 0.22798217833042145], [0.07691819220781326, 0.128713920712471, 0.14945566654205322, 0.1916198432445526, 0.0983033999800682, 0.13323770463466644, 0.10019278526306152, 0.12155845761299133]], [[0.1052679643034935, 0.0894961804151535, 0.10551456362009048, 0.1453884392976761, 0.1261453628540039, 0.12854236364364624, 0.11745745688676834, 0.18218766152858734], [0.2775688171386719, 0.016092346981167793, 0.026226291432976723, 0.049767013639211655, 0.041011326014995575, 0.04368428885936737, 0.049536801874637604, 0.496113121509552], [0.12266074866056442, 0.005561844911426306, 0.7701103687286377, 0.007509808521717787, 0.006464007310569286, 0.012603487819433212, 0.011968729086220264, 0.06312098354101181], [0.09477207809686661, 0.0059155127964913845, 0.004230108577758074, 0.7810506820678711, 0.008929469622671604, 0.007445030380040407, 0.014858128502964973, 0.08279892057180405], [0.35968607664108276, 0.05999571830034256, 0.010914272628724575, 0.04750365391373634, 0.06158315762877464, 0.022114606574177742, 0.015188897959887981, 0.4230136573314667], [0.36819425225257874, 0.07931338995695114, 0.0708797425031662, 0.06889292597770691, 0.036111630499362946, 0.027125144377350807, 0.03148384764790535, 0.31799906492233276], [0.12757670879364014, 0.02053958922624588, 0.014613857492804527, 0.01958228275179863, 0.010132531635463238, 0.007407298777252436, 0.7646554708480835, 0.03549230098724365], [0.6122301816940308, 0.04247643053531647, 0.004639890044927597, 0.03378232568502426, 0.03368159011006355, 0.01776200532913208, 0.0018469843780621886, 0.25358062982559204]], [[0.09096606075763702, 0.274073988199234, 0.03383905813097954, 0.051018279045820236, 0.051544271409511566, 0.25003084540367126, 0.027892930433154106, 0.22063450515270233], [0.0002152415254386142, 6.109703826950863e-05, 4.389869354781695e-05, 2.471674270054791e-05, 3.8186142774065956e-05, 4.6603880036855116e-05, 4.833671482629143e-05, 0.9995219707489014], [0.027697362005710602, 0.28358322381973267, 0.0472906231880188, 0.06867549568414688, 0.06656988710165024, 0.096046082675457, 0.09528512507677078, 0.31485217809677124], [0.01460545789450407, 0.22443066537380219, 0.20608316361904144, 0.08317898958921432, 0.11545728892087936, 0.044211987406015396, 0.06634745746850967, 0.24568495154380798], [0.021999020129442215, 0.12257634103298187, 0.23989784717559814, 0.21222224831581116, 0.09495412558317184, 0.0382261723279953, 0.06629283726215363, 0.20383140444755554], [0.024451542645692825, 0.06753462553024292, 0.1728343516588211, 0.329285591840744, 0.12510721385478973, 0.044108014553785324, 0.03466476872563362, 0.20201382040977478], [0.009234161116182804, 0.036115605384111404, 0.16026930510997772, 0.2644042670726776, 0.29143011569976807, 0.08442430198192596, 0.04647279530763626, 0.10764949768781662], [0.008738869801163673, 8.103754225885496e-06, 0.00018421189452055842, 0.0007602220866829157, 0.0004676259122788906, 0.00014400252257473767, 0.00043214025208726525, 0.9892648458480835]], [[0.8634690046310425, 0.02004818618297577, 0.01871815137565136, 0.019480306655168533, 0.019607270136475563, 0.013320188969373703, 0.015530713833868504, 0.029826151207089424], [1.33143512357492e-05, 0.00040855430415831506, 0.9982061386108398, 0.0012999315513297915, 1.6324732996508828e-06, 8.499728032518306e-09, 1.3200323337514419e-05, 5.7135766837745905e-05], [9.115586180996615e-06, 0.0001030683342833072, 0.0014125837478786707, 0.9956941604614258, 0.002773213665932417, 5.698342192772543e-06, 9.359197861158464e-08, 2.1088551420689328e-06], [6.436376764895613e-08, 4.488758520437841e-08, 2.995252543769311e-06, 0.0003909434308297932, 0.998339056968689, 0.0012666566763073206, 1.3849417257461027e-07, 6.512951511439269e-09], [8.778079063631594e-07, 1.6401534139731666e-06, 9.509735576784806e-08, 3.8016172766219825e-05, 0.0012540456373244524, 0.9711326360702515, 0.027572253718972206, 4.163279072599835e-07], [2.653912645200762e-07, 7.191489999058831e-07, 7.026192179182544e-07, 2.287561251534953e-08, 4.113725026400061e-06, 0.0004924193490296602, 0.9984853863716125, 0.0010163591941818595], [1.494362322773668e-07, 7.169273885665461e-05, 2.8432459657778963e-05, 2.5273317660889916e-08, 1.7582813427452493e-08, 1.5970928870956413e-05, 0.003977783024311066, 0.9959059953689575], [0.999821126461029, 2.2200449478759765e-08, 3.770198418351356e-06, 3.839242708636448e-06, 6.152880427379159e-10, 8.052402494795885e-11, 1.4925957430023118e-06, 0.00016981207591015846]], [[0.0738835483789444, 0.08034360408782959, 0.06002651900053024, 0.08575259894132614, 0.10181671380996704, 0.05457380414009094, 0.04788745939731598, 0.49571579694747925], [0.05556297302246094, 0.04669266939163208, 0.07898819446563721, 0.2174731194972992, 0.19628171622753143, 0.08187059313058853, 0.12675142288208008, 0.19637936353683472], [0.07659912109375, 0.08423922955989838, 0.14748288691043854, 0.24815009534358978, 0.13674090802669525, 0.1109761968255043, 0.08288617432117462, 0.11292535066604614], [0.04030035063624382, 0.08929072320461273, 0.35840412974357605, 0.16464321315288544, 0.04723047465085983, 0.07753361761569977, 0.12159162014722824, 0.10100588947534561], [0.037997256964445114, 0.1369040608406067, 0.05325871706008911, 0.28554925322532654, 0.053344614803791046, 0.07621216028928757, 0.17149724066257477, 0.18523670732975006], [0.05980324745178223, 0.08055911958217621, 0.09605373442173004, 0.2436315417289734, 0.13846635818481445, 0.05057374760508537, 0.07842005044221878, 0.252492219209671], [0.03682661056518555, 0.08581636101007462, 0.10622649639844894, 0.5299842953681946, 0.09415798634290695, 0.07119262218475342, 0.027306390926241875, 0.048489321023225784], [0.02994888834655285, 0.12292851507663727, 0.1122380942106247, 0.16072311997413635, 0.18633152544498444, 0.14909052848815918, 0.13658839464187622, 0.10215097665786743]], [[0.18052789568901062, 0.1565483808517456, 0.0880783423781395, 0.10087435692548752, 0.09159363806247711, 0.10900278389453888, 0.1178932785987854, 0.1554812490940094], [0.24961109459400177, 0.08881957083940506, 0.08351647853851318, 0.14434345066547394, 0.1609201729297638, 0.1035316064953804, 0.07436200976371765, 0.09489557892084122], [0.3375014364719391, 0.03916947916150093, 0.046384047716856, 0.1892116218805313, 0.10081758350133896, 0.0561022125184536, 0.12355399131774902, 0.10725954920053482], [0.19944316148757935, 0.09379006922245026, 0.1123201921582222, 0.1586134433746338, 0.12173228710889816, 0.07594896852970123, 0.1246790811419487, 0.11347285658121109], [0.18346719443798065, 0.1255919188261032, 0.04904518276453018, 0.1027454361319542, 0.12125848233699799, 0.19999319314956665, 0.11600347608327866, 0.10189513117074966], [0.1929943561553955, 0.09676329791545868, 0.11599107086658478, 0.10960710793733597, 0.1748998910188675, 0.1050792932510376, 0.10292809456586838, 0.10173678398132324], [0.3505716025829315, 0.1275489181280136, 0.1068636104464531, 0.11791688948869705, 0.08221805095672607, 0.08941864967346191, 0.026470104232430458, 0.09899216890335083], [0.2940194606781006, 0.1027366891503334, 0.05599008500576019, 0.06998351216316223, 0.15121346712112427, 0.12174760550260544, 0.10801509022712708, 0.09629405289888382]], [[0.9951692223548889, 0.002026547910645604, 9.540694009047002e-05, 9.25063286558725e-05, 0.0007534131873399019, 0.001278612995520234, 0.00041227610199712217, 0.00017198013665620238], [0.9999657869338989, 3.4130986023228616e-05, 6.375640015932049e-10, 1.1413751345966394e-13, 3.963331399181591e-11, 2.9708195903310752e-09, 1.7215035086337593e-07, 1.3614166738395994e-10], [8.937740147985096e-08, 0.9999945163726807, 5.344889359548688e-06, 1.108604614358244e-11, 3.220885927675228e-16, 2.309338430119684e-13, 2.692882006272157e-08, 4.003072007208175e-08], [4.6410589260581503e-10, 6.080982529965695e-06, 0.9999897480010986, 4.1918960960174445e-06, 1.0310896234044797e-11, 2.169545589518536e-16, 1.7398584014612995e-15, 4.4154075951041705e-09], [9.078159231290517e-12, 8.227056866707064e-14, 1.5895795968390303e-06, 0.999990701675415, 7.751312296022661e-06, 5.559198500842966e-12, 1.3039792966805156e-16, 3.489176996273127e-16], [3.038883381045743e-11, 8.174410571485833e-16, 4.7954943103523454e-14, 1.9897629499610048e-06, 0.9999806880950928, 1.7362181097269058e-05, 2.330855126964071e-11, 2.5733198427275566e-17], [1.3183815150696887e-10, 5.527558619156103e-11, 5.216641399891965e-16, 4.039561111827961e-15, 1.589617386343889e-05, 0.9999492168426514, 3.4933000279124826e-05, 1.1902333285629396e-11], [7.828570014467573e-10, 2.9600923312500527e-07, 4.748558859492269e-13, 3.327455195954293e-18, 1.8959515388054533e-15, 1.0678545550035778e-06, 0.9999922513961792, 6.348809165501734e-06]], [[0.16371163725852966, 0.07074053585529327, 0.1188318207859993, 0.13657377660274506, 0.05904442444443703, 0.07557587325572968, 0.18393513560295105, 0.19158676266670227], [0.20708070695400238, 0.027622118592262268, 0.1287422925233841, 0.25060799717903137, 0.05981648713350296, 0.03734038770198822, 0.1721227467060089, 0.116667240858078], [0.08127498626708984, 0.16840940713882446, 0.2523925006389618, 0.04529916122555733, 0.10899639129638672, 0.17748844623565674, 0.08105434477329254, 0.08508472889661789], [0.028828253969550133, 0.01755635067820549, 0.22549191117286682, 0.07789500802755356, 0.03818601369857788, 0.02053098939359188, 0.5464265942573547, 0.04508478567004204], [0.12140766531229019, 0.040895987302064896, 0.0668291226029396, 0.45887893438339233, 0.01725468412041664, 0.04367418959736824, 0.1542677879333496, 0.09679166227579117], [0.1898784190416336, 0.03944547101855278, 0.1435360163450241, 0.22458863258361816, 0.08685067296028137, 0.03880539536476135, 0.1601909101009369, 0.11670445650815964], [0.08672530949115753, 0.14246827363967896, 0.13020585477352142, 0.07074400037527084, 0.07133978605270386, 0.1431322544813156, 0.23808811604976654, 0.11729647219181061], [0.2477109432220459, 0.23021773993968964, 0.10175629705190659, 0.020913776010274887, 0.128400981426239, 0.1149100735783577, 0.07506509870290756, 0.0810251533985138]]], [[[0.6431371569633484, 0.02960369735956192, 0.04501562938094139, 0.052825406193733215, 0.020357530564069748, 0.02840230241417885, 0.02331261709332466, 0.15734565258026123], [0.30145105719566345, 0.06780028343200684, 0.060273177921772, 0.020371977239847183, 0.029849372804164886, 0.05710066854953766, 0.024739861488342285, 0.43841353058815], [0.573728084564209, 0.07579103112220764, 0.006246716249734163, 0.03576367720961571, 0.013053908944129944, 0.07011112570762634, 0.03294999152421951, 0.19235548377037048], [0.5438792705535889, 0.038928743451833725, 0.07484051585197449, 0.007934252731502056, 0.03994721174240112, 0.0368041954934597, 0.03569972887635231, 0.22196611762046814], [0.3719380795955658, 0.10946551710367203, 0.04747605323791504, 0.03426653519272804, 0.08475535362958908, 0.11082834005355835, 0.024309197440743446, 0.21696095168590546], [0.39441680908203125, 0.056593745946884155, 0.06588114798069, 0.021951908245682716, 0.05108180269598961, 0.05895886570215225, 0.022999096661806107, 0.3281167149543762], [0.574826717376709, 0.04890809580683708, 0.121526800096035, 0.020284056663513184, 0.04986800253391266, 0.06136078014969826, 0.0027502633165568113, 0.12047528475522995], [0.23066160082817078, 0.12884408235549927, 0.05825383588671684, 0.10684237629175186, 0.08425743877887726, 0.12808893620967865, 0.051519498229026794, 0.21153227984905243]], [[0.500981867313385, 0.031843964010477066, 0.06615693867206573, 0.09866931289434433, 0.03938859701156616, 0.04091973602771759, 0.09171286970376968, 0.13032673299312592], [0.08411001414060593, 0.019148673862218857, 0.8713747262954712, 0.015769094228744507, 0.002070922404527664, 7.778139843139797e-05, 0.001831518835388124, 0.0056173005141317844], [0.3139338195323944, 0.002599449595436454, 0.040526390075683594, 0.6141990423202515, 0.025496862828731537, 0.00043934042332693934, 1.0931746146525256e-05, 0.0027942508459091187], [0.05363541468977928, 9.944056364474818e-05, 0.0011829541763290763, 0.07363731414079666, 0.8317529559135437, 0.03882429003715515, 0.0006434803945012391, 0.00022416288265958428], [0.16363805532455444, 4.7675479436293244e-05, 0.00016959292406681925, 0.0008342217188328505, 0.05495411530137062, 0.29973873496055603, 0.4798314869403839, 0.000786042190156877], [0.030372386798262596, 0.0001485456305090338, 0.00015329211601056159, 7.656672096345574e-06, 0.0010643408168107271, 0.010368713177740574, 0.9479308724403381, 0.009954183362424374], [0.008774956688284874, 0.00034303110442124307, 0.00031915123690851033, 1.3875479453417938e-05, 9.796296581043862e-06, 0.0002970997884403914, 0.012911181896924973, 0.9773310422897339], [0.8506269454956055, 0.00027060386491939425, 0.013405256904661655, 0.0029049506410956383, 0.00018449057824909687, 0.00014758006727788597, 0.004219078458845615, 0.12824121117591858]], [[0.05778992548584938, 0.12408425658941269, 0.1684514284133911, 0.2161552906036377, 0.1170535758137703, 0.07944487780332565, 0.16502264142036438, 0.07199809700250626], [0.03025595098733902, 0.0165033470839262, 0.677391529083252, 0.1705380380153656, 0.007682478986680508, 0.004973436705768108, 0.06092161312699318, 0.031733669340610504], [0.19268599152565002, 0.12533403933048248, 0.1320369988679886, 0.35195815563201904, 0.03116798959672451, 0.04117608442902565, 0.03319060057401657, 0.0924500972032547], [0.044654347002506256, 0.012471959926187992, 0.22473753988742828, 0.021504949778318405, 0.3911316692829132, 0.03472146391868591, 0.2300272285938263, 0.04075076803565025], [0.02852177619934082, 0.007668026722967625, 0.010478085838258266, 0.13716812431812286, 0.011414233595132828, 0.02572980523109436, 0.7337069511413574, 0.04531292989850044], [0.04613227769732475, 0.0053558615036308765, 0.07590202242136002, 0.08336540311574936, 0.015038866549730301, 0.019314823672175407, 0.6159305572509766, 0.13896022737026215], [0.07748417556285858, 0.02591301128268242, 0.04539012908935547, 0.00646625179797411, 0.026314258575439453, 0.06471690535545349, 0.11230014264583588, 0.6414151191711426], [0.05983777716755867, 0.0654459223151207, 0.05026770383119583, 0.0481158122420311, 0.01534183882176876, 0.058382485061883926, 0.1226072832942009, 0.5800012350082397]], [[0.1539982706308365, 0.06715008616447449, 0.04504949599504471, 0.2301914393901825, 0.07325337082147598, 0.04128532111644745, 0.0918695256114006, 0.2972024381160736], [0.012264525517821312, 0.01981150545179844, 0.11220182478427887, 0.5311335325241089, 0.13295932114124298, 0.051608458161354065, 0.03976500406861305, 0.1002558246254921], [0.2400362193584442, 0.015480350703001022, 0.04237845167517662, 0.27461549639701843, 0.10281791538000107, 0.12251289933919907, 0.07044833898544312, 0.13171038031578064], [0.05782876908779144, 0.004782774019986391, 0.009291835129261017, 0.05553751438856125, 0.2248019129037857, 0.18156389892101288, 0.23173658549785614, 0.23445682227611542], [0.03553738445043564, 0.0018293679459020495, 0.00330322771333158, 0.021931583061814308, 0.022883735597133636, 0.052924249321222305, 0.6142925024032593, 0.2472979575395584], [0.03463244065642357, 0.004512236453592777, 0.008735190145671368, 0.021399544551968575, 0.01726522669196129, 0.0271170474588871, 0.18419098854064941, 0.702147364616394], [0.22877022624015808, 0.004947625566273928, 0.010370494797825813, 0.013796194456517696, 0.012318744324147701, 0.013036878779530525, 0.0499199815094471, 0.6668398380279541], [0.9079981446266174, 0.006222869269549847, 0.0038526945281773806, 0.006272118538618088, 0.003369151381775737, 0.0052129910327494144, 0.007068920414894819, 0.06000319495797157]], [[0.4548899829387665, 0.08153469115495682, 0.04963233321905136, 0.23074482381343842, 0.0808224081993103, 0.04440828040242195, 0.033081602305173874, 0.024885866791009903], [0.7801846265792847, 0.05828610807657242, 0.054902583360672, 0.035229604691267014, 0.015167857520282269, 0.007871432229876518, 0.019468363374471664, 0.028889525681734085], [0.7390211224555969, 0.10096433758735657, 0.06064550206065178, 0.04297637194395065, 0.005547118838876486, 0.0033407814335078, 0.012795665301382542, 0.03470909222960472], [0.34146377444267273, 0.19059120118618011, 0.30442753434181213, 0.1003970131278038, 0.03044556826353073, 0.00612771837040782, 0.002676144242286682, 0.02387109026312828], [0.04000154510140419, 0.03233608603477478, 0.05759906768798828, 0.8450188040733337, 0.0074057262390851974, 0.008772817440330982, 0.0032672900706529617, 0.005598688032478094], [0.15314370393753052, 0.044181037694215775, 0.08232823014259338, 0.458717942237854, 0.1674405336380005, 0.03697581961750984, 0.030339261516928673, 0.02687348797917366], [0.3002634346485138, 0.010932516306638718, 0.015594919212162495, 0.16000661253929138, 0.35228389501571655, 0.07709917426109314, 0.042945828288793564, 0.04087361693382263], [0.7824585437774658, 0.006579467095434666, 0.0063854665495455265, 0.019565735012292862, 0.01601530611515045, 0.035904791206121445, 0.07986368238925934, 0.0532270185649395]], [[0.03988538309931755, 0.06377654522657394, 0.29308462142944336, 0.27152377367019653, 0.03464445471763611, 0.03403973951935768, 0.12104372680187225, 0.14200171828269958], [0.028987133875489235, 0.04110714793205261, 0.13873520493507385, 0.3544902503490448, 0.05437232926487923, 0.03801544010639191, 0.1162002682685852, 0.228092223405838], [0.150387704372406, 0.016815287992358208, 0.3831445574760437, 0.10413532704114914, 0.020348211750388145, 0.017987262457609177, 0.1576247662305832, 0.1495569497346878], [0.04363468289375305, 0.02981293387711048, 0.16110125184059143, 0.1632823646068573, 0.06825755536556244, 0.02453198842704296, 0.15039637684822083, 0.3589828610420227], [0.18892239034175873, 0.05613568425178528, 0.15231414139270782, 0.18000528216362, 0.032835040241479874, 0.047321923077106476, 0.15892475843429565, 0.18354082107543945], [0.1034751608967781, 0.05394970253109932, 0.2719336748123169, 0.2153657078742981, 0.024677565321326256, 0.03581538423895836, 0.1645701676607132, 0.13021260499954224], [0.2188313901424408, 0.04594819247722626, 0.3778497278690338, 0.09777118265628815, 0.023116759955883026, 0.044939424842596054, 0.08675670623779297, 0.10478658229112625], [0.5948511958122253, 0.05680905282497406, 0.05504021793603897, 0.011698584072291851, 0.010077598504722118, 0.07564248889684677, 0.035003162920475006, 0.16087771952152252]], [[0.3336029648780823, 0.0988679900765419, 0.059395018965005875, 0.0675240308046341, 0.09325560182332993, 0.1338498592376709, 0.058051999658346176, 0.15545259416103363], [0.4556104242801666, 0.13502632081508636, 0.021883005276322365, 0.004795240703970194, 0.058643124997615814, 0.1751938909292221, 0.0016914989100769162, 0.1471565216779709], [0.33368563652038574, 0.019193831831216812, 0.4631577730178833, 0.0009722155518829823, 0.006445258390158415, 0.043014757335186005, 0.0027416313532739878, 0.1307888627052307], [0.5934473872184753, 0.009094160050153732, 0.0011706758523359895, 0.23452012240886688, 0.007545966189354658, 0.024839451536536217, 0.012572734616696835, 0.11680953204631805], [0.2548929452896118, 0.026015812531113625, 0.005204975139349699, 0.0013321933802217245, 0.5995728373527527, 0.02904234081506729, 0.0005256657605059445, 0.08341329544782639], [0.38988932967185974, 0.2189832627773285, 0.031358376145362854, 0.01106280367821455, 0.07397589087486267, 0.15303735435009003, 0.001643978408537805, 0.12004898488521576], [0.46817103028297424, 0.014662100933492184, 0.0033869638573378325, 0.027950169518589973, 0.005329606123268604, 0.03696870803833008, 0.33127421140670776, 0.1122572049498558], [0.39422789216041565, 0.07731448858976364, 0.0645282194018364, 0.0766010656952858, 0.10802826285362244, 0.11471737176179886, 0.041387028992176056, 0.12319568544626236]], [[0.3209041655063629, 0.002201354131102562, 0.07833803445100784, 0.13653025031089783, 0.012468316592276096, 0.0018633451545611024, 0.0419028215110302, 0.4057917296886444], [0.4949871599674225, 0.005038308445364237, 0.06617014855146408, 0.06520774960517883, 0.010449782945215702, 0.003482639556750655, 0.04414452984929085, 0.31051966547966003], [0.4913330078125, 0.005312290042638779, 0.13157202303409576, 0.06340476870536804, 0.004762825556099415, 0.004112698137760162, 0.0817713662981987, 0.2177310734987259], [0.4668692648410797, 0.005615788046270609, 0.04730347916483879, 0.12333013862371445, 0.005432341247797012, 0.003537005977705121, 0.07083060592412949, 0.2770814299583435], [0.7183517813682556, 0.0032839507330209017, 0.05435984581708908, 0.05443371832370758, 0.0019671109039336443, 0.002725816098973155, 0.033489905297756195, 0.13138790428638458], [0.6835438013076782, 0.0035847164690494537, 0.06344631314277649, 0.056873101741075516, 0.0030616356525570154, 0.0019587369170039892, 0.029275720939040184, 0.15825599431991577], [0.6823638677597046, 0.002911235438659787, 0.08517103642225266, 0.06518419831991196, 0.016183018684387207, 0.00297811278142035, 0.02785443887114525, 0.1173541471362114], [0.014938629232347012, 0.4417511224746704, 0.0016398351872339845, 0.0008823275566101074, 0.00010276752436766401, 0.5390426516532898, 0.000764035212341696, 0.0008787104743532836]]], [[[0.10606124252080917, 0.010495192371308804, 0.015016856603324413, 0.04527737572789192, 0.01896866224706173, 0.009653775952756405, 0.007769069168716669, 0.7867578268051147], [0.06301195174455643, 0.08586722612380981, 0.01566808857023716, 0.01668630912899971, 0.006389327347278595, 0.0023303604684770107, 0.0006736459909006953, 0.8093730807304382], [0.12286089360713959, 0.16094745695590973, 0.037531912326812744, 0.01247094664722681, 0.0029730533715337515, 0.0013532508164644241, 0.004697219468653202, 0.6571652293205261], [0.03847004473209381, 0.389740526676178, 0.16732974350452423, 0.10739699006080627, 0.004081657622009516, 0.0018808661261573434, 0.0008444390259683132, 0.29025575518608093], [0.017024166882038116, 0.06536046415567398, 0.38762035965919495, 0.36023998260498047, 0.03238316997885704, 0.010242159478366375, 0.0007366401259787381, 0.12639300525188446], [0.008432457223534584, 0.0064523774199187756, 0.09030630439519882, 0.4013368487358093, 0.382735013961792, 0.026653816923499107, 0.0017582520376890898, 0.08232494443655014], [0.016522347927093506, 0.0013192584738135338, 0.014323864132165909, 0.23977483808994293, 0.5314959287643433, 0.05375625938177109, 0.012688612565398216, 0.1301189363002777], [0.05312345176935196, 0.01056875940412283, 0.01150909997522831, 0.018771491944789886, 0.011603792198002338, 0.0054782177321612835, 0.0064946869388222694, 0.8824505805969238]], [[0.04110550507903099, 0.08610278367996216, 0.15764084458351135, 0.4418419599533081, 0.058082710951566696, 0.03511444106698036, 0.15318964421749115, 0.026922181248664856], [0.031602222472429276, 0.04825981333851814, 0.027128364890813828, 0.021198049187660217, 0.004811186343431473, 0.0013574690092355013, 0.001184634049423039, 0.8644582033157349], [0.05035235360264778, 0.10731842368841171, 0.07321558892726898, 0.030829235911369324, 0.0057554589584469795, 0.0015561680775135756, 0.002614804310724139, 0.7283579707145691], [0.026152169331908226, 0.22934837639331818, 0.09466604888439178, 0.07011015713214874, 0.01709103211760521, 0.005061933305114508, 0.005940459202975035, 0.5516297817230225], [0.02636399306356907, 0.1007414311170578, 0.22343218326568604, 0.42307642102241516, 0.04366064444184303, 0.011198158375918865, 0.005450168624520302, 0.16607697308063507], [0.007575593888759613, 0.030007481575012207, 0.19964268803596497, 0.6175491809844971, 0.08813828229904175, 0.008181110955774784, 0.005348108243197203, 0.04355752840638161], [0.00976988673210144, 0.02599778212606907, 0.1167154312133789, 0.536361813545227, 0.1581471562385559, 0.015324223786592484, 0.01840103231370449, 0.11928270757198334], [0.11968649923801422, 0.018347278237342834, 0.02319665439426899, 0.02969202771782875, 0.01658552698791027, 0.011951079592108727, 0.020614106208086014, 0.7599267363548279]], [[0.08370660245418549, 0.08991118520498276, 0.25887519121170044, 0.33058157563209534, 0.062077946960926056, 0.06219591572880745, 0.08623603731393814, 0.026415569707751274], [0.23074394464492798, 0.0029176638927310705, 8.23178379505407e-06, 2.8480573632805317e-07, 4.298299700167263e-06, 4.299983265809715e-05, 6.595782178919762e-05, 0.7662165760993958], [0.02112608030438423, 0.9526576399803162, 0.0012485380284488201, 4.630158400686923e-06, 1.8629016551585664e-08, 2.336150970450035e-07, 1.9011357608178514e-06, 0.024960925802588463], [0.0036184429191052914, 0.001661973656155169, 0.9783390760421753, 0.00889377947896719, 6.933906206540996e-06, 9.227603925410222e-08, 1.5279644571819517e-07, 0.0074796052649617195], [0.0005170017248019576, 1.889430905066547e-06, 0.0014685195637866855, 0.9824841618537903, 0.0039269207045435905, 1.2018552297377028e-05, 1.1536345212448396e-09, 0.01158948801457882], [0.00012389494804665446, 6.175376654482534e-08, 1.586926288155155e-07, 0.0009102972107939422, 0.9926704168319702, 0.003765283850952983, 5.313999054123997e-07, 0.0025293822400271893], [0.0024125268682837486, 1.817566044337582e-05, 2.027574552698752e-08, 7.224657110782573e-06, 0.025971168652176857, 0.9606896042823792, 0.001224436447955668, 0.009676842950284481], [0.4722415506839752, 0.026812734082341194, 0.010067163966596127, 0.008185469545423985, 0.0030630887486040592, 0.012242134660482407, 0.007692067883908749, 0.45969581604003906]], [[0.032778192311525345, 0.05423920974135399, 0.11425259709358215, 0.03556351363658905, 0.016823187470436096, 0.017772868275642395, 0.03123023733496666, 0.6973401308059692], [0.05793100222945213, 0.12700891494750977, 0.2175540179014206, 0.11056747287511826, 0.0580391101539135, 0.09232471883296967, 0.1351197361946106, 0.20145493745803833], [0.0815344750881195, 0.11726627498865128, 0.15664279460906982, 0.139619842171669, 0.06756415218114853, 0.0843498483300209, 0.0653298869729042, 0.28769269585609436], [0.052559372037649155, 0.18440958857536316, 0.26974883675575256, 0.11122175306081772, 0.12308912724256516, 0.09020495414733887, 0.06778289377689362, 0.10098347067832947], [0.05470304563641548, 0.17826539278030396, 0.2213873565196991, 0.1092623621225357, 0.080050989985466, 0.07193484157323837, 0.07528074085712433, 0.20911526679992676], [0.018117859959602356, 0.2782020568847656, 0.3318392038345337, 0.17124450206756592, 0.03899800777435303, 0.054510027170181274, 0.047907814383506775, 0.05918057635426521], [0.032804716378450394, 0.15058431029319763, 0.18126212060451508, 0.2930283546447754, 0.04809379205107689, 0.0508563406765461, 0.03285098075866699, 0.2105194479227066], [0.04379541426897049, 0.006982361897826195, 0.015177514404058456, 0.007741878740489483, 0.0026079625822603703, 0.0040786294266581535, 0.006474707741290331, 0.9131416082382202]], [[0.11791696399450302, 0.07829169183969498, 0.07415740936994553, 0.21433359384536743, 0.08799278736114502, 0.1072947308421135, 0.09250029921531677, 0.22751258313655853], [0.014547553844749928, 0.03679736331105232, 0.27258944511413574, 0.2423957884311676, 0.1626482456922531, 0.06141749769449234, 0.13431142270565033, 0.07529260963201523], [0.03269044682383537, 0.02331908419728279, 0.0659121423959732, 0.12877197563648224, 0.16509731113910675, 0.23660840094089508, 0.1224425733089447, 0.22515814006328583], [0.010920536704361439, 0.020270299166440964, 0.02815008908510208, 0.06814009696245193, 0.12709738314151764, 0.2772912085056305, 0.3657412528991699, 0.10238906741142273], [0.006784772966057062, 0.00333553203381598, 0.01932501420378685, 0.023035909980535507, 0.03245735168457031, 0.07905880361795425, 0.7264304757118225, 0.10957203060388565], [0.026402099058032036, 0.007267445791512728, 0.023671722039580345, 0.028547490015625954, 0.05324629321694374, 0.08192834258079529, 0.4558229446411133, 0.32311373949050903], [0.03747862949967384, 0.003998033236712217, 0.003707676427438855, 0.0029295235872268677, 0.005959651432931423, 0.018003232777118683, 0.01314867939800024, 0.9147745370864868], [0.0934610664844513, 0.0072747645899653435, 0.010752215050160885, 0.011075904592871666, 0.007769182324409485, 0.00847357977181673, 0.007963999174535275, 0.8532293438911438]], [[0.11347061395645142, 0.20827463269233704, 0.023464152589440346, 0.07444395869970322, 0.11421507596969604, 0.19809764623641968, 0.11578202247619629, 0.15225191414356232], [0.04265863448381424, 0.13932716846466064, 0.018568100407719612, 0.0017981411656364799, 0.004162159748375416, 0.0017346093663945794, 0.012458764016628265, 0.7792924046516418], [0.030270744115114212, 0.21135883033275604, 0.04123122990131378, 0.0020314219873398542, 0.00024197743914555758, 0.0001053960804711096, 0.001376730971969664, 0.713383674621582], [0.04446389153599739, 0.047825053334236145, 0.06897586584091187, 0.11464648693799973, 0.002496211091056466, 0.0007079484639689326, 0.00019504058582242578, 0.7206895351409912], [0.03574545308947563, 0.003577273804694414, 0.004341269377619028, 0.5332550406455994, 0.020451951771974564, 0.006782108917832375, 5.603107638307847e-05, 0.39579087495803833], [0.027021124958992004, 0.00024094576656352729, 0.0005151212681084871, 0.01798233762383461, 0.7549890875816345, 0.035735659301280975, 0.00408839201554656, 0.15942738950252533], [0.018725978210568428, 0.0006752116023562849, 9.621700155548751e-05, 0.0012278752401471138, 0.13113926351070404, 0.3437083065509796, 0.0584062822163105, 0.44602087140083313], [0.16789168119430542, 0.016237638890743256, 0.030547773465514183, 0.009887549094855785, 0.014454521238803864, 0.011994884349405766, 0.038494888693094254, 0.7104911208152771]], [[0.06862577050924301, 0.005363201256841421, 0.006610412150621414, 0.008115235716104507, 0.0020709000527858734, 0.0030447097960859537, 0.0017304139910265803, 0.9044393301010132], [0.04420571029186249, 0.03896846994757652, 0.510994553565979, 0.03983413055539131, 0.0013461402850225568, 0.00020954628416802734, 0.0008632239769212902, 0.3635782301425934], [0.07651403546333313, 0.007337134797126055, 0.03379936143755913, 0.08669651299715042, 0.018886975944042206, 0.0017822557128965855, 2.9605218514916487e-05, 0.774954080581665], [0.035672664642333984, 0.0010253851069137454, 0.0027874878142029047, 0.0758691057562828, 0.19449959695339203, 0.04402991011738777, 0.0005042347474955022, 0.6456116437911987], [0.02326977625489235, 0.0004712361260317266, 0.00031329752528108656, 0.011651882901787758, 0.054387371987104416, 0.292786568403244, 0.1966399848461151, 0.4204799234867096], [0.04217778518795967, 0.00044706513290293515, 0.0005557520780712366, 0.0008757991017773747, 0.0031618920620530844, 0.027584878727793694, 0.44556882977485657, 0.47962793707847595], [0.06169861555099487, 0.0035932185128331184, 0.0018393928185105324, 0.0012452008668333292, 0.0002733504807110876, 0.00909469835460186, 0.04480975493788719, 0.8774457573890686], [0.1758284568786621, 0.02480677329003811, 0.042245153337717056, 0.02035791613161564, 0.009400605224072933, 0.010595720261335373, 0.03524882346391678, 0.6815165281295776]], [[0.0073824492283165455, 0.07271701097488403, 0.004917855840176344, 0.047060173004865646, 0.09227784723043442, 0.29843756556510925, 0.0003830594359897077, 0.4768241047859192], [2.2281250494415872e-05, 0.0036847256124019623, 0.9959230422973633, 4.3340307456674054e-05, 3.116056035423753e-08, 1.2423564399455245e-09, 6.090395743285626e-08, 0.00032645929604768753], [1.5580209264953737e-06, 4.307139533921145e-07, 0.0020067135337740183, 0.9977709054946899, 0.00011877965880557895, 4.8638404415157765e-09, 6.681143810936818e-13, 0.00010160673264181241], [3.3381686534994515e-06, 6.229959659265205e-09, 4.670843978260564e-08, 0.0007392841507680714, 0.9933637380599976, 0.0001884860685095191, 8.100327630877757e-10, 0.005705185700207949], [1.099065457310644e-06, 8.056635891762198e-08, 1.8593978787229126e-11, 6.4179430658839465e-09, 0.0002887024311348796, 0.9992296695709229, 0.00011010693560820073, 0.00037035776767879725], [5.387634882936254e-05, 5.128430302647757e-07, 4.0308938409339135e-09, 9.533170780562372e-11, 1.2353599743164523e-07, 0.0013835298595950007, 0.9984727501869202, 8.921378321247175e-05], [1.077128644055847e-07, 1.2973553786821412e-08, 2.5729265940022117e-10, 2.3445199774652092e-12, 1.5707663576954023e-13, 6.785070838510876e-10, 1.5574285328057158e-07, 0.9999997615814209], [0.10205423086881638, 0.0013586780987679958, 0.0007825593347661197, 0.0013006961671635509, 0.000872114731464535, 0.0010833581909537315, 0.00024346062855329365, 0.8923048377037048]]], [[[0.0538894459605217, 0.0091758007183671, 0.03751397877931595, 0.02223273180425167, 0.017144953832030296, 0.002526081632822752, 0.009239177219569683, 0.8482778072357178], [0.007870957255363464, 0.011425056494772434, 0.05558177828788757, 0.014757497236132622, 0.002784313401207328, 0.0001578184455865994, 0.00047377313603647053, 0.9069488048553467], [0.028804969042539597, 0.004350847098976374, 0.04086718335747719, 0.3568415939807892, 0.2236853688955307, 0.006547726225107908, 0.0019224804127588868, 0.33697977662086487], [0.020249566063284874, 0.005255912896245718, 0.017381612211465836, 0.0745452344417572, 0.10687978565692902, 0.021304970607161522, 0.011207706294953823, 0.743175208568573], [0.0120538379997015, 0.002262132242321968, 0.010443238541483879, 0.012186883948743343, 0.017690885812044144, 0.017471320927143097, 0.03552224859595299, 0.8923695087432861], [0.009007374756038189, 0.0009258962236344814, 0.0018665725365281105, 0.0014337464235723019, 0.001926382421515882, 0.002303281333297491, 0.02990765869617462, 0.9526290893554688], [0.016989953815937042, 0.0037765761371701956, 0.011267540045082569, 0.012704125605523586, 0.005043343175202608, 0.006171817891299725, 0.026183215901255608, 0.9178634285926819], [0.16605064272880554, 0.10278621315956116, 0.1323234736919403, 0.1118900403380394, 0.08760777115821838, 0.06259200721979141, 0.11752105504274368, 0.2192288488149643]], [[0.032775070518255234, 0.021655624732375145, 0.17217567563056946, 0.025147845968604088, 0.02843387983739376, 0.013306185603141785, 0.09180823713541031, 0.6146974563598633], [0.009018806740641594, 0.04735708609223366, 0.002245835494250059, 0.0011160647263750434, 0.001264180988073349, 0.0010241448180750012, 0.00044664283632300794, 0.9375272989273071], [0.011086487211287022, 0.003100736066699028, 0.05581245571374893, 0.002295462880283594, 0.0013973381137475371, 0.0003937535220757127, 0.0009295242489315569, 0.924984335899353], [0.004778353497385979, 0.0022922998759895563, 0.0021155490539968014, 0.038526151329278946, 0.002983509097248316, 0.000894938362762332, 0.00010804353223647922, 0.9483010768890381], [0.012477628886699677, 0.002899151062592864, 0.0016244938597083092, 0.005163812078535557, 0.059751104563474655, 0.003924403339624405, 0.0001238738768734038, 0.914035439491272], [0.005314614158123732, 0.001089608995243907, 0.0006060193409211934, 0.0009882673621177673, 0.004259562585502863, 0.09156433492898941, 0.0009663726668804884, 0.8952112197875977], [0.014555796049535275, 0.0009304232080467045, 0.011806132271885872, 0.0003666171105578542, 0.0007997446227818727, 0.0015778971137478948, 0.02730450965464115, 0.9426589608192444], [0.0818118304014206, 0.05079646036028862, 0.12312038242816925, 0.07279936969280243, 0.03192101791501045, 0.031528688967227936, 0.15901023149490356, 0.44901204109191895]], [[0.08888829499483109, 0.08796532452106476, 0.2144324779510498, 0.08340385556221008, 0.02619745582342148, 0.019625358283519745, 0.1336677521467209, 0.34581947326660156], [0.04361807554960251, 0.06582440435886383, 0.0603485107421875, 0.06327874958515167, 0.02727426029741764, 0.03648895397782326, 0.0331631563603878, 0.6700039505958557], [0.07090947031974792, 0.022326065227389336, 0.04707852005958557, 0.07882088422775269, 0.07220346480607986, 0.0568305142223835, 0.079921193420887, 0.5719098448753357], [0.0406174436211586, 0.009948878549039364, 0.03396134451031685, 0.03987959772348404, 0.01615440472960472, 0.024703234434127808, 0.09143571555614471, 0.7432994246482849], [0.019313164055347443, 0.002050909213721752, 0.014938673004508018, 0.007592751644551754, 0.004456005524843931, 0.008453593589365482, 0.06486041098833084, 0.8783345818519592], [0.010120092891156673, 0.0011389367282390594, 0.002317564096301794, 0.0009463743772357702, 0.00045869723544456065, 0.002047792077064514, 0.008528383448719978, 0.9744421243667603], [0.03655622899532318, 0.00791226327419281, 0.0290931798517704, 0.009811392053961754, 0.004905272275209427, 0.010593388229608536, 0.0335368737578392, 0.8675914406776428], [0.07271566987037659, 0.14909225702285767, 0.17154069244861603, 0.12839515507221222, 0.09543238580226898, 0.10299370437860489, 0.17970721423625946, 0.1001228392124176]], [[0.04356290400028229, 0.2602311968803406, 0.25107014179229736, 0.11244367808103561, 0.10837285965681076, 0.03480160981416702, 0.12288853526115417, 0.06662905961275101], [0.005150396842509508, 0.016830023378133774, 0.008896308951079845, 0.003500281134620309, 0.0006597312167286873, 0.0006422551232390106, 0.006007764022797346, 0.9583132266998291], [0.02284419536590576, 0.2065122127532959, 0.10357076674699783, 0.08894626796245575, 0.06485887616872787, 0.014795243740081787, 0.04827957600355148, 0.4501928389072418], [0.020762713626027107, 0.08406441658735275, 0.03549812734127045, 0.04044942557811737, 0.017174702137708664, 0.006772455293685198, 0.02016029879450798, 0.7751178741455078], [0.006645290181040764, 0.054102834314107895, 0.042155005037784576, 0.00877510104328394, 0.004558151587843895, 0.002206838456913829, 0.006994469556957483, 0.8745622634887695], [0.005181600805372, 0.026808980852365494, 0.052248138934373856, 0.008921739645302296, 0.013154491782188416, 0.006288738455623388, 0.0170398261398077, 0.8703565001487732], [0.025646300986409187, 0.07839087396860123, 0.2251834124326706, 0.0913703516125679, 0.22372858226299286, 0.09508196264505386, 0.06117381528019905, 0.19942478835582733], [0.059401433914899826, 0.16487909853458405, 0.18630963563919067, 0.14696615934371948, 0.07001613080501556, 0.06632296741008759, 0.23262718319892883, 0.0734773725271225]], [[0.0705314576625824, 0.1170911192893982, 0.15623661875724792, 0.2483266144990921, 0.050915978848934174, 0.035169631242752075, 0.09095389395952225, 0.2307746410369873], [0.011716673150658607, 0.15682043135166168, 0.004925903864204884, 0.002052800729870796, 0.0012256130576133728, 0.0014004958793520927, 0.00032192518119700253, 0.8215361833572388], [0.012342949397861958, 0.0018456827383488417, 0.06312888115644455, 0.007140757981687784, 0.0004997216747142375, 0.0006497559370473027, 0.00019206097931601107, 0.9142001271247864], [0.005407362710684538, 0.001112712430767715, 0.0012800813419744372, 0.05822223052382469, 0.0015681700315326452, 0.0011510212207213044, 1.0731975635280833e-05, 0.9312475323677063], [0.004143973346799612, 0.002384465653449297, 0.0004469464474823326, 0.0038741605821996927, 0.021609093993902206, 0.003179842373356223, 2.497790592315141e-05, 0.9643365144729614], [0.006758329924196005, 0.0020751366391777992, 0.0009799053659662604, 0.002381294034421444, 0.0028562231454998255, 0.033330194652080536, 0.00034491269616410136, 0.9512739777565002], [0.01718956232070923, 0.002651524031534791, 0.012397607788443565, 0.0004343980981502682, 0.0006814473890699446, 0.0026834344025701284, 0.03635000064969063, 0.9276121258735657], [0.0863649919629097, 0.09234365820884705, 0.11329882591962814, 0.07483670115470886, 0.05942080169916153, 0.04067175090312958, 0.13731011748313904, 0.39575305581092834]], [[0.05638232082128525, 0.145191490650177, 0.07042450457811356, 0.050717271864414215, 0.10500024259090424, 0.05988515168428421, 0.1350528597831726, 0.3773461878299713], [0.0246601402759552, 0.10503558069467545, 0.01879347488284111, 0.0009364107390865684, 0.004278099164366722, 0.0031976033933460712, 0.0069122761487960815, 0.8361865282058716], [0.04558670520782471, 0.024182695895433426, 0.047242797911167145, 0.0068114944733679295, 0.006565469782799482, 0.0058539691381156445, 0.007120069116353989, 0.8566368818283081], [0.0365908108651638, 0.014242365024983883, 0.015522370114922523, 0.0797523632645607, 0.0329858772456646, 0.008708583191037178, 0.01154535822570324, 0.8006523251533508], [0.03777680546045303, 0.022959301248192787, 0.0076126656495034695, 0.008607191033661366, 0.08779966086149216, 0.013130590319633484, 0.016374655067920685, 0.8057392239570618], [0.030214503407478333, 0.040573347359895706, 0.00793131347745657, 0.0031181389931589365, 0.018815847113728523, 0.13661885261535645, 0.028238261118531227, 0.7344897985458374], [0.030430901795625687, 0.01039101928472519, 0.01863277330994606, 0.001906887860968709, 0.007619953248649836, 0.02001740224659443, 0.01916651241481304, 0.8918344974517822], [0.09614177793264389, 0.07074282318353653, 0.15469200909137726, 0.06661581248044968, 0.05422162264585495, 0.057817243039608, 0.32341232895851135, 0.17635641992092133]], [[0.10378742963075638, 0.17462630569934845, 0.14626725018024445, 0.09842870384454727, 0.06481163203716278, 0.0671103224158287, 0.11823830753564835, 0.22672998905181885], [0.00661758566275239, 0.006636017933487892, 0.00658799335360527, 0.0009640392381697893, 0.00047262708540074527, 0.00027115867123939097, 0.0020148467738181353, 0.9764357209205627], [0.06677669286727905, 0.04249782860279083, 0.04193507134914398, 0.05378612503409386, 0.02997303009033203, 0.011249376460909843, 0.0422026701271534, 0.7115791440010071], [0.007053652312606573, 0.008971772156655788, 0.015473340637981892, 0.004257764667272568, 0.005912225693464279, 0.0024314906913787127, 0.006588542368263006, 0.9493112564086914], [0.003733596997335553, 0.0015166719676926732, 0.003959363326430321, 0.0009258665377274156, 0.0003701428940985352, 0.00013346878404263407, 0.0012973130214959383, 0.9880635142326355], [0.005838322918862104, 0.00236900569871068, 0.005535642150789499, 0.0024917814880609512, 0.0013003258500248194, 0.00042044685687869787, 0.001070244936272502, 0.9809742569923401], [0.06724529713392258, 0.03818664327263832, 0.08918628096580505, 0.10068327933549881, 0.08426707237958908, 0.02691284753382206, 0.03615032136440277, 0.557368278503418], [0.0853692814707756, 0.11238318681716919, 0.13359428942203522, 0.1113002821803093, 0.12717638909816742, 0.10703121870756149, 0.23101086914539337, 0.0921345055103302]], [[0.13238407671451569, 0.04668563976883888, 0.2732125520706177, 0.0315437987446785, 0.056661590933799744, 0.018761396408081055, 0.18065501749515533, 0.2600959241390228], [0.019243894144892693, 0.015598228201270103, 0.005462923087179661, 0.0010100394720211625, 0.001330530853010714, 0.0005595558322966099, 0.010071683675050735, 0.9467230439186096], [0.04841725528240204, 0.507595419883728, 0.12575021386146545, 0.00965381320565939, 0.021530812606215477, 0.01375170424580574, 0.018785294145345688, 0.25451549887657166], [0.018315499648451805, 0.17445388436317444, 0.22288523614406586, 0.023054225370287895, 0.014216233976185322, 0.003948274999856949, 0.005325875710695982, 0.5378007888793945], [0.031790558248758316, 0.01408568024635315, 0.09022916108369827, 0.034254755824804306, 0.03305622562766075, 0.015518889762461185, 0.0060503208078444, 0.7750144004821777], [0.007645707111805677, 0.001474821474403143, 0.004065054468810558, 0.003812337527051568, 0.0782899484038353, 0.013391181826591492, 0.018724359571933746, 0.8725966215133667], [0.056291237473487854, 0.020333880558609962, 0.043789517134428024, 0.019843528047204018, 0.2752552926540375, 0.26644155383110046, 0.01941615343093872, 0.2986288368701935], [0.12601391971111298, 0.13323377072811127, 0.1651245504617691, 0.07071161270141602, 0.10552214086055756, 0.08600471168756485, 0.20174063742160797, 0.11164873838424683]]]], \"left_text\": [\"[CLS]\", \"the\", \"cat\", \"sat\", \"on\", \"the\", \"mat\", \"[SEP]\"], \"right_text\": [\"[CLS]\", \"the\", \"cat\", \"sat\", \"on\", \"the\", \"mat\", \"[SEP]\"]}], \"default_filter\": \"0\", \"display_mode\": \"dark\", \"root_div_id\": \"bertviz-89038963e1484350873e652ecfd33cd1\", \"include_layers\": [0, 1, 2, 3], \"include_heads\": [0, 1, 2, 3, 4, 5, 6, 7], \"total_heads\": 8} is a template marker that is replaced by actual params.\n        const config = {};\n\n        const MIN_X = 0;\n        const MIN_Y = 0;\n        const DIV_WIDTH = 970;\n        const THUMBNAIL_PADDING = 5;\n        const DETAIL_WIDTH = 300;\n        const DETAIL_ATTENTION_WIDTH = 140;\n        const DETAIL_BOX_WIDTH = 80;\n        const DETAIL_BOX_HEIGHT = 18;\n        const DETAIL_PADDING = 15;\n        const ATTN_PADDING = 0;\n        const DETAIL_HEADING_HEIGHT = 25;\n        const HEADING_TEXT_SIZE = 15;\n        const HEADING_PADDING = 5;\n        const TEXT_SIZE = 13;\n        const TEXT_PADDING = 5;\n        const LAYER_COLORS = d3.schemeCategory10;\n        const PALETTE = {\n            'light': {\n                'text': 'black',\n                'background': 'white',\n                'highlight': '#F5F5F5'\n            },\n            'dark': {\n                'text': '#ccc',\n                'background': 'black',\n                'highlight': '#222'\n            }\n        }\n\n        function render() {\n\n            // Set global state variables\n\n            var attData = config.attention[config.filter];\n            config.leftText = attData.left_text;\n            config.rightText = attData.right_text;\n            config.attn = attData.attn;\n            config.numLayers = config.attn.length;\n            config.numHeads = config.attn[0].length;\n            config.thumbnailBoxHeight = 7 * (12 / config.totalHeads);\n            const axisSize = HEADING_TEXT_SIZE + HEADING_PADDING + TEXT_SIZE + TEXT_PADDING;\n            config.thumbnailHeight = Math.max(config.leftText.length, config.rightText.length) * config.thumbnailBoxHeight + 2 * THUMBNAIL_PADDING;\n            config.thumbnailWidth = (DIV_WIDTH - axisSize) / config.totalHeads;\n            config.detailHeight = Math.max(config.leftText.length, config.rightText.length) * DETAIL_BOX_HEIGHT + 2 * DETAIL_PADDING + DETAIL_HEADING_HEIGHT;\n            config.divHeight = Math.max(config.numLayers * config.thumbnailHeight + axisSize, config.detailHeight);\n\n            const vis = $(`#${config.rootDivId} #vis`)\n            vis.empty();\n            vis.attr(\"height\", config.divHeight);\n            config.svg = d3.select(`#${config.rootDivId} #vis`)\n                .append('svg')\n                .attr(\"width\", DIV_WIDTH)\n                .attr(\"height\", config.divHeight)\n                .attr(\"fill\", getBackgroundColor());\n\n            renderAxisLabels();\n\n            var i;\n            var j;\n            for (i = 0; i < config.numLayers; i++) {\n                for (j = 0; j < config.numHeads; j++) {\n                    renderThumbnail(i, j);\n                }\n            }\n        }\n\n        function renderAxisLabels() {\n            const axisSize = HEADING_TEXT_SIZE + HEADING_PADDING + TEXT_SIZE + TEXT_PADDING;\n            const tableWidth = config.thumbnailWidth * config.heads.length;\n            config.svg.append(\"text\")\n                .text(\"Heads\")\n                .attr(\"fill\", \"black\")\n                .attr(\"font-weight\", \"bold\")\n                .attr(\"font-size\", HEADING_TEXT_SIZE + \"px\")\n                .attr(\"x\", axisSize + tableWidth / 2)\n                .attr(\"text-anchor\", \"middle\")\n                .attr(\"y\", 0)\n                .attr(\"dy\", HEADING_TEXT_SIZE);\n            for (let i = 0; i < config.numHeads; i++) {\n                config.svg.append(\"text\")\n                    .text(config.heads[i])\n                    .attr(\"fill\", \"black\")\n                    .attr(\"font-size\", TEXT_SIZE + \"px\")\n                    .attr(\"x\", axisSize + (i + .5) * config.thumbnailWidth)\n                    .attr(\"text-anchor\", \"middle\")\n                    .attr(\"y\", HEADING_TEXT_SIZE + HEADING_PADDING)\n                    .attr(\"dy\", TEXT_SIZE);\n            }\n            let x = 0;\n            let y = axisSize + config.thumbnailHeight * config.layers.length / 2;\n            console.log(\"x\", x, y)\n            config.svg.append(\"text\")\n                .text(\"Layers\")\n                .attr(\"fill\", \"black\")\n                .attr(\"font-weight\", \"bold\")\n                .attr(\"transform\", \"rotate(270, \" + x  + \", \" + y + \")\")\n                .attr(\"font-size\", HEADING_TEXT_SIZE + \"px\")\n                .attr(\"x\", x)\n                .attr(\"text-anchor\", \"middle\")\n                .attr(\"y\", y)\n                .attr(\"dy\", HEADING_TEXT_SIZE);\n            for (let i = 0; i < config.numLayers; i++) {\n                x = HEADING_TEXT_SIZE + HEADING_PADDING + TEXT_SIZE; // HACK\n                y = axisSize + (i + .5) * config.thumbnailHeight;\n                config.svg.append(\"text\")\n                    .text(config.layers[i])\n                    .attr(\"fill\", \"black\")\n                    .attr(\"font-size\", TEXT_SIZE + \"px\")\n                    .attr(\"x\", x)\n                    .attr(\"text-anchor\", \"end\")\n                    .attr(\"y\", y)\n                    .attr(\"dy\", TEXT_SIZE / 2);\n            }\n        }\n\n\n        function renderThumbnail(layerIndex, headIndex) {\n            const axisSize = HEADING_TEXT_SIZE + HEADING_PADDING + TEXT_SIZE + TEXT_PADDING\n            const x = headIndex * config.thumbnailWidth + axisSize;\n            const y = layerIndex * config.thumbnailHeight + axisSize;\n            renderThumbnailAttn(x, y, config.attn[layerIndex][headIndex], layerIndex, headIndex);\n        }\n\n        function renderDetail(att, layerIndex, headIndex) {\n            const axisSize = TEXT_SIZE + HEADING_PADDING + TEXT_SIZE + TEXT_PADDING;\n            var xOffset = .8 * config.thumbnailWidth;\n            var maxX = DIV_WIDTH;\n            var maxY = config.divHeight - 3;\n            var leftPos = axisSize + headIndex * config.thumbnailWidth;\n            var x = leftPos + THUMBNAIL_PADDING + xOffset;\n            if (x < MIN_X) {\n                x = MIN_X;\n            } else if (x + DETAIL_WIDTH > maxX) {\n                x = leftPos + THUMBNAIL_PADDING - DETAIL_WIDTH + 8;\n            }\n            var posLeftText = x;\n            var posAttention = posLeftText + DETAIL_BOX_WIDTH;\n            var posRightText = posAttention + DETAIL_ATTENTION_WIDTH;\n            var thumbnailHeight = Math.max(config.leftText.length, config.rightText.length) * config.thumbnailBoxHeight + 2 * THUMBNAIL_PADDING;\n            var yOffset = 20;\n            var y = layerIndex * thumbnailHeight + THUMBNAIL_PADDING + yOffset;\n            if (y < MIN_Y) {\n                y = MIN_Y;\n            } else if (y + config.detailHeight > maxY) {\n                y = maxY - config.detailHeight;\n            }\n            renderDetailFrame(x, y, layerIndex);\n            y = y + DETAIL_PADDING;\n            renderDetailHeading(x, y, layerIndex, headIndex);\n            y = y + DETAIL_HEADING_HEIGHT;\n            renderDetailText(config.leftText, \"leftText\", posLeftText, y , layerIndex);\n            renderDetailAttn(posAttention, y, att, layerIndex, headIndex);\n            renderDetailText(config.rightText, \"rightText\", posRightText, y, layerIndex);\n        }\n\n        function renderDetailHeading(x, y, layerIndex, headIndex) {\n            var fillColor = getTextColor();\n            config.svg.append(\"text\")\n                .classed(\"detail\", true)\n                .text('Layer ' + config.layers[layerIndex] + \", Head \" + config.heads[headIndex])\n                .attr(\"font-size\", TEXT_SIZE + \"px\")\n                .attr(\"font-weight\", \"bold\")\n                .style(\"cursor\", \"default\")\n                .style(\"-webkit-user-select\", \"none\")\n                .attr(\"fill\", fillColor)\n                .attr(\"x\", x + DETAIL_WIDTH / 2)\n                .attr(\"text-anchor\", \"middle\")\n                .attr(\"y\", y)\n                .attr(\"height\", DETAIL_HEADING_HEIGHT)\n                .attr(\"width\", DETAIL_WIDTH)\n                .attr(\"dy\", HEADING_TEXT_SIZE);\n        }\n\n        function renderDetailText(text, id, x, y, layerIndex) {\n            var tokenContainer = config.svg.append(\"svg:g\")\n                .classed(\"detail\", true)\n                .selectAll(\"g\")\n                .data(text)\n                .enter()\n                .append(\"g\");\n\n            var fillColor = getTextColor();\n\n            tokenContainer.append(\"rect\")\n                .classed(\"highlight\", true)\n                .attr(\"fill\", fillColor)\n                .style(\"opacity\", 0.0)\n                .attr(\"height\", DETAIL_BOX_HEIGHT)\n                .attr(\"width\", DETAIL_BOX_WIDTH)\n                .attr(\"x\", x)\n                .attr(\"y\", function (d, i) {\n                    return y + i * DETAIL_BOX_HEIGHT;\n                });\n\n            var textContainer = tokenContainer.append(\"text\")\n                .classed(\"token\", true)\n                .text(function (d) {\n                    return d;\n                })\n                .attr(\"font-size\", TEXT_SIZE + \"px\")\n                .style(\"cursor\", \"default\")\n                .style(\"-webkit-user-select\", \"none\")\n                .attr(\"fill\", fillColor)\n                .attr(\"x\", x)\n                .attr(\"y\", function (d, i) {\n                    return i * DETAIL_BOX_HEIGHT + y;\n                })\n                .attr(\"height\", DETAIL_BOX_HEIGHT)\n                .attr(\"width\", DETAIL_BOX_WIDTH)\n                .attr(\"dy\", TEXT_SIZE);\n\n            if (id == \"leftText\") {\n                textContainer.style(\"text-anchor\", \"end\")\n                    .attr(\"dx\", DETAIL_BOX_WIDTH - 2);\n                tokenContainer.on(\"mouseover\", function (d, index) {\n                    highlightSelection(index);\n                });\n                tokenContainer.on(\"mouseleave\", function () {\n                    unhighlightSelection();\n                });\n            }\n        }\n\n        function highlightSelection(index) {\n            config.svg.select(\"#leftText\")\n                .selectAll(\".highlight\")\n                .style(\"opacity\", function (d, i) {\n                    return i == index ? 1.0 : 0.0;\n                });\n            config.svg.selectAll(\".attn-line-group\")\n                .style(\"opacity\", function (d, i) {\n                    return i == index ? 1.0 : 0.0;\n                });\n        }\n\n        function unhighlightSelection() {\n            config.svg.select(\"#leftText\")\n                .selectAll(\".highlight\")\n                .style(\"opacity\", 0.0);\n            config.svg.selectAll(\".attn-line-group\")\n                .style(\"opacity\", 1);\n        }\n\n        function renderThumbnailAttn(x, y, att, layerIndex, headIndex) {\n\n            var attnContainer = config.svg.append(\"svg:g\");\n\n            var attnBackground = attnContainer.append(\"rect\")\n                .attr(\"id\", 'attn_background_' + layerIndex + \"_\" + headIndex)\n                .classed(\"attn_background\", true)\n                .attr(\"x\", x)\n                .attr(\"y\", y)\n                .attr(\"height\", config.thumbnailHeight)\n                .attr(\"width\", config.thumbnailWidth)\n                .attr(\"stroke-width\", 2)\n                .attr(\"stroke\", getLayerColor(layerIndex))\n                .attr(\"stroke-opacity\", 0)\n                .attr(\"fill\", getBackgroundColor());\n            var x1 = x + THUMBNAIL_PADDING;\n            var x2 = x1 + config.thumbnailWidth - 14;\n            var y1 = y + THUMBNAIL_PADDING;\n\n            attnContainer.selectAll(\"g\")\n                .data(att)\n                .enter()\n                .append(\"g\") // Add group for each source token\n                .attr(\"source-index\", function (d, i) { // Save index of source token\n                    return i;\n                })\n                .selectAll(\"line\")\n                .data(function (d) { // Loop over all target tokens\n                    return d;\n                })\n                .enter() // When entering\n                .append(\"line\")\n                .attr(\"x1\", x1)\n                .attr(\"y1\", function (d) {\n                    var sourceIndex = +this.parentNode.getAttribute(\"source-index\");\n                    return y1 + (sourceIndex + .5) * config.thumbnailBoxHeight;\n                })\n                .attr(\"x2\", x2)\n                .attr(\"y2\", function (d, targetIndex) {\n                    return y1 + (targetIndex + .5) * config.thumbnailBoxHeight;\n                })\n                .attr(\"stroke-width\", 2.2)\n                .attr(\"stroke\", getLayerColor(layerIndex))\n                .attr(\"stroke-opacity\", function (d) {\n                    return d;\n                });\n\n            var clickRegion = attnContainer.append(\"rect\")\n                .attr(\"x\", x)\n                .attr(\"y\", y)\n                .attr(\"height\", config.thumbnailHeight)\n                .attr(\"width\", config.thumbnailWidth)\n                .style(\"opacity\", 0);\n\n            clickRegion.on(\"click\", function (d, index) {\n                var attnBackgroundOther = config.svg.selectAll(\".attn_background\");\n                attnBackgroundOther.attr(\"fill\", getBackgroundColor());\n                attnBackgroundOther.attr(\"stroke-opacity\", 0);\n\n                config.svg.selectAll(\".detail\").remove();\n                if (config.detail_layer != layerIndex || config.detail_head != headIndex) {\n                    renderDetail(att, layerIndex, headIndex);\n                    config.detail_layer = layerIndex;\n                    config.detail_head = headIndex;\n                    attnBackground.attr(\"fill\", getHighlightColor());\n                    attnBackground.attr(\"stroke-opacity\", .8);\n                } else {\n                    config.detail_layer = null;\n                    config.detail_head = null;\n                    attnBackground.attr(\"fill\", getBackgroundColor());\n                    attnBackground.attr(\"stroke-opacity\", 0);\n                }\n            });\n\n            clickRegion.on(\"mouseover\", function (d) {\n                d3.select(this).style(\"cursor\", \"pointer\");\n            });\n        }\n\n        function renderDetailFrame(x, y, layerIndex) {\n            var detailFrame = config.svg.append(\"rect\")\n                .classed(\"detail\", true)\n                .attr(\"x\", x)\n                .attr(\"y\", y)\n                .attr(\"height\", config.detailHeight)\n                .attr(\"width\", DETAIL_WIDTH)\n                .style(\"opacity\", 1)\n                .attr(\"stroke-width\", 1.5)\n                .attr(\"stroke-opacity\", 0.7)\n                .attr(\"stroke\", getLayerColor(layerIndex));\n        }\n\n        function renderDetailAttn(x, y, att, layerIndex) {\n            var attnContainer = config.svg.append(\"svg:g\")\n                .classed(\"detail\", true)\n                .attr(\"pointer-events\", \"none\");\n            attnContainer.selectAll(\"g\")\n                .data(att)\n                .enter()\n                .append(\"g\") // Add group for each source token\n                .classed('attn-line-group', true)\n                .attr(\"source-index\", function (d, i) { // Save index of source token\n                    return i;\n                })\n                .selectAll(\"line\")\n                .data(function (d) { // Loop over all target tokens\n                    return d;\n                })\n                .enter()\n                .append(\"line\")\n                .attr(\"x1\", x + ATTN_PADDING)\n                .attr(\"y1\", function (d) {\n                    var sourceIndex = +this.parentNode.getAttribute(\"source-index\");\n                    return y + (sourceIndex + .5) * DETAIL_BOX_HEIGHT;\n                })\n                .attr(\"x2\", x + DETAIL_ATTENTION_WIDTH - ATTN_PADDING)\n                .attr(\"y2\", function (d, targetIndex) {\n                    return y + (targetIndex + .5) * DETAIL_BOX_HEIGHT;\n                })\n                .attr(\"stroke-width\", 2.2)\n                .attr(\"stroke\", getLayerColor(layerIndex))\n                .attr(\"stroke-opacity\", function (d) {\n                    return d;\n                });\n        }\n\n        function getLayerColor(layer) {\n          return LAYER_COLORS[config.layers[layer] % 10];\n        }\n\n        function getTextColor() {\n            return PALETTE[config.mode]['text']\n        }\n\n        function getBackgroundColor() {\n           return PALETTE[config.mode]['background']\n        }\n\n        function getHighlightColor() {\n           return PALETTE[config.mode]['highlight']\n        }\n\n        function initialize() {\n            config.attention = params['attention'];\n            config.filter = params['default_filter'];\n            config.mode = params['display_mode'];\n            config.layers = params['include_layers']\n            config.heads = params['include_heads']\n            config.totalHeads = params['total_heads']\n            config.rootDivId = params['root_div_id'];\n            $(`#${config.rootDivId} #filter`).on('change', function (e) {\n                config.filter = e.currentTarget.value;\n                render();\n            });\n        }\n\n        initialize();\n        render();\n\n    });",
            "text/plain": [
              "<IPython.core.display.Javascript object>"
            ]
          },
          "metadata": {},
          "output_type": "display_data"
        }
      ],
      "source": [
        "# plot all attention heads in the model\n",
        "model_view(attentions, tokens)"
      ]
    },
    {
      "cell_type": "markdown",
      "metadata": {
        "id": "Pes7lM5Hv2Od"
      },
      "source": [
        "Relevant at this point (but will be on the readings later):\n",
        "\n",
        "- [CLS] is a special token added at the beginning of each sequence. It means “classification” and should contain some information representing the whole sequence.\n",
        "- [SEP] is a special token used to separate two sequences in tasks like question answering or sentence pair classification. It also marks the end of a single sequence when only one is provided.\n",
        "\n",
        "These special tokens are specific to the BERT architecture (Devlin et al., 2019)"
      ]
    },
    {
      "cell_type": "markdown",
      "metadata": {},
      "source": [
        "Now, what do there connection mean?\n",
        "\n",
        "1. which attention heads are covering the words that attend to themselves?\n",
        "2. which heads are capturing the order of words in the sentence?\n",
        "3. which heads are telling the [CLS] token what is important in the sentence?"
      ]
    },
    {
      "cell_type": "markdown",
      "metadata": {},
      "source": [
        "### Comparing embeddings – Projections\n",
        "Let's try to project the embeddings using dimensionality reduction to get more insight into how meaning is represented in our model.  \n",
        "Dimensionality reduction aims to transform high dimensional data to a lower number of dimensions, while preserving some characteristics of the original data.  \n",
        "For example, our contextual embeddings are 512-dimensional, which makes them difficult to visualize. We can use PCA to reduce them to 2 dimensions for visualization.  \n",
        "When reducing dimensions, we aim to \"keep the gist\" of the data, while we have to count with losing some granularity (2-dim projections are never going to be as fine-grained as the 512-dim originals).\n",
        "\n",
        "\n",
        "For more on Principal Component Analysis (PCA), you can check out the [sklearn's documentation](https://scikit-learn.org/stable/modules/generated/sklearn.decomposition.PCA.html)\n",
        "or skim this short [Nature article](https://www.nature.com/articles/nmeth.4346).\n",
        "\n",
        "Alternative methods are: [UMAP](https://pair-code.github.io/understanding-umap/) and [t-SNE](https://distill.pub/2016/misread-tsne/).\n",
        "\n",
        "You don't have to understand the inner workings of these dimensionality reduction methods for this course.  \n",
        "It's just good to know they are there, because they are very useful."
      ]
    },
    {
      "cell_type": "code",
      "execution_count": 16,
      "metadata": {
        "colab": {
          "base_uri": "https://localhost:8080/",
          "height": 717
        },
        "id": "QFJ2CnJ0ijsu",
        "outputId": "287b604e-e052-40c1-9084-902c0220a070"
      },
      "outputs": [
        {
          "data": {
            "image/png": "[encoded data removed]",
            "text/plain": [
              "<Figure size 1000x800 with 1 Axes>"
            ]
          },
          "metadata": {},
          "output_type": "display_data"
        }
      ],
      "source": [
        "embeddings = embeddings.squeeze(0)  # Remove the batch dimension\n",
        "\n",
        "# Apply PCA to reduce dimensionality to 2 components\n",
        "pca = PCA(n_components=2)\n",
        "embeddings_2d = pca.fit_transform(embeddings.cpu().numpy())\n",
        "\n",
        "# Plot the 2D projection of BERT embeddings\n",
        "plt.figure(figsize=(10, 8))\n",
        "for i, token in enumerate(tokens):\n",
        "    plt.scatter(embeddings_2d[i, 0], embeddings_2d[i, 1], marker='x', color='blue')\n",
        "    plt.text(embeddings_2d[i, 0], embeddings_2d[i, 1], token, fontsize=12)\n"
      ]
    },
    {
      "cell_type": "markdown",
      "metadata": {
        "id": "dL0pi2W7xWRK"
      },
      "source": [
        "Notice where the embeddings landed.\n",
        "What is happening here?\n",
        "\n",
        "What characteristic do the outlier words share?  \n",
        "What kind of words are close to the [CLS], central token?"
      ]
    },
    {
      "cell_type": "markdown",
      "metadata": {},
      "source": [
        "### Paraphrasing – distance between sentences"
      ]
    },
    {
      "cell_type": "markdown",
      "metadata": {
        "id": "dXNCD01MyNaU"
      },
      "source": [
        "The goal of the model is to embed similar sentences close to each other in the embedding space. \n",
        "A nice case for this is paraphrasing – saying (almost) the same thing using different words. \n",
        "If a model is able to detect paraphrases, this is a good indication of its performance."
      ]
    },
    {
      "cell_type": "markdown",
      "metadata": {},
      "source": [
        "So, our goal is to test whether the model understands that \n",
        "`\"In 1995, the last survey, those numbers were equal.\"` is equivalent to `\"The last time the survey was conducted, in 1995, those numbers matched.\"`\n",
        "\n",
        "To do that, we will measure distance between embeddings of the two sentences.\n",
        "We have to implement a distance metric first."
      ]
    },
    {
      "cell_type": "code",
      "execution_count": 17,
      "metadata": {
        "id": "MEmfROgDx3ca"
      },
      "outputs": [],
      "source": [
        "# Implement a cosine similarity in any way\n",
        "def cosine_similarity(A, B) -> float:\n",
        "    \"\"\"\n",
        "    Dot product of two vectors divided by the product of their norms (magnitudes)\n",
        "    \"\"\"\n",
        "    return torch.dot(A, B) / (torch.norm(A) * torch.norm(B))\n",
        "\n",
        "# test if it works\n",
        "testing_results = cosine_similarity(\n",
        "    A = torch.Tensor([0.5, 0.2, 0.7]),\n",
        "    B = torch.Tensor([0.2, 0.1, 0.5])\n",
        "    )\n",
        "\n",
        "assert np.isclose(testing_results, 0.9716)"
      ]
    },
    {
      "cell_type": "code",
      "execution_count": 18,
      "metadata": {},
      "outputs": [],
      "source": [
        "# Implement a function for extracting embeddings\n",
        "def infer_embedding(sentence: str) -> torch.Tensor:\n",
        "    \"\"\"\n",
        "    \"\"\"\n",
        "    # tokenize, remember to `return_tensors=\"pt\"`\n",
        "    inputs = tokenizer(sentence, return_tensors='pt', padding=True)\n",
        "\n",
        "    # inference (passing the input_ids through the model)\n",
        "    with torch.no_grad():\n",
        "        outputs = model(**inputs)\n",
        "\n",
        "    # squeeze the last hidden state and return it\n",
        "    return outputs.last_hidden_state.squeeze()\n",
        "\n",
        "assert infer_embedding(\"test test test\").shape == (5, 512)"
      ]
    },
    {
      "cell_type": "code",
      "execution_count": 19,
      "metadata": {},
      "outputs": [],
      "source": [
        "original_sent = \"In 1995, the last survey, those numbers were equal.\"\n",
        "paraphrased_sent = \"The last time the survey was conducted, in 1995, those numbers matched.\""
      ]
    },
    {
      "cell_type": "code",
      "execution_count": 20,
      "metadata": {},
      "outputs": [
        {
          "name": "stdout",
          "output_type": "stream",
          "text": [
            "Cosine similarity (CLS token): 0.8661871552467346\n",
            "Cosine similarity (Mean pooling): 0.8752886652946472\n",
            "Cosine similarity (Max): 0.9387845993041992\n"
          ]
        }
      ],
      "source": [
        "# run the little test\n",
        "emb_orig_sent = infer_embedding(original_sent)\n",
        "emb_para_sent = infer_embedding(paraphrased_sent)\n",
        "\n",
        "cls_orig_sent = emb_orig_sent[0, :]\n",
        "cls_para_sent = emb_para_sent[0, :]\n",
        "\n",
        "# shape of emb_orig_sent is (tokens, activations).\n",
        "# We want an average embedding for the whole sentence, \n",
        "# which means we should end with just one and 512 columns\n",
        "# = average the tokens = `dim=0` in this case.\n",
        "mean_orig_sent = torch.mean(emb_orig_sent, dim=0)\n",
        "mean_para_sent = torch.mean(emb_para_sent, dim=0)\n",
        "\n",
        "# .max() works a bit differently in torch!\n",
        "# the output is a tuple; \n",
        "# max_orig_sent[0] is maximum value per row\n",
        "# max_orig_sent[1] is the index of this value in within its original row in emb_orig_sent\n",
        "# we want just the maximum value, so we add the `[0]` right away.\n",
        "max_orig_sent = torch.max(emb_orig_sent, dim=0)[0]\n",
        "max_para_sent = torch.max(emb_para_sent, dim=0)[0]\n",
        "\n",
        "print(f\"Cosine similarity (CLS token): {cosine_similarity(cls_orig_sent, cls_para_sent)}\")\n",
        "print(f\"Cosine similarity (Mean pooling): {cosine_similarity(mean_orig_sent, mean_para_sent)}\")\n",
        "print(f\"Cosine similarity (Max): {cosine_similarity(max_orig_sent, max_para_sent)}\")"
      ]
    },
    {
      "cell_type": "markdown",
      "metadata": {},
      "source": [
        "Thoughts?  \n",
        "Do the similarities indicate that the sentences are paraphrased?  "
      ]
    },
    {
      "cell_type": "markdown",
      "metadata": {},
      "source": [
        "Let's see how representative the different measures are in a projection:"
      ]
    },
    {
      "cell_type": "code",
      "execution_count": 21,
      "metadata": {
        "id": "9bNTSQrft7W4"
      },
      "outputs": [
        {
          "data": {
            "image/png": "[encoded data removed]",
            "text/plain": [
              "<Figure size 1000x800 with 1 Axes>"
            ]
          },
          "metadata": {},
          "output_type": "display_data"
        }
      ],
      "source": [
        "# dimensionality reduction\n",
        "pca = PCA(n_components=2)\n",
        "# fit on the first embedding only \n",
        "# with more data, you would fit on the whole train set\n",
        "emb_orig_2d = pca.fit_transform(emb_orig_sent)\n",
        "# transform on the second embedding to ese how they align\n",
        "# with more data, you would transform on the whole test set\n",
        "emb_para_2d = pca.transform(emb_para_sent)\n",
        "\n",
        "# we have to repeat tokenization, to get the token text\n",
        "ip_orig = tokenizer(original_sent, return_tensors=\"pt\")\n",
        "ip_para = tokenizer(paraphrased_sent, return_tensors=\"pt\")\n",
        "tok_orig = tokenizer.convert_ids_to_tokens(ip_orig['input_ids'][0])\n",
        "tok_pare = tokenizer.convert_ids_to_tokens(ip_para['input_ids'][0])\n",
        "\n",
        "plt.figure(figsize=(10, 8))\n",
        "for i, token in enumerate(tok_orig):\n",
        "    plt.scatter(emb_orig_2d[i, 0], emb_orig_2d[i, 1], marker='x', color='blue')\n",
        "    plt.text(emb_orig_2d[i, 0], emb_orig_2d[i, 1], s=token, fontsize=12)\n",
        "\n",
        "for i, token in enumerate(tok_pare):    \n",
        "    plt.scatter(emb_para_2d[i, 0], emb_para_2d[i, 1], marker='x', color='green')\n",
        "    plt.text(emb_para_2d[i, 0], emb_para_2d[i, 1], s=token, fontsize=12)"
      ]
    },
    {
      "cell_type": "markdown",
      "metadata": {},
      "source": [
        "### First taste of masked learning\n",
        "\n",
        "Attention is also used for guessing a missing word in a sequence.  \n",
        "It tells the model which words to care about more.\n",
        "\n",
        "This is just a teaser, more on this in the next two weeks!"
      ]
    },
    {
      "cell_type": "code",
      "execution_count": 22,
      "metadata": {
        "colab": {
          "base_uri": "https://localhost:8080/",
          "height": 309
        },
        "id": "V_DZ6uA60mFJ",
        "outputId": "dfa8bc79-355d-457f-9c19-c300441e5014"
      },
      "outputs": [
        {
          "name": "stderr",
          "output_type": "stream",
          "text": [
            "BertSdpaSelfAttention is used but `torch.nn.functional.scaled_dot_product_attention` does not support non-absolute `position_embedding_type` or `output_attentions=True` or `head_mask`. Falling back to the manual attention implementation, but specifying the manual implementation will be required from Transformers version v5.0.0 onwards. This warning can be removed using the argument `attn_implementation=\"eager\"` when loading the model.\n"
          ]
        },
        {
          "data": {
            "text/html": [
              "<script src=\"https://cdnjs.cloudflare.com/ajax/libs/require.js/2.3.6/require.min.js\"></script>"
            ],
            "text/plain": [
              "<IPython.core.display.HTML object>"
            ]
          },
          "metadata": {},
          "output_type": "display_data"
        },
        {
          "data": {
            "text/html": [
              "      \n",
              "        <div id=\"bertviz-494a90ccb38144cdad448a0331ab44fc\" style=\"font-family:'Helvetica Neue', Helvetica, Arial, sans-serif;\">\n",
              "            <span style=\"user-select:none\">\n",
              "                Layer: <select id=\"layer\"></select>\n",
              "                \n",
              "            </span>\n",
              "            <div id='vis'></div>\n",
              "        </div>\n",
              "    "
            ],
            "text/plain": [
              "<IPython.core.display.HTML object>"
            ]
          },
          "metadata": {},
          "output_type": "display_data"
        },
        {
          "data": {
            "application/javascript": "/**\n * @fileoverview Transformer Visualization D3 javascript code.\n *\n *\n *  Based on: https://github.com/tensorflow/tensor2tensor/blob/master/tensor2tensor/visualization/attention.js\n *\n * Change log:\n *\n * 12/19/18  Jesse Vig   Assorted cleanup. Changed orientation of attention matrices.\n * 12/29/20  Jesse Vig   Significant refactor.\n * 12/31/20  Jesse Vig   Support multiple visualizations in single notebook.\n * 02/06/21  Jesse Vig   Move require config from separate jupyter notebook step\n * 05/03/21  Jesse Vig   Adjust height of visualization dynamically\n * 07/25/21  Jesse Vig   Support layer filtering\n * 03/23/22  Daniel SC   Update requirement URLs for d3 and jQuery (source of bug not allowing end result to be displayed on browsers)\n **/\n\nrequire.config({\n  paths: {\n      d3: 'https://cdnjs.cloudflare.com/ajax/libs/d3/5.7.0/d3.min',\n    jquery: 'https://cdnjs.cloudflare.com/ajax/libs/jquery/2.0.0/jquery.min',\n  }\n});\n\nrequirejs(['jquery', 'd3'], function ($, d3) {\n\n    const params = {\"attention\": [{\"name\": null, \"attn\": [[[[0.19428931176662445, 0.08342333883047104, 0.037553396075963974, 0.16394352912902832, 0.10998654365539551, 0.07175610214471817, 0.09291097521781921, 0.24613673985004425], [0.03374533727765083, 0.24557264149188995, 0.039260707795619965, 0.03671545907855034, 0.025898192077875137, 0.39238542318344116, 0.08954200893640518, 0.13688026368618011], [0.12484930455684662, 0.09620128571987152, 0.05880030244588852, 0.17019568383693695, 0.09979980438947678, 0.09761591255664825, 0.10956836491823196, 0.24296937882900238], [0.07747795432806015, 0.08238152414560318, 0.08809272944927216, 0.01036287471652031, 0.10176463425159454, 0.13913430273532867, 0.1832636594772339, 0.31752240657806396], [0.0293149184435606, 0.02737838588654995, 0.03857388347387314, 0.10819631814956665, 0.4769815504550934, 0.03444375842809677, 0.08369015902280807, 0.20142099261283875], [0.047263503074645996, 0.2813325822353363, 0.04071250557899475, 0.05274159833788872, 0.029620150104165077, 0.2977139353752136, 0.09017334878444672, 0.16044245660305023], [0.14054736495018005, 0.10744908452033997, 0.157848060131073, 0.08808483928442001, 0.12826037406921387, 0.12002058327198029, 0.024700019508600235, 0.2330896109342575], [0.07698918133974075, 0.12883271276950836, 0.1486707627773285, 0.1917966902256012, 0.09839412569999695, 0.13336066901683807, 0.10028524696826935, 0.12167064100503922]], [[0.10623036324977875, 0.09031439572572708, 0.09733688831329346, 0.1467176377773285, 0.12729863822460175, 0.12971755862236023, 0.11853130161762238, 0.18385329842567444], [0.2762695848941803, 0.016017025336623192, 0.030784200876951218, 0.04953407123684883, 0.04081936553120613, 0.04347981512546539, 0.049304936081171036, 0.49379098415374756], [0.2815835475921631, 0.04489509388804436, 0.039825454354286194, 0.050664447247982025, 0.054822929203510284, 0.07086171954870224, 0.05579286813735962, 0.4015539288520813], [0.09471902996301651, 0.005912201479077339, 0.004787638783454895, 0.7806134819984436, 0.008924471214413643, 0.007440862711519003, 0.014849811792373657, 0.08275257050991058], [0.3475531339645386, 0.05797193944454193, 0.0442781075835228, 0.045901261270046234, 0.05950583145022392, 0.021368635818362236, 0.01467654574662447, 0.40874454379081726], [0.36004576086997986, 0.07755810767412186, 0.0914420560002327, 0.06736826151609421, 0.03531244397163391, 0.02652483992278576, 0.03078708052635193, 0.31096145510673523], [0.12809821963310242, 0.020623553544282913, 0.010585700161755085, 0.01966233365237713, 0.010173952206969261, 0.007437578868120909, 0.7677813172340393, 0.03563738986849785], [0.5955963730812073, 0.04132238030433655, 0.031683072447776794, 0.032864488661289215, 0.03276648744940758, 0.017279425635933876, 0.0017968033207580447, 0.246691033244133]], [[0.08952740579843521, 0.26973941922187805, 0.0491192601621151, 0.05021141096949577, 0.05072908103466034, 0.2460765391588211, 0.02745179459452629, 0.21714510023593903], [0.00021524734620470554, 6.109868991188705e-05, 1.680316563579254e-05, 2.4717410269659013e-05, 3.818717596004717e-05, 4.660513877752237e-05, 4.8338017222704366e-05, 0.9995489716529846], [0.02557278424501419, 0.13591089844703674, 0.06505726277828217, 0.06825361400842667, 0.07688873261213303, 0.054232124239206314, 0.0833427757024765, 0.49074187874794006], [0.016278518363833427, 0.2501392662525177, 0.11513979732990265, 0.09270717203617096, 0.1286829560995102, 0.04927648603916168, 0.07394757866859436, 0.2738282382488251], [0.024538679048419, 0.13672704994678497, 0.15214845538139343, 0.23672206699848175, 0.10591602325439453, 0.04263915866613388, 0.07394595444202423, 0.22736254334449768], [0.026930972933769226, 0.07438275963068008, 0.08895833045244217, 0.3626757562160492, 0.13779330253601074, 0.04858064651489258, 0.03817983716726303, 0.22249840199947357], [0.010398730635643005, 0.04067033529281616, 0.054366305470466614, 0.29774969816207886, 0.3281839191913605, 0.09507149457931519, 0.05233372747898102, 0.1212257519364357], [0.008738932199776173, 8.103811524051707e-06, 0.00017713752458803356, 0.0007602274999953806, 0.0004676292301155627, 0.00014400354120880365, 0.00043214333709329367, 0.989271879196167]], [[0.7358840703964233, 0.01708589494228363, 0.16371096670627594, 0.01660192385315895, 0.016710128635168076, 0.011352017521858215, 0.013235917314887047, 0.02541908249258995], [0.00041018330375663936, 0.012586579658091068, 0.94473797082901, 0.0400477834045887, 5.029259409639053e-05, 2.6185654178334516e-07, 0.0004066703550051898, 0.0017602161969989538], [9.882333870336879e-06, 0.00011651627573883161, 0.01375845167785883, 0.9787880182266235, 0.00730928173288703, 9.861753824225161e-06, 7.803509447512624e-07, 7.233877568069147e-06], [6.436378185981084e-08, 4.488758875709209e-08, 2.886748916353099e-06, 0.00039094348903745413, 0.9983391761779785, 0.0012666567927226424, 1.38494186785465e-07, 6.5129523996176886e-09], [8.778079063631594e-07, 1.6401534139731666e-06, 9.838461068056858e-08, 3.8016172766219825e-05, 0.0012540456373244524, 0.9711326360702515, 0.027572253718972206, 4.163279072599835e-07], [2.6539140662862337e-07, 7.191493978098151e-07, 1.2006266558728385e-07, 2.2875626726204246e-08, 4.113727300136816e-06, 0.0004924196400679648, 0.9984859824180603, 0.0010163597762584686], [1.4942943948881293e-07, 7.168948650360107e-05, 7.384808122878894e-05, 2.5272168358014824e-08, 1.7582014066874763e-08, 1.5970204913173802e-05, 0.00397760234773159, 0.995860755443573], [0.999729335308075, 2.2198411997464973e-08, 9.55537980189547e-05, 3.83888982469216e-06, 6.152315323859625e-10, 8.051662808705728e-11, 1.4924587503628572e-06, 0.00016979649080894887]], [[0.07392463833093643, 0.08038828521966934, 0.059503667056560516, 0.08580029755830765, 0.10187333822250366, 0.05460415780544281, 0.04791409149765968, 0.4959914982318878], [0.05675121396780014, 0.047691214829683304, 0.05929189175367355, 0.2221238911151886, 0.20047929883003235, 0.08362144231796265, 0.1294620782136917, 0.20057903230190277], [0.04703962802886963, 0.09679655730724335, 0.05190690606832504, 0.1703912764787674, 0.12961795926094055, 0.10493258386850357, 0.2389514297246933, 0.16036364436149597], [0.05771458521485329, 0.1278742402791977, 0.08116334676742554, 0.23578739166259766, 0.0676392987370491, 0.1110367625951767, 0.17413271963596344, 0.14465166628360748], [0.037412237375974655, 0.13479623198509216, 0.06783515214920044, 0.2811528146266937, 0.05252329632639885, 0.07503876835107803, 0.16885679960250854, 0.18238471448421478], [0.060837775468826294, 0.08195269852876663, 0.08041653037071228, 0.2478460818529129, 0.1408616602420807, 0.05144861340522766, 0.07977662980556488, 0.25686004757881165], [0.03911924362182617, 0.09115882962942123, 0.0505848228931427, 0.5629783272743225, 0.10001976042985916, 0.07562469691038132, 0.029006343334913254, 0.051508013159036636], [0.03137635439634323, 0.12878771126270294, 0.0699242651462555, 0.16838373243808746, 0.195212721824646, 0.1561966836452484, 0.14309866726398468, 0.10701984167098999]], [[0.17114490270614624, 0.14841173589229584, 0.135475754737854, 0.09563138335943222, 0.08683302998542786, 0.10333733260631561, 0.11176574230194092, 0.14740006625652313], [0.24841009080410004, 0.0883922204375267, 0.0879262238740921, 0.1436489373445511, 0.16014590859413147, 0.10303346067667007, 0.07400421053171158, 0.09443898499011993], [0.24098175764083862, 0.09810178726911545, 0.10831140726804733, 0.09117425233125687, 0.11588394641876221, 0.09790386259555817, 0.14907340705394745, 0.09856951981782913], [0.18833127617835999, 0.08856459707021713, 0.16177678108215332, 0.1497763693332672, 0.114950031042099, 0.0717175081372261, 0.11773264408111572, 0.10715076327323914], [0.16684582829475403, 0.11421380192041397, 0.1351977288722992, 0.09343712031841278, 0.11027296632528305, 0.18187463283538818, 0.10549403727054596, 0.09266385436058044], [0.1814468801021576, 0.0909736379981041, 0.16888423264026642, 0.10304895788431168, 0.16443507373332977, 0.09879206120967865, 0.09676957875490189, 0.09564954787492752], [0.35578158497810364, 0.12944446504116058, 0.09359036386013031, 0.11966929584741592, 0.08343993127346039, 0.09074753522872925, 0.02686348557472229, 0.10046333074569702], [0.27343034744262695, 0.09554240852594376, 0.12209576368331909, 0.06508281826972961, 0.140624538064003, 0.11322206258773804, 0.10045118629932404, 0.0895509272813797]], [[0.9939857125282288, 0.002024137880653143, 0.0012845471501350403, 9.239631617674604e-05, 0.0007525171968154609, 0.0012770923785865307, 0.00041178581886924803, 0.00017177560948766768], [0.9999655485153198, 3.4130978747271e-05, 1.8731611817202065e-07, 1.1413748635460963e-13, 3.9633303583475055e-11, 2.9708189241972605e-09, 1.721503082308118e-07, 1.3614163962838433e-10], [5.584479012554766e-08, 0.9995535016059875, 0.00044428513501770794, 6.778163585963171e-10, 6.069905862660097e-14, 1.1315629856734066e-11, 3.6670411418526783e-07, 1.8136047401640099e-06], [1.7625192416659274e-09, 2.3093542040442117e-05, 0.9999610185623169, 1.591942236700561e-05, 3.9157344033924346e-11, 8.239209650741971e-16, 6.6074012072521535e-15, 1.6768245458820275e-08], [9.07816183337573e-12, 8.227059577212495e-14, 1.21842469980038e-06, 0.9999910593032837, 7.751315024506766e-06, 5.559200235566442e-12, 1.3039798260761076e-16, 3.489178319762107e-16], [3.038883381045743e-11, 8.174410571485833e-16, 1.3085733668524724e-12, 1.9897629499610048e-06, 0.9999806880950928, 1.7362181097269058e-05, 2.330855126964071e-11, 2.5733198427275566e-17], [1.3183815150696887e-10, 5.527558619156103e-11, 1.3379402091979499e-14, 4.039561111827961e-15, 1.589617386343889e-05, 0.9999492168426514, 3.4933000279124826e-05, 1.1902333285629396e-11], [7.828570014467573e-10, 2.9600923312500527e-07, 6.688834815887779e-12, 3.327455195954293e-18, 1.8959515388054533e-15, 1.0678545550035778e-06, 0.9999922513961792, 6.348809165501734e-06]], [[0.14878731966018677, 0.06429166346788406, 0.19916118681430817, 0.12412340939044952, 0.05366180092096329, 0.06868620216846466, 0.16716717183589935, 0.17412127554416656], [0.22585660219192505, 0.030126599594950676, 0.0497458390891552, 0.2733304798603058, 0.06524001806974411, 0.04072601720690727, 0.18772901594638824, 0.12724539637565613], [0.1932515650987625, 0.07404405623674393, 0.10930442810058594, 0.15198948979377747, 0.0779254212975502, 0.07012239098548889, 0.1718754768371582, 0.15148726105690002], [0.03557631000876427, 0.0216659028083086, 0.04419681057333946, 0.09612850844860077, 0.04712451621890068, 0.025336839258670807, 0.6743329763412476, 0.055638134479522705], [0.12426536530256271, 0.041858602315187454, 0.04486413672566414, 0.4696800708770752, 0.017660826444625854, 0.04470219835639, 0.15789894759655, 0.09906995296478271], [0.20942150056362152, 0.04350536689162254, 0.05538519471883774, 0.24770423769950867, 0.09578970819711685, 0.04279940947890282, 0.17667843401432037, 0.12871617078781128], [0.08761666715145111, 0.14393256604671478, 0.12126609683036804, 0.07147110253572464, 0.07207301259040833, 0.14460335671901703, 0.240535169839859, 0.11850203573703766], [0.07699980586767197, 0.07156212627887726, 0.7207849621772766, 0.006500949151813984, 0.03991285338997841, 0.03571926802396774, 0.02333364076912403, 0.025186294689774513]]], [[[0.6100242137908936, 0.027288714423775673, 0.049208421260118484, 0.06044023483991623, 0.022010132670402527, 0.028420589864253998, 0.026302829384803772, 0.17630483210086823], [0.2565588653087616, 0.055870432406663895, 0.046806514263153076, 0.02086581103503704, 0.03405153751373291, 0.051950603723526, 0.027454819530248642, 0.5064414143562317], [0.3396422863006592, 0.0648835152387619, 0.0954815149307251, 0.06642249971628189, 0.05318189784884453, 0.06141064688563347, 0.0550597719848156, 0.26391786336898804], [0.4825161397457123, 0.042232535779476166, 0.10988132655620575, 0.008007783442735672, 0.040021225810050964, 0.038114603608846664, 0.04298880696296692, 0.236237570643425], [0.3166353702545166, 0.10078348219394684, 0.10250189155340195, 0.03780272230505943, 0.08608194440603256, 0.09441207349300385, 0.03538285195827484, 0.22639966011047363], [0.34324169158935547, 0.05076918751001358, 0.061574772000312805, 0.02503017894923687, 0.0536159947514534, 0.055735498666763306, 0.03162616118788719, 0.37840643525123596], [0.5737314820289612, 0.04510023817420006, 0.10320659726858139, 0.027974646538496017, 0.06722576171159744, 0.05857371911406517, 0.0037960989866405725, 0.12039158493280411], [0.200738325715065, 0.10719749331474304, 0.0987638607621193, 0.10617851465940475, 0.0895218551158905, 0.1261817067861557, 0.0542655885219574, 0.2171526849269867]], [[0.4608336389064789, 0.03527768328785896, 0.1428246945142746, 0.08251621574163437, 0.0368802510201931, 0.038264960050582886, 0.08900845795869827, 0.11439403891563416], [0.0461154505610466, 0.022247709333896637, 0.9119415879249573, 0.011469177901744843, 0.0007072222069837153, 2.8108948754379526e-05, 0.0014133225195109844, 0.006077358033508062], [0.1771995723247528, 0.0012306052958592772, 0.12389662116765976, 0.678385853767395, 0.01716892421245575, 0.0006077573052607477, 0.00011392330634407699, 0.001396824955008924], [0.033328283578157425, 1.7217218555742875e-05, 0.0010375042911618948, 0.04547742009162903, 0.8894032835960388, 0.029814569279551506, 0.0006580002373084426, 0.0002637650759425014], [0.09005648642778397, 1.5066958440002054e-05, 0.0002668668166734278, 0.0008645826019346714, 0.05897068977355957, 0.3450773060321808, 0.5042563676834106, 0.0004926158580929041], [0.017930172383785248, 9.508214134257287e-05, 0.00012436675024218857, 6.722599209751934e-06, 0.0008750864653848112, 0.0101704066619277, 0.9640592336654663, 0.0067389970645308495], [0.013906639069318771, 0.000676739786285907, 0.0008068476454354823, 1.5301000530598685e-05, 2.0677764041465707e-05, 0.0005156263359822333, 0.032690297812223434, 0.9513678550720215], [0.8930152058601379, 0.00015079110744409263, 0.013168112374842167, 0.004214826505631208, 0.00022894064022693783, 0.00015520844317507, 0.007109888829290867, 0.08195697516202927]], [[0.05329231172800064, 0.1285000443458557, 0.22590239346027374, 0.1819685697555542, 0.09648856520652771, 0.07255032658576965, 0.17856185138225555, 0.06273596733808517], [0.04457999765872955, 0.033259451389312744, 0.3197166919708252, 0.42212748527526855, 0.012225072830915451, 0.008378525264561176, 0.11063764244318008, 0.049075063318014145], [0.06217110529541969, 0.05068309232592583, 0.13713152706623077, 0.5413321256637573, 0.06349172443151474, 0.031237123534083366, 0.05692155659198761, 0.05703166872262955], [0.046945709735155106, 0.011539626866579056, 0.0869641974568367, 0.018538592383265495, 0.49426841735839844, 0.038063034415245056, 0.26309019327163696, 0.04059021547436714], [0.01804601028561592, 0.004323197528719902, 0.01491244975477457, 0.12365148216485977, 0.007712542545050383, 0.020893847569823265, 0.7746931910514832, 0.03576737642288208], [0.03275908902287483, 0.0037751984782516956, 0.022387435659766197, 0.08203264325857162, 0.01294508296996355, 0.01845378987491131, 0.7151245474815369, 0.11252215504646301], [0.09288632124662399, 0.030487343668937683, 0.0510677732527256, 0.01149013452231884, 0.030199013650417328, 0.0777730867266655, 0.15140941739082336, 0.5546868443489075], [0.036734990775585175, 0.0490359328687191, 0.5006878972053528, 0.0274061169475317, 0.008183460682630539, 0.03946658596396446, 0.076137475669384, 0.262347549200058]], [[0.13223034143447876, 0.07345449179410934, 0.20430272817611694, 0.18746107816696167, 0.06846025586128235, 0.03715326637029648, 0.08132146298885345, 0.2156163603067398], [0.017775854095816612, 0.02202310599386692, 0.11859219521284103, 0.4989067316055298, 0.14602385461330414, 0.050995949655771255, 0.04284051060676575, 0.10284173488616943], [0.17665405571460724, 0.012084711343050003, 0.07316666096448898, 0.24986974895000458, 0.15205632150173187, 0.12145251035690308, 0.0899428129196167, 0.12477317452430725], [0.04511691629886627, 0.002949488814920187, 0.008489725179970264, 0.048632748425006866, 0.23696951568126678, 0.17964129149913788, 0.2417161464691162, 0.2364841252565384], [0.02294027805328369, 0.0013460895279422402, 0.006004932802170515, 0.017552191391587257, 0.01985946111381054, 0.0475003719329834, 0.6929039359092712, 0.19189277291297913], [0.030780920758843422, 0.004138114862143993, 0.013622226193547249, 0.014303050003945827, 0.015506601892411709, 0.02662098966538906, 0.22038878500461578, 0.6746392846107483], [0.2100057601928711, 0.004975654650479555, 0.016554297879338264, 0.015115620568394661, 0.012979610823094845, 0.014404518529772758, 0.06387657672166824, 0.6620879769325256], [0.9147149920463562, 0.005072177853435278, 0.01644199900329113, 0.004830889869481325, 0.0026356528978794813, 0.00421646935865283, 0.00756454560905695, 0.04452317953109741]], [[0.37028998136520386, 0.09039779007434845, 0.1739322990179062, 0.19192522764205933, 0.07636228203773499, 0.04363298416137695, 0.0326739065349102, 0.020785508677363396], [0.7576183676719666, 0.058814529329538345, 0.0935482457280159, 0.02251170203089714, 0.014609470963478088, 0.008308717049658298, 0.02128797397017479, 0.02330099418759346], [0.4883330166339874, 0.19364285469055176, 0.2012009471654892, 0.04875054582953453, 0.01493153627961874, 0.004926887806504965, 0.01594426855444908, 0.032269977033138275], [0.22436554729938507, 0.15600284934043884, 0.46977442502975464, 0.09274358302354813, 0.03458063676953316, 0.004748798906803131, 0.0029322104528546333, 0.014851969666779041], [0.025042133405804634, 0.021729134023189545, 0.07129429280757904, 0.8627416491508484, 0.00591609301045537, 0.005895481910556555, 0.0031906587537378073, 0.0041905175894498825], [0.11514101177453995, 0.03472309187054634, 0.10688146203756332, 0.4406683146953583, 0.20532427728176117, 0.037149474024772644, 0.033727120608091354, 0.02638527937233448], [0.2543541193008423, 0.00900709442794323, 0.03592176362872124, 0.1331234723329544, 0.3779609203338623, 0.0900520533323288, 0.05017919838428497, 0.04940143972635269], [0.7870122194290161, 0.005303630605340004, 0.03106868639588356, 0.022156652063131332, 0.01436914037913084, 0.029646417126059532, 0.07051502913236618, 0.03992823138833046]], [[0.04222972318530083, 0.06677515804767609, 0.15239915251731873, 0.33115217089653015, 0.04076329618692398, 0.036771319806575775, 0.152666375041008, 0.17724284529685974], [0.029750071465969086, 0.04473946988582611, 0.07422490417957306, 0.3622412085533142, 0.06773332506418228, 0.046195100992918015, 0.12401638925075531, 0.251099556684494], [0.06970399618148804, 0.038695916533470154, 0.1040671318769455, 0.2541760206222534, 0.033247970044612885, 0.03691282123327255, 0.24081167578697205, 0.2223844677209854], [0.032948970794677734, 0.027560526505112648, 0.06674158573150635, 0.24489064514636993, 0.07612111419439316, 0.022425007075071335, 0.2491142600774765, 0.2801978290081024], [0.13139797747135162, 0.04407771676778793, 0.30519378185272217, 0.14087806642055511, 0.02603864297270775, 0.035532355308532715, 0.1667335480451584, 0.150147944688797], [0.08450474590063095, 0.05401143059134483, 0.1754266321659088, 0.2581482231616974, 0.030067866668105125, 0.036160409450531006, 0.213052436709404, 0.1486283242702484], [0.2043747752904892, 0.03503949195146561, 0.31209829449653625, 0.1608259677886963, 0.026314178481698036, 0.04931672662496567, 0.11970061808824539, 0.09232992678880692], [0.36239156126976013, 0.025745732709765434, 0.42380374670028687, 0.009857340715825558, 0.006186227779835463, 0.044036246836185455, 0.028830835595726967, 0.09914828836917877]], [[0.3605768382549286, 0.08407143503427505, 0.05552733317017555, 0.05525224655866623, 0.08786403387784958, 0.12494911998510361, 0.048719704151153564, 0.18303927779197693], [0.5138434767723083, 0.07206761091947556, 0.023939570412039757, 0.003964300733059645, 0.05406148359179497, 0.16035106778144836, 0.001611814252100885, 0.17016060650348663], [0.4686970114707947, 0.05647158995270729, 0.02448304183781147, 0.020077330991625786, 0.0715523287653923, 0.10716090351343155, 0.022360244765877724, 0.22919759154319763], [0.5518701076507568, 0.009887863881886005, 0.02359260804951191, 0.17434127628803253, 0.009095645509660244, 0.026650452986359596, 0.02678290382027626, 0.1777791827917099], [0.28718721866607666, 0.025411657989025116, 0.01805519312620163, 0.001986891031265259, 0.5446720123291016, 0.02611188031733036, 0.0005561228026635945, 0.09601904451847076], [0.4108286201953888, 0.21054431796073914, 0.0313800647854805, 0.011484739370644093, 0.07032273709774017, 0.13184602558612823, 0.0018470421200618148, 0.1317463517189026], [0.48065486550331116, 0.011034857481718063, 0.03798985481262207, 0.04551390931010246, 0.004720049910247326, 0.0303786750882864, 0.2674995958805084, 0.12220825999975204], [0.4061204493045807, 0.06358875334262848, 0.07524199783802032, 0.07810363173484802, 0.09586446732282639, 0.09686124324798584, 0.04121352732181549, 0.1430058479309082]], [[0.29831409454345703, 0.0019492042483761907, 0.10917530953884125, 0.11302323639392853, 0.0110323466360569, 0.0015766241122037172, 0.04386403411626816, 0.421065092086792], [0.5044360756874084, 0.004631356336176395, 0.20895810425281525, 0.057812292128801346, 0.0072126490995287895, 0.0034720420371741056, 0.03927124664187431, 0.17420624196529388], [0.4401787221431732, 0.003779953345656395, 0.2729842960834503, 0.06508063524961472, 0.01469460129737854, 0.0038254731334745884, 0.040346983820199966, 0.15910935401916504], [0.44165557622909546, 0.0037452857941389084, 0.21797575056552887, 0.09588932991027832, 0.002977298339828849, 0.00205666059628129, 0.06720592081546783, 0.16849423944950104], [0.5186502933502197, 0.002150111598894, 0.3362758159637451, 0.04397670179605484, 0.0010335890110582113, 0.0015042676823213696, 0.025789910927414894, 0.07061932235956192], [0.5282118320465088, 0.0025303957518190145, 0.30025532841682434, 0.04933136701583862, 0.0021159150637686253, 0.001207086956128478, 0.023770449683070183, 0.09257765114307404], [0.6006987690925598, 0.00208114692941308, 0.20148079097270966, 0.0714481845498085, 0.0065704043954610825, 0.0021815255749970675, 0.027939243242144585, 0.08759994059801102], [0.010549920611083508, 0.39876607060432434, 0.007139567285776138, 0.000677653995808214, 0.00010938470222754404, 0.5816463232040405, 0.0005582129233516753, 0.000552899728063494]]], [[[0.11389191448688507, 0.0062700845301151276, 0.041421350091695786, 0.042921897023916245, 0.01934569887816906, 0.006974484771490097, 0.008204459212720394, 0.7609701156616211], [0.0870811715722084, 0.092526875436306, 0.035972628742456436, 0.012918451800942421, 0.0071390545926988125, 0.0023951970506459475, 0.0010818853043019772, 0.760884702205658], [0.14749659597873688, 0.2971954643726349, 0.11230826377868652, 0.023006126284599304, 0.009928815066814423, 0.0015639024786651134, 0.005919202696532011, 0.4025816023349762], [0.044834204018116, 0.46323174238204956, 0.19462279975414276, 0.060707032680511475, 0.003926778212189674, 0.001324865617789328, 0.0012799748219549656, 0.23007261753082275], [0.016828492283821106, 0.05563413351774216, 0.3976733982563019, 0.39639246463775635, 0.03528185561299324, 0.011145418509840965, 0.0009650670690461993, 0.0860791727900505], [0.010897472500801086, 0.00550704263150692, 0.10741201788187027, 0.3966318666934967, 0.36828234791755676, 0.029747189953923225, 0.003207787172868848, 0.07831423729658127], [0.03221741318702698, 0.0019146626582369208, 0.029131388291716576, 0.23026800155639648, 0.43434691429138184, 0.05831661447882652, 0.022187961265444756, 0.1916169822216034], [0.06011606752872467, 0.012149250134825706, 0.008947285823523998, 0.01668599806725979, 0.010846905410289764, 0.004823367111384869, 0.006776549853384495, 0.879654586315155]], [[0.02959858626127243, 0.08793462812900543, 0.2681664228439331, 0.32698923349380493, 0.0494484007358551, 0.027575762942433357, 0.18942740559577942, 0.020859576761722565], [0.03492502123117447, 0.068027563393116, 0.06335948407649994, 0.02105383574962616, 0.006008557043969631, 0.0015698336064815521, 0.0019433400593698025, 0.8031123280525208], [0.048859938979148865, 0.10487266629934311, 0.1836594045162201, 0.04971802979707718, 0.011352114379405975, 0.0009218762279488146, 0.003473372431471944, 0.5971425771713257], [0.024518560618162155, 0.18011240661144257, 0.2046794295310974, 0.10016245394945145, 0.02229912579059601, 0.0038059186190366745, 0.01017817109823227, 0.45424386858940125], [0.021605566143989563, 0.09439942985773087, 0.12412434816360474, 0.578240692615509, 0.05141125246882439, 0.010386021807789803, 0.007851392962038517, 0.1119813546538353], [0.006556405685842037, 0.025633355602622032, 0.15251021087169647, 0.6894457936286926, 0.07914438843727112, 0.006594702135771513, 0.007188222836703062, 0.03292698785662651], [0.012558618560433388, 0.02392728440463543, 0.20459681749343872, 0.4587847888469696, 0.12050692737102509, 0.013214859180152416, 0.025005288422107697, 0.14140550792217255], [0.12822610139846802, 0.020709261298179626, 0.04173671454191208, 0.02898445911705494, 0.015903985127806664, 0.010771570727229118, 0.022258616983890533, 0.7314092516899109]], [[0.09194391220808029, 0.08293241262435913, 0.40045997500419617, 0.24112607538700104, 0.0461357906460762, 0.04141929745674133, 0.07501080632209778, 0.020971717312932014], [0.11759012937545776, 0.0012086759088560939, 7.920663165350561e-07, 4.119904062349633e-08, 1.5254496474881307e-06, 2.0372406652313657e-05, 4.9402446165913716e-05, 0.8811290860176086], [0.06528210639953613, 0.8591197729110718, 0.010966230183839798, 3.974525952799013e-06, 7.060797457825174e-08, 1.2065106602676678e-06, 1.0365338312112726e-05, 0.06461625546216965], [0.001479166909120977, 0.00044702363084070385, 0.9911834001541138, 0.004784965422004461, 6.937172656762414e-06, 1.6912376565869636e-07, 9.454640093053968e-08, 0.002098296070471406], [0.00019738473929464817, 1.519080399248196e-07, 0.0003373643849045038, 0.9885736703872681, 0.005001409910619259, 2.746531208686065e-05, 5.4120605774699015e-09, 0.005862609017640352], [9.480633161729202e-05, 9.253244392937177e-09, 9.220286045774628e-08, 0.0009521874599158764, 0.9926716089248657, 0.0037709842436015606, 1.50525795561407e-06, 0.002508940640836954], [0.0034223950933665037, 1.0825243407452945e-05, 1.2194333294246462e-06, 8.039078238653019e-06, 0.03251952677965164, 0.9463668465614319, 0.0021507833153009415, 0.01552033144980669], [0.433389812707901, 0.022043846547603607, 0.14052525162696838, 0.012426447123289108, 0.0029549007304012775, 0.011273466981947422, 0.0049552288837730885, 0.37243109941482544]], [[0.03856435418128967, 0.05367130786180496, 0.12381540238857269, 0.048349689692258835, 0.020183559507131577, 0.01796582154929638, 0.03155176341533661, 0.6658980846405029], [0.06819047778844833, 0.1000499501824379, 0.21322157979011536, 0.11466796696186066, 0.05189119651913643, 0.08913694322109222, 0.18803615868091583, 0.1748056709766388], [0.09915507584810257, 0.1416715830564499, 0.2531975507736206, 0.1146635189652443, 0.048576828092336655, 0.08681037276983261, 0.097687266767025, 0.15823782980442047], [0.045860741287469864, 0.22443173825740814, 0.27742961049079895, 0.10412205755710602, 0.12271930277347565, 0.07440753281116486, 0.0674639567732811, 0.08356504887342453], [0.03429616987705231, 0.2218620479106903, 0.3153764605522156, 0.11076600104570389, 0.08446111530065536, 0.0633355975151062, 0.06585508584976196, 0.10404743999242783], [0.014401985332369804, 0.3379054367542267, 0.31462132930755615, 0.14935868978500366, 0.038135457783937454, 0.05451299622654915, 0.05044075474143028, 0.040623392909765244], [0.03749785199761391, 0.2130296230316162, 0.19793188571929932, 0.20220410823822021, 0.04281279444694519, 0.048166994005441666, 0.032358188182115555, 0.22599853575229645], [0.046760331839323044, 0.007157586049288511, 0.01939680427312851, 0.008187615312635899, 0.0026038356591016054, 0.0035636406391859055, 0.006115844007581472, 0.9062142968177795]], [[0.08512768149375916, 0.06956080347299576, 0.21793745458126068, 0.19962327182292938, 0.08382212370634079, 0.08967272192239761, 0.09538727253675461, 0.15886861085891724], [0.008596479892730713, 0.025429099798202515, 0.22147929668426514, 0.3907584249973297, 0.13503271341323853, 0.038287095725536346, 0.12703903019428253, 0.05337785184383392], [0.026056289672851562, 0.03675955906510353, 0.08562745898962021, 0.14480501413345337, 0.19172444939613342, 0.23169033229351044, 0.1368148773908615, 0.14652198553085327], [0.008877218700945377, 0.01354583352804184, 0.024568405002355576, 0.056700773537158966, 0.14323848485946655, 0.28776004910469055, 0.38691580295562744, 0.07839346677064896], [0.003944316878914833, 0.0023988191969692707, 0.011290138587355614, 0.02394722029566765, 0.03494530916213989, 0.06865323334932327, 0.8065629005432129, 0.048258136957883835], [0.022813569754362106, 0.007312556728720665, 0.02745659649372101, 0.03178707882761955, 0.056807395070791245, 0.07752072811126709, 0.530052125453949, 0.2462499588727951], [0.03797786682844162, 0.005722549743950367, 0.005166181828826666, 0.003321248572319746, 0.005387737415730953, 0.017600758001208305, 0.013698577880859375, 0.9111250638961792], [0.09704767912626266, 0.007633294444531202, 0.01739429496228695, 0.015288268215954304, 0.007690324913710356, 0.00796691607683897, 0.008967868983745575, 0.8380113244056702]], [[0.12485288083553314, 0.19840851426124573, 0.07275648415088654, 0.07557130604982376, 0.10686298459768295, 0.16024534404277802, 0.10728895664215088, 0.1540135145187378], [0.057033736258745193, 0.1503336876630783, 0.02115640603005886, 0.0010906613897532225, 0.003511168761178851, 0.001441555330529809, 0.021632550284266472, 0.7438002228736877], [0.034939512610435486, 0.3324894607067108, 0.19696341454982758, 0.01389925554394722, 0.001813785289414227, 0.0003860858560074121, 0.010066456161439419, 0.4094419777393341], [0.01974836178123951, 0.03247630596160889, 0.15897078812122345, 0.07635106891393661, 0.003692029509693384, 0.0007701729191467166, 0.00010450260015204549, 0.7078867554664612], [0.04091033712029457, 0.002868105424568057, 0.026237981393933296, 0.49477890133857727, 0.02325511910021305, 0.012012531980872154, 9.184135706163943e-05, 0.399845153093338], [0.027498463168740273, 0.00017575582023710012, 0.0037831126246601343, 0.01826149970293045, 0.7065922021865845, 0.049704089760780334, 0.005823284853249788, 0.18816159665584564], [0.021802635863423347, 0.0007339840522035956, 0.0004458696348592639, 0.0009070610394701362, 0.11714819073677063, 0.25730055570602417, 0.08836305886507034, 0.5132985711097717], [0.17802736163139343, 0.022570380941033363, 0.0370013564825058, 0.010037820786237717, 0.011472497135400772, 0.009675181470811367, 0.034022390842437744, 0.6971929669380188]], [[0.06193188205361366, 0.005779738072305918, 0.014074228703975677, 0.006227483972907066, 0.0020772241987288, 0.0026058165822178125, 0.001497700926847756, 0.9058059453964233], [0.021669408306479454, 0.03877772390842438, 0.5275883078575134, 0.03299012407660484, 0.0006743639823980629, 0.00010822724289027974, 0.0006614984595216811, 0.3775303363800049], [0.09874594956636429, 0.02224469929933548, 0.17023420333862305, 0.17082732915878296, 0.04661095514893532, 0.006829040590673685, 0.00045308092376217246, 0.4840548038482666], [0.0437430813908577, 0.0008355210884474218, 0.005845002830028534, 0.06382185965776443, 0.17220088839530945, 0.05362190306186676, 0.002039918676018715, 0.6578918695449829], [0.019564546644687653, 0.0003761395055335015, 0.0019486031960695982, 0.010405516251921654, 0.05126031115651131, 0.2493278682231903, 0.31338071823120117, 0.3537362813949585], [0.03075697273015976, 0.0004433189460542053, 0.0013054152950644493, 0.0010706314351409674, 0.0038443850353360176, 0.023897813633084297, 0.5725315809249878, 0.36614981293678284], [0.03951038792729378, 0.0046739159151911736, 0.000698683550581336, 0.0007976142806001008, 0.00022794524556957185, 0.0073013510555028915, 0.05609595403075218, 0.8906941413879395], [0.16940937936306, 0.023391274735331535, 0.06782964617013931, 0.032536525279283524, 0.008878699503839016, 0.009522751905024052, 0.030019134283065796, 0.6584125757217407]], [[0.007235994096845388, 0.1393308937549591, 0.06009358540177345, 0.04687986150383949, 0.12576116621494293, 0.280446320772171, 0.0001953165337909013, 0.34005680680274963], [3.8401125493692234e-05, 0.0014465899439528584, 0.9980939030647278, 5.278807748254621e-06, 1.1264795762855329e-09, 8.111650240394397e-11, 1.6978987105176202e-08, 0.00041582007543183863], [1.3346279047254939e-05, 4.01254339976731e-07, 0.004281657747924328, 0.9920417666435242, 0.00014596244727727026, 6.132333396635659e-08, 2.095512374733488e-10, 0.0035168298054486513], [2.6496293230593437e-06, 1.2591775400139227e-09, 5.37934283784125e-07, 0.0014819572679698467, 0.9912006258964539, 0.000158866896526888, 1.330547783062741e-09, 0.007155388593673706], [6.505663350253599e-07, 6.363617188753778e-08, 9.838966308350905e-10, 1.986325592895355e-08, 0.00047750011435709894, 0.9989874958992004, 0.00013820013555232435, 0.0003959732421208173], [6.142698839539662e-05, 1.2509157159001916e-06, 4.378239566449338e-07, 4.684382326480829e-10, 5.661385671373864e-07, 0.0025486128870397806, 0.9972078204154968, 0.00017986631428357214], [5.966435168147655e-08, 3.95312760304023e-09, 6.013396447457353e-10, 1.076770725534637e-12, 2.932133431454015e-13, 7.159373094367538e-10, 7.674846358440846e-08, 0.9999998807907104], [0.11290821433067322, 0.0011018109507858753, 0.003285142593085766, 0.0011874113697558641, 0.001079453038983047, 0.0013427932281047106, 0.0004165023274254054, 0.8786787390708923]]], [[[0.05435875430703163, 0.010965668596327305, 0.01426240149885416, 0.04012491554021835, 0.027599873021245003, 0.0029610241763293743, 0.010326335206627846, 0.8394010663032532], [0.015354144386947155, 0.012509829364717007, 0.06501588970422745, 0.021156344562768936, 0.0045876153744757175, 0.0002099827688653022, 0.0009590942063368857, 0.8802071213722229], [0.06653447449207306, 0.011523782275617123, 0.03199673444032669, 0.38617658615112305, 0.13591374456882477, 0.005886047147214413, 0.005112520884722471, 0.35685619711875916], [0.01906486041843891, 0.002475265646353364, 0.0069065638817846775, 0.07176569104194641, 0.1383664906024933, 0.021894250065088272, 0.015694452449679375, 0.7238324284553528], [0.011283138766884804, 0.0012601021444424987, 0.006657836027443409, 0.0101982606574893, 0.018724622204899788, 0.010525781661272049, 0.030796682462096214, 0.9105535745620728], [0.009293623268604279, 0.0005576412659138441, 0.001018904964439571, 0.001899566501379013, 0.0017882023239508271, 0.0016166629502549767, 0.025578103959560394, 0.9582473039627075], [0.015575678087770939, 0.0036380274686962366, 0.005990821868181229, 0.014126270078122616, 0.0077779595740139484, 0.006326648406684399, 0.029243525117635727, 0.9173210859298706], [0.17734822630882263, 0.1147313266992569, 0.08068126440048218, 0.14860598742961884, 0.09139136224985123, 0.06074158847332001, 0.11423896998167038, 0.21226127445697784]], [[0.03179275244474411, 0.030809244140982628, 0.0019978273194283247, 0.029531113803386688, 0.019343314692378044, 0.007330566644668579, 0.08760037273168564, 0.7915948033332825], [0.012207644060254097, 0.029207022860646248, 0.00012366706505417824, 0.0015803161077201366, 0.0011104898294433951, 0.000457773101516068, 0.0007663745782338083, 0.9545466899871826], [0.026640305295586586, 0.0033647441305220127, 0.004754561930894852, 0.0014534107176586986, 0.0005747912218794227, 0.00010141469101654366, 0.015027601271867752, 0.948083221912384], [0.005189916584640741, 0.0018052684608846903, 1.209388119605137e-05, 0.020440980792045593, 0.0014713929267600179, 0.00042905635200440884, 0.00018216435273643583, 0.9704691171646118], [0.013313500210642815, 0.002668504836037755, 1.1526753041835036e-05, 0.003243736457079649, 0.04193633794784546, 0.0018382479902356863, 0.000402561534428969, 0.936585545539856], [0.0038087463472038507, 0.0006568824755959213, 4.044165052619064e-06, 0.0006117966840974987, 0.0016930424608290195, 0.04102472588419914, 0.0016757979756221175, 0.9505249261856079], [0.008000541478395462, 0.0007210216717794538, 8.404772984249576e-07, 0.00023772283748257905, 0.0005517649697139859, 0.0010402192128822207, 0.024125801399350166, 0.9653220176696777], [0.09578051418066025, 0.06688118726015091, 0.02469491958618164, 0.06427857279777527, 0.033345695585012436, 0.029934119433164597, 0.1559852957725525, 0.5290996432304382]], [[0.087319016456604, 0.08985958993434906, 0.2042602300643921, 0.12938213348388672, 0.036875803023576736, 0.023347392678260803, 0.1718728393316269, 0.25708290934562683], [0.057737357914447784, 0.044012848287820816, 0.06905873119831085, 0.06737161427736282, 0.022144604474306107, 0.02678324654698372, 0.04768739268183708, 0.6652041673660278], [0.08492876589298248, 0.022833257913589478, 0.05005815625190735, 0.14440526068210602, 0.09460165351629257, 0.07379449903964996, 0.15954340994358063, 0.36983492970466614], [0.04436611011624336, 0.008278083056211472, 0.024071356281638145, 0.038327671587467194, 0.019797172397375107, 0.028445251286029816, 0.09559119492769241, 0.7411231994628906], [0.020053673535585403, 0.00208333064801991, 0.00770814111456275, 0.009732830338180065, 0.005720323417335749, 0.00884963944554329, 0.07663188874721527, 0.8692201375961304], [0.011382962577044964, 0.0010081465588882565, 0.0009391912026330829, 0.001007939106784761, 0.0004354223783593625, 0.0025213200133293867, 0.009000272490084171, 0.9737046957015991], [0.04817686602473259, 0.009424963034689426, 0.011499345302581787, 0.017461152747273445, 0.007757652085274458, 0.017116060480475426, 0.04490246996283531, 0.8436614871025085], [0.08009343594312668, 0.15743878483772278, 0.12553496658802032, 0.15530724823474884, 0.09588879346847534, 0.1046437993645668, 0.1862727701663971, 0.09482021629810333]], [[0.027971938252449036, 0.3509516417980194, 0.3444584906101227, 0.070381760597229, 0.05822257697582245, 0.02194012515246868, 0.09802009165287018, 0.02805340476334095], [0.0071765342727303505, 0.021089648827910423, 0.009192627854645252, 0.0039514461532235146, 0.0008322496432811022, 0.0008175819530151784, 0.009323767386376858, 0.9476161599159241], [0.03044653870165348, 0.1574128121137619, 0.06235123425722122, 0.051125667989254, 0.019645387306809425, 0.006077281199395657, 0.055027130991220474, 0.6179139614105225], [0.03062990866601467, 0.11755812913179398, 0.056542474776506424, 0.05210735648870468, 0.02362593077123165, 0.008300385437905788, 0.026829058304429054, 0.6844067573547363], [0.010814256966114044, 0.04720134288072586, 0.023938585072755814, 0.009398819878697395, 0.003930856008082628, 0.002089402638375759, 0.009050043299794197, 0.8935766220092773], [0.008432244881987572, 0.018162889406085014, 0.030646588653326035, 0.006891875993460417, 0.0077642714604735374, 0.004799602087587118, 0.018710313364863396, 0.9045922756195068], [0.03745870664715767, 0.13752324879169464, 0.12867629528045654, 0.10998596996068954, 0.21969488263130188, 0.10029121488332748, 0.08813931047916412, 0.1782303750514984], [0.05909503623843193, 0.22916465997695923, 0.1675165295600891, 0.13282088935375214, 0.06032589450478554, 0.06029394641518593, 0.2267313003540039, 0.0640517845749855]], [[0.08006692677736282, 0.09118577837944031, 0.05066049098968506, 0.23645855486392975, 0.04182031378149986, 0.0240558423101902, 0.14479157328605652, 0.33096060156822205], [0.01560062263160944, 0.08982487767934799, 0.00011999994603684172, 0.0020586075261235237, 0.0009709318983368576, 0.00045708977268077433, 0.0006331769400276244, 0.8903347253799438], [0.023451216518878937, 0.007731639314442873, 0.006496861577033997, 0.0016563519602641463, 0.00020525064610410482, 0.00021981532336212695, 0.010661921463906765, 0.9495769143104553], [0.007396685425192118, 0.0018975164275616407, 3.3107176022895146e-06, 0.04654829576611519, 0.000786474731285125, 0.00039487096364609897, 4.8763424274511635e-05, 0.9429240822792053], [0.004941444378346205, 0.002126672537997365, 1.1620054465311114e-06, 0.001977216685190797, 0.013335222378373146, 0.001245371880941093, 7.98070541350171e-05, 0.9762930870056152], [0.004380368161946535, 0.0007559929508715868, 1.4558594330082997e-06, 0.000827136158477515, 0.000908000860363245, 0.013162602670490742, 0.0007608000887557864, 0.9792037010192871], [0.011833318509161472, 0.001353795756585896, 4.6291344801829837e-07, 0.0003761136904358864, 0.0005418145447038114, 0.002000309992581606, 0.045571524649858475, 0.9383226037025452], [0.09520140290260315, 0.06938477605581284, 0.027287378907203674, 0.07545410841703415, 0.06626356393098831, 0.04610985517501831, 0.1574975997209549, 0.4628012776374817]], [[0.04660153388977051, 0.14604580402374268, 0.085821233689785, 0.03314310312271118, 0.07676472514867783, 0.03380708396434784, 0.10555601865053177, 0.47226059436798096], [0.026255931705236435, 0.045479122549295425, 0.005913902074098587, 0.0011088603641837835, 0.004929405637085438, 0.00179854198358953, 0.0054655675776302814, 0.9090487360954285], [0.028856907039880753, 0.014219679869711399, 0.00707793515175581, 0.001997907180339098, 0.0016964669339358807, 0.0007848477107472718, 0.014463766478002071, 0.9309024810791016], [0.027236392721533775, 0.011281881481409073, 0.017298856750130653, 0.04197106510400772, 0.013095489703118801, 0.004505029413849115, 0.005110454745590687, 0.8795007467269897], [0.03395706042647362, 0.015062620863318443, 0.004740000702440739, 0.006973085924983025, 0.0841083899140358, 0.009415107779204845, 0.013090408407151699, 0.832653284072876], [0.019984660670161247, 0.018129078671336174, 0.0033410368487238884, 0.0024747299030423164, 0.012609770521521568, 0.0817650631070137, 0.02150186151266098, 0.8401937484741211], [0.025801390409469604, 0.00731789693236351, 0.00031502183992415667, 0.002755193505436182, 0.007769383955746889, 0.01688484102487564, 0.019427785649895668, 0.9197284579277039], [0.0996650755405426, 0.08800998330116272, 0.10581516474485397, 0.06917896121740341, 0.06280152499675751, 0.06538806855678558, 0.3065792918205261, 0.2025618553161621]], [[0.11280258744955063, 0.17816314101219177, 0.1264195740222931, 0.08662594109773636, 0.06787226349115372, 0.07296479493379593, 0.12126310169696808, 0.23388859629631042], [0.009778952226042747, 0.005596228875219822, 0.006138873752206564, 0.0011443300172686577, 0.00046285713324323297, 0.00026774071739055216, 0.002274167723953724, 0.9743368625640869], [0.08034257590770721, 0.057585082948207855, 0.03226461634039879, 0.043679144233465195, 0.018957601860165596, 0.011950695887207985, 0.05897947773337364, 0.6962408423423767], [0.010295993648469448, 0.006558496039360762, 0.020499268546700478, 0.005438680294901133, 0.006522975396364927, 0.002452676184475422, 0.005940140224993229, 0.9422917366027832], [0.004037604201585054, 0.0009183039655908942, 0.001497420365922153, 0.0008414106559939682, 0.0002576828992459923, 7.001892663538456e-05, 0.00087677629198879, 0.991500735282898], [0.00590547127649188, 0.0012421425199136138, 0.0016587545396760106, 0.0017136801034212112, 0.0007042177021503448, 0.00015261516091413796, 0.0006080815801396966, 0.9880149960517883], [0.07665187120437622, 0.030071943998336792, 0.03711755946278572, 0.07632522284984589, 0.08446555584669113, 0.02271081507205963, 0.031861189752817154, 0.640795886516571], [0.09109456837177277, 0.13250967860221863, 0.07169563323259354, 0.11603749543428421, 0.14460104703903198, 0.1275959014892578, 0.21244466304779053, 0.10402099043130875]], [[0.11811017990112305, 0.1300889253616333, 0.17726202309131622, 0.03188430517911911, 0.042445383965969086, 0.010515826754271984, 0.23864242434501648, 0.2510509192943573], [0.02588820643723011, 0.023192375898361206, 0.0036366041749715805, 0.0009078268194571137, 0.0012709165457636118, 0.00042052872595377266, 0.012769402004778385, 0.9319140911102295], [0.11334508657455444, 0.433262437582016, 0.0862366184592247, 0.006347661837935448, 0.012913825921714306, 0.0034527177922427654, 0.021091192960739136, 0.3233504593372345], [0.01830931380391121, 0.14617681503295898, 0.2624324858188629, 0.017171556130051613, 0.014750069938600063, 0.004921463318169117, 0.006531971972435713, 0.5297062397003174], [0.03490619733929634, 0.013475504703819752, 0.03843799978494644, 0.02061579003930092, 0.018719397485256195, 0.007503055967390537, 0.007610477041453123, 0.8587316870689392], [0.007859727367758751, 0.0011397331254556775, 0.0021367876324802637, 0.0027569748926907778, 0.03862949460744858, 0.005527459550648928, 0.01637030951678753, 0.9255795478820801], [0.06990578770637512, 0.03617433086037636, 0.02831355296075344, 0.018932223320007324, 0.21911251544952393, 0.23282259702682495, 0.04042575880885124, 0.35431328415870667], [0.12800130248069763, 0.19942790269851685, 0.08052720129489899, 0.0749240294098854, 0.1016584262251854, 0.07476579397916794, 0.22567816078662872, 0.11501716822385788]]]], \"left_text\": [\"[CLS]\", \"the\", \"[MASK]\", \"sat\", \"on\", \"the\", \"mat\", \"[SEP]\"], \"right_text\": [\"[CLS]\", \"the\", \"[MASK]\", \"sat\", \"on\", \"the\", \"mat\", \"[SEP]\"]}], \"default_filter\": \"0\", \"root_div_id\": \"bertviz-494a90ccb38144cdad448a0331ab44fc\", \"layer\": null, \"heads\": null, \"include_layers\": [0, 1, 2, 3]}; // HACK: {\"attention\": [{\"name\": null, \"attn\": [[[[0.19428931176662445, 0.08342333883047104, 0.037553396075963974, 0.16394352912902832, 0.10998654365539551, 0.07175610214471817, 0.09291097521781921, 0.24613673985004425], [0.03374533727765083, 0.24557264149188995, 0.039260707795619965, 0.03671545907855034, 0.025898192077875137, 0.39238542318344116, 0.08954200893640518, 0.13688026368618011], [0.12484930455684662, 0.09620128571987152, 0.05880030244588852, 0.17019568383693695, 0.09979980438947678, 0.09761591255664825, 0.10956836491823196, 0.24296937882900238], [0.07747795432806015, 0.08238152414560318, 0.08809272944927216, 0.01036287471652031, 0.10176463425159454, 0.13913430273532867, 0.1832636594772339, 0.31752240657806396], [0.0293149184435606, 0.02737838588654995, 0.03857388347387314, 0.10819631814956665, 0.4769815504550934, 0.03444375842809677, 0.08369015902280807, 0.20142099261283875], [0.047263503074645996, 0.2813325822353363, 0.04071250557899475, 0.05274159833788872, 0.029620150104165077, 0.2977139353752136, 0.09017334878444672, 0.16044245660305023], [0.14054736495018005, 0.10744908452033997, 0.157848060131073, 0.08808483928442001, 0.12826037406921387, 0.12002058327198029, 0.024700019508600235, 0.2330896109342575], [0.07698918133974075, 0.12883271276950836, 0.1486707627773285, 0.1917966902256012, 0.09839412569999695, 0.13336066901683807, 0.10028524696826935, 0.12167064100503922]], [[0.10623036324977875, 0.09031439572572708, 0.09733688831329346, 0.1467176377773285, 0.12729863822460175, 0.12971755862236023, 0.11853130161762238, 0.18385329842567444], [0.2762695848941803, 0.016017025336623192, 0.030784200876951218, 0.04953407123684883, 0.04081936553120613, 0.04347981512546539, 0.049304936081171036, 0.49379098415374756], [0.2815835475921631, 0.04489509388804436, 0.039825454354286194, 0.050664447247982025, 0.054822929203510284, 0.07086171954870224, 0.05579286813735962, 0.4015539288520813], [0.09471902996301651, 0.005912201479077339, 0.004787638783454895, 0.7806134819984436, 0.008924471214413643, 0.007440862711519003, 0.014849811792373657, 0.08275257050991058], [0.3475531339645386, 0.05797193944454193, 0.0442781075835228, 0.045901261270046234, 0.05950583145022392, 0.021368635818362236, 0.01467654574662447, 0.40874454379081726], [0.36004576086997986, 0.07755810767412186, 0.0914420560002327, 0.06736826151609421, 0.03531244397163391, 0.02652483992278576, 0.03078708052635193, 0.31096145510673523], [0.12809821963310242, 0.020623553544282913, 0.010585700161755085, 0.01966233365237713, 0.010173952206969261, 0.007437578868120909, 0.7677813172340393, 0.03563738986849785], [0.5955963730812073, 0.04132238030433655, 0.031683072447776794, 0.032864488661289215, 0.03276648744940758, 0.017279425635933876, 0.0017968033207580447, 0.246691033244133]], [[0.08952740579843521, 0.26973941922187805, 0.0491192601621151, 0.05021141096949577, 0.05072908103466034, 0.2460765391588211, 0.02745179459452629, 0.21714510023593903], [0.00021524734620470554, 6.109868991188705e-05, 1.680316563579254e-05, 2.4717410269659013e-05, 3.818717596004717e-05, 4.660513877752237e-05, 4.8338017222704366e-05, 0.9995489716529846], [0.02557278424501419, 0.13591089844703674, 0.06505726277828217, 0.06825361400842667, 0.07688873261213303, 0.054232124239206314, 0.0833427757024765, 0.49074187874794006], [0.016278518363833427, 0.2501392662525177, 0.11513979732990265, 0.09270717203617096, 0.1286829560995102, 0.04927648603916168, 0.07394757866859436, 0.2738282382488251], [0.024538679048419, 0.13672704994678497, 0.15214845538139343, 0.23672206699848175, 0.10591602325439453, 0.04263915866613388, 0.07394595444202423, 0.22736254334449768], [0.026930972933769226, 0.07438275963068008, 0.08895833045244217, 0.3626757562160492, 0.13779330253601074, 0.04858064651489258, 0.03817983716726303, 0.22249840199947357], [0.010398730635643005, 0.04067033529281616, 0.054366305470466614, 0.29774969816207886, 0.3281839191913605, 0.09507149457931519, 0.05233372747898102, 0.1212257519364357], [0.008738932199776173, 8.103811524051707e-06, 0.00017713752458803356, 0.0007602274999953806, 0.0004676292301155627, 0.00014400354120880365, 0.00043214333709329367, 0.989271879196167]], [[0.7358840703964233, 0.01708589494228363, 0.16371096670627594, 0.01660192385315895, 0.016710128635168076, 0.011352017521858215, 0.013235917314887047, 0.02541908249258995], [0.00041018330375663936, 0.012586579658091068, 0.94473797082901, 0.0400477834045887, 5.029259409639053e-05, 2.6185654178334516e-07, 0.0004066703550051898, 0.0017602161969989538], [9.882333870336879e-06, 0.00011651627573883161, 0.01375845167785883, 0.9787880182266235, 0.00730928173288703, 9.861753824225161e-06, 7.803509447512624e-07, 7.233877568069147e-06], [6.436378185981084e-08, 4.488758875709209e-08, 2.886748916353099e-06, 0.00039094348903745413, 0.9983391761779785, 0.0012666567927226424, 1.38494186785465e-07, 6.5129523996176886e-09], [8.778079063631594e-07, 1.6401534139731666e-06, 9.838461068056858e-08, 3.8016172766219825e-05, 0.0012540456373244524, 0.9711326360702515, 0.027572253718972206, 4.163279072599835e-07], [2.6539140662862337e-07, 7.191493978098151e-07, 1.2006266558728385e-07, 2.2875626726204246e-08, 4.113727300136816e-06, 0.0004924196400679648, 0.9984859824180603, 0.0010163597762584686], [1.4942943948881293e-07, 7.168948650360107e-05, 7.384808122878894e-05, 2.5272168358014824e-08, 1.7582014066874763e-08, 1.5970204913173802e-05, 0.00397760234773159, 0.995860755443573], [0.999729335308075, 2.2198411997464973e-08, 9.55537980189547e-05, 3.83888982469216e-06, 6.152315323859625e-10, 8.051662808705728e-11, 1.4924587503628572e-06, 0.00016979649080894887]], [[0.07392463833093643, 0.08038828521966934, 0.059503667056560516, 0.08580029755830765, 0.10187333822250366, 0.05460415780544281, 0.04791409149765968, 0.4959914982318878], [0.05675121396780014, 0.047691214829683304, 0.05929189175367355, 0.2221238911151886, 0.20047929883003235, 0.08362144231796265, 0.1294620782136917, 0.20057903230190277], [0.04703962802886963, 0.09679655730724335, 0.05190690606832504, 0.1703912764787674, 0.12961795926094055, 0.10493258386850357, 0.2389514297246933, 0.16036364436149597], [0.05771458521485329, 0.1278742402791977, 0.08116334676742554, 0.23578739166259766, 0.0676392987370491, 0.1110367625951767, 0.17413271963596344, 0.14465166628360748], [0.037412237375974655, 0.13479623198509216, 0.06783515214920044, 0.2811528146266937, 0.05252329632639885, 0.07503876835107803, 0.16885679960250854, 0.18238471448421478], [0.060837775468826294, 0.08195269852876663, 0.08041653037071228, 0.2478460818529129, 0.1408616602420807, 0.05144861340522766, 0.07977662980556488, 0.25686004757881165], [0.03911924362182617, 0.09115882962942123, 0.0505848228931427, 0.5629783272743225, 0.10001976042985916, 0.07562469691038132, 0.029006343334913254, 0.051508013159036636], [0.03137635439634323, 0.12878771126270294, 0.0699242651462555, 0.16838373243808746, 0.195212721824646, 0.1561966836452484, 0.14309866726398468, 0.10701984167098999]], [[0.17114490270614624, 0.14841173589229584, 0.135475754737854, 0.09563138335943222, 0.08683302998542786, 0.10333733260631561, 0.11176574230194092, 0.14740006625652313], [0.24841009080410004, 0.0883922204375267, 0.0879262238740921, 0.1436489373445511, 0.16014590859413147, 0.10303346067667007, 0.07400421053171158, 0.09443898499011993], [0.24098175764083862, 0.09810178726911545, 0.10831140726804733, 0.09117425233125687, 0.11588394641876221, 0.09790386259555817, 0.14907340705394745, 0.09856951981782913], [0.18833127617835999, 0.08856459707021713, 0.16177678108215332, 0.1497763693332672, 0.114950031042099, 0.0717175081372261, 0.11773264408111572, 0.10715076327323914], [0.16684582829475403, 0.11421380192041397, 0.1351977288722992, 0.09343712031841278, 0.11027296632528305, 0.18187463283538818, 0.10549403727054596, 0.09266385436058044], [0.1814468801021576, 0.0909736379981041, 0.16888423264026642, 0.10304895788431168, 0.16443507373332977, 0.09879206120967865, 0.09676957875490189, 0.09564954787492752], [0.35578158497810364, 0.12944446504116058, 0.09359036386013031, 0.11966929584741592, 0.08343993127346039, 0.09074753522872925, 0.02686348557472229, 0.10046333074569702], [0.27343034744262695, 0.09554240852594376, 0.12209576368331909, 0.06508281826972961, 0.140624538064003, 0.11322206258773804, 0.10045118629932404, 0.0895509272813797]], [[0.9939857125282288, 0.002024137880653143, 0.0012845471501350403, 9.239631617674604e-05, 0.0007525171968154609, 0.0012770923785865307, 0.00041178581886924803, 0.00017177560948766768], [0.9999655485153198, 3.4130978747271e-05, 1.8731611817202065e-07, 1.1413748635460963e-13, 3.9633303583475055e-11, 2.9708189241972605e-09, 1.721503082308118e-07, 1.3614163962838433e-10], [5.584479012554766e-08, 0.9995535016059875, 0.00044428513501770794, 6.778163585963171e-10, 6.069905862660097e-14, 1.1315629856734066e-11, 3.6670411418526783e-07, 1.8136047401640099e-06], [1.7625192416659274e-09, 2.3093542040442117e-05, 0.9999610185623169, 1.591942236700561e-05, 3.9157344033924346e-11, 8.239209650741971e-16, 6.6074012072521535e-15, 1.6768245458820275e-08], [9.07816183337573e-12, 8.227059577212495e-14, 1.21842469980038e-06, 0.9999910593032837, 7.751315024506766e-06, 5.559200235566442e-12, 1.3039798260761076e-16, 3.489178319762107e-16], [3.038883381045743e-11, 8.174410571485833e-16, 1.3085733668524724e-12, 1.9897629499610048e-06, 0.9999806880950928, 1.7362181097269058e-05, 2.330855126964071e-11, 2.5733198427275566e-17], [1.3183815150696887e-10, 5.527558619156103e-11, 1.3379402091979499e-14, 4.039561111827961e-15, 1.589617386343889e-05, 0.9999492168426514, 3.4933000279124826e-05, 1.1902333285629396e-11], [7.828570014467573e-10, 2.9600923312500527e-07, 6.688834815887779e-12, 3.327455195954293e-18, 1.8959515388054533e-15, 1.0678545550035778e-06, 0.9999922513961792, 6.348809165501734e-06]], [[0.14878731966018677, 0.06429166346788406, 0.19916118681430817, 0.12412340939044952, 0.05366180092096329, 0.06868620216846466, 0.16716717183589935, 0.17412127554416656], [0.22585660219192505, 0.030126599594950676, 0.0497458390891552, 0.2733304798603058, 0.06524001806974411, 0.04072601720690727, 0.18772901594638824, 0.12724539637565613], [0.1932515650987625, 0.07404405623674393, 0.10930442810058594, 0.15198948979377747, 0.0779254212975502, 0.07012239098548889, 0.1718754768371582, 0.15148726105690002], [0.03557631000876427, 0.0216659028083086, 0.04419681057333946, 0.09612850844860077, 0.04712451621890068, 0.025336839258670807, 0.6743329763412476, 0.055638134479522705], [0.12426536530256271, 0.041858602315187454, 0.04486413672566414, 0.4696800708770752, 0.017660826444625854, 0.04470219835639, 0.15789894759655, 0.09906995296478271], [0.20942150056362152, 0.04350536689162254, 0.05538519471883774, 0.24770423769950867, 0.09578970819711685, 0.04279940947890282, 0.17667843401432037, 0.12871617078781128], [0.08761666715145111, 0.14393256604671478, 0.12126609683036804, 0.07147110253572464, 0.07207301259040833, 0.14460335671901703, 0.240535169839859, 0.11850203573703766], [0.07699980586767197, 0.07156212627887726, 0.7207849621772766, 0.006500949151813984, 0.03991285338997841, 0.03571926802396774, 0.02333364076912403, 0.025186294689774513]]], [[[0.6100242137908936, 0.027288714423775673, 0.049208421260118484, 0.06044023483991623, 0.022010132670402527, 0.028420589864253998, 0.026302829384803772, 0.17630483210086823], [0.2565588653087616, 0.055870432406663895, 0.046806514263153076, 0.02086581103503704, 0.03405153751373291, 0.051950603723526, 0.027454819530248642, 0.5064414143562317], [0.3396422863006592, 0.0648835152387619, 0.0954815149307251, 0.06642249971628189, 0.05318189784884453, 0.06141064688563347, 0.0550597719848156, 0.26391786336898804], [0.4825161397457123, 0.042232535779476166, 0.10988132655620575, 0.008007783442735672, 0.040021225810050964, 0.038114603608846664, 0.04298880696296692, 0.236237570643425], [0.3166353702545166, 0.10078348219394684, 0.10250189155340195, 0.03780272230505943, 0.08608194440603256, 0.09441207349300385, 0.03538285195827484, 0.22639966011047363], [0.34324169158935547, 0.05076918751001358, 0.061574772000312805, 0.02503017894923687, 0.0536159947514534, 0.055735498666763306, 0.03162616118788719, 0.37840643525123596], [0.5737314820289612, 0.04510023817420006, 0.10320659726858139, 0.027974646538496017, 0.06722576171159744, 0.05857371911406517, 0.0037960989866405725, 0.12039158493280411], [0.200738325715065, 0.10719749331474304, 0.0987638607621193, 0.10617851465940475, 0.0895218551158905, 0.1261817067861557, 0.0542655885219574, 0.2171526849269867]], [[0.4608336389064789, 0.03527768328785896, 0.1428246945142746, 0.08251621574163437, 0.0368802510201931, 0.038264960050582886, 0.08900845795869827, 0.11439403891563416], [0.0461154505610466, 0.022247709333896637, 0.9119415879249573, 0.011469177901744843, 0.0007072222069837153, 2.8108948754379526e-05, 0.0014133225195109844, 0.006077358033508062], [0.1771995723247528, 0.0012306052958592772, 0.12389662116765976, 0.678385853767395, 0.01716892421245575, 0.0006077573052607477, 0.00011392330634407699, 0.001396824955008924], [0.033328283578157425, 1.7217218555742875e-05, 0.0010375042911618948, 0.04547742009162903, 0.8894032835960388, 0.029814569279551506, 0.0006580002373084426, 0.0002637650759425014], [0.09005648642778397, 1.5066958440002054e-05, 0.0002668668166734278, 0.0008645826019346714, 0.05897068977355957, 0.3450773060321808, 0.5042563676834106, 0.0004926158580929041], [0.017930172383785248, 9.508214134257287e-05, 0.00012436675024218857, 6.722599209751934e-06, 0.0008750864653848112, 0.0101704066619277, 0.9640592336654663, 0.0067389970645308495], [0.013906639069318771, 0.000676739786285907, 0.0008068476454354823, 1.5301000530598685e-05, 2.0677764041465707e-05, 0.0005156263359822333, 0.032690297812223434, 0.9513678550720215], [0.8930152058601379, 0.00015079110744409263, 0.013168112374842167, 0.004214826505631208, 0.00022894064022693783, 0.00015520844317507, 0.007109888829290867, 0.08195697516202927]], [[0.05329231172800064, 0.1285000443458557, 0.22590239346027374, 0.1819685697555542, 0.09648856520652771, 0.07255032658576965, 0.17856185138225555, 0.06273596733808517], [0.04457999765872955, 0.033259451389312744, 0.3197166919708252, 0.42212748527526855, 0.012225072830915451, 0.008378525264561176, 0.11063764244318008, 0.049075063318014145], [0.06217110529541969, 0.05068309232592583, 0.13713152706623077, 0.5413321256637573, 0.06349172443151474, 0.031237123534083366, 0.05692155659198761, 0.05703166872262955], [0.046945709735155106, 0.011539626866579056, 0.0869641974568367, 0.018538592383265495, 0.49426841735839844, 0.038063034415245056, 0.26309019327163696, 0.04059021547436714], [0.01804601028561592, 0.004323197528719902, 0.01491244975477457, 0.12365148216485977, 0.007712542545050383, 0.020893847569823265, 0.7746931910514832, 0.03576737642288208], [0.03275908902287483, 0.0037751984782516956, 0.022387435659766197, 0.08203264325857162, 0.01294508296996355, 0.01845378987491131, 0.7151245474815369, 0.11252215504646301], [0.09288632124662399, 0.030487343668937683, 0.0510677732527256, 0.01149013452231884, 0.030199013650417328, 0.0777730867266655, 0.15140941739082336, 0.5546868443489075], [0.036734990775585175, 0.0490359328687191, 0.5006878972053528, 0.0274061169475317, 0.008183460682630539, 0.03946658596396446, 0.076137475669384, 0.262347549200058]], [[0.13223034143447876, 0.07345449179410934, 0.20430272817611694, 0.18746107816696167, 0.06846025586128235, 0.03715326637029648, 0.08132146298885345, 0.2156163603067398], [0.017775854095816612, 0.02202310599386692, 0.11859219521284103, 0.4989067316055298, 0.14602385461330414, 0.050995949655771255, 0.04284051060676575, 0.10284173488616943], [0.17665405571460724, 0.012084711343050003, 0.07316666096448898, 0.24986974895000458, 0.15205632150173187, 0.12145251035690308, 0.0899428129196167, 0.12477317452430725], [0.04511691629886627, 0.002949488814920187, 0.008489725179970264, 0.048632748425006866, 0.23696951568126678, 0.17964129149913788, 0.2417161464691162, 0.2364841252565384], [0.02294027805328369, 0.0013460895279422402, 0.006004932802170515, 0.017552191391587257, 0.01985946111381054, 0.0475003719329834, 0.6929039359092712, 0.19189277291297913], [0.030780920758843422, 0.004138114862143993, 0.013622226193547249, 0.014303050003945827, 0.015506601892411709, 0.02662098966538906, 0.22038878500461578, 0.6746392846107483], [0.2100057601928711, 0.004975654650479555, 0.016554297879338264, 0.015115620568394661, 0.012979610823094845, 0.014404518529772758, 0.06387657672166824, 0.6620879769325256], [0.9147149920463562, 0.005072177853435278, 0.01644199900329113, 0.004830889869481325, 0.0026356528978794813, 0.00421646935865283, 0.00756454560905695, 0.04452317953109741]], [[0.37028998136520386, 0.09039779007434845, 0.1739322990179062, 0.19192522764205933, 0.07636228203773499, 0.04363298416137695, 0.0326739065349102, 0.020785508677363396], [0.7576183676719666, 0.058814529329538345, 0.0935482457280159, 0.02251170203089714, 0.014609470963478088, 0.008308717049658298, 0.02128797397017479, 0.02330099418759346], [0.4883330166339874, 0.19364285469055176, 0.2012009471654892, 0.04875054582953453, 0.01493153627961874, 0.004926887806504965, 0.01594426855444908, 0.032269977033138275], [0.22436554729938507, 0.15600284934043884, 0.46977442502975464, 0.09274358302354813, 0.03458063676953316, 0.004748798906803131, 0.0029322104528546333, 0.014851969666779041], [0.025042133405804634, 0.021729134023189545, 0.07129429280757904, 0.8627416491508484, 0.00591609301045537, 0.005895481910556555, 0.0031906587537378073, 0.0041905175894498825], [0.11514101177453995, 0.03472309187054634, 0.10688146203756332, 0.4406683146953583, 0.20532427728176117, 0.037149474024772644, 0.033727120608091354, 0.02638527937233448], [0.2543541193008423, 0.00900709442794323, 0.03592176362872124, 0.1331234723329544, 0.3779609203338623, 0.0900520533323288, 0.05017919838428497, 0.04940143972635269], [0.7870122194290161, 0.005303630605340004, 0.03106868639588356, 0.022156652063131332, 0.01436914037913084, 0.029646417126059532, 0.07051502913236618, 0.03992823138833046]], [[0.04222972318530083, 0.06677515804767609, 0.15239915251731873, 0.33115217089653015, 0.04076329618692398, 0.036771319806575775, 0.152666375041008, 0.17724284529685974], [0.029750071465969086, 0.04473946988582611, 0.07422490417957306, 0.3622412085533142, 0.06773332506418228, 0.046195100992918015, 0.12401638925075531, 0.251099556684494], [0.06970399618148804, 0.038695916533470154, 0.1040671318769455, 0.2541760206222534, 0.033247970044612885, 0.03691282123327255, 0.24081167578697205, 0.2223844677209854], [0.032948970794677734, 0.027560526505112648, 0.06674158573150635, 0.24489064514636993, 0.07612111419439316, 0.022425007075071335, 0.2491142600774765, 0.2801978290081024], [0.13139797747135162, 0.04407771676778793, 0.30519378185272217, 0.14087806642055511, 0.02603864297270775, 0.035532355308532715, 0.1667335480451584, 0.150147944688797], [0.08450474590063095, 0.05401143059134483, 0.1754266321659088, 0.2581482231616974, 0.030067866668105125, 0.036160409450531006, 0.213052436709404, 0.1486283242702484], [0.2043747752904892, 0.03503949195146561, 0.31209829449653625, 0.1608259677886963, 0.026314178481698036, 0.04931672662496567, 0.11970061808824539, 0.09232992678880692], [0.36239156126976013, 0.025745732709765434, 0.42380374670028687, 0.009857340715825558, 0.006186227779835463, 0.044036246836185455, 0.028830835595726967, 0.09914828836917877]], [[0.3605768382549286, 0.08407143503427505, 0.05552733317017555, 0.05525224655866623, 0.08786403387784958, 0.12494911998510361, 0.048719704151153564, 0.18303927779197693], [0.5138434767723083, 0.07206761091947556, 0.023939570412039757, 0.003964300733059645, 0.05406148359179497, 0.16035106778144836, 0.001611814252100885, 0.17016060650348663], [0.4686970114707947, 0.05647158995270729, 0.02448304183781147, 0.020077330991625786, 0.0715523287653923, 0.10716090351343155, 0.022360244765877724, 0.22919759154319763], [0.5518701076507568, 0.009887863881886005, 0.02359260804951191, 0.17434127628803253, 0.009095645509660244, 0.026650452986359596, 0.02678290382027626, 0.1777791827917099], [0.28718721866607666, 0.025411657989025116, 0.01805519312620163, 0.001986891031265259, 0.5446720123291016, 0.02611188031733036, 0.0005561228026635945, 0.09601904451847076], [0.4108286201953888, 0.21054431796073914, 0.0313800647854805, 0.011484739370644093, 0.07032273709774017, 0.13184602558612823, 0.0018470421200618148, 0.1317463517189026], [0.48065486550331116, 0.011034857481718063, 0.03798985481262207, 0.04551390931010246, 0.004720049910247326, 0.0303786750882864, 0.2674995958805084, 0.12220825999975204], [0.4061204493045807, 0.06358875334262848, 0.07524199783802032, 0.07810363173484802, 0.09586446732282639, 0.09686124324798584, 0.04121352732181549, 0.1430058479309082]], [[0.29831409454345703, 0.0019492042483761907, 0.10917530953884125, 0.11302323639392853, 0.0110323466360569, 0.0015766241122037172, 0.04386403411626816, 0.421065092086792], [0.5044360756874084, 0.004631356336176395, 0.20895810425281525, 0.057812292128801346, 0.0072126490995287895, 0.0034720420371741056, 0.03927124664187431, 0.17420624196529388], [0.4401787221431732, 0.003779953345656395, 0.2729842960834503, 0.06508063524961472, 0.01469460129737854, 0.0038254731334745884, 0.040346983820199966, 0.15910935401916504], [0.44165557622909546, 0.0037452857941389084, 0.21797575056552887, 0.09588932991027832, 0.002977298339828849, 0.00205666059628129, 0.06720592081546783, 0.16849423944950104], [0.5186502933502197, 0.002150111598894, 0.3362758159637451, 0.04397670179605484, 0.0010335890110582113, 0.0015042676823213696, 0.025789910927414894, 0.07061932235956192], [0.5282118320465088, 0.0025303957518190145, 0.30025532841682434, 0.04933136701583862, 0.0021159150637686253, 0.001207086956128478, 0.023770449683070183, 0.09257765114307404], [0.6006987690925598, 0.00208114692941308, 0.20148079097270966, 0.0714481845498085, 0.0065704043954610825, 0.0021815255749970675, 0.027939243242144585, 0.08759994059801102], [0.010549920611083508, 0.39876607060432434, 0.007139567285776138, 0.000677653995808214, 0.00010938470222754404, 0.5816463232040405, 0.0005582129233516753, 0.000552899728063494]]], [[[0.11389191448688507, 0.0062700845301151276, 0.041421350091695786, 0.042921897023916245, 0.01934569887816906, 0.006974484771490097, 0.008204459212720394, 0.7609701156616211], [0.0870811715722084, 0.092526875436306, 0.035972628742456436, 0.012918451800942421, 0.0071390545926988125, 0.0023951970506459475, 0.0010818853043019772, 0.760884702205658], [0.14749659597873688, 0.2971954643726349, 0.11230826377868652, 0.023006126284599304, 0.009928815066814423, 0.0015639024786651134, 0.005919202696532011, 0.4025816023349762], [0.044834204018116, 0.46323174238204956, 0.19462279975414276, 0.060707032680511475, 0.003926778212189674, 0.001324865617789328, 0.0012799748219549656, 0.23007261753082275], [0.016828492283821106, 0.05563413351774216, 0.3976733982563019, 0.39639246463775635, 0.03528185561299324, 0.011145418509840965, 0.0009650670690461993, 0.0860791727900505], [0.010897472500801086, 0.00550704263150692, 0.10741201788187027, 0.3966318666934967, 0.36828234791755676, 0.029747189953923225, 0.003207787172868848, 0.07831423729658127], [0.03221741318702698, 0.0019146626582369208, 0.029131388291716576, 0.23026800155639648, 0.43434691429138184, 0.05831661447882652, 0.022187961265444756, 0.1916169822216034], [0.06011606752872467, 0.012149250134825706, 0.008947285823523998, 0.01668599806725979, 0.010846905410289764, 0.004823367111384869, 0.006776549853384495, 0.879654586315155]], [[0.02959858626127243, 0.08793462812900543, 0.2681664228439331, 0.32698923349380493, 0.0494484007358551, 0.027575762942433357, 0.18942740559577942, 0.020859576761722565], [0.03492502123117447, 0.068027563393116, 0.06335948407649994, 0.02105383574962616, 0.006008557043969631, 0.0015698336064815521, 0.0019433400593698025, 0.8031123280525208], [0.048859938979148865, 0.10487266629934311, 0.1836594045162201, 0.04971802979707718, 0.011352114379405975, 0.0009218762279488146, 0.003473372431471944, 0.5971425771713257], [0.024518560618162155, 0.18011240661144257, 0.2046794295310974, 0.10016245394945145, 0.02229912579059601, 0.0038059186190366745, 0.01017817109823227, 0.45424386858940125], [0.021605566143989563, 0.09439942985773087, 0.12412434816360474, 0.578240692615509, 0.05141125246882439, 0.010386021807789803, 0.007851392962038517, 0.1119813546538353], [0.006556405685842037, 0.025633355602622032, 0.15251021087169647, 0.6894457936286926, 0.07914438843727112, 0.006594702135771513, 0.007188222836703062, 0.03292698785662651], [0.012558618560433388, 0.02392728440463543, 0.20459681749343872, 0.4587847888469696, 0.12050692737102509, 0.013214859180152416, 0.025005288422107697, 0.14140550792217255], [0.12822610139846802, 0.020709261298179626, 0.04173671454191208, 0.02898445911705494, 0.015903985127806664, 0.010771570727229118, 0.022258616983890533, 0.7314092516899109]], [[0.09194391220808029, 0.08293241262435913, 0.40045997500419617, 0.24112607538700104, 0.0461357906460762, 0.04141929745674133, 0.07501080632209778, 0.020971717312932014], [0.11759012937545776, 0.0012086759088560939, 7.920663165350561e-07, 4.119904062349633e-08, 1.5254496474881307e-06, 2.0372406652313657e-05, 4.9402446165913716e-05, 0.8811290860176086], [0.06528210639953613, 0.8591197729110718, 0.010966230183839798, 3.974525952799013e-06, 7.060797457825174e-08, 1.2065106602676678e-06, 1.0365338312112726e-05, 0.06461625546216965], [0.001479166909120977, 0.00044702363084070385, 0.9911834001541138, 0.004784965422004461, 6.937172656762414e-06, 1.6912376565869636e-07, 9.454640093053968e-08, 0.002098296070471406], [0.00019738473929464817, 1.519080399248196e-07, 0.0003373643849045038, 0.9885736703872681, 0.005001409910619259, 2.746531208686065e-05, 5.4120605774699015e-09, 0.005862609017640352], [9.480633161729202e-05, 9.253244392937177e-09, 9.220286045774628e-08, 0.0009521874599158764, 0.9926716089248657, 0.0037709842436015606, 1.50525795561407e-06, 0.002508940640836954], [0.0034223950933665037, 1.0825243407452945e-05, 1.2194333294246462e-06, 8.039078238653019e-06, 0.03251952677965164, 0.9463668465614319, 0.0021507833153009415, 0.01552033144980669], [0.433389812707901, 0.022043846547603607, 0.14052525162696838, 0.012426447123289108, 0.0029549007304012775, 0.011273466981947422, 0.0049552288837730885, 0.37243109941482544]], [[0.03856435418128967, 0.05367130786180496, 0.12381540238857269, 0.048349689692258835, 0.020183559507131577, 0.01796582154929638, 0.03155176341533661, 0.6658980846405029], [0.06819047778844833, 0.1000499501824379, 0.21322157979011536, 0.11466796696186066, 0.05189119651913643, 0.08913694322109222, 0.18803615868091583, 0.1748056709766388], [0.09915507584810257, 0.1416715830564499, 0.2531975507736206, 0.1146635189652443, 0.048576828092336655, 0.08681037276983261, 0.097687266767025, 0.15823782980442047], [0.045860741287469864, 0.22443173825740814, 0.27742961049079895, 0.10412205755710602, 0.12271930277347565, 0.07440753281116486, 0.0674639567732811, 0.08356504887342453], [0.03429616987705231, 0.2218620479106903, 0.3153764605522156, 0.11076600104570389, 0.08446111530065536, 0.0633355975151062, 0.06585508584976196, 0.10404743999242783], [0.014401985332369804, 0.3379054367542267, 0.31462132930755615, 0.14935868978500366, 0.038135457783937454, 0.05451299622654915, 0.05044075474143028, 0.040623392909765244], [0.03749785199761391, 0.2130296230316162, 0.19793188571929932, 0.20220410823822021, 0.04281279444694519, 0.048166994005441666, 0.032358188182115555, 0.22599853575229645], [0.046760331839323044, 0.007157586049288511, 0.01939680427312851, 0.008187615312635899, 0.0026038356591016054, 0.0035636406391859055, 0.006115844007581472, 0.9062142968177795]], [[0.08512768149375916, 0.06956080347299576, 0.21793745458126068, 0.19962327182292938, 0.08382212370634079, 0.08967272192239761, 0.09538727253675461, 0.15886861085891724], [0.008596479892730713, 0.025429099798202515, 0.22147929668426514, 0.3907584249973297, 0.13503271341323853, 0.038287095725536346, 0.12703903019428253, 0.05337785184383392], [0.026056289672851562, 0.03675955906510353, 0.08562745898962021, 0.14480501413345337, 0.19172444939613342, 0.23169033229351044, 0.1368148773908615, 0.14652198553085327], [0.008877218700945377, 0.01354583352804184, 0.024568405002355576, 0.056700773537158966, 0.14323848485946655, 0.28776004910469055, 0.38691580295562744, 0.07839346677064896], [0.003944316878914833, 0.0023988191969692707, 0.011290138587355614, 0.02394722029566765, 0.03494530916213989, 0.06865323334932327, 0.8065629005432129, 0.048258136957883835], [0.022813569754362106, 0.007312556728720665, 0.02745659649372101, 0.03178707882761955, 0.056807395070791245, 0.07752072811126709, 0.530052125453949, 0.2462499588727951], [0.03797786682844162, 0.005722549743950367, 0.005166181828826666, 0.003321248572319746, 0.005387737415730953, 0.017600758001208305, 0.013698577880859375, 0.9111250638961792], [0.09704767912626266, 0.007633294444531202, 0.01739429496228695, 0.015288268215954304, 0.007690324913710356, 0.00796691607683897, 0.008967868983745575, 0.8380113244056702]], [[0.12485288083553314, 0.19840851426124573, 0.07275648415088654, 0.07557130604982376, 0.10686298459768295, 0.16024534404277802, 0.10728895664215088, 0.1540135145187378], [0.057033736258745193, 0.1503336876630783, 0.02115640603005886, 0.0010906613897532225, 0.003511168761178851, 0.001441555330529809, 0.021632550284266472, 0.7438002228736877], [0.034939512610435486, 0.3324894607067108, 0.19696341454982758, 0.01389925554394722, 0.001813785289414227, 0.0003860858560074121, 0.010066456161439419, 0.4094419777393341], [0.01974836178123951, 0.03247630596160889, 0.15897078812122345, 0.07635106891393661, 0.003692029509693384, 0.0007701729191467166, 0.00010450260015204549, 0.7078867554664612], [0.04091033712029457, 0.002868105424568057, 0.026237981393933296, 0.49477890133857727, 0.02325511910021305, 0.012012531980872154, 9.184135706163943e-05, 0.399845153093338], [0.027498463168740273, 0.00017575582023710012, 0.0037831126246601343, 0.01826149970293045, 0.7065922021865845, 0.049704089760780334, 0.005823284853249788, 0.18816159665584564], [0.021802635863423347, 0.0007339840522035956, 0.0004458696348592639, 0.0009070610394701362, 0.11714819073677063, 0.25730055570602417, 0.08836305886507034, 0.5132985711097717], [0.17802736163139343, 0.022570380941033363, 0.0370013564825058, 0.010037820786237717, 0.011472497135400772, 0.009675181470811367, 0.034022390842437744, 0.6971929669380188]], [[0.06193188205361366, 0.005779738072305918, 0.014074228703975677, 0.006227483972907066, 0.0020772241987288, 0.0026058165822178125, 0.001497700926847756, 0.9058059453964233], [0.021669408306479454, 0.03877772390842438, 0.5275883078575134, 0.03299012407660484, 0.0006743639823980629, 0.00010822724289027974, 0.0006614984595216811, 0.3775303363800049], [0.09874594956636429, 0.02224469929933548, 0.17023420333862305, 0.17082732915878296, 0.04661095514893532, 0.006829040590673685, 0.00045308092376217246, 0.4840548038482666], [0.0437430813908577, 0.0008355210884474218, 0.005845002830028534, 0.06382185965776443, 0.17220088839530945, 0.05362190306186676, 0.002039918676018715, 0.6578918695449829], [0.019564546644687653, 0.0003761395055335015, 0.0019486031960695982, 0.010405516251921654, 0.05126031115651131, 0.2493278682231903, 0.31338071823120117, 0.3537362813949585], [0.03075697273015976, 0.0004433189460542053, 0.0013054152950644493, 0.0010706314351409674, 0.0038443850353360176, 0.023897813633084297, 0.5725315809249878, 0.36614981293678284], [0.03951038792729378, 0.0046739159151911736, 0.000698683550581336, 0.0007976142806001008, 0.00022794524556957185, 0.0073013510555028915, 0.05609595403075218, 0.8906941413879395], [0.16940937936306, 0.023391274735331535, 0.06782964617013931, 0.032536525279283524, 0.008878699503839016, 0.009522751905024052, 0.030019134283065796, 0.6584125757217407]], [[0.007235994096845388, 0.1393308937549591, 0.06009358540177345, 0.04687986150383949, 0.12576116621494293, 0.280446320772171, 0.0001953165337909013, 0.34005680680274963], [3.8401125493692234e-05, 0.0014465899439528584, 0.9980939030647278, 5.278807748254621e-06, 1.1264795762855329e-09, 8.111650240394397e-11, 1.6978987105176202e-08, 0.00041582007543183863], [1.3346279047254939e-05, 4.01254339976731e-07, 0.004281657747924328, 0.9920417666435242, 0.00014596244727727026, 6.132333396635659e-08, 2.095512374733488e-10, 0.0035168298054486513], [2.6496293230593437e-06, 1.2591775400139227e-09, 5.37934283784125e-07, 0.0014819572679698467, 0.9912006258964539, 0.000158866896526888, 1.330547783062741e-09, 0.007155388593673706], [6.505663350253599e-07, 6.363617188753778e-08, 9.838966308350905e-10, 1.986325592895355e-08, 0.00047750011435709894, 0.9989874958992004, 0.00013820013555232435, 0.0003959732421208173], [6.142698839539662e-05, 1.2509157159001916e-06, 4.378239566449338e-07, 4.684382326480829e-10, 5.661385671373864e-07, 0.0025486128870397806, 0.9972078204154968, 0.00017986631428357214], [5.966435168147655e-08, 3.95312760304023e-09, 6.013396447457353e-10, 1.076770725534637e-12, 2.932133431454015e-13, 7.159373094367538e-10, 7.674846358440846e-08, 0.9999998807907104], [0.11290821433067322, 0.0011018109507858753, 0.003285142593085766, 0.0011874113697558641, 0.001079453038983047, 0.0013427932281047106, 0.0004165023274254054, 0.8786787390708923]]], [[[0.05435875430703163, 0.010965668596327305, 0.01426240149885416, 0.04012491554021835, 0.027599873021245003, 0.0029610241763293743, 0.010326335206627846, 0.8394010663032532], [0.015354144386947155, 0.012509829364717007, 0.06501588970422745, 0.021156344562768936, 0.0045876153744757175, 0.0002099827688653022, 0.0009590942063368857, 0.8802071213722229], [0.06653447449207306, 0.011523782275617123, 0.03199673444032669, 0.38617658615112305, 0.13591374456882477, 0.005886047147214413, 0.005112520884722471, 0.35685619711875916], [0.01906486041843891, 0.002475265646353364, 0.0069065638817846775, 0.07176569104194641, 0.1383664906024933, 0.021894250065088272, 0.015694452449679375, 0.7238324284553528], [0.011283138766884804, 0.0012601021444424987, 0.006657836027443409, 0.0101982606574893, 0.018724622204899788, 0.010525781661272049, 0.030796682462096214, 0.9105535745620728], [0.009293623268604279, 0.0005576412659138441, 0.001018904964439571, 0.001899566501379013, 0.0017882023239508271, 0.0016166629502549767, 0.025578103959560394, 0.9582473039627075], [0.015575678087770939, 0.0036380274686962366, 0.005990821868181229, 0.014126270078122616, 0.0077779595740139484, 0.006326648406684399, 0.029243525117635727, 0.9173210859298706], [0.17734822630882263, 0.1147313266992569, 0.08068126440048218, 0.14860598742961884, 0.09139136224985123, 0.06074158847332001, 0.11423896998167038, 0.21226127445697784]], [[0.03179275244474411, 0.030809244140982628, 0.0019978273194283247, 0.029531113803386688, 0.019343314692378044, 0.007330566644668579, 0.08760037273168564, 0.7915948033332825], [0.012207644060254097, 0.029207022860646248, 0.00012366706505417824, 0.0015803161077201366, 0.0011104898294433951, 0.000457773101516068, 0.0007663745782338083, 0.9545466899871826], [0.026640305295586586, 0.0033647441305220127, 0.004754561930894852, 0.0014534107176586986, 0.0005747912218794227, 0.00010141469101654366, 0.015027601271867752, 0.948083221912384], [0.005189916584640741, 0.0018052684608846903, 1.209388119605137e-05, 0.020440980792045593, 0.0014713929267600179, 0.00042905635200440884, 0.00018216435273643583, 0.9704691171646118], [0.013313500210642815, 0.002668504836037755, 1.1526753041835036e-05, 0.003243736457079649, 0.04193633794784546, 0.0018382479902356863, 0.000402561534428969, 0.936585545539856], [0.0038087463472038507, 0.0006568824755959213, 4.044165052619064e-06, 0.0006117966840974987, 0.0016930424608290195, 0.04102472588419914, 0.0016757979756221175, 0.9505249261856079], [0.008000541478395462, 0.0007210216717794538, 8.404772984249576e-07, 0.00023772283748257905, 0.0005517649697139859, 0.0010402192128822207, 0.024125801399350166, 0.9653220176696777], [0.09578051418066025, 0.06688118726015091, 0.02469491958618164, 0.06427857279777527, 0.033345695585012436, 0.029934119433164597, 0.1559852957725525, 0.5290996432304382]], [[0.087319016456604, 0.08985958993434906, 0.2042602300643921, 0.12938213348388672, 0.036875803023576736, 0.023347392678260803, 0.1718728393316269, 0.25708290934562683], [0.057737357914447784, 0.044012848287820816, 0.06905873119831085, 0.06737161427736282, 0.022144604474306107, 0.02678324654698372, 0.04768739268183708, 0.6652041673660278], [0.08492876589298248, 0.022833257913589478, 0.05005815625190735, 0.14440526068210602, 0.09460165351629257, 0.07379449903964996, 0.15954340994358063, 0.36983492970466614], [0.04436611011624336, 0.008278083056211472, 0.024071356281638145, 0.038327671587467194, 0.019797172397375107, 0.028445251286029816, 0.09559119492769241, 0.7411231994628906], [0.020053673535585403, 0.00208333064801991, 0.00770814111456275, 0.009732830338180065, 0.005720323417335749, 0.00884963944554329, 0.07663188874721527, 0.8692201375961304], [0.011382962577044964, 0.0010081465588882565, 0.0009391912026330829, 0.001007939106784761, 0.0004354223783593625, 0.0025213200133293867, 0.009000272490084171, 0.9737046957015991], [0.04817686602473259, 0.009424963034689426, 0.011499345302581787, 0.017461152747273445, 0.007757652085274458, 0.017116060480475426, 0.04490246996283531, 0.8436614871025085], [0.08009343594312668, 0.15743878483772278, 0.12553496658802032, 0.15530724823474884, 0.09588879346847534, 0.1046437993645668, 0.1862727701663971, 0.09482021629810333]], [[0.027971938252449036, 0.3509516417980194, 0.3444584906101227, 0.070381760597229, 0.05822257697582245, 0.02194012515246868, 0.09802009165287018, 0.02805340476334095], [0.0071765342727303505, 0.021089648827910423, 0.009192627854645252, 0.0039514461532235146, 0.0008322496432811022, 0.0008175819530151784, 0.009323767386376858, 0.9476161599159241], [0.03044653870165348, 0.1574128121137619, 0.06235123425722122, 0.051125667989254, 0.019645387306809425, 0.006077281199395657, 0.055027130991220474, 0.6179139614105225], [0.03062990866601467, 0.11755812913179398, 0.056542474776506424, 0.05210735648870468, 0.02362593077123165, 0.008300385437905788, 0.026829058304429054, 0.6844067573547363], [0.010814256966114044, 0.04720134288072586, 0.023938585072755814, 0.009398819878697395, 0.003930856008082628, 0.002089402638375759, 0.009050043299794197, 0.8935766220092773], [0.008432244881987572, 0.018162889406085014, 0.030646588653326035, 0.006891875993460417, 0.0077642714604735374, 0.004799602087587118, 0.018710313364863396, 0.9045922756195068], [0.03745870664715767, 0.13752324879169464, 0.12867629528045654, 0.10998596996068954, 0.21969488263130188, 0.10029121488332748, 0.08813931047916412, 0.1782303750514984], [0.05909503623843193, 0.22916465997695923, 0.1675165295600891, 0.13282088935375214, 0.06032589450478554, 0.06029394641518593, 0.2267313003540039, 0.0640517845749855]], [[0.08006692677736282, 0.09118577837944031, 0.05066049098968506, 0.23645855486392975, 0.04182031378149986, 0.0240558423101902, 0.14479157328605652, 0.33096060156822205], [0.01560062263160944, 0.08982487767934799, 0.00011999994603684172, 0.0020586075261235237, 0.0009709318983368576, 0.00045708977268077433, 0.0006331769400276244, 0.8903347253799438], [0.023451216518878937, 0.007731639314442873, 0.006496861577033997, 0.0016563519602641463, 0.00020525064610410482, 0.00021981532336212695, 0.010661921463906765, 0.9495769143104553], [0.007396685425192118, 0.0018975164275616407, 3.3107176022895146e-06, 0.04654829576611519, 0.000786474731285125, 0.00039487096364609897, 4.8763424274511635e-05, 0.9429240822792053], [0.004941444378346205, 0.002126672537997365, 1.1620054465311114e-06, 0.001977216685190797, 0.013335222378373146, 0.001245371880941093, 7.98070541350171e-05, 0.9762930870056152], [0.004380368161946535, 0.0007559929508715868, 1.4558594330082997e-06, 0.000827136158477515, 0.000908000860363245, 0.013162602670490742, 0.0007608000887557864, 0.9792037010192871], [0.011833318509161472, 0.001353795756585896, 4.6291344801829837e-07, 0.0003761136904358864, 0.0005418145447038114, 0.002000309992581606, 0.045571524649858475, 0.9383226037025452], [0.09520140290260315, 0.06938477605581284, 0.027287378907203674, 0.07545410841703415, 0.06626356393098831, 0.04610985517501831, 0.1574975997209549, 0.4628012776374817]], [[0.04660153388977051, 0.14604580402374268, 0.085821233689785, 0.03314310312271118, 0.07676472514867783, 0.03380708396434784, 0.10555601865053177, 0.47226059436798096], [0.026255931705236435, 0.045479122549295425, 0.005913902074098587, 0.0011088603641837835, 0.004929405637085438, 0.00179854198358953, 0.0054655675776302814, 0.9090487360954285], [0.028856907039880753, 0.014219679869711399, 0.00707793515175581, 0.001997907180339098, 0.0016964669339358807, 0.0007848477107472718, 0.014463766478002071, 0.9309024810791016], [0.027236392721533775, 0.011281881481409073, 0.017298856750130653, 0.04197106510400772, 0.013095489703118801, 0.004505029413849115, 0.005110454745590687, 0.8795007467269897], [0.03395706042647362, 0.015062620863318443, 0.004740000702440739, 0.006973085924983025, 0.0841083899140358, 0.009415107779204845, 0.013090408407151699, 0.832653284072876], [0.019984660670161247, 0.018129078671336174, 0.0033410368487238884, 0.0024747299030423164, 0.012609770521521568, 0.0817650631070137, 0.02150186151266098, 0.8401937484741211], [0.025801390409469604, 0.00731789693236351, 0.00031502183992415667, 0.002755193505436182, 0.007769383955746889, 0.01688484102487564, 0.019427785649895668, 0.9197284579277039], [0.0996650755405426, 0.08800998330116272, 0.10581516474485397, 0.06917896121740341, 0.06280152499675751, 0.06538806855678558, 0.3065792918205261, 0.2025618553161621]], [[0.11280258744955063, 0.17816314101219177, 0.1264195740222931, 0.08662594109773636, 0.06787226349115372, 0.07296479493379593, 0.12126310169696808, 0.23388859629631042], [0.009778952226042747, 0.005596228875219822, 0.006138873752206564, 0.0011443300172686577, 0.00046285713324323297, 0.00026774071739055216, 0.002274167723953724, 0.9743368625640869], [0.08034257590770721, 0.057585082948207855, 0.03226461634039879, 0.043679144233465195, 0.018957601860165596, 0.011950695887207985, 0.05897947773337364, 0.6962408423423767], [0.010295993648469448, 0.006558496039360762, 0.020499268546700478, 0.005438680294901133, 0.006522975396364927, 0.002452676184475422, 0.005940140224993229, 0.9422917366027832], [0.004037604201585054, 0.0009183039655908942, 0.001497420365922153, 0.0008414106559939682, 0.0002576828992459923, 7.001892663538456e-05, 0.00087677629198879, 0.991500735282898], [0.00590547127649188, 0.0012421425199136138, 0.0016587545396760106, 0.0017136801034212112, 0.0007042177021503448, 0.00015261516091413796, 0.0006080815801396966, 0.9880149960517883], [0.07665187120437622, 0.030071943998336792, 0.03711755946278572, 0.07632522284984589, 0.08446555584669113, 0.02271081507205963, 0.031861189752817154, 0.640795886516571], [0.09109456837177277, 0.13250967860221863, 0.07169563323259354, 0.11603749543428421, 0.14460104703903198, 0.1275959014892578, 0.21244466304779053, 0.10402099043130875]], [[0.11811017990112305, 0.1300889253616333, 0.17726202309131622, 0.03188430517911911, 0.042445383965969086, 0.010515826754271984, 0.23864242434501648, 0.2510509192943573], [0.02588820643723011, 0.023192375898361206, 0.0036366041749715805, 0.0009078268194571137, 0.0012709165457636118, 0.00042052872595377266, 0.012769402004778385, 0.9319140911102295], [0.11334508657455444, 0.433262437582016, 0.0862366184592247, 0.006347661837935448, 0.012913825921714306, 0.0034527177922427654, 0.021091192960739136, 0.3233504593372345], [0.01830931380391121, 0.14617681503295898, 0.2624324858188629, 0.017171556130051613, 0.014750069938600063, 0.004921463318169117, 0.006531971972435713, 0.5297062397003174], [0.03490619733929634, 0.013475504703819752, 0.03843799978494644, 0.02061579003930092, 0.018719397485256195, 0.007503055967390537, 0.007610477041453123, 0.8587316870689392], [0.007859727367758751, 0.0011397331254556775, 0.0021367876324802637, 0.0027569748926907778, 0.03862949460744858, 0.005527459550648928, 0.01637030951678753, 0.9255795478820801], [0.06990578770637512, 0.03617433086037636, 0.02831355296075344, 0.018932223320007324, 0.21911251544952393, 0.23282259702682495, 0.04042575880885124, 0.35431328415870667], [0.12800130248069763, 0.19942790269851685, 0.08052720129489899, 0.0749240294098854, 0.1016584262251854, 0.07476579397916794, 0.22567816078662872, 0.11501716822385788]]]], \"left_text\": [\"[CLS]\", \"the\", \"[MASK]\", \"sat\", \"on\", \"the\", \"mat\", \"[SEP]\"], \"right_text\": [\"[CLS]\", \"the\", \"[MASK]\", \"sat\", \"on\", \"the\", \"mat\", \"[SEP]\"]}], \"default_filter\": \"0\", \"root_div_id\": \"bertviz-494a90ccb38144cdad448a0331ab44fc\", \"layer\": null, \"heads\": null, \"include_layers\": [0, 1, 2, 3]} is a template marker that is replaced by actual params.\n    const TEXT_SIZE = 15;\n    const BOXWIDTH = 110;\n    const BOXHEIGHT = 22.5;\n    const MATRIX_WIDTH = 115;\n    const CHECKBOX_SIZE = 20;\n    const TEXT_TOP = 30;\n\n    console.log(\"d3 version\", d3.version)\n    let headColors;\n    try {\n        headColors = d3.scaleOrdinal(d3.schemeCategory10);\n    } catch (err) {\n        console.log('Older d3 version')\n        headColors = d3.scale.category10();\n    }\n    let config = {};\n    initialize();\n    renderVis();\n\n    function initialize() {\n        config.attention = params['attention'];\n        config.filter = params['default_filter'];\n        config.rootDivId = params['root_div_id'];\n        config.nLayers = config.attention[config.filter]['attn'].length;\n        config.nHeads = config.attention[config.filter]['attn'][0].length;\n        config.layers = params['include_layers']\n\n        if (params['heads']) {\n            config.headVis = new Array(config.nHeads).fill(false);\n            params['heads'].forEach(x => config.headVis[x] = true);\n        } else {\n            config.headVis = new Array(config.nHeads).fill(true);\n        }\n        config.initialTextLength = config.attention[config.filter].right_text.length;\n        config.layer_seq = (params['layer'] == null ? 0 : config.layers.findIndex(layer => params['layer'] === layer));\n        config.layer = config.layers[config.layer_seq]\n\n        let layerEl = $(`#${config.rootDivId} #layer`);\n        for (const layer of config.layers) {\n            layerEl.append($(\"<option />\").val(layer).text(layer));\n        }\n        layerEl.val(config.layer).change();\n        layerEl.on('change', function (e) {\n            config.layer = +e.currentTarget.value;\n            config.layer_seq = config.layers.findIndex(layer => config.layer === layer);\n            renderVis();\n        });\n\n        $(`#${config.rootDivId} #filter`).on('change', function (e) {\n            config.filter = e.currentTarget.value;\n            renderVis();\n        });\n    }\n\n    function renderVis() {\n\n        // Load parameters\n        const attnData = config.attention[config.filter];\n        const leftText = attnData.left_text;\n        const rightText = attnData.right_text;\n\n        // Select attention for given layer\n        const layerAttention = attnData.attn[config.layer_seq];\n\n        // Clear vis\n        $(`#${config.rootDivId} #vis`).empty();\n\n        // Determine size of visualization\n        const height = Math.max(leftText.length, rightText.length) * BOXHEIGHT + TEXT_TOP;\n        const svg = d3.select(`#${config.rootDivId} #vis`)\n            .append('svg')\n            .attr(\"width\", \"100%\")\n            .attr(\"height\", height + \"px\");\n\n        // Display tokens on left and right side of visualization\n        renderText(svg, leftText, true, layerAttention, 0);\n        renderText(svg, rightText, false, layerAttention, MATRIX_WIDTH + BOXWIDTH);\n\n        // Render attention arcs\n        renderAttention(svg, layerAttention);\n\n        // Draw squares at top of visualization, one for each head\n        drawCheckboxes(0, svg, layerAttention);\n    }\n\n    function renderText(svg, text, isLeft, attention, leftPos) {\n\n        const textContainer = svg.append(\"svg:g\")\n            .attr(\"id\", isLeft ? \"left\" : \"right\");\n\n        // Add attention highlights superimposed over words\n        textContainer.append(\"g\")\n            .classed(\"attentionBoxes\", true)\n            .selectAll(\"g\")\n            .data(attention)\n            .enter()\n            .append(\"g\")\n            .attr(\"head-index\", (d, i) => i)\n            .selectAll(\"rect\")\n            .data(d => isLeft ? d : transpose(d)) // if right text, transpose attention to get right-to-left weights\n            .enter()\n            .append(\"rect\")\n            .attr(\"x\", function () {\n                var headIndex = +this.parentNode.getAttribute(\"head-index\");\n                return leftPos + boxOffsets(headIndex);\n            })\n            .attr(\"y\", (+1) * BOXHEIGHT)\n            .attr(\"width\", BOXWIDTH / activeHeads())\n            .attr(\"height\", BOXHEIGHT)\n            .attr(\"fill\", function () {\n                return headColors(+this.parentNode.getAttribute(\"head-index\"))\n            })\n            .style(\"opacity\", 0.0);\n\n        const tokenContainer = textContainer.append(\"g\").selectAll(\"g\")\n            .data(text)\n            .enter()\n            .append(\"g\");\n\n        // Add gray background that appears when hovering over text\n        tokenContainer.append(\"rect\")\n            .classed(\"background\", true)\n            .style(\"opacity\", 0.0)\n            .attr(\"fill\", \"lightgray\")\n            .attr(\"x\", leftPos)\n            .attr(\"y\", (d, i) => TEXT_TOP + i * BOXHEIGHT)\n            .attr(\"width\", BOXWIDTH)\n            .attr(\"height\", BOXHEIGHT);\n\n        // Add token text\n        const textEl = tokenContainer.append(\"text\")\n            .text(d => d)\n            .attr(\"font-size\", TEXT_SIZE + \"px\")\n            .style(\"cursor\", \"default\")\n            .style(\"-webkit-user-select\", \"none\")\n            .attr(\"x\", leftPos)\n            .attr(\"y\", (d, i) => TEXT_TOP + i * BOXHEIGHT);\n\n        if (isLeft) {\n            textEl.style(\"text-anchor\", \"end\")\n                .attr(\"dx\", BOXWIDTH - 0.5 * TEXT_SIZE)\n                .attr(\"dy\", TEXT_SIZE);\n        } else {\n            textEl.style(\"text-anchor\", \"start\")\n                .attr(\"dx\", +0.5 * TEXT_SIZE)\n                .attr(\"dy\", TEXT_SIZE);\n        }\n\n        tokenContainer.on(\"mouseover\", function (d, index) {\n\n            // Show gray background for moused-over token\n            textContainer.selectAll(\".background\")\n                .style(\"opacity\", (d, i) => i === index ? 1.0 : 0.0)\n\n            // Reset visibility attribute for any previously highlighted attention arcs\n            svg.select(\"#attention\")\n                .selectAll(\"line[visibility='visible']\")\n                .attr(\"visibility\", null)\n\n            // Hide group containing attention arcs\n            svg.select(\"#attention\").attr(\"visibility\", \"hidden\");\n\n            // Set to visible appropriate attention arcs to be highlighted\n            if (isLeft) {\n                svg.select(\"#attention\").selectAll(\"line[left-token-index='\" + index + \"']\").attr(\"visibility\", \"visible\");\n            } else {\n                svg.select(\"#attention\").selectAll(\"line[right-token-index='\" + index + \"']\").attr(\"visibility\", \"visible\");\n            }\n\n            // Update color boxes superimposed over tokens\n            const id = isLeft ? \"right\" : \"left\";\n            const leftPos = isLeft ? MATRIX_WIDTH + BOXWIDTH : 0;\n            svg.select(\"#\" + id)\n                .selectAll(\".attentionBoxes\")\n                .selectAll(\"g\")\n                .attr(\"head-index\", (d, i) => i)\n                .selectAll(\"rect\")\n                .attr(\"x\", function () {\n                    const headIndex = +this.parentNode.getAttribute(\"head-index\");\n                    return leftPos + boxOffsets(headIndex);\n                })\n                .attr(\"y\", (d, i) => TEXT_TOP + i * BOXHEIGHT)\n                .attr(\"width\", BOXWIDTH / activeHeads())\n                .attr(\"height\", BOXHEIGHT)\n                .style(\"opacity\", function (d) {\n                    const headIndex = +this.parentNode.getAttribute(\"head-index\");\n                    if (config.headVis[headIndex])\n                        if (d) {\n                            return d[index];\n                        } else {\n                            return 0.0;\n                        }\n                    else\n                        return 0.0;\n                });\n        });\n\n        textContainer.on(\"mouseleave\", function () {\n\n            // Unhighlight selected token\n            d3.select(this).selectAll(\".background\")\n                .style(\"opacity\", 0.0);\n\n            // Reset visibility attributes for previously selected lines\n            svg.select(\"#attention\")\n                .selectAll(\"line[visibility='visible']\")\n                .attr(\"visibility\", null) ;\n            svg.select(\"#attention\").attr(\"visibility\", \"visible\");\n\n            // Reset highlights superimposed over tokens\n            svg.selectAll(\".attentionBoxes\")\n                .selectAll(\"g\")\n                .selectAll(\"rect\")\n                .style(\"opacity\", 0.0);\n        });\n    }\n\n    function renderAttention(svg, attention) {\n\n        // Remove previous dom elements\n        svg.select(\"#attention\").remove();\n\n        // Add new elements\n        svg.append(\"g\")\n            .attr(\"id\", \"attention\") // Container for all attention arcs\n            .selectAll(\".headAttention\")\n            .data(attention)\n            .enter()\n            .append(\"g\")\n            .classed(\"headAttention\", true) // Group attention arcs by head\n            .attr(\"head-index\", (d, i) => i)\n            .selectAll(\".tokenAttention\")\n            .data(d => d)\n            .enter()\n            .append(\"g\")\n            .classed(\"tokenAttention\", true) // Group attention arcs by left token\n            .attr(\"left-token-index\", (d, i) => i)\n            .selectAll(\"line\")\n            .data(d => d)\n            .enter()\n            .append(\"line\")\n            .attr(\"x1\", BOXWIDTH)\n            .attr(\"y1\", function () {\n                const leftTokenIndex = +this.parentNode.getAttribute(\"left-token-index\")\n                return TEXT_TOP + leftTokenIndex * BOXHEIGHT + (BOXHEIGHT / 2)\n            })\n            .attr(\"x2\", BOXWIDTH + MATRIX_WIDTH)\n            .attr(\"y2\", (d, rightTokenIndex) => TEXT_TOP + rightTokenIndex * BOXHEIGHT + (BOXHEIGHT / 2))\n            .attr(\"stroke-width\", 2)\n            .attr(\"stroke\", function () {\n                const headIndex = +this.parentNode.parentNode.getAttribute(\"head-index\");\n                return headColors(headIndex)\n            })\n            .attr(\"left-token-index\", function () {\n                return +this.parentNode.getAttribute(\"left-token-index\")\n            })\n            .attr(\"right-token-index\", (d, i) => i)\n        ;\n        updateAttention(svg)\n    }\n\n    function updateAttention(svg) {\n        svg.select(\"#attention\")\n            .selectAll(\"line\")\n            .attr(\"stroke-opacity\", function (d) {\n                const headIndex = +this.parentNode.parentNode.getAttribute(\"head-index\");\n                // If head is selected\n                if (config.headVis[headIndex]) {\n                    // Set opacity to attention weight divided by number of active heads\n                    return d / activeHeads()\n                } else {\n                    return 0.0;\n                }\n            })\n    }\n\n    function boxOffsets(i) {\n        const numHeadsAbove = config.headVis.reduce(\n            function (acc, val, cur) {\n                return val && cur < i ? acc + 1 : acc;\n            }, 0);\n        return numHeadsAbove * (BOXWIDTH / activeHeads());\n    }\n\n    function activeHeads() {\n        return config.headVis.reduce(function (acc, val) {\n            return val ? acc + 1 : acc;\n        }, 0);\n    }\n\n    function drawCheckboxes(top, svg) {\n        const checkboxContainer = svg.append(\"g\");\n        const checkbox = checkboxContainer.selectAll(\"rect\")\n            .data(config.headVis)\n            .enter()\n            .append(\"rect\")\n            .attr(\"fill\", (d, i) => headColors(i))\n            .attr(\"x\", (d, i) => i * CHECKBOX_SIZE)\n            .attr(\"y\", top)\n            .attr(\"width\", CHECKBOX_SIZE)\n            .attr(\"height\", CHECKBOX_SIZE);\n\n        function updateCheckboxes() {\n            checkboxContainer.selectAll(\"rect\")\n                .data(config.headVis)\n                .attr(\"fill\", (d, i) => d ? headColors(i): lighten(headColors(i)));\n        }\n\n        updateCheckboxes();\n\n        checkbox.on(\"click\", function (d, i) {\n            if (config.headVis[i] && activeHeads() === 1) return;\n            config.headVis[i] = !config.headVis[i];\n            updateCheckboxes();\n            updateAttention(svg);\n        });\n\n        checkbox.on(\"dblclick\", function (d, i) {\n            // If we double click on the only active head then reset\n            if (config.headVis[i] && activeHeads() === 1) {\n                config.headVis = new Array(config.nHeads).fill(true);\n            } else {\n                config.headVis = new Array(config.nHeads).fill(false);\n                config.headVis[i] = true;\n            }\n            updateCheckboxes();\n            updateAttention(svg);\n        });\n    }\n\n    function lighten(color) {\n        const c = d3.hsl(color);\n        const increment = (1 - c.l) * 0.6;\n        c.l += increment;\n        c.s -= increment;\n        return c;\n    }\n\n    function transpose(mat) {\n        return mat[0].map(function (col, i) {\n            return mat.map(function (row) {\n                return row[i];\n            });\n        });\n    }\n\n});",
            "text/plain": [
              "<IPython.core.display.Javascript object>"
            ]
          },
          "metadata": {},
          "output_type": "display_data"
        }
      ],
      "source": [
        "# masked attention\n",
        "# 1. Define the sentence\n",
        "sentence = \"The [MASK] sat on the mat\"\n",
        "\n",
        "# 2. Load a pretrained BERT tokenizer and model for embedding generation\n",
        "model_name = \"prajjwal1/bert-small\"\n",
        "tokenizer = AutoTokenizer.from_pretrained(model_name)\n",
        "model = AutoModel.from_pretrained(model_name, output_attentions=True)\n",
        "\n",
        "# 3. Tokenize the sentence\n",
        "inputs = tokenizer(sentence, return_tensors='pt')\n",
        "\n",
        "# 4. Generate embeddings and attention weights using BERT\n",
        "with torch.no_grad():\n",
        "    outputs = model(**inputs)\n",
        "\n",
        "# Extract hidden states (embeddings) and attention from the model\n",
        "hidden_states = outputs.hidden_states  # (layer, batch, seq_len, hidden_size)\n",
        "attentions = outputs.attentions  # (layer, batch, num_heads, seq_len, seq_len)\n",
        "\n",
        "# Convert token IDs back to tokens for visualization\n",
        "tokens = tokenizer.convert_ids_to_tokens(inputs['input_ids'][0])\n",
        "\n",
        "head_view(attentions, tokens)"
      ]
    },
    {
      "cell_type": "code",
      "execution_count": 23,
      "metadata": {
        "colab": {
          "base_uri": "https://localhost:8080/"
        },
        "id": "F8XONdkl0XM8",
        "outputId": "fe7459c5-88d3-422e-98af-2d3376c54d3d"
      },
      "outputs": [
        {
          "name": "stderr",
          "output_type": "stream",
          "text": [
            "BertForMaskedLM has generative capabilities, as `prepare_inputs_for_generation` is explicitly overwritten. However, it doesn't directly inherit from `GenerationMixin`. From 👉v4.50👈 onwards, `PreTrainedModel` will NOT inherit from `GenerationMixin`, and this model will lose the ability to call `generate` and other related functions.\n",
            "  - If you're using `trust_remote_code=True`, you can get rid of this warning by loading the model with an auto class. See https://huggingface.co/docs/transformers/en/model_doc/auto#auto-classes\n",
            "  - If you are the owner of the model architecture code, please modify your model class such that it inherits from `GenerationMixin` (after `PreTrainedModel`, otherwise you'll get an exception).\n",
            "  - If you are not the owner of the model architecture class, please contact the model code owner to update it.\n"
          ]
        },
        {
          "data": {
            "text/plain": [
              "[{'score': 0.04968415945768356,\n",
              "  'token': 3232,\n",
              "  'token_str': 'couple',\n",
              "  'sequence': 'the couple sat on the mat'},\n",
              " {'score': 0.03445810079574585,\n",
              "  'token': 2158,\n",
              "  'token_str': 'man',\n",
              "  'sequence': 'the man sat on the mat'},\n",
              " {'score': 0.030520500615239143,\n",
              "  'token': 2048,\n",
              "  'token_str': 'two',\n",
              "  'sequence': 'the two sat on the mat'},\n",
              " {'score': 0.02803701162338257,\n",
              "  'token': 2450,\n",
              "  'token_str': 'woman',\n",
              "  'sequence': 'the woman sat on the mat'},\n",
              " {'score': 0.027655931189656258,\n",
              "  'token': 2336,\n",
              "  'token_str': 'children',\n",
              "  'sequence': 'the children sat on the mat'}]"
            ]
          },
          "execution_count": 23,
          "metadata": {},
          "output_type": "execute_result"
        }
      ],
      "source": [
        "from transformers import pipeline\n",
        "\n",
        "unmasker = pipeline('fill-mask', model=model_name)\n",
        "unmasker(\"The [MASK] sat on the mat\")"
      ]
    },
    {
      "cell_type": "markdown",
      "metadata": {
        "id": "EMXNi-6D6DYI"
      },
      "source": [
        "# STS (Semantic Textual Similarity) experiment\n"
      ]
    },
    {
      "cell_type": "markdown",
      "metadata": {},
      "source": [
        "Problem:  \n",
        "We want to evaluate a model's capabilties to understand semantic similarity.  \n",
        "And, we want to use many more sentence pairs for this task, so that we can draw some conclusions.\n",
        "\n",
        "Method:\n",
        "- find a task for the model to do (dataset with labels)\n",
        "- embed the texts\n",
        "- calculate similarity between sentence pairs\n",
        "- compare gold standard labels (similarity scores between the sentences, annotated by humans) and the models predictions (cosine similarity between sentence pairs)"
      ]
    },
    {
      "cell_type": "markdown",
      "metadata": {},
      "source": [
        "For this, I've already found a dataset: [stsb_multi_mt](https://huggingface.co/datasets/mteb/stsb_multi_mt).  \n",
        "This dataset provides pairs of sentences and a score of their similarity.  \n",
        "Here is a table explaining the different possible similarity scores.\n",
        "\n",
        "score | 2 example sentences | explanation\n",
        "------|---------|------------\n",
        "5 | *The bird is bathing in the sink.<br/>Birdie is washing itself in the water basin.* | The two sentences are completely equivalent, as they mean the same thing.\n",
        "4 | *Two boys on a couch are playing video games.<br/>Two boys are playing a video game.* | The two sentences are mostly equivalent, but some unimportant details differ.\n",
        "3 | *John said he is considered a witness but not a suspect.<br/>“He is not a suspect anymore.” John said.* | The two sentences are roughly equivalent, but some important information differs/missing.\n",
        "2 | *They flew out of the nest in groups.<br/>They flew into the nest together.* | The two sentences are not equivalent, but share some details.\n",
        "1 | *The woman is playing the violin.<br/>The young lady enjoys listening to the guitar.* | The two sentences are not equivalent, but are on the same topic.\n",
        "0 | *The black dog is running through the snow.<br/>A race car driver is driving his car through the mud.* | The two sentences are completely dissimilar.\n",
        "\n",
        "\n",
        "Check out the [dataset card](https://huggingface.co/datasets/mteb/stsb_multi_mt) on huggingface for more info about how the dataset was created & anything else that is good to know when you want to make claims based on the dataset.  \n",
        "\n",
        "Unfortunately, the link to the original dataset is dead.  \n",
        "But, with a little digging, it's possible to uncover some helpful [insight](https://github.com/embeddings-benchmark/mteb/blob/main/mteb/tasks/STS/multilingual/STSBenchmarkMultilingualSTS.py) about what kind of texts there are in the dataset.\n",
        "\n",
        "Let's load it and get started."
      ]
    },
    {
      "cell_type": "code",
      "execution_count": 24,
      "metadata": {},
      "outputs": [
        {
          "data": {
            "application/vnd.jupyter.widget-view+json": {
              "model_id": "c60936fa504d49cc8ae000ea425faf99",
              "version_major": 2,
              "version_minor": 0
            },
            "text/plain": [
              "README.md:   0%|          | 0.00/7.78k [00:00<?, ?B/s]"
            ]
          },
          "metadata": {},
          "output_type": "display_data"
        },
        {
          "data": {
            "application/vnd.jupyter.widget-view+json": {
              "model_id": "9becc1a89b884c7eaba809626149b7e2",
              "version_major": 2,
              "version_minor": 0
            },
            "text/plain": [
              "en.parquet:   0%|          | 0.00/71.8k [00:00<?, ?B/s]"
            ]
          },
          "metadata": {},
          "output_type": "display_data"
        },
        {
          "data": {
            "application/vnd.jupyter.widget-view+json": {
              "model_id": "2cde1cca7c794fb7b3895224e89a6a60",
              "version_major": 2,
              "version_minor": 0
            },
            "text/plain": [
              "en.parquet:   0%|          | 0.00/286k [00:00<?, ?B/s]"
            ]
          },
          "metadata": {},
          "output_type": "display_data"
        },
        {
          "data": {
            "application/vnd.jupyter.widget-view+json": {
              "model_id": "e9896766e7fb4e06a0111e8d6246fb5e",
              "version_major": 2,
              "version_minor": 0
            },
            "text/plain": [
              "en.parquet:   0%|          | 0.00/93.5k [00:00<?, ?B/s]"
            ]
          },
          "metadata": {},
          "output_type": "display_data"
        },
        {
          "data": {
            "application/vnd.jupyter.widget-view+json": {
              "model_id": "350bffc03a6e4d4fa99d068638f2957a",
              "version_major": 2,
              "version_minor": 0
            },
            "text/plain": [
              "Generating test split:   0%|          | 0/1379 [00:00<?, ? examples/s]"
            ]
          },
          "metadata": {},
          "output_type": "display_data"
        },
        {
          "data": {
            "application/vnd.jupyter.widget-view+json": {
              "model_id": "c90dbfa17b6f4a318df4a298fc33e4a7",
              "version_major": 2,
              "version_minor": 0
            },
            "text/plain": [
              "Generating train split:   0%|          | 0/5749 [00:00<?, ? examples/s]"
            ]
          },
          "metadata": {},
          "output_type": "display_data"
        },
        {
          "data": {
            "application/vnd.jupyter.widget-view+json": {
              "model_id": "ff0ae9db89db40578dd5ce925f608a83",
              "version_major": 2,
              "version_minor": 0
            },
            "text/plain": [
              "Generating dev split:   0%|          | 0/1500 [00:00<?, ? examples/s]"
            ]
          },
          "metadata": {},
          "output_type": "display_data"
        },
        {
          "data": {
            "text/plain": [
              "{'sentence1': 'A girl is styling her hair.',\n",
              " 'sentence2': 'A girl is brushing her hair.',\n",
              " 'similarity_score': 2.5,\n",
              " 'lang': 'en'}"
            ]
          },
          "execution_count": 24,
          "metadata": {},
          "output_type": "execute_result"
        }
      ],
      "source": [
        "# load in the \"mteb/stsb_multi_mt\" dataset, only the English part of it (name=\"en\") & only the test split.\n",
        "# we aren't going to train the models, just evaluate how much they have learned so far.\n",
        "raw_pairs = datasets.load_dataset(\"mteb/stsb_multi_mt\", name=\"en\", split=\"test\")\n",
        "# this is how one observation looks\n",
        "raw_pairs[0]"
      ]
    },
    {
      "cell_type": "markdown",
      "metadata": {},
      "source": [
        "Now, let's get to know the dataset just a bit.  \n",
        "We can check the distribution of similarity scores, this will allow us to catch problems early.  \n",
        "\n",
        "A problem would be, for example, a huge imbalance between the scores: most observations being rated 5, while only a small fraction has different scores.  \n",
        "Is there a problem?"
      ]
    },
    {
      "cell_type": "code",
      "execution_count": 25,
      "metadata": {},
      "outputs": [
        {
          "data": {
            "image/png": "[encoded data removed]",
            "text/plain": [
              "<Figure size 1000x600 with 1 Axes>"
            ]
          },
          "metadata": {},
          "output_type": "display_data"
        }
      ],
      "source": [
        "# check the distribution of similarity scores\n",
        "# e.g. by plotting a histogram\n",
        "\n",
        "# Extract similarity scores\n",
        "similarity_scores = [item['similarity_score'] for item in raw_pairs]\n",
        "\n",
        "# Plot the distribution\n",
        "plt.figure(figsize=(10, 6))\n",
        "plt.hist(similarity_scores, bins=20, color='skyblue', edgecolor='black')\n",
        "plt.title(\"Distribution of Similarity Scores\")\n",
        "plt.xlabel(\"Similarity Score\")\n",
        "plt.ylabel(\"Frequency\")\n",
        "plt.show()\n",
        "# TODO"
      ]
    },
    {
      "cell_type": "markdown",
      "metadata": {},
      "source": [
        "Another question is, do we really need all the data?  \n",
        "Our current dataset is not very big, so we can just use everything.  \n",
        "In case you'd be evaluating millions of sentence pairs though, it's preferable to take just a sample.  \n",
        "This is how you would do that in `datasets`:"
      ]
    },
    {
      "cell_type": "code",
      "execution_count": 26,
      "metadata": {},
      "outputs": [],
      "source": [
        "sample_raw_pairs = raw_pairs.train_test_split(\n",
        "    test_size=600,                  # also available as `train_size=779`, or as a percentage `test_size=0.2`\n",
        "    shuffle=True,                   # good idea to shuffle for evaluations\n",
        "    seed=42,                        # always set a random seed when sampling, so you can reproduce results\n",
        "    # stratify_by_column=\"label\"    # in case your dataset has class labels, like POSITIVE or NEGATGIVE, this is how you ensure that they are similarly represened in both train and test sets\n",
        ").get(\"test\")"
      ]
    },
    {
      "cell_type": "code",
      "execution_count": 27,
      "metadata": {},
      "outputs": [
        {
          "data": {
            "image/png": "[encoded data removed]",
            "text/plain": [
              "<Figure size 1000x600 with 1 Axes>"
            ]
          },
          "metadata": {},
          "output_type": "display_data"
        }
      ],
      "source": [
        "# let's check if the distribution of similarity scores has changed very much\n",
        "# TODO\n",
        "# Extract similarity scores\n",
        "similarity_scores_sample = [item['similarity_score'] for item in sample_raw_pairs]\n",
        "\n",
        "# Plot the distribution\n",
        "plt.figure(figsize=(10, 6))\n",
        "plt.hist(similarity_scores_sample, bins=20, color='skyblue', edgecolor='black')\n",
        "plt.title(\"Distribution of Sample Similarity Scores\")\n",
        "plt.xlabel(\"Similarity Score\")\n",
        "plt.ylabel(\"Frequency\")\n",
        "plt.show()"
      ]
    },
    {
      "cell_type": "markdown",
      "metadata": {},
      "source": [
        "Defining a new inference function"
      ]
    },
    {
      "cell_type": "code",
      "execution_count": 28,
      "metadata": {},
      "outputs": [],
      "source": [
        "def infer_cls_token(model_name, texts) -> torch.Tensor:\n",
        "    \"\"\"Infers the [CLS] embedding from texts.\n",
        "\n",
        "    Parameters\n",
        "    ----------\n",
        "    model_name : str\n",
        "        a valid huggingface model name in a {user}/{model} format\n",
        "    \n",
        "    texts : str|iterable\n",
        "        str in case of a single text\n",
        "        list[str] or any other iterable for multiple texts\n",
        "    \n",
        "    Returns\n",
        "    -------\n",
        "    torch.Tensor\n",
        "        [CLS] embedding(s) of the sequence(s)\n",
        "        of shape (n_documents, n_features)\n",
        "    \"\"\"\n",
        "    # load tokenizer and model \n",
        "    # TODO\n",
        "\n",
        "    # tokenize the sequence\n",
        "    inputs = tokenizer(texts, return_tensors=\"pt\", padding=True)\n",
        "\n",
        "    # infer the embedding\n",
        "    # TODO\n",
        "    \n",
        "    # extract the CLS token (which always comes first)\n",
        "    # TODO\n",
        "\n",
        "    return embeddings"
      ]
    },
    {
      "cell_type": "code",
      "execution_count": 29,
      "metadata": {},
      "outputs": [],
      "source": [
        "# Infer two sets of embeddings, 1) for raw_pairs[\"sentence1\"] & 2) for raw_pairs[\"sentence2\"]\n",
        "cls_embeddings_s1 = infer_cls_token(texts=raw_pairs[\"sentence1\"], model_name=\"prajjwal1/bert-small\")\n",
        "cls_embeddings_s2 = infer_cls_token(texts=raw_pairs[\"sentence2\"], model_name=\"prajjwal1/bert-small\")"
      ]
    },
    {
      "cell_type": "markdown",
      "metadata": {},
      "source": [
        "Now we calculate cosine similarity between each pair of embeddings.  \n",
        "That means: `similarity(cls_embeddings_s1[i], cls_embeddings_s2[i])`.\n",
        "\n",
        "Hint: there are several options,\n",
        "1. use the cosine similarity function we coded in class (in a for loop where you iterate through embeddings in both cls_embeddings_s1 and cls_embeddings_s2 – our function can only handle single vectors).\n",
        "2. use a pre-made implementation, e.g. from sklearn that can process a whole embedding matrix.\n",
        "\n",
        "Rembeber, `cosine_similarity = 1 - cosine_distance`."
      ]
    },
    {
      "cell_type": "code",
      "execution_count": 35,
      "metadata": {},
      "outputs": [
        {
          "name": "stdout",
          "output_type": "stream",
          "text": [
            "[tensor(1.0000), tensor(1.0000), tensor(1.), tensor(1.), tensor(1.), tensor(1.), tensor(1.0000), tensor(1.)]\n"
          ]
        }
      ],
      "source": [
        "# TODO\n",
        "import numpy as np\n",
        "\n",
        "\n",
        "def cosine_similarity(A, B) -> float:\n",
        "    \"\"\"\n",
        "    Dot product of two vectors divided by the product of their norms (magnitudes)\n",
        "    \"\"\"\n",
        "    dot_product = torch.dot(A, B)\n",
        "    norm_A = torch.norm(A)\n",
        "    norm_B = torch.norm(B)\n",
        "    return dot_product / (norm_A * norm_B)\n",
        "\n",
        "\n",
        "cosine_similarities = []\n",
        "for i in range(len(cls_embeddings_s1)):\n",
        "    sim = cosine_similarity(cls_embeddings_s1[i], cls_embeddings_s2[i])\n",
        "    cosine_similarities.append(sim)\n",
        "\n",
        "print(cosine_similarities)"
      ]
    },
    {
      "cell_type": "markdown",
      "metadata": {},
      "source": [
        "Now, let's measure how much the model is in agreement with the annotators, who created the similarity scores.  \n",
        "\n",
        "We could use spearman correlation for this.  \n",
        "Additionally, we can also plot it. "
      ]
    },
    {
      "cell_type": "code",
      "execution_count": 36,
      "metadata": {},
      "outputs": [
        {
          "ename": "ValueError",
          "evalue": "all the input array dimensions except for the concatenation axis must match exactly, but along dimension 0, the array at index 0 has size 8 and the array at index 1 has size 1379",
          "output_type": "error",
          "traceback": [
            "\u001b[0;31m---------------------------------------------------------------------------\u001b[0m",
            "\u001b[0;31mValueError\u001b[0m                                Traceback (most recent call last)",
            "Cell \u001b[0;32mIn[36], line 3\u001b[0m\n\u001b[1;32m      1\u001b[0m \u001b[38;5;28;01mfrom\u001b[39;00m \u001b[38;5;21;01mscipy\u001b[39;00m\u001b[38;5;21;01m.\u001b[39;00m\u001b[38;5;21;01mstats\u001b[39;00m \u001b[38;5;28;01mimport\u001b[39;00m spearmanr\n\u001b[1;32m      2\u001b[0m \u001b[38;5;66;03m# Do a spearman correlation \u001b[39;00m\n\u001b[0;32m----> 3\u001b[0m spearman_corr, _ \u001b[38;5;241m=\u001b[39m \u001b[43mspearmanr\u001b[49m\u001b[43m(\u001b[49m\u001b[43mcosine_similarities\u001b[49m\u001b[43m,\u001b[49m\u001b[43m \u001b[49m\u001b[43msimilarity_scores\u001b[49m\u001b[43m)\u001b[49m\n\u001b[1;32m      4\u001b[0m \u001b[38;5;28mprint\u001b[39m(\u001b[38;5;124mf\u001b[39m\u001b[38;5;124m\"\u001b[39m\u001b[38;5;124mSpearman Correlation: \u001b[39m\u001b[38;5;132;01m{\u001b[39;00mspearman_corr\u001b[38;5;132;01m:\u001b[39;00m\u001b[38;5;124m.2f\u001b[39m\u001b[38;5;132;01m}\u001b[39;00m\u001b[38;5;124m\"\u001b[39m)\n\u001b[1;32m      5\u001b[0m \u001b[38;5;66;03m# hint: scipy\u001b[39;00m\n\u001b[1;32m      6\u001b[0m \n\u001b[1;32m      7\u001b[0m \u001b[38;5;66;03m# TODO\u001b[39;00m\n",
            "File \u001b[0;32m~/.local/lib/python3.12/site-packages/scipy/stats/_stats_py.py:5497\u001b[0m, in \u001b[0;36mspearmanr\u001b[0;34m(a, b, axis, nan_policy, alternative)\u001b[0m\n\u001b[1;32m   5495\u001b[0m b, _ \u001b[38;5;241m=\u001b[39m _chk_asarray(b, axis)\n\u001b[1;32m   5496\u001b[0m \u001b[38;5;28;01mif\u001b[39;00m axisout \u001b[38;5;241m==\u001b[39m \u001b[38;5;241m0\u001b[39m:\n\u001b[0;32m-> 5497\u001b[0m     a \u001b[38;5;241m=\u001b[39m \u001b[43mnp\u001b[49m\u001b[38;5;241;43m.\u001b[39;49m\u001b[43mcolumn_stack\u001b[49m\u001b[43m(\u001b[49m\u001b[43m(\u001b[49m\u001b[43ma\u001b[49m\u001b[43m,\u001b[49m\u001b[43m \u001b[49m\u001b[43mb\u001b[49m\u001b[43m)\u001b[49m\u001b[43m)\u001b[49m\n\u001b[1;32m   5498\u001b[0m \u001b[38;5;28;01melse\u001b[39;00m:\n\u001b[1;32m   5499\u001b[0m     a \u001b[38;5;241m=\u001b[39m np\u001b[38;5;241m.\u001b[39mvstack((a, b))\n",
            "File \u001b[0;32m~/.local/lib/python3.12/site-packages/numpy/lib/_shape_base_impl.py:674\u001b[0m, in \u001b[0;36mcolumn_stack\u001b[0;34m(tup)\u001b[0m\n\u001b[1;32m    672\u001b[0m         arr \u001b[38;5;241m=\u001b[39m array(arr, copy\u001b[38;5;241m=\u001b[39m\u001b[38;5;28;01mNone\u001b[39;00m, subok\u001b[38;5;241m=\u001b[39m\u001b[38;5;28;01mTrue\u001b[39;00m, ndmin\u001b[38;5;241m=\u001b[39m\u001b[38;5;241m2\u001b[39m)\u001b[38;5;241m.\u001b[39mT\n\u001b[1;32m    673\u001b[0m     arrays\u001b[38;5;241m.\u001b[39mappend(arr)\n\u001b[0;32m--> 674\u001b[0m \u001b[38;5;28;01mreturn\u001b[39;00m \u001b[43m_nx\u001b[49m\u001b[38;5;241;43m.\u001b[39;49m\u001b[43mconcatenate\u001b[49m\u001b[43m(\u001b[49m\u001b[43marrays\u001b[49m\u001b[43m,\u001b[49m\u001b[43m \u001b[49m\u001b[38;5;241;43m1\u001b[39;49m\u001b[43m)\u001b[49m\n",
            "\u001b[0;31mValueError\u001b[0m: all the input array dimensions except for the concatenation axis must match exactly, but along dimension 0, the array at index 0 has size 8 and the array at index 1 has size 1379"
          ]
        }
      ],
      "source": [
        "from scipy.stats import spearmanr\n",
        "# Do a spearman correlation \n",
        "spearman_corr, _ = spearmanr(cosine_similarities, similarity_scores)\n",
        "print(f\"Spearman Correlation: {spearman_corr:.2f}\")\n",
        "# hint: scipy\n",
        "\n",
        "# TODO"
      ]
    },
    {
      "cell_type": "markdown",
      "metadata": {},
      "source": [
        "Are they in agreement?  \n",
        "Did you expect more or less agreement?  \n",
        "What does this tell us about the model?"
      ]
    },
    {
      "cell_type": "markdown",
      "metadata": {},
      "source": [
        "**Bonus**:  \n",
        "Redo the experiment with mean or max pooling instead and compare results.  "
      ]
    },
    {
      "cell_type": "code",
      "execution_count": 31,
      "metadata": {},
      "outputs": [],
      "source": [
        "def infer_with_mean_pooling():\n",
        "    pass"
      ]
    },
    {
      "cell_type": "markdown",
      "metadata": {},
      "source": [
        "**Hardcore bonus**:\n",
        "\n",
        "To generalize the mean pooling for other models and metrics, we need to make some adjustments to the mean pooling function.\n",
        "\n",
        "Namely, we need to ignore padding tokens.  \n",
        "The problem arises from sequences having different lengths:"
      ]
    },
    {
      "cell_type": "code",
      "execution_count": null,
      "metadata": {},
      "outputs": [],
      "source": [
        "# hello has 3 tokens\n",
        "tokenizer(\"hello\")"
      ]
    },
    {
      "cell_type": "code",
      "execution_count": null,
      "metadata": {},
      "outputs": [],
      "source": [
        "# hello has 3 tokens\n",
        "# hello there has 4 tokens\n",
        "# this will throw errors if we try to pass it through the model (see next block)\n",
        "tokenizer([\"hello\", \"hello there\"])"
      ]
    },
    {
      "cell_type": "code",
      "execution_count": 34,
      "metadata": {},
      "outputs": [],
      "source": [
        "# this code will raise an error\n",
        "\n",
        "# inputs = tokenizer([\"hello\", \"hello there\"], return_tensors=\"pt\")\n",
        "# with torch.no_grad():\n",
        "#     outputs = model(**inputs)"
      ]
    },
    {
      "cell_type": "code",
      "execution_count": null,
      "metadata": {},
      "outputs": [],
      "source": [
        "# solution: turn on padding\n",
        "# this means, add a padding token to the end of a shorter sequence, so that all inputs are the same length\n",
        "\n",
        "tokenizer([\"hello\", \"hello there\"], padding=True)"
      ]
    },
    {
      "cell_type": "markdown",
      "metadata": {},
      "source": [
        "Now the `attention_mask` is going to come in handy!  \n",
        "The attention mask is a vector of 0s and 1s that indicates which tokens are real and which are padding. "
      ]
    },
    {
      "cell_type": "code",
      "execution_count": null,
      "metadata": {},
      "outputs": [],
      "source": [
        "tokenizer([\"hello\", \"hello there\"], padding=True)[\"attention_mask\"]"
      ]
    },
    {
      "cell_type": "markdown",
      "metadata": {},
      "source": [
        "We want to ignore the padding tokens when computing the mean.  \n",
        "\n",
        "This is not very straightforward, so I suggest you find how to do that in this [excellent tutorial](https://osanseviero.github.io/hackerllama/blog/posts/sentence_embeddings/).  \n",
        "Search for \"Modify the pooling so we take the attention mask into account\" in the tutorial.  "
      ]
    },
    {
      "cell_type": "code",
      "execution_count": 37,
      "metadata": {},
      "outputs": [],
      "source": [
        "# rerun the experiment with an adjusted mean pooling function\n",
        "def mean_pooling():\n",
        "    pass\n",
        "\n",
        "def infer_with_padding_adjusted_mean_pooling():\n",
        "    pass\n",
        "\n",
        "\n",
        "# In this case, we should actually get the same result as with naive mean pooling. \n",
        "# This won't always be the case."
      ]
    }
  ],
  "metadata": {
    "colab": {
      "provenance": []
    },
    "kernelspec": {
      "display_name": ".venv",
      "language": "python",
      "name": "python3"
    },
    "language_info": {
      "codemirror_mode": {
        "name": "ipython",
        "version": 3
      },
      "file_extension": ".py",
      "mimetype": "text/x-python",
      "name": "python",
      "nbconvert_exporter": "python",
      "pygments_lexer": "ipython3",
      "version": "3.12.3"
    },
    "widgets": {
      "application/vnd.jupyter.widget-state+json": {
        "01c3479f71444298ad4217602203eb85": {
          "model_module": "@jupyter-widgets/controls",
          "model_module_version": "1.5.0",
          "model_name": "ProgressStyleModel",
          "state": {
            "_model_module": "@jupyter-widgets/controls",
            "_model_module_version": "1.5.0",
            "_model_name": "ProgressStyleModel",
            "_view_count": null,
            "_view_module": "@jupyter-widgets/base",
            "_view_module_version": "1.2.0",
            "_view_name": "StyleView",
            "bar_color": null,
            "description_width": ""
          }
        },
        "0879664689a044689f02d572a444b1e2": {
          "model_module": "@jupyter-widgets/controls",
          "model_module_version": "1.5.0",
          "model_name": "ProgressStyleModel",
          "state": {
            "_model_module": "@jupyter-widgets/controls",
            "_model_module_version": "1.5.0",
            "_model_name": "ProgressStyleModel",
            "_view_count": null,
            "_view_module": "@jupyter-widgets/base",
            "_view_module_version": "1.2.0",
            "_view_name": "StyleView",
            "bar_color": null,
            "description_width": ""
          }
        },
        "0d0efbbf3aec40208be8008107296940": {
          "model_module": "@jupyter-widgets/base",
          "model_module_version": "1.2.0",
          "model_name": "LayoutModel",
          "state": {
            "_model_module": "@jupyter-widgets/base",
            "_model_module_version": "1.2.0",
            "_model_name": "LayoutModel",
            "_view_count": null,
            "_view_module": "@jupyter-widgets/base",
            "_view_module_version": "1.2.0",
            "_view_name": "LayoutView",
            "align_content": null,
            "align_items": null,
            "align_self": null,
            "border": null,
            "bottom": null,
            "display": null,
            "flex": null,
            "flex_flow": null,
            "grid_area": null,
            "grid_auto_columns": null,
            "grid_auto_flow": null,
            "grid_auto_rows": null,
            "grid_column": null,
            "grid_gap": null,
            "grid_row": null,
            "grid_template_areas": null,
            "grid_template_columns": null,
            "grid_template_rows": null,
            "height": null,
            "justify_content": null,
            "justify_items": null,
            "left": null,
            "margin": null,
            "max_height": null,
            "max_width": null,
            "min_height": null,
            "min_width": null,
            "object_fit": null,
            "object_position": null,
            "order": null,
            "overflow": null,
            "overflow_x": null,
            "overflow_y": null,
            "padding": null,
            "right": null,
            "top": null,
            "visibility": null,
            "width": null
          }
        },
        "0f1160505f6841aea598ef874825f0d0": {
          "model_module": "@jupyter-widgets/controls",
          "model_module_version": "1.5.0",
          "model_name": "DescriptionStyleModel",
          "state": {
            "_model_module": "@jupyter-widgets/controls",
            "_model_module_version": "1.5.0",
            "_model_name": "DescriptionStyleModel",
            "_view_count": null,
            "_view_module": "@jupyter-widgets/base",
            "_view_module_version": "1.2.0",
            "_view_name": "StyleView",
            "description_width": ""
          }
        },
        "1134bceaba7146679b56d2ad2e1692d0": {
          "model_module": "@jupyter-widgets/base",
          "model_module_version": "1.2.0",
          "model_name": "LayoutModel",
          "state": {
            "_model_module": "@jupyter-widgets/base",
            "_model_module_version": "1.2.0",
            "_model_name": "LayoutModel",
            "_view_count": null,
            "_view_module": "@jupyter-widgets/base",
            "_view_module_version": "1.2.0",
            "_view_name": "LayoutView",
            "align_content": null,
            "align_items": null,
            "align_self": null,
            "border": null,
            "bottom": null,
            "display": null,
            "flex": null,
            "flex_flow": null,
            "grid_area": null,
            "grid_auto_columns": null,
            "grid_auto_flow": null,
            "grid_auto_rows": null,
            "grid_column": null,
            "grid_gap": null,
            "grid_row": null,
            "grid_template_areas": null,
            "grid_template_columns": null,
            "grid_template_rows": null,
            "height": null,
            "justify_content": null,
            "justify_items": null,
            "left": null,
            "margin": null,
            "max_height": null,
            "max_width": null,
            "min_height": null,
            "min_width": null,
            "object_fit": null,
            "object_position": null,
            "order": null,
            "overflow": null,
            "overflow_x": null,
            "overflow_y": null,
            "padding": null,
            "right": null,
            "top": null,
            "visibility": null,
            "width": null
          }
        },
        "1221c31864fa48bf81c85a067023085b": {
          "model_module": "@jupyter-widgets/base",
          "model_module_version": "1.2.0",
          "model_name": "LayoutModel",
          "state": {
            "_model_module": "@jupyter-widgets/base",
            "_model_module_version": "1.2.0",
            "_model_name": "LayoutModel",
            "_view_count": null,
            "_view_module": "@jupyter-widgets/base",
            "_view_module_version": "1.2.0",
            "_view_name": "LayoutView",
            "align_content": null,
            "align_items": null,
            "align_self": null,
            "border": null,
            "bottom": null,
            "display": null,
            "flex": null,
            "flex_flow": null,
            "grid_area": null,
            "grid_auto_columns": null,
            "grid_auto_flow": null,
            "grid_auto_rows": null,
            "grid_column": null,
            "grid_gap": null,
            "grid_row": null,
            "grid_template_areas": null,
            "grid_template_columns": null,
            "grid_template_rows": null,
            "height": null,
            "justify_content": null,
            "justify_items": null,
            "left": null,
            "margin": null,
            "max_height": null,
            "max_width": null,
            "min_height": null,
            "min_width": null,
            "object_fit": null,
            "object_position": null,
            "order": null,
            "overflow": null,
            "overflow_x": null,
            "overflow_y": null,
            "padding": null,
            "right": null,
            "top": null,
            "visibility": null,
            "width": null
          }
        },
        "15479ddd88284784a88b171e14c7f5ce": {
          "model_module": "@jupyter-widgets/base",
          "model_module_version": "1.2.0",
          "model_name": "LayoutModel",
          "state": {
            "_model_module": "@jupyter-widgets/base",
            "_model_module_version": "1.2.0",
            "_model_name": "LayoutModel",
            "_view_count": null,
            "_view_module": "@jupyter-widgets/base",
            "_view_module_version": "1.2.0",
            "_view_name": "LayoutView",
            "align_content": null,
            "align_items": null,
            "align_self": null,
            "border": null,
            "bottom": null,
            "display": null,
            "flex": null,
            "flex_flow": null,
            "grid_area": null,
            "grid_auto_columns": null,
            "grid_auto_flow": null,
            "grid_auto_rows": null,
            "grid_column": null,
            "grid_gap": null,
            "grid_row": null,
            "grid_template_areas": null,
            "grid_template_columns": null,
            "grid_template_rows": null,
            "height": null,
            "justify_content": null,
            "justify_items": null,
            "left": null,
            "margin": null,
            "max_height": null,
            "max_width": null,
            "min_height": null,
            "min_width": null,
            "object_fit": null,
            "object_position": null,
            "order": null,
            "overflow": null,
            "overflow_x": null,
            "overflow_y": null,
            "padding": null,
            "right": null,
            "top": null,
            "visibility": null,
            "width": null
          }
        },
        "170932db2d97481aa23d1713b05f1d0b": {
          "model_module": "@jupyter-widgets/controls",
          "model_module_version": "1.5.0",
          "model_name": "DescriptionStyleModel",
          "state": {
            "_model_module": "@jupyter-widgets/controls",
            "_model_module_version": "1.5.0",
            "_model_name": "DescriptionStyleModel",
            "_view_count": null,
            "_view_module": "@jupyter-widgets/base",
            "_view_module_version": "1.2.0",
            "_view_name": "StyleView",
            "description_width": ""
          }
        },
        "1a623f918e7e4d5bb7d47644bfb4a25d": {
          "model_module": "@jupyter-widgets/controls",
          "model_module_version": "1.5.0",
          "model_name": "DescriptionStyleModel",
          "state": {
            "_model_module": "@jupyter-widgets/controls",
            "_model_module_version": "1.5.0",
            "_model_name": "DescriptionStyleModel",
            "_view_count": null,
            "_view_module": "@jupyter-widgets/base",
            "_view_module_version": "1.2.0",
            "_view_name": "StyleView",
            "description_width": ""
          }
        },
        "1aa6e5b0c6f6453e80ee605e78f10e2d": {
          "model_module": "@jupyter-widgets/controls",
          "model_module_version": "1.5.0",
          "model_name": "FloatProgressModel",
          "state": {
            "_dom_classes": [],
            "_model_module": "@jupyter-widgets/controls",
            "_model_module_version": "1.5.0",
            "_model_name": "FloatProgressModel",
            "_view_count": null,
            "_view_module": "@jupyter-widgets/controls",
            "_view_module_version": "1.5.0",
            "_view_name": "ProgressView",
            "bar_style": "success",
            "description": "",
            "description_tooltip": null,
            "layout": "IPY_MODEL_f5c1c1ee26fd49f2adab4415be5b3a13",
            "max": 3250,
            "min": 0,
            "orientation": "horizontal",
            "style": "IPY_MODEL_86d3f89ffd0c49fc9998bad87f156c22",
            "value": 3250
          }
        },
        "1e31990b9f88482e9b6a917c2d7f5f9a": {
          "model_module": "@jupyter-widgets/controls",
          "model_module_version": "1.5.0",
          "model_name": "DescriptionStyleModel",
          "state": {
            "_model_module": "@jupyter-widgets/controls",
            "_model_module_version": "1.5.0",
            "_model_name": "DescriptionStyleModel",
            "_view_count": null,
            "_view_module": "@jupyter-widgets/base",
            "_view_module_version": "1.2.0",
            "_view_name": "StyleView",
            "description_width": ""
          }
        },
        "275a8bef8f0d4c92ab4fb64ce29a4568": {
          "model_module": "@jupyter-widgets/controls",
          "model_module_version": "1.5.0",
          "model_name": "DescriptionStyleModel",
          "state": {
            "_model_module": "@jupyter-widgets/controls",
            "_model_module_version": "1.5.0",
            "_model_name": "DescriptionStyleModel",
            "_view_count": null,
            "_view_module": "@jupyter-widgets/base",
            "_view_module_version": "1.2.0",
            "_view_name": "StyleView",
            "description_width": ""
          }
        },
        "2a633799b2a2428795485ab6056a2b56": {
          "model_module": "@jupyter-widgets/base",
          "model_module_version": "1.2.0",
          "model_name": "LayoutModel",
          "state": {
            "_model_module": "@jupyter-widgets/base",
            "_model_module_version": "1.2.0",
            "_model_name": "LayoutModel",
            "_view_count": null,
            "_view_module": "@jupyter-widgets/base",
            "_view_module_version": "1.2.0",
            "_view_name": "LayoutView",
            "align_content": null,
            "align_items": null,
            "align_self": null,
            "border": null,
            "bottom": null,
            "display": null,
            "flex": null,
            "flex_flow": null,
            "grid_area": null,
            "grid_auto_columns": null,
            "grid_auto_flow": null,
            "grid_auto_rows": null,
            "grid_column": null,
            "grid_gap": null,
            "grid_row": null,
            "grid_template_areas": null,
            "grid_template_columns": null,
            "grid_template_rows": null,
            "height": null,
            "justify_content": null,
            "justify_items": null,
            "left": null,
            "margin": null,
            "max_height": null,
            "max_width": null,
            "min_height": null,
            "min_width": null,
            "object_fit": null,
            "object_position": null,
            "order": null,
            "overflow": null,
            "overflow_x": null,
            "overflow_y": null,
            "padding": null,
            "right": null,
            "top": null,
            "visibility": null,
            "width": null
          }
        },
        "2eb08d8ba9014673b85c03e68cf2961e": {
          "model_module": "@jupyter-widgets/controls",
          "model_module_version": "1.5.0",
          "model_name": "FloatProgressModel",
          "state": {
            "_dom_classes": [],
            "_model_module": "@jupyter-widgets/controls",
            "_model_module_version": "1.5.0",
            "_model_name": "FloatProgressModel",
            "_view_count": null,
            "_view_module": "@jupyter-widgets/controls",
            "_view_module_version": "1.5.0",
            "_view_name": "ProgressView",
            "bar_style": "success",
            "description": "",
            "description_tooltip": null,
            "layout": "IPY_MODEL_2a633799b2a2428795485ab6056a2b56",
            "max": 3453,
            "min": 0,
            "orientation": "horizontal",
            "style": "IPY_MODEL_7fecbbf5c2a94280be7a020e377ad9f1",
            "value": 3453
          }
        },
        "323a74d980f54bcab8562c9e0b182353": {
          "model_module": "@jupyter-widgets/controls",
          "model_module_version": "1.5.0",
          "model_name": "FloatProgressModel",
          "state": {
            "_dom_classes": [],
            "_model_module": "@jupyter-widgets/controls",
            "_model_module_version": "1.5.0",
            "_model_name": "FloatProgressModel",
            "_view_count": null,
            "_view_module": "@jupyter-widgets/controls",
            "_view_module_version": "1.5.0",
            "_view_name": "ProgressView",
            "bar_style": "success",
            "description": "",
            "description_tooltip": null,
            "layout": "IPY_MODEL_4422a144995d437ba526c8e99935cb34",
            "max": 982975,
            "min": 0,
            "orientation": "horizontal",
            "style": "IPY_MODEL_6f0cf65c1d914705b34bb7a64235424c",
            "value": 982975
          }
        },
        "32f5edfddc9748cf8542855e46020e68": {
          "model_module": "@jupyter-widgets/controls",
          "model_module_version": "1.5.0",
          "model_name": "DescriptionStyleModel",
          "state": {
            "_model_module": "@jupyter-widgets/controls",
            "_model_module_version": "1.5.0",
            "_model_name": "DescriptionStyleModel",
            "_view_count": null,
            "_view_module": "@jupyter-widgets/base",
            "_view_module_version": "1.2.0",
            "_view_name": "StyleView",
            "description_width": ""
          }
        },
        "3b2c4706c52e4ea88a8ef03b98b3936b": {
          "model_module": "@jupyter-widgets/base",
          "model_module_version": "1.2.0",
          "model_name": "LayoutModel",
          "state": {
            "_model_module": "@jupyter-widgets/base",
            "_model_module_version": "1.2.0",
            "_model_name": "LayoutModel",
            "_view_count": null,
            "_view_module": "@jupyter-widgets/base",
            "_view_module_version": "1.2.0",
            "_view_name": "LayoutView",
            "align_content": null,
            "align_items": null,
            "align_self": null,
            "border": null,
            "bottom": null,
            "display": null,
            "flex": null,
            "flex_flow": null,
            "grid_area": null,
            "grid_auto_columns": null,
            "grid_auto_flow": null,
            "grid_auto_rows": null,
            "grid_column": null,
            "grid_gap": null,
            "grid_row": null,
            "grid_template_areas": null,
            "grid_template_columns": null,
            "grid_template_rows": null,
            "height": null,
            "justify_content": null,
            "justify_items": null,
            "left": null,
            "margin": null,
            "max_height": null,
            "max_width": null,
            "min_height": null,
            "min_width": null,
            "object_fit": null,
            "object_position": null,
            "order": null,
            "overflow": null,
            "overflow_x": null,
            "overflow_y": null,
            "padding": null,
            "right": null,
            "top": null,
            "visibility": null,
            "width": null
          }
        },
        "3bb34795438e47a2b3020259fac0c56f": {
          "model_module": "@jupyter-widgets/base",
          "model_module_version": "1.2.0",
          "model_name": "LayoutModel",
          "state": {
            "_model_module": "@jupyter-widgets/base",
            "_model_module_version": "1.2.0",
            "_model_name": "LayoutModel",
            "_view_count": null,
            "_view_module": "@jupyter-widgets/base",
            "_view_module_version": "1.2.0",
            "_view_name": "LayoutView",
            "align_content": null,
            "align_items": null,
            "align_self": null,
            "border": null,
            "bottom": null,
            "display": null,
            "flex": null,
            "flex_flow": null,
            "grid_area": null,
            "grid_auto_columns": null,
            "grid_auto_flow": null,
            "grid_auto_rows": null,
            "grid_column": null,
            "grid_gap": null,
            "grid_row": null,
            "grid_template_areas": null,
            "grid_template_columns": null,
            "grid_template_rows": null,
            "height": null,
            "justify_content": null,
            "justify_items": null,
            "left": null,
            "margin": null,
            "max_height": null,
            "max_width": null,
            "min_height": null,
            "min_width": null,
            "object_fit": null,
            "object_position": null,
            "order": null,
            "overflow": null,
            "overflow_x": null,
            "overflow_y": null,
            "padding": null,
            "right": null,
            "top": null,
            "visibility": null,
            "width": null
          }
        },
        "3c0813aec0df44b89482d9e64af44570": {
          "model_module": "@jupyter-widgets/controls",
          "model_module_version": "1.5.0",
          "model_name": "HTMLModel",
          "state": {
            "_dom_classes": [],
            "_model_module": "@jupyter-widgets/controls",
            "_model_module_version": "1.5.0",
            "_model_name": "HTMLModel",
            "_view_count": null,
            "_view_module": "@jupyter-widgets/controls",
            "_view_module_version": "1.5.0",
            "_view_name": "HTMLView",
            "description": "",
            "description_tooltip": null,
            "layout": "IPY_MODEL_8d100c48521b41faa8f03fecf77aec57",
            "placeholder": "​",
            "style": "IPY_MODEL_51bfcc06f9714e0ab75b3a4ad2d3d0b2",
            "value": " 3453/3453 [00:00&lt;00:00, 4042.18 examples/s]"
          }
        },
        "41ac28d945c44e71a01fa1ce07829c1c": {
          "model_module": "@jupyter-widgets/controls",
          "model_module_version": "1.5.0",
          "model_name": "ProgressStyleModel",
          "state": {
            "_model_module": "@jupyter-widgets/controls",
            "_model_module_version": "1.5.0",
            "_model_name": "ProgressStyleModel",
            "_view_count": null,
            "_view_module": "@jupyter-widgets/base",
            "_view_module_version": "1.2.0",
            "_view_name": "StyleView",
            "bar_color": null,
            "description_width": ""
          }
        },
        "42d705ec442b4f0f889d596d3d4145a2": {
          "model_module": "@jupyter-widgets/controls",
          "model_module_version": "1.5.0",
          "model_name": "DescriptionStyleModel",
          "state": {
            "_model_module": "@jupyter-widgets/controls",
            "_model_module_version": "1.5.0",
            "_model_name": "DescriptionStyleModel",
            "_view_count": null,
            "_view_module": "@jupyter-widgets/base",
            "_view_module_version": "1.2.0",
            "_view_name": "StyleView",
            "description_width": ""
          }
        },
        "4422a144995d437ba526c8e99935cb34": {
          "model_module": "@jupyter-widgets/base",
          "model_module_version": "1.2.0",
          "model_name": "LayoutModel",
          "state": {
            "_model_module": "@jupyter-widgets/base",
            "_model_module_version": "1.2.0",
            "_model_name": "LayoutModel",
            "_view_count": null,
            "_view_module": "@jupyter-widgets/base",
            "_view_module_version": "1.2.0",
            "_view_name": "LayoutView",
            "align_content": null,
            "align_items": null,
            "align_self": null,
            "border": null,
            "bottom": null,
            "display": null,
            "flex": null,
            "flex_flow": null,
            "grid_area": null,
            "grid_auto_columns": null,
            "grid_auto_flow": null,
            "grid_auto_rows": null,
            "grid_column": null,
            "grid_gap": null,
            "grid_row": null,
            "grid_template_areas": null,
            "grid_template_columns": null,
            "grid_template_rows": null,
            "height": null,
            "justify_content": null,
            "justify_items": null,
            "left": null,
            "margin": null,
            "max_height": null,
            "max_width": null,
            "min_height": null,
            "min_width": null,
            "object_fit": null,
            "object_position": null,
            "order": null,
            "overflow": null,
            "overflow_x": null,
            "overflow_y": null,
            "padding": null,
            "right": null,
            "top": null,
            "visibility": null,
            "width": null
          }
        },
        "48401699d778467db5afc9fc6c426973": {
          "model_module": "@jupyter-widgets/controls",
          "model_module_version": "1.5.0",
          "model_name": "HBoxModel",
          "state": {
            "_dom_classes": [],
            "_model_module": "@jupyter-widgets/controls",
            "_model_module_version": "1.5.0",
            "_model_name": "HBoxModel",
            "_view_count": null,
            "_view_module": "@jupyter-widgets/controls",
            "_view_module_version": "1.5.0",
            "_view_name": "HBoxView",
            "box_style": "",
            "children": [
              "IPY_MODEL_95e69e675b2a4fe9b2e527f32bdf0409",
              "IPY_MODEL_1aa6e5b0c6f6453e80ee605e78f10e2d",
              "IPY_MODEL_c2c6ad7ea91b48b2acb06870abc310b2"
            ],
            "layout": "IPY_MODEL_6be96876d3f045daa589122358c00ffc"
          }
        },
        "4b0abab70d5946bba26591cef256bb50": {
          "model_module": "@jupyter-widgets/base",
          "model_module_version": "1.2.0",
          "model_name": "LayoutModel",
          "state": {
            "_model_module": "@jupyter-widgets/base",
            "_model_module_version": "1.2.0",
            "_model_name": "LayoutModel",
            "_view_count": null,
            "_view_module": "@jupyter-widgets/base",
            "_view_module_version": "1.2.0",
            "_view_name": "LayoutView",
            "align_content": null,
            "align_items": null,
            "align_self": null,
            "border": null,
            "bottom": null,
            "display": null,
            "flex": null,
            "flex_flow": null,
            "grid_area": null,
            "grid_auto_columns": null,
            "grid_auto_flow": null,
            "grid_auto_rows": null,
            "grid_column": null,
            "grid_gap": null,
            "grid_row": null,
            "grid_template_areas": null,
            "grid_template_columns": null,
            "grid_template_rows": null,
            "height": null,
            "justify_content": null,
            "justify_items": null,
            "left": null,
            "margin": null,
            "max_height": null,
            "max_width": null,
            "min_height": null,
            "min_width": null,
            "object_fit": null,
            "object_position": null,
            "order": null,
            "overflow": null,
            "overflow_x": null,
            "overflow_y": null,
            "padding": null,
            "right": null,
            "top": null,
            "visibility": null,
            "width": null
          }
        },
        "4eb0d1f802e24bdb9511bb938495aaef": {
          "model_module": "@jupyter-widgets/base",
          "model_module_version": "1.2.0",
          "model_name": "LayoutModel",
          "state": {
            "_model_module": "@jupyter-widgets/base",
            "_model_module_version": "1.2.0",
            "_model_name": "LayoutModel",
            "_view_count": null,
            "_view_module": "@jupyter-widgets/base",
            "_view_module_version": "1.2.0",
            "_view_name": "LayoutView",
            "align_content": null,
            "align_items": null,
            "align_self": null,
            "border": null,
            "bottom": null,
            "display": null,
            "flex": null,
            "flex_flow": null,
            "grid_area": null,
            "grid_auto_columns": null,
            "grid_auto_flow": null,
            "grid_auto_rows": null,
            "grid_column": null,
            "grid_gap": null,
            "grid_row": null,
            "grid_template_areas": null,
            "grid_template_columns": null,
            "grid_template_rows": null,
            "height": null,
            "justify_content": null,
            "justify_items": null,
            "left": null,
            "margin": null,
            "max_height": null,
            "max_width": null,
            "min_height": null,
            "min_width": null,
            "object_fit": null,
            "object_position": null,
            "order": null,
            "overflow": null,
            "overflow_x": null,
            "overflow_y": null,
            "padding": null,
            "right": null,
            "top": null,
            "visibility": null,
            "width": null
          }
        },
        "506ecd9810ff4cd88b1f40832be03c9e": {
          "model_module": "@jupyter-widgets/base",
          "model_module_version": "1.2.0",
          "model_name": "LayoutModel",
          "state": {
            "_model_module": "@jupyter-widgets/base",
            "_model_module_version": "1.2.0",
            "_model_name": "LayoutModel",
            "_view_count": null,
            "_view_module": "@jupyter-widgets/base",
            "_view_module_version": "1.2.0",
            "_view_name": "LayoutView",
            "align_content": null,
            "align_items": null,
            "align_self": null,
            "border": null,
            "bottom": null,
            "display": null,
            "flex": null,
            "flex_flow": null,
            "grid_area": null,
            "grid_auto_columns": null,
            "grid_auto_flow": null,
            "grid_auto_rows": null,
            "grid_column": null,
            "grid_gap": null,
            "grid_row": null,
            "grid_template_areas": null,
            "grid_template_columns": null,
            "grid_template_rows": null,
            "height": null,
            "justify_content": null,
            "justify_items": null,
            "left": null,
            "margin": null,
            "max_height": null,
            "max_width": null,
            "min_height": null,
            "min_width": null,
            "object_fit": null,
            "object_position": null,
            "order": null,
            "overflow": null,
            "overflow_x": null,
            "overflow_y": null,
            "padding": null,
            "right": null,
            "top": null,
            "visibility": null,
            "width": null
          }
        },
        "507fe265fba04dff9b10c6ffd44c083e": {
          "model_module": "@jupyter-widgets/base",
          "model_module_version": "1.2.0",
          "model_name": "LayoutModel",
          "state": {
            "_model_module": "@jupyter-widgets/base",
            "_model_module_version": "1.2.0",
            "_model_name": "LayoutModel",
            "_view_count": null,
            "_view_module": "@jupyter-widgets/base",
            "_view_module_version": "1.2.0",
            "_view_name": "LayoutView",
            "align_content": null,
            "align_items": null,
            "align_self": null,
            "border": null,
            "bottom": null,
            "display": null,
            "flex": null,
            "flex_flow": null,
            "grid_area": null,
            "grid_auto_columns": null,
            "grid_auto_flow": null,
            "grid_auto_rows": null,
            "grid_column": null,
            "grid_gap": null,
            "grid_row": null,
            "grid_template_areas": null,
            "grid_template_columns": null,
            "grid_template_rows": null,
            "height": null,
            "justify_content": null,
            "justify_items": null,
            "left": null,
            "margin": null,
            "max_height": null,
            "max_width": null,
            "min_height": null,
            "min_width": null,
            "object_fit": null,
            "object_position": null,
            "order": null,
            "overflow": null,
            "overflow_x": null,
            "overflow_y": null,
            "padding": null,
            "right": null,
            "top": null,
            "visibility": null,
            "width": null
          }
        },
        "51bfcc06f9714e0ab75b3a4ad2d3d0b2": {
          "model_module": "@jupyter-widgets/controls",
          "model_module_version": "1.5.0",
          "model_name": "DescriptionStyleModel",
          "state": {
            "_model_module": "@jupyter-widgets/controls",
            "_model_module_version": "1.5.0",
            "_model_name": "DescriptionStyleModel",
            "_view_count": null,
            "_view_module": "@jupyter-widgets/base",
            "_view_module_version": "1.2.0",
            "_view_name": "StyleView",
            "description_width": ""
          }
        },
        "5298055712374bf481b4f237db400ba3": {
          "model_module": "@jupyter-widgets/base",
          "model_module_version": "1.2.0",
          "model_name": "LayoutModel",
          "state": {
            "_model_module": "@jupyter-widgets/base",
            "_model_module_version": "1.2.0",
            "_model_name": "LayoutModel",
            "_view_count": null,
            "_view_module": "@jupyter-widgets/base",
            "_view_module_version": "1.2.0",
            "_view_name": "LayoutView",
            "align_content": null,
            "align_items": null,
            "align_self": null,
            "border": null,
            "bottom": null,
            "display": null,
            "flex": null,
            "flex_flow": null,
            "grid_area": null,
            "grid_auto_columns": null,
            "grid_auto_flow": null,
            "grid_auto_rows": null,
            "grid_column": null,
            "grid_gap": null,
            "grid_row": null,
            "grid_template_areas": null,
            "grid_template_columns": null,
            "grid_template_rows": null,
            "height": null,
            "justify_content": null,
            "justify_items": null,
            "left": null,
            "margin": null,
            "max_height": null,
            "max_width": null,
            "min_height": null,
            "min_width": null,
            "object_fit": null,
            "object_position": null,
            "order": null,
            "overflow": null,
            "overflow_x": null,
            "overflow_y": null,
            "padding": null,
            "right": null,
            "top": null,
            "visibility": null,
            "width": null
          }
        },
        "533113e5439b489095e094fa673d53f4": {
          "model_module": "@jupyter-widgets/controls",
          "model_module_version": "1.5.0",
          "model_name": "HTMLModel",
          "state": {
            "_dom_classes": [],
            "_model_module": "@jupyter-widgets/controls",
            "_model_module_version": "1.5.0",
            "_model_name": "HTMLModel",
            "_view_count": null,
            "_view_module": "@jupyter-widgets/controls",
            "_view_module_version": "1.5.0",
            "_view_name": "HTMLView",
            "description": "",
            "description_tooltip": null,
            "layout": "IPY_MODEL_1134bceaba7146679b56d2ad2e1692d0",
            "placeholder": "​",
            "style": "IPY_MODEL_cd297795b5ee4af49518c2fb629cb44c",
            "value": "Downloading data: 100%"
          }
        },
        "5517a801d0ed4416b359b29606d751e4": {
          "model_module": "@jupyter-widgets/base",
          "model_module_version": "1.2.0",
          "model_name": "LayoutModel",
          "state": {
            "_model_module": "@jupyter-widgets/base",
            "_model_module_version": "1.2.0",
            "_model_name": "LayoutModel",
            "_view_count": null,
            "_view_module": "@jupyter-widgets/base",
            "_view_module_version": "1.2.0",
            "_view_name": "LayoutView",
            "align_content": null,
            "align_items": null,
            "align_self": null,
            "border": null,
            "bottom": null,
            "display": null,
            "flex": null,
            "flex_flow": null,
            "grid_area": null,
            "grid_auto_columns": null,
            "grid_auto_flow": null,
            "grid_auto_rows": null,
            "grid_column": null,
            "grid_gap": null,
            "grid_row": null,
            "grid_template_areas": null,
            "grid_template_columns": null,
            "grid_template_rows": null,
            "height": null,
            "justify_content": null,
            "justify_items": null,
            "left": null,
            "margin": null,
            "max_height": null,
            "max_width": null,
            "min_height": null,
            "min_width": null,
            "object_fit": null,
            "object_position": null,
            "order": null,
            "overflow": null,
            "overflow_x": null,
            "overflow_y": null,
            "padding": null,
            "right": null,
            "top": null,
            "visibility": null,
            "width": null
          }
        },
        "59051ae575f44e279c3344e5038619b5": {
          "model_module": "@jupyter-widgets/base",
          "model_module_version": "1.2.0",
          "model_name": "LayoutModel",
          "state": {
            "_model_module": "@jupyter-widgets/base",
            "_model_module_version": "1.2.0",
            "_model_name": "LayoutModel",
            "_view_count": null,
            "_view_module": "@jupyter-widgets/base",
            "_view_module_version": "1.2.0",
            "_view_name": "LayoutView",
            "align_content": null,
            "align_items": null,
            "align_self": null,
            "border": null,
            "bottom": null,
            "display": null,
            "flex": null,
            "flex_flow": null,
            "grid_area": null,
            "grid_auto_columns": null,
            "grid_auto_flow": null,
            "grid_auto_rows": null,
            "grid_column": null,
            "grid_gap": null,
            "grid_row": null,
            "grid_template_areas": null,
            "grid_template_columns": null,
            "grid_template_rows": null,
            "height": null,
            "justify_content": null,
            "justify_items": null,
            "left": null,
            "margin": null,
            "max_height": null,
            "max_width": null,
            "min_height": null,
            "min_width": null,
            "object_fit": null,
            "object_position": null,
            "order": null,
            "overflow": null,
            "overflow_x": null,
            "overflow_y": null,
            "padding": null,
            "right": null,
            "top": null,
            "visibility": null,
            "width": null
          }
        },
        "5ad7a5e420c0489d8828abc6542ad887": {
          "model_module": "@jupyter-widgets/base",
          "model_module_version": "1.2.0",
          "model_name": "LayoutModel",
          "state": {
            "_model_module": "@jupyter-widgets/base",
            "_model_module_version": "1.2.0",
            "_model_name": "LayoutModel",
            "_view_count": null,
            "_view_module": "@jupyter-widgets/base",
            "_view_module_version": "1.2.0",
            "_view_name": "LayoutView",
            "align_content": null,
            "align_items": null,
            "align_self": null,
            "border": null,
            "bottom": null,
            "display": null,
            "flex": null,
            "flex_flow": null,
            "grid_area": null,
            "grid_auto_columns": null,
            "grid_auto_flow": null,
            "grid_auto_rows": null,
            "grid_column": null,
            "grid_gap": null,
            "grid_row": null,
            "grid_template_areas": null,
            "grid_template_columns": null,
            "grid_template_rows": null,
            "height": null,
            "justify_content": null,
            "justify_items": null,
            "left": null,
            "margin": null,
            "max_height": null,
            "max_width": null,
            "min_height": null,
            "min_width": null,
            "object_fit": null,
            "object_position": null,
            "order": null,
            "overflow": null,
            "overflow_x": null,
            "overflow_y": null,
            "padding": null,
            "right": null,
            "top": null,
            "visibility": null,
            "width": null
          }
        },
        "5d3c6c9aa0bb4d6481808e3981fc827b": {
          "model_module": "@jupyter-widgets/controls",
          "model_module_version": "1.5.0",
          "model_name": "HBoxModel",
          "state": {
            "_dom_classes": [],
            "_model_module": "@jupyter-widgets/controls",
            "_model_module_version": "1.5.0",
            "_model_name": "HBoxModel",
            "_view_count": null,
            "_view_module": "@jupyter-widgets/controls",
            "_view_module_version": "1.5.0",
            "_view_name": "HBoxView",
            "box_style": "",
            "children": [
              "IPY_MODEL_b5510413027743ad8a631ae01548d6fb",
              "IPY_MODEL_7c89d704adf94f4dade76ebb75235b7a",
              "IPY_MODEL_61be91e34ffe4e6db2dfb34f7a8847a2"
            ],
            "layout": "IPY_MODEL_4b0abab70d5946bba26591cef256bb50"
          }
        },
        "61be91e34ffe4e6db2dfb34f7a8847a2": {
          "model_module": "@jupyter-widgets/controls",
          "model_module_version": "1.5.0",
          "model_name": "HTMLModel",
          "state": {
            "_dom_classes": [],
            "_model_module": "@jupyter-widgets/controls",
            "_model_module_version": "1.5.0",
            "_model_name": "HTMLModel",
            "_view_count": null,
            "_view_module": "@jupyter-widgets/controls",
            "_view_module_version": "1.5.0",
            "_view_name": "HTMLView",
            "description": "",
            "description_tooltip": null,
            "layout": "IPY_MODEL_6911701c72ed47fabab6832e2b4981e6",
            "placeholder": "​",
            "style": "IPY_MODEL_1e31990b9f88482e9b6a917c2d7f5f9a",
            "value": " 14041/14041 [00:06&lt;00:00, 2587.31 examples/s]"
          }
        },
        "61c08801951e4b01806e2a24fbf3150a": {
          "model_module": "@jupyter-widgets/controls",
          "model_module_version": "1.5.0",
          "model_name": "FloatProgressModel",
          "state": {
            "_dom_classes": [],
            "_model_module": "@jupyter-widgets/controls",
            "_model_module_version": "1.5.0",
            "_model_name": "FloatProgressModel",
            "_view_count": null,
            "_view_module": "@jupyter-widgets/controls",
            "_view_module_version": "1.5.0",
            "_view_name": "ProgressView",
            "bar_style": "success",
            "description": "",
            "description_tooltip": null,
            "layout": "IPY_MODEL_c749bc8e66c044589cbec086af4efaca",
            "max": 14041,
            "min": 0,
            "orientation": "horizontal",
            "style": "IPY_MODEL_41ac28d945c44e71a01fa1ce07829c1c",
            "value": 14041
          }
        },
        "62883c7946004649a9d7f994b2cdaf3a": {
          "model_module": "@jupyter-widgets/base",
          "model_module_version": "1.2.0",
          "model_name": "LayoutModel",
          "state": {
            "_model_module": "@jupyter-widgets/base",
            "_model_module_version": "1.2.0",
            "_model_name": "LayoutModel",
            "_view_count": null,
            "_view_module": "@jupyter-widgets/base",
            "_view_module_version": "1.2.0",
            "_view_name": "LayoutView",
            "align_content": null,
            "align_items": null,
            "align_self": null,
            "border": null,
            "bottom": null,
            "display": null,
            "flex": null,
            "flex_flow": null,
            "grid_area": null,
            "grid_auto_columns": null,
            "grid_auto_flow": null,
            "grid_auto_rows": null,
            "grid_column": null,
            "grid_gap": null,
            "grid_row": null,
            "grid_template_areas": null,
            "grid_template_columns": null,
            "grid_template_rows": null,
            "height": null,
            "justify_content": null,
            "justify_items": null,
            "left": null,
            "margin": null,
            "max_height": null,
            "max_width": null,
            "min_height": null,
            "min_width": null,
            "object_fit": null,
            "object_position": null,
            "order": null,
            "overflow": null,
            "overflow_x": null,
            "overflow_y": null,
            "padding": null,
            "right": null,
            "top": null,
            "visibility": null,
            "width": null
          }
        },
        "638ae50279304bb88d1f2591e07eb848": {
          "model_module": "@jupyter-widgets/base",
          "model_module_version": "1.2.0",
          "model_name": "LayoutModel",
          "state": {
            "_model_module": "@jupyter-widgets/base",
            "_model_module_version": "1.2.0",
            "_model_name": "LayoutModel",
            "_view_count": null,
            "_view_module": "@jupyter-widgets/base",
            "_view_module_version": "1.2.0",
            "_view_name": "LayoutView",
            "align_content": null,
            "align_items": null,
            "align_self": null,
            "border": null,
            "bottom": null,
            "display": null,
            "flex": null,
            "flex_flow": null,
            "grid_area": null,
            "grid_auto_columns": null,
            "grid_auto_flow": null,
            "grid_auto_rows": null,
            "grid_column": null,
            "grid_gap": null,
            "grid_row": null,
            "grid_template_areas": null,
            "grid_template_columns": null,
            "grid_template_rows": null,
            "height": null,
            "justify_content": null,
            "justify_items": null,
            "left": null,
            "margin": null,
            "max_height": null,
            "max_width": null,
            "min_height": null,
            "min_width": null,
            "object_fit": null,
            "object_position": null,
            "order": null,
            "overflow": null,
            "overflow_x": null,
            "overflow_y": null,
            "padding": null,
            "right": null,
            "top": null,
            "visibility": null,
            "width": null
          }
        },
        "681abf74eaef40f98ce5d825b4f77e56": {
          "model_module": "@jupyter-widgets/controls",
          "model_module_version": "1.5.0",
          "model_name": "DescriptionStyleModel",
          "state": {
            "_model_module": "@jupyter-widgets/controls",
            "_model_module_version": "1.5.0",
            "_model_name": "DescriptionStyleModel",
            "_view_count": null,
            "_view_module": "@jupyter-widgets/base",
            "_view_module_version": "1.2.0",
            "_view_name": "StyleView",
            "description_width": ""
          }
        },
        "68e7e114cadd47ffb860e5b062d3f977": {
          "model_module": "@jupyter-widgets/controls",
          "model_module_version": "1.5.0",
          "model_name": "HTMLModel",
          "state": {
            "_dom_classes": [],
            "_model_module": "@jupyter-widgets/controls",
            "_model_module_version": "1.5.0",
            "_model_name": "HTMLModel",
            "_view_count": null,
            "_view_module": "@jupyter-widgets/controls",
            "_view_module_version": "1.5.0",
            "_view_name": "HTMLView",
            "description": "",
            "description_tooltip": null,
            "layout": "IPY_MODEL_59051ae575f44e279c3344e5038619b5",
            "placeholder": "​",
            "style": "IPY_MODEL_acbdbb4231714855af781383e4b0a3d9",
            "value": " 14041/14041 [00:03&lt;00:00, 3444.88 examples/s]"
          }
        },
        "6911701c72ed47fabab6832e2b4981e6": {
          "model_module": "@jupyter-widgets/base",
          "model_module_version": "1.2.0",
          "model_name": "LayoutModel",
          "state": {
            "_model_module": "@jupyter-widgets/base",
            "_model_module_version": "1.2.0",
            "_model_name": "LayoutModel",
            "_view_count": null,
            "_view_module": "@jupyter-widgets/base",
            "_view_module_version": "1.2.0",
            "_view_name": "LayoutView",
            "align_content": null,
            "align_items": null,
            "align_self": null,
            "border": null,
            "bottom": null,
            "display": null,
            "flex": null,
            "flex_flow": null,
            "grid_area": null,
            "grid_auto_columns": null,
            "grid_auto_flow": null,
            "grid_auto_rows": null,
            "grid_column": null,
            "grid_gap": null,
            "grid_row": null,
            "grid_template_areas": null,
            "grid_template_columns": null,
            "grid_template_rows": null,
            "height": null,
            "justify_content": null,
            "justify_items": null,
            "left": null,
            "margin": null,
            "max_height": null,
            "max_width": null,
            "min_height": null,
            "min_width": null,
            "object_fit": null,
            "object_position": null,
            "order": null,
            "overflow": null,
            "overflow_x": null,
            "overflow_y": null,
            "padding": null,
            "right": null,
            "top": null,
            "visibility": null,
            "width": null
          }
        },
        "6b11b29aaace482c9e351f62f3d7eafd": {
          "model_module": "@jupyter-widgets/controls",
          "model_module_version": "1.5.0",
          "model_name": "FloatProgressModel",
          "state": {
            "_dom_classes": [],
            "_model_module": "@jupyter-widgets/controls",
            "_model_module_version": "1.5.0",
            "_model_name": "FloatProgressModel",
            "_view_count": null,
            "_view_module": "@jupyter-widgets/controls",
            "_view_module_version": "1.5.0",
            "_view_name": "ProgressView",
            "bar_style": "success",
            "description": "",
            "description_tooltip": null,
            "layout": "IPY_MODEL_4eb0d1f802e24bdb9511bb938495aaef",
            "max": 12330,
            "min": 0,
            "orientation": "horizontal",
            "style": "IPY_MODEL_d2b83d9f134048e7beb0ac927c5d6178",
            "value": 12330
          }
        },
        "6be96876d3f045daa589122358c00ffc": {
          "model_module": "@jupyter-widgets/base",
          "model_module_version": "1.2.0",
          "model_name": "LayoutModel",
          "state": {
            "_model_module": "@jupyter-widgets/base",
            "_model_module_version": "1.2.0",
            "_model_name": "LayoutModel",
            "_view_count": null,
            "_view_module": "@jupyter-widgets/base",
            "_view_module_version": "1.2.0",
            "_view_name": "LayoutView",
            "align_content": null,
            "align_items": null,
            "align_self": null,
            "border": null,
            "bottom": null,
            "display": null,
            "flex": null,
            "flex_flow": null,
            "grid_area": null,
            "grid_auto_columns": null,
            "grid_auto_flow": null,
            "grid_auto_rows": null,
            "grid_column": null,
            "grid_gap": null,
            "grid_row": null,
            "grid_template_areas": null,
            "grid_template_columns": null,
            "grid_template_rows": null,
            "height": null,
            "justify_content": null,
            "justify_items": null,
            "left": null,
            "margin": null,
            "max_height": null,
            "max_width": null,
            "min_height": null,
            "min_width": null,
            "object_fit": null,
            "object_position": null,
            "order": null,
            "overflow": null,
            "overflow_x": null,
            "overflow_y": null,
            "padding": null,
            "right": null,
            "top": null,
            "visibility": null,
            "width": null
          }
        },
        "6f06f0abb191464d91555efcb45b28fb": {
          "model_module": "@jupyter-widgets/base",
          "model_module_version": "1.2.0",
          "model_name": "LayoutModel",
          "state": {
            "_model_module": "@jupyter-widgets/base",
            "_model_module_version": "1.2.0",
            "_model_name": "LayoutModel",
            "_view_count": null,
            "_view_module": "@jupyter-widgets/base",
            "_view_module_version": "1.2.0",
            "_view_name": "LayoutView",
            "align_content": null,
            "align_items": null,
            "align_self": null,
            "border": null,
            "bottom": null,
            "display": null,
            "flex": null,
            "flex_flow": null,
            "grid_area": null,
            "grid_auto_columns": null,
            "grid_auto_flow": null,
            "grid_auto_rows": null,
            "grid_column": null,
            "grid_gap": null,
            "grid_row": null,
            "grid_template_areas": null,
            "grid_template_columns": null,
            "grid_template_rows": null,
            "height": null,
            "justify_content": null,
            "justify_items": null,
            "left": null,
            "margin": null,
            "max_height": null,
            "max_width": null,
            "min_height": null,
            "min_width": null,
            "object_fit": null,
            "object_position": null,
            "order": null,
            "overflow": null,
            "overflow_x": null,
            "overflow_y": null,
            "padding": null,
            "right": null,
            "top": null,
            "visibility": null,
            "width": null
          }
        },
        "6f0cf65c1d914705b34bb7a64235424c": {
          "model_module": "@jupyter-widgets/controls",
          "model_module_version": "1.5.0",
          "model_name": "ProgressStyleModel",
          "state": {
            "_model_module": "@jupyter-widgets/controls",
            "_model_module_version": "1.5.0",
            "_model_name": "ProgressStyleModel",
            "_view_count": null,
            "_view_module": "@jupyter-widgets/base",
            "_view_module_version": "1.2.0",
            "_view_name": "StyleView",
            "bar_color": null,
            "description_width": ""
          }
        },
        "7210b3459e9f411fbad4f8b094c1c70e": {
          "model_module": "@jupyter-widgets/base",
          "model_module_version": "1.2.0",
          "model_name": "LayoutModel",
          "state": {
            "_model_module": "@jupyter-widgets/base",
            "_model_module_version": "1.2.0",
            "_model_name": "LayoutModel",
            "_view_count": null,
            "_view_module": "@jupyter-widgets/base",
            "_view_module_version": "1.2.0",
            "_view_name": "LayoutView",
            "align_content": null,
            "align_items": null,
            "align_self": null,
            "border": null,
            "bottom": null,
            "display": null,
            "flex": null,
            "flex_flow": null,
            "grid_area": null,
            "grid_auto_columns": null,
            "grid_auto_flow": null,
            "grid_auto_rows": null,
            "grid_column": null,
            "grid_gap": null,
            "grid_row": null,
            "grid_template_areas": null,
            "grid_template_columns": null,
            "grid_template_rows": null,
            "height": null,
            "justify_content": null,
            "justify_items": null,
            "left": null,
            "margin": null,
            "max_height": null,
            "max_width": null,
            "min_height": null,
            "min_width": null,
            "object_fit": null,
            "object_position": null,
            "order": null,
            "overflow": null,
            "overflow_x": null,
            "overflow_y": null,
            "padding": null,
            "right": null,
            "top": null,
            "visibility": null,
            "width": null
          }
        },
        "75631c83e34740bc92fc0d470533b99d": {
          "model_module": "@jupyter-widgets/controls",
          "model_module_version": "1.5.0",
          "model_name": "HTMLModel",
          "state": {
            "_dom_classes": [],
            "_model_module": "@jupyter-widgets/controls",
            "_model_module_version": "1.5.0",
            "_model_name": "HTMLModel",
            "_view_count": null,
            "_view_module": "@jupyter-widgets/controls",
            "_view_module_version": "1.5.0",
            "_view_name": "HTMLView",
            "description": "",
            "description_tooltip": null,
            "layout": "IPY_MODEL_fc76354e1500421ebe800dba86628a2c",
            "placeholder": "​",
            "style": "IPY_MODEL_ce354ee5ed2440338c4cadb948e036b4",
            "value": "README.md: 100%"
          }
        },
        "7597d1f6ec5f4629b6fab4ddd3f06b36": {
          "model_module": "@jupyter-widgets/base",
          "model_module_version": "1.2.0",
          "model_name": "LayoutModel",
          "state": {
            "_model_module": "@jupyter-widgets/base",
            "_model_module_version": "1.2.0",
            "_model_name": "LayoutModel",
            "_view_count": null,
            "_view_module": "@jupyter-widgets/base",
            "_view_module_version": "1.2.0",
            "_view_name": "LayoutView",
            "align_content": null,
            "align_items": null,
            "align_self": null,
            "border": null,
            "bottom": null,
            "display": null,
            "flex": null,
            "flex_flow": null,
            "grid_area": null,
            "grid_auto_columns": null,
            "grid_auto_flow": null,
            "grid_auto_rows": null,
            "grid_column": null,
            "grid_gap": null,
            "grid_row": null,
            "grid_template_areas": null,
            "grid_template_columns": null,
            "grid_template_rows": null,
            "height": null,
            "justify_content": null,
            "justify_items": null,
            "left": null,
            "margin": null,
            "max_height": null,
            "max_width": null,
            "min_height": null,
            "min_width": null,
            "object_fit": null,
            "object_position": null,
            "order": null,
            "overflow": null,
            "overflow_x": null,
            "overflow_y": null,
            "padding": null,
            "right": null,
            "top": null,
            "visibility": null,
            "width": null
          }
        },
        "7a3b2809e13f4c96bbdad3299af8a88f": {
          "model_module": "@jupyter-widgets/controls",
          "model_module_version": "1.5.0",
          "model_name": "HTMLModel",
          "state": {
            "_dom_classes": [],
            "_model_module": "@jupyter-widgets/controls",
            "_model_module_version": "1.5.0",
            "_model_name": "HTMLModel",
            "_view_count": null,
            "_view_module": "@jupyter-widgets/controls",
            "_view_module_version": "1.5.0",
            "_view_name": "HTMLView",
            "description": "",
            "description_tooltip": null,
            "layout": "IPY_MODEL_15479ddd88284784a88b171e14c7f5ce",
            "placeholder": "​",
            "style": "IPY_MODEL_0f1160505f6841aea598ef874825f0d0",
            "value": " 3453/3453 [00:01&lt;00:00, 3244.88 examples/s]"
          }
        },
        "7c89d704adf94f4dade76ebb75235b7a": {
          "model_module": "@jupyter-widgets/controls",
          "model_module_version": "1.5.0",
          "model_name": "FloatProgressModel",
          "state": {
            "_dom_classes": [],
            "_model_module": "@jupyter-widgets/controls",
            "_model_module_version": "1.5.0",
            "_model_name": "FloatProgressModel",
            "_view_count": null,
            "_view_module": "@jupyter-widgets/controls",
            "_view_module_version": "1.5.0",
            "_view_name": "ProgressView",
            "bar_style": "success",
            "description": "",
            "description_tooltip": null,
            "layout": "IPY_MODEL_9f7bddf23d5246da9ef6dd3ed7fe8925",
            "max": 14041,
            "min": 0,
            "orientation": "horizontal",
            "style": "IPY_MODEL_01c3479f71444298ad4217602203eb85",
            "value": 14041
          }
        },
        "7fecbbf5c2a94280be7a020e377ad9f1": {
          "model_module": "@jupyter-widgets/controls",
          "model_module_version": "1.5.0",
          "model_name": "ProgressStyleModel",
          "state": {
            "_model_module": "@jupyter-widgets/controls",
            "_model_module_version": "1.5.0",
            "_model_name": "ProgressStyleModel",
            "_view_count": null,
            "_view_module": "@jupyter-widgets/base",
            "_view_module_version": "1.2.0",
            "_view_name": "StyleView",
            "bar_color": null,
            "description_width": ""
          }
        },
        "8380874118304cda8f8a7449f7544af8": {
          "model_module": "@jupyter-widgets/base",
          "model_module_version": "1.2.0",
          "model_name": "LayoutModel",
          "state": {
            "_model_module": "@jupyter-widgets/base",
            "_model_module_version": "1.2.0",
            "_model_name": "LayoutModel",
            "_view_count": null,
            "_view_module": "@jupyter-widgets/base",
            "_view_module_version": "1.2.0",
            "_view_name": "LayoutView",
            "align_content": null,
            "align_items": null,
            "align_self": null,
            "border": null,
            "bottom": null,
            "display": null,
            "flex": null,
            "flex_flow": null,
            "grid_area": null,
            "grid_auto_columns": null,
            "grid_auto_flow": null,
            "grid_auto_rows": null,
            "grid_column": null,
            "grid_gap": null,
            "grid_row": null,
            "grid_template_areas": null,
            "grid_template_columns": null,
            "grid_template_rows": null,
            "height": null,
            "justify_content": null,
            "justify_items": null,
            "left": null,
            "margin": null,
            "max_height": null,
            "max_width": null,
            "min_height": null,
            "min_width": null,
            "object_fit": null,
            "object_position": null,
            "order": null,
            "overflow": null,
            "overflow_x": null,
            "overflow_y": null,
            "padding": null,
            "right": null,
            "top": null,
            "visibility": null,
            "width": null
          }
        },
        "84d0350638d543ebb698eddd85cb9d34": {
          "model_module": "@jupyter-widgets/controls",
          "model_module_version": "1.5.0",
          "model_name": "FloatProgressModel",
          "state": {
            "_dom_classes": [],
            "_model_module": "@jupyter-widgets/controls",
            "_model_module_version": "1.5.0",
            "_model_name": "FloatProgressModel",
            "_view_count": null,
            "_view_module": "@jupyter-widgets/controls",
            "_view_module_version": "1.5.0",
            "_view_name": "ProgressView",
            "bar_style": "success",
            "description": "",
            "description_tooltip": null,
            "layout": "IPY_MODEL_638ae50279304bb88d1f2591e07eb848",
            "max": 3250,
            "min": 0,
            "orientation": "horizontal",
            "style": "IPY_MODEL_97ae1794bc7d419b964fe7d352452129",
            "value": 3250
          }
        },
        "8698b583b84140e7b4294023079da84d": {
          "model_module": "@jupyter-widgets/controls",
          "model_module_version": "1.5.0",
          "model_name": "HBoxModel",
          "state": {
            "_dom_classes": [],
            "_model_module": "@jupyter-widgets/controls",
            "_model_module_version": "1.5.0",
            "_model_name": "HBoxModel",
            "_view_count": null,
            "_view_module": "@jupyter-widgets/controls",
            "_view_module_version": "1.5.0",
            "_view_name": "HBoxView",
            "box_style": "",
            "children": [
              "IPY_MODEL_9489b4f7260a479483874e05a70dac38",
              "IPY_MODEL_2eb08d8ba9014673b85c03e68cf2961e",
              "IPY_MODEL_7a3b2809e13f4c96bbdad3299af8a88f"
            ],
            "layout": "IPY_MODEL_1221c31864fa48bf81c85a067023085b"
          }
        },
        "86d3f89ffd0c49fc9998bad87f156c22": {
          "model_module": "@jupyter-widgets/controls",
          "model_module_version": "1.5.0",
          "model_name": "ProgressStyleModel",
          "state": {
            "_model_module": "@jupyter-widgets/controls",
            "_model_module_version": "1.5.0",
            "_model_name": "ProgressStyleModel",
            "_view_count": null,
            "_view_module": "@jupyter-widgets/base",
            "_view_module_version": "1.2.0",
            "_view_name": "StyleView",
            "bar_color": null,
            "description_width": ""
          }
        },
        "899d71a0fad947119b966df565bc88c3": {
          "model_module": "@jupyter-widgets/base",
          "model_module_version": "1.2.0",
          "model_name": "LayoutModel",
          "state": {
            "_model_module": "@jupyter-widgets/base",
            "_model_module_version": "1.2.0",
            "_model_name": "LayoutModel",
            "_view_count": null,
            "_view_module": "@jupyter-widgets/base",
            "_view_module_version": "1.2.0",
            "_view_name": "LayoutView",
            "align_content": null,
            "align_items": null,
            "align_self": null,
            "border": null,
            "bottom": null,
            "display": null,
            "flex": null,
            "flex_flow": null,
            "grid_area": null,
            "grid_auto_columns": null,
            "grid_auto_flow": null,
            "grid_auto_rows": null,
            "grid_column": null,
            "grid_gap": null,
            "grid_row": null,
            "grid_template_areas": null,
            "grid_template_columns": null,
            "grid_template_rows": null,
            "height": null,
            "justify_content": null,
            "justify_items": null,
            "left": null,
            "margin": null,
            "max_height": null,
            "max_width": null,
            "min_height": null,
            "min_width": null,
            "object_fit": null,
            "object_position": null,
            "order": null,
            "overflow": null,
            "overflow_x": null,
            "overflow_y": null,
            "padding": null,
            "right": null,
            "top": null,
            "visibility": null,
            "width": null
          }
        },
        "8d100c48521b41faa8f03fecf77aec57": {
          "model_module": "@jupyter-widgets/base",
          "model_module_version": "1.2.0",
          "model_name": "LayoutModel",
          "state": {
            "_model_module": "@jupyter-widgets/base",
            "_model_module_version": "1.2.0",
            "_model_name": "LayoutModel",
            "_view_count": null,
            "_view_module": "@jupyter-widgets/base",
            "_view_module_version": "1.2.0",
            "_view_name": "LayoutView",
            "align_content": null,
            "align_items": null,
            "align_self": null,
            "border": null,
            "bottom": null,
            "display": null,
            "flex": null,
            "flex_flow": null,
            "grid_area": null,
            "grid_auto_columns": null,
            "grid_auto_flow": null,
            "grid_auto_rows": null,
            "grid_column": null,
            "grid_gap": null,
            "grid_row": null,
            "grid_template_areas": null,
            "grid_template_columns": null,
            "grid_template_rows": null,
            "height": null,
            "justify_content": null,
            "justify_items": null,
            "left": null,
            "margin": null,
            "max_height": null,
            "max_width": null,
            "min_height": null,
            "min_width": null,
            "object_fit": null,
            "object_position": null,
            "order": null,
            "overflow": null,
            "overflow_x": null,
            "overflow_y": null,
            "padding": null,
            "right": null,
            "top": null,
            "visibility": null,
            "width": null
          }
        },
        "918febd0c2294e69bbac87d4c2295d03": {
          "model_module": "@jupyter-widgets/base",
          "model_module_version": "1.2.0",
          "model_name": "LayoutModel",
          "state": {
            "_model_module": "@jupyter-widgets/base",
            "_model_module_version": "1.2.0",
            "_model_name": "LayoutModel",
            "_view_count": null,
            "_view_module": "@jupyter-widgets/base",
            "_view_module_version": "1.2.0",
            "_view_name": "LayoutView",
            "align_content": null,
            "align_items": null,
            "align_self": null,
            "border": null,
            "bottom": null,
            "display": null,
            "flex": null,
            "flex_flow": null,
            "grid_area": null,
            "grid_auto_columns": null,
            "grid_auto_flow": null,
            "grid_auto_rows": null,
            "grid_column": null,
            "grid_gap": null,
            "grid_row": null,
            "grid_template_areas": null,
            "grid_template_columns": null,
            "grid_template_rows": null,
            "height": null,
            "justify_content": null,
            "justify_items": null,
            "left": null,
            "margin": null,
            "max_height": null,
            "max_width": null,
            "min_height": null,
            "min_width": null,
            "object_fit": null,
            "object_position": null,
            "order": null,
            "overflow": null,
            "overflow_x": null,
            "overflow_y": null,
            "padding": null,
            "right": null,
            "top": null,
            "visibility": null,
            "width": null
          }
        },
        "92f6f4be4fe14e8982924754b3a103ce": {
          "model_module": "@jupyter-widgets/controls",
          "model_module_version": "1.5.0",
          "model_name": "HTMLModel",
          "state": {
            "_dom_classes": [],
            "_model_module": "@jupyter-widgets/controls",
            "_model_module_version": "1.5.0",
            "_model_name": "HTMLModel",
            "_view_count": null,
            "_view_module": "@jupyter-widgets/controls",
            "_view_module_version": "1.5.0",
            "_view_name": "HTMLView",
            "description": "",
            "description_tooltip": null,
            "layout": "IPY_MODEL_7210b3459e9f411fbad4f8b094c1c70e",
            "placeholder": "​",
            "style": "IPY_MODEL_d903894efa914b1c81b4e8f5207f034d",
            "value": "Generating test split: 100%"
          }
        },
        "943f7658243a4c508948508876249a52": {
          "model_module": "@jupyter-widgets/controls",
          "model_module_version": "1.5.0",
          "model_name": "HTMLModel",
          "state": {
            "_dom_classes": [],
            "_model_module": "@jupyter-widgets/controls",
            "_model_module_version": "1.5.0",
            "_model_name": "HTMLModel",
            "_view_count": null,
            "_view_module": "@jupyter-widgets/controls",
            "_view_module_version": "1.5.0",
            "_view_name": "HTMLView",
            "description": "",
            "description_tooltip": null,
            "layout": "IPY_MODEL_7597d1f6ec5f4629b6fab4ddd3f06b36",
            "placeholder": "​",
            "style": "IPY_MODEL_cb449f9080dd4f148272782efc0dcb12",
            "value": "conll2003.py: 100%"
          }
        },
        "9489b4f7260a479483874e05a70dac38": {
          "model_module": "@jupyter-widgets/controls",
          "model_module_version": "1.5.0",
          "model_name": "HTMLModel",
          "state": {
            "_dom_classes": [],
            "_model_module": "@jupyter-widgets/controls",
            "_model_module_version": "1.5.0",
            "_model_name": "HTMLModel",
            "_view_count": null,
            "_view_module": "@jupyter-widgets/controls",
            "_view_module_version": "1.5.0",
            "_view_name": "HTMLView",
            "description": "",
            "description_tooltip": null,
            "layout": "IPY_MODEL_918febd0c2294e69bbac87d4c2295d03",
            "placeholder": "​",
            "style": "IPY_MODEL_b0ae3b401c324b62ae47e1c8ac0f83df",
            "value": "Map: 100%"
          }
        },
        "95e69e675b2a4fe9b2e527f32bdf0409": {
          "model_module": "@jupyter-widgets/controls",
          "model_module_version": "1.5.0",
          "model_name": "HTMLModel",
          "state": {
            "_dom_classes": [],
            "_model_module": "@jupyter-widgets/controls",
            "_model_module_version": "1.5.0",
            "_model_name": "HTMLModel",
            "_view_count": null,
            "_view_module": "@jupyter-widgets/controls",
            "_view_module_version": "1.5.0",
            "_view_name": "HTMLView",
            "description": "",
            "description_tooltip": null,
            "layout": "IPY_MODEL_507fe265fba04dff9b10c6ffd44c083e",
            "placeholder": "​",
            "style": "IPY_MODEL_1a623f918e7e4d5bb7d47644bfb4a25d",
            "value": "Map: 100%"
          }
        },
        "96eb2097354241c5a81500263bd17009": {
          "model_module": "@jupyter-widgets/controls",
          "model_module_version": "1.5.0",
          "model_name": "HTMLModel",
          "state": {
            "_dom_classes": [],
            "_model_module": "@jupyter-widgets/controls",
            "_model_module_version": "1.5.0",
            "_model_name": "HTMLModel",
            "_view_count": null,
            "_view_module": "@jupyter-widgets/controls",
            "_view_module_version": "1.5.0",
            "_view_name": "HTMLView",
            "description": "",
            "description_tooltip": null,
            "layout": "IPY_MODEL_62883c7946004649a9d7f994b2cdaf3a",
            "placeholder": "​",
            "style": "IPY_MODEL_a613cffd3f5943d989034cc6a9608b4a",
            "value": " 983k/983k [00:00&lt;00:00, 3.73MB/s]"
          }
        },
        "970bf3555a724dc3b90a8524b9327204": {
          "model_module": "@jupyter-widgets/controls",
          "model_module_version": "1.5.0",
          "model_name": "HBoxModel",
          "state": {
            "_dom_classes": [],
            "_model_module": "@jupyter-widgets/controls",
            "_model_module_version": "1.5.0",
            "_model_name": "HBoxModel",
            "_view_count": null,
            "_view_module": "@jupyter-widgets/controls",
            "_view_module_version": "1.5.0",
            "_view_name": "HBoxView",
            "box_style": "",
            "children": [
              "IPY_MODEL_75631c83e34740bc92fc0d470533b99d",
              "IPY_MODEL_6b11b29aaace482c9e351f62f3d7eafd",
              "IPY_MODEL_f66d600457184d6296dc5dc5275f9ec7"
            ],
            "layout": "IPY_MODEL_e98d9e6d4d8947c3bb7f69a44a620884"
          }
        },
        "97ae1794bc7d419b964fe7d352452129": {
          "model_module": "@jupyter-widgets/controls",
          "model_module_version": "1.5.0",
          "model_name": "ProgressStyleModel",
          "state": {
            "_model_module": "@jupyter-widgets/controls",
            "_model_module_version": "1.5.0",
            "_model_name": "ProgressStyleModel",
            "_view_count": null,
            "_view_module": "@jupyter-widgets/base",
            "_view_module_version": "1.2.0",
            "_view_name": "StyleView",
            "bar_color": null,
            "description_width": ""
          }
        },
        "98a0015e979840dcbc3818f19ce6d913": {
          "model_module": "@jupyter-widgets/controls",
          "model_module_version": "1.5.0",
          "model_name": "FloatProgressModel",
          "state": {
            "_dom_classes": [],
            "_model_module": "@jupyter-widgets/controls",
            "_model_module_version": "1.5.0",
            "_model_name": "FloatProgressModel",
            "_view_count": null,
            "_view_module": "@jupyter-widgets/controls",
            "_view_module_version": "1.5.0",
            "_view_name": "ProgressView",
            "bar_style": "success",
            "description": "",
            "description_tooltip": null,
            "layout": "IPY_MODEL_e6d109fce07c4c75badb49d76c0282e6",
            "max": 3453,
            "min": 0,
            "orientation": "horizontal",
            "style": "IPY_MODEL_bf425ac548db475f8acac35dec605719",
            "value": 3453
          }
        },
        "9f68b02ce3e24723a8686e518669debf": {
          "model_module": "@jupyter-widgets/base",
          "model_module_version": "1.2.0",
          "model_name": "LayoutModel",
          "state": {
            "_model_module": "@jupyter-widgets/base",
            "_model_module_version": "1.2.0",
            "_model_name": "LayoutModel",
            "_view_count": null,
            "_view_module": "@jupyter-widgets/base",
            "_view_module_version": "1.2.0",
            "_view_name": "LayoutView",
            "align_content": null,
            "align_items": null,
            "align_self": null,
            "border": null,
            "bottom": null,
            "display": null,
            "flex": null,
            "flex_flow": null,
            "grid_area": null,
            "grid_auto_columns": null,
            "grid_auto_flow": null,
            "grid_auto_rows": null,
            "grid_column": null,
            "grid_gap": null,
            "grid_row": null,
            "grid_template_areas": null,
            "grid_template_columns": null,
            "grid_template_rows": null,
            "height": null,
            "justify_content": null,
            "justify_items": null,
            "left": null,
            "margin": null,
            "max_height": null,
            "max_width": null,
            "min_height": null,
            "min_width": null,
            "object_fit": null,
            "object_position": null,
            "order": null,
            "overflow": null,
            "overflow_x": null,
            "overflow_y": null,
            "padding": null,
            "right": null,
            "top": null,
            "visibility": null,
            "width": null
          }
        },
        "9f7bddf23d5246da9ef6dd3ed7fe8925": {
          "model_module": "@jupyter-widgets/base",
          "model_module_version": "1.2.0",
          "model_name": "LayoutModel",
          "state": {
            "_model_module": "@jupyter-widgets/base",
            "_model_module_version": "1.2.0",
            "_model_name": "LayoutModel",
            "_view_count": null,
            "_view_module": "@jupyter-widgets/base",
            "_view_module_version": "1.2.0",
            "_view_name": "LayoutView",
            "align_content": null,
            "align_items": null,
            "align_self": null,
            "border": null,
            "bottom": null,
            "display": null,
            "flex": null,
            "flex_flow": null,
            "grid_area": null,
            "grid_auto_columns": null,
            "grid_auto_flow": null,
            "grid_auto_rows": null,
            "grid_column": null,
            "grid_gap": null,
            "grid_row": null,
            "grid_template_areas": null,
            "grid_template_columns": null,
            "grid_template_rows": null,
            "height": null,
            "justify_content": null,
            "justify_items": null,
            "left": null,
            "margin": null,
            "max_height": null,
            "max_width": null,
            "min_height": null,
            "min_width": null,
            "object_fit": null,
            "object_position": null,
            "order": null,
            "overflow": null,
            "overflow_x": null,
            "overflow_y": null,
            "padding": null,
            "right": null,
            "top": null,
            "visibility": null,
            "width": null
          }
        },
        "a189a83c4966497694f6c90dbf01c35c": {
          "model_module": "@jupyter-widgets/controls",
          "model_module_version": "1.5.0",
          "model_name": "HBoxModel",
          "state": {
            "_dom_classes": [],
            "_model_module": "@jupyter-widgets/controls",
            "_model_module_version": "1.5.0",
            "_model_name": "HBoxModel",
            "_view_count": null,
            "_view_module": "@jupyter-widgets/controls",
            "_view_module_version": "1.5.0",
            "_view_name": "HBoxView",
            "box_style": "",
            "children": [
              "IPY_MODEL_533113e5439b489095e094fa673d53f4",
              "IPY_MODEL_323a74d980f54bcab8562c9e0b182353",
              "IPY_MODEL_96eb2097354241c5a81500263bd17009"
            ],
            "layout": "IPY_MODEL_5517a801d0ed4416b359b29606d751e4"
          }
        },
        "a613cffd3f5943d989034cc6a9608b4a": {
          "model_module": "@jupyter-widgets/controls",
          "model_module_version": "1.5.0",
          "model_name": "DescriptionStyleModel",
          "state": {
            "_model_module": "@jupyter-widgets/controls",
            "_model_module_version": "1.5.0",
            "_model_name": "DescriptionStyleModel",
            "_view_count": null,
            "_view_module": "@jupyter-widgets/base",
            "_view_module_version": "1.2.0",
            "_view_name": "StyleView",
            "description_width": ""
          }
        },
        "a6a235e3ef264bfc9574db22d1a3dde2": {
          "model_module": "@jupyter-widgets/controls",
          "model_module_version": "1.5.0",
          "model_name": "HBoxModel",
          "state": {
            "_dom_classes": [],
            "_model_module": "@jupyter-widgets/controls",
            "_model_module_version": "1.5.0",
            "_model_name": "HBoxModel",
            "_view_count": null,
            "_view_module": "@jupyter-widgets/controls",
            "_view_module_version": "1.5.0",
            "_view_name": "HBoxView",
            "box_style": "",
            "children": [
              "IPY_MODEL_dd74d37e589247c9a11e0802d76f44b8",
              "IPY_MODEL_61c08801951e4b01806e2a24fbf3150a",
              "IPY_MODEL_68e7e114cadd47ffb860e5b062d3f977"
            ],
            "layout": "IPY_MODEL_ec4bddb9bf824688949c0e2e716cb394"
          }
        },
        "a9820495c8b14466a9900ac2deccd1a1": {
          "model_module": "@jupyter-widgets/controls",
          "model_module_version": "1.5.0",
          "model_name": "HBoxModel",
          "state": {
            "_dom_classes": [],
            "_model_module": "@jupyter-widgets/controls",
            "_model_module_version": "1.5.0",
            "_model_name": "HBoxModel",
            "_view_count": null,
            "_view_module": "@jupyter-widgets/controls",
            "_view_module_version": "1.5.0",
            "_view_name": "HBoxView",
            "box_style": "",
            "children": [
              "IPY_MODEL_92f6f4be4fe14e8982924754b3a103ce",
              "IPY_MODEL_98a0015e979840dcbc3818f19ce6d913",
              "IPY_MODEL_3c0813aec0df44b89482d9e64af44570"
            ],
            "layout": "IPY_MODEL_5298055712374bf481b4f237db400ba3"
          }
        },
        "acbdbb4231714855af781383e4b0a3d9": {
          "model_module": "@jupyter-widgets/controls",
          "model_module_version": "1.5.0",
          "model_name": "DescriptionStyleModel",
          "state": {
            "_model_module": "@jupyter-widgets/controls",
            "_model_module_version": "1.5.0",
            "_model_name": "DescriptionStyleModel",
            "_view_count": null,
            "_view_module": "@jupyter-widgets/base",
            "_view_module_version": "1.2.0",
            "_view_name": "StyleView",
            "description_width": ""
          }
        },
        "b0ae3b401c324b62ae47e1c8ac0f83df": {
          "model_module": "@jupyter-widgets/controls",
          "model_module_version": "1.5.0",
          "model_name": "DescriptionStyleModel",
          "state": {
            "_model_module": "@jupyter-widgets/controls",
            "_model_module_version": "1.5.0",
            "_model_name": "DescriptionStyleModel",
            "_view_count": null,
            "_view_module": "@jupyter-widgets/base",
            "_view_module_version": "1.2.0",
            "_view_name": "StyleView",
            "description_width": ""
          }
        },
        "b11ebc1f2e184fce97ced03fddf62c8b": {
          "model_module": "@jupyter-widgets/controls",
          "model_module_version": "1.5.0",
          "model_name": "HTMLModel",
          "state": {
            "_dom_classes": [],
            "_model_module": "@jupyter-widgets/controls",
            "_model_module_version": "1.5.0",
            "_model_name": "HTMLModel",
            "_view_count": null,
            "_view_module": "@jupyter-widgets/controls",
            "_view_module_version": "1.5.0",
            "_view_name": "HTMLView",
            "description": "",
            "description_tooltip": null,
            "layout": "IPY_MODEL_9f68b02ce3e24723a8686e518669debf",
            "placeholder": "​",
            "style": "IPY_MODEL_32f5edfddc9748cf8542855e46020e68",
            "value": " 9.57k/9.57k [00:00&lt;00:00, 221kB/s]"
          }
        },
        "b5510413027743ad8a631ae01548d6fb": {
          "model_module": "@jupyter-widgets/controls",
          "model_module_version": "1.5.0",
          "model_name": "HTMLModel",
          "state": {
            "_dom_classes": [],
            "_model_module": "@jupyter-widgets/controls",
            "_model_module_version": "1.5.0",
            "_model_name": "HTMLModel",
            "_view_count": null,
            "_view_module": "@jupyter-widgets/controls",
            "_view_module_version": "1.5.0",
            "_view_name": "HTMLView",
            "description": "",
            "description_tooltip": null,
            "layout": "IPY_MODEL_5ad7a5e420c0489d8828abc6542ad887",
            "placeholder": "​",
            "style": "IPY_MODEL_42d705ec442b4f0f889d596d3d4145a2",
            "value": "Map: 100%"
          }
        },
        "b776a191a8c342c1a3bb9c35faddaea6": {
          "model_module": "@jupyter-widgets/controls",
          "model_module_version": "1.5.0",
          "model_name": "HTMLModel",
          "state": {
            "_dom_classes": [],
            "_model_module": "@jupyter-widgets/controls",
            "_model_module_version": "1.5.0",
            "_model_name": "HTMLModel",
            "_view_count": null,
            "_view_module": "@jupyter-widgets/controls",
            "_view_module_version": "1.5.0",
            "_view_name": "HTMLView",
            "description": "",
            "description_tooltip": null,
            "layout": "IPY_MODEL_8380874118304cda8f8a7449f7544af8",
            "placeholder": "​",
            "style": "IPY_MODEL_e4ca673f941640f5bfab8d8d0ff0a411",
            "value": "Generating validation split: 100%"
          }
        },
        "b979375be36e443d99702f80b3b6242a": {
          "model_module": "@jupyter-widgets/controls",
          "model_module_version": "1.5.0",
          "model_name": "HTMLModel",
          "state": {
            "_dom_classes": [],
            "_model_module": "@jupyter-widgets/controls",
            "_model_module_version": "1.5.0",
            "_model_name": "HTMLModel",
            "_view_count": null,
            "_view_module": "@jupyter-widgets/controls",
            "_view_module_version": "1.5.0",
            "_view_name": "HTMLView",
            "description": "",
            "description_tooltip": null,
            "layout": "IPY_MODEL_899d71a0fad947119b966df565bc88c3",
            "placeholder": "​",
            "style": "IPY_MODEL_681abf74eaef40f98ce5d825b4f77e56",
            "value": " 3250/3250 [00:01&lt;00:00, 1757.80 examples/s]"
          }
        },
        "b9ee2523abdc4a58b076861edd4b6e43": {
          "model_module": "@jupyter-widgets/controls",
          "model_module_version": "1.5.0",
          "model_name": "HBoxModel",
          "state": {
            "_dom_classes": [],
            "_model_module": "@jupyter-widgets/controls",
            "_model_module_version": "1.5.0",
            "_model_name": "HBoxModel",
            "_view_count": null,
            "_view_module": "@jupyter-widgets/controls",
            "_view_module_version": "1.5.0",
            "_view_name": "HBoxView",
            "box_style": "",
            "children": [
              "IPY_MODEL_943f7658243a4c508948508876249a52",
              "IPY_MODEL_cc75e216d07d402bbc700caee7bb5084",
              "IPY_MODEL_b11ebc1f2e184fce97ced03fddf62c8b"
            ],
            "layout": "IPY_MODEL_fb039bf3c2974889b5cd728ae71a0e00"
          }
        },
        "bf425ac548db475f8acac35dec605719": {
          "model_module": "@jupyter-widgets/controls",
          "model_module_version": "1.5.0",
          "model_name": "ProgressStyleModel",
          "state": {
            "_model_module": "@jupyter-widgets/controls",
            "_model_module_version": "1.5.0",
            "_model_name": "ProgressStyleModel",
            "_view_count": null,
            "_view_module": "@jupyter-widgets/base",
            "_view_module_version": "1.2.0",
            "_view_name": "StyleView",
            "bar_color": null,
            "description_width": ""
          }
        },
        "c045485639e84c5e898d35d603b8d67b": {
          "model_module": "@jupyter-widgets/controls",
          "model_module_version": "1.5.0",
          "model_name": "HBoxModel",
          "state": {
            "_dom_classes": [],
            "_model_module": "@jupyter-widgets/controls",
            "_model_module_version": "1.5.0",
            "_model_name": "HBoxModel",
            "_view_count": null,
            "_view_module": "@jupyter-widgets/controls",
            "_view_module_version": "1.5.0",
            "_view_name": "HBoxView",
            "box_style": "",
            "children": [
              "IPY_MODEL_b776a191a8c342c1a3bb9c35faddaea6",
              "IPY_MODEL_84d0350638d543ebb698eddd85cb9d34",
              "IPY_MODEL_b979375be36e443d99702f80b3b6242a"
            ],
            "layout": "IPY_MODEL_0d0efbbf3aec40208be8008107296940"
          }
        },
        "c2c6ad7ea91b48b2acb06870abc310b2": {
          "model_module": "@jupyter-widgets/controls",
          "model_module_version": "1.5.0",
          "model_name": "HTMLModel",
          "state": {
            "_dom_classes": [],
            "_model_module": "@jupyter-widgets/controls",
            "_model_module_version": "1.5.0",
            "_model_name": "HTMLModel",
            "_view_count": null,
            "_view_module": "@jupyter-widgets/controls",
            "_view_module_version": "1.5.0",
            "_view_name": "HTMLView",
            "description": "",
            "description_tooltip": null,
            "layout": "IPY_MODEL_506ecd9810ff4cd88b1f40832be03c9e",
            "placeholder": "​",
            "style": "IPY_MODEL_fd9eadbb84a2439ea4262d8833bd687e",
            "value": " 3250/3250 [00:01&lt;00:00, 2282.27 examples/s]"
          }
        },
        "c749bc8e66c044589cbec086af4efaca": {
          "model_module": "@jupyter-widgets/base",
          "model_module_version": "1.2.0",
          "model_name": "LayoutModel",
          "state": {
            "_model_module": "@jupyter-widgets/base",
            "_model_module_version": "1.2.0",
            "_model_name": "LayoutModel",
            "_view_count": null,
            "_view_module": "@jupyter-widgets/base",
            "_view_module_version": "1.2.0",
            "_view_name": "LayoutView",
            "align_content": null,
            "align_items": null,
            "align_self": null,
            "border": null,
            "bottom": null,
            "display": null,
            "flex": null,
            "flex_flow": null,
            "grid_area": null,
            "grid_auto_columns": null,
            "grid_auto_flow": null,
            "grid_auto_rows": null,
            "grid_column": null,
            "grid_gap": null,
            "grid_row": null,
            "grid_template_areas": null,
            "grid_template_columns": null,
            "grid_template_rows": null,
            "height": null,
            "justify_content": null,
            "justify_items": null,
            "left": null,
            "margin": null,
            "max_height": null,
            "max_width": null,
            "min_height": null,
            "min_width": null,
            "object_fit": null,
            "object_position": null,
            "order": null,
            "overflow": null,
            "overflow_x": null,
            "overflow_y": null,
            "padding": null,
            "right": null,
            "top": null,
            "visibility": null,
            "width": null
          }
        },
        "cb449f9080dd4f148272782efc0dcb12": {
          "model_module": "@jupyter-widgets/controls",
          "model_module_version": "1.5.0",
          "model_name": "DescriptionStyleModel",
          "state": {
            "_model_module": "@jupyter-widgets/controls",
            "_model_module_version": "1.5.0",
            "_model_name": "DescriptionStyleModel",
            "_view_count": null,
            "_view_module": "@jupyter-widgets/base",
            "_view_module_version": "1.2.0",
            "_view_name": "StyleView",
            "description_width": ""
          }
        },
        "cc75e216d07d402bbc700caee7bb5084": {
          "model_module": "@jupyter-widgets/controls",
          "model_module_version": "1.5.0",
          "model_name": "FloatProgressModel",
          "state": {
            "_dom_classes": [],
            "_model_module": "@jupyter-widgets/controls",
            "_model_module_version": "1.5.0",
            "_model_name": "FloatProgressModel",
            "_view_count": null,
            "_view_module": "@jupyter-widgets/controls",
            "_view_module_version": "1.5.0",
            "_view_name": "ProgressView",
            "bar_style": "success",
            "description": "",
            "description_tooltip": null,
            "layout": "IPY_MODEL_3bb34795438e47a2b3020259fac0c56f",
            "max": 9570,
            "min": 0,
            "orientation": "horizontal",
            "style": "IPY_MODEL_0879664689a044689f02d572a444b1e2",
            "value": 9570
          }
        },
        "cd297795b5ee4af49518c2fb629cb44c": {
          "model_module": "@jupyter-widgets/controls",
          "model_module_version": "1.5.0",
          "model_name": "DescriptionStyleModel",
          "state": {
            "_model_module": "@jupyter-widgets/controls",
            "_model_module_version": "1.5.0",
            "_model_name": "DescriptionStyleModel",
            "_view_count": null,
            "_view_module": "@jupyter-widgets/base",
            "_view_module_version": "1.2.0",
            "_view_name": "StyleView",
            "description_width": ""
          }
        },
        "ce354ee5ed2440338c4cadb948e036b4": {
          "model_module": "@jupyter-widgets/controls",
          "model_module_version": "1.5.0",
          "model_name": "DescriptionStyleModel",
          "state": {
            "_model_module": "@jupyter-widgets/controls",
            "_model_module_version": "1.5.0",
            "_model_name": "DescriptionStyleModel",
            "_view_count": null,
            "_view_module": "@jupyter-widgets/base",
            "_view_module_version": "1.2.0",
            "_view_name": "StyleView",
            "description_width": ""
          }
        },
        "d2b83d9f134048e7beb0ac927c5d6178": {
          "model_module": "@jupyter-widgets/controls",
          "model_module_version": "1.5.0",
          "model_name": "ProgressStyleModel",
          "state": {
            "_model_module": "@jupyter-widgets/controls",
            "_model_module_version": "1.5.0",
            "_model_name": "ProgressStyleModel",
            "_view_count": null,
            "_view_module": "@jupyter-widgets/base",
            "_view_module_version": "1.2.0",
            "_view_name": "StyleView",
            "bar_color": null,
            "description_width": ""
          }
        },
        "d903894efa914b1c81b4e8f5207f034d": {
          "model_module": "@jupyter-widgets/controls",
          "model_module_version": "1.5.0",
          "model_name": "DescriptionStyleModel",
          "state": {
            "_model_module": "@jupyter-widgets/controls",
            "_model_module_version": "1.5.0",
            "_model_name": "DescriptionStyleModel",
            "_view_count": null,
            "_view_module": "@jupyter-widgets/base",
            "_view_module_version": "1.2.0",
            "_view_name": "StyleView",
            "description_width": ""
          }
        },
        "dd74d37e589247c9a11e0802d76f44b8": {
          "model_module": "@jupyter-widgets/controls",
          "model_module_version": "1.5.0",
          "model_name": "HTMLModel",
          "state": {
            "_dom_classes": [],
            "_model_module": "@jupyter-widgets/controls",
            "_model_module_version": "1.5.0",
            "_model_name": "HTMLModel",
            "_view_count": null,
            "_view_module": "@jupyter-widgets/controls",
            "_view_module_version": "1.5.0",
            "_view_name": "HTMLView",
            "description": "",
            "description_tooltip": null,
            "layout": "IPY_MODEL_6f06f0abb191464d91555efcb45b28fb",
            "placeholder": "​",
            "style": "IPY_MODEL_275a8bef8f0d4c92ab4fb64ce29a4568",
            "value": "Generating train split: 100%"
          }
        },
        "e4ca673f941640f5bfab8d8d0ff0a411": {
          "model_module": "@jupyter-widgets/controls",
          "model_module_version": "1.5.0",
          "model_name": "DescriptionStyleModel",
          "state": {
            "_model_module": "@jupyter-widgets/controls",
            "_model_module_version": "1.5.0",
            "_model_name": "DescriptionStyleModel",
            "_view_count": null,
            "_view_module": "@jupyter-widgets/base",
            "_view_module_version": "1.2.0",
            "_view_name": "StyleView",
            "description_width": ""
          }
        },
        "e6d109fce07c4c75badb49d76c0282e6": {
          "model_module": "@jupyter-widgets/base",
          "model_module_version": "1.2.0",
          "model_name": "LayoutModel",
          "state": {
            "_model_module": "@jupyter-widgets/base",
            "_model_module_version": "1.2.0",
            "_model_name": "LayoutModel",
            "_view_count": null,
            "_view_module": "@jupyter-widgets/base",
            "_view_module_version": "1.2.0",
            "_view_name": "LayoutView",
            "align_content": null,
            "align_items": null,
            "align_self": null,
            "border": null,
            "bottom": null,
            "display": null,
            "flex": null,
            "flex_flow": null,
            "grid_area": null,
            "grid_auto_columns": null,
            "grid_auto_flow": null,
            "grid_auto_rows": null,
            "grid_column": null,
            "grid_gap": null,
            "grid_row": null,
            "grid_template_areas": null,
            "grid_template_columns": null,
            "grid_template_rows": null,
            "height": null,
            "justify_content": null,
            "justify_items": null,
            "left": null,
            "margin": null,
            "max_height": null,
            "max_width": null,
            "min_height": null,
            "min_width": null,
            "object_fit": null,
            "object_position": null,
            "order": null,
            "overflow": null,
            "overflow_x": null,
            "overflow_y": null,
            "padding": null,
            "right": null,
            "top": null,
            "visibility": null,
            "width": null
          }
        },
        "e98d9e6d4d8947c3bb7f69a44a620884": {
          "model_module": "@jupyter-widgets/base",
          "model_module_version": "1.2.0",
          "model_name": "LayoutModel",
          "state": {
            "_model_module": "@jupyter-widgets/base",
            "_model_module_version": "1.2.0",
            "_model_name": "LayoutModel",
            "_view_count": null,
            "_view_module": "@jupyter-widgets/base",
            "_view_module_version": "1.2.0",
            "_view_name": "LayoutView",
            "align_content": null,
            "align_items": null,
            "align_self": null,
            "border": null,
            "bottom": null,
            "display": null,
            "flex": null,
            "flex_flow": null,
            "grid_area": null,
            "grid_auto_columns": null,
            "grid_auto_flow": null,
            "grid_auto_rows": null,
            "grid_column": null,
            "grid_gap": null,
            "grid_row": null,
            "grid_template_areas": null,
            "grid_template_columns": null,
            "grid_template_rows": null,
            "height": null,
            "justify_content": null,
            "justify_items": null,
            "left": null,
            "margin": null,
            "max_height": null,
            "max_width": null,
            "min_height": null,
            "min_width": null,
            "object_fit": null,
            "object_position": null,
            "order": null,
            "overflow": null,
            "overflow_x": null,
            "overflow_y": null,
            "padding": null,
            "right": null,
            "top": null,
            "visibility": null,
            "width": null
          }
        },
        "ec4bddb9bf824688949c0e2e716cb394": {
          "model_module": "@jupyter-widgets/base",
          "model_module_version": "1.2.0",
          "model_name": "LayoutModel",
          "state": {
            "_model_module": "@jupyter-widgets/base",
            "_model_module_version": "1.2.0",
            "_model_name": "LayoutModel",
            "_view_count": null,
            "_view_module": "@jupyter-widgets/base",
            "_view_module_version": "1.2.0",
            "_view_name": "LayoutView",
            "align_content": null,
            "align_items": null,
            "align_self": null,
            "border": null,
            "bottom": null,
            "display": null,
            "flex": null,
            "flex_flow": null,
            "grid_area": null,
            "grid_auto_columns": null,
            "grid_auto_flow": null,
            "grid_auto_rows": null,
            "grid_column": null,
            "grid_gap": null,
            "grid_row": null,
            "grid_template_areas": null,
            "grid_template_columns": null,
            "grid_template_rows": null,
            "height": null,
            "justify_content": null,
            "justify_items": null,
            "left": null,
            "margin": null,
            "max_height": null,
            "max_width": null,
            "min_height": null,
            "min_width": null,
            "object_fit": null,
            "object_position": null,
            "order": null,
            "overflow": null,
            "overflow_x": null,
            "overflow_y": null,
            "padding": null,
            "right": null,
            "top": null,
            "visibility": null,
            "width": null
          }
        },
        "f5c1c1ee26fd49f2adab4415be5b3a13": {
          "model_module": "@jupyter-widgets/base",
          "model_module_version": "1.2.0",
          "model_name": "LayoutModel",
          "state": {
            "_model_module": "@jupyter-widgets/base",
            "_model_module_version": "1.2.0",
            "_model_name": "LayoutModel",
            "_view_count": null,
            "_view_module": "@jupyter-widgets/base",
            "_view_module_version": "1.2.0",
            "_view_name": "LayoutView",
            "align_content": null,
            "align_items": null,
            "align_self": null,
            "border": null,
            "bottom": null,
            "display": null,
            "flex": null,
            "flex_flow": null,
            "grid_area": null,
            "grid_auto_columns": null,
            "grid_auto_flow": null,
            "grid_auto_rows": null,
            "grid_column": null,
            "grid_gap": null,
            "grid_row": null,
            "grid_template_areas": null,
            "grid_template_columns": null,
            "grid_template_rows": null,
            "height": null,
            "justify_content": null,
            "justify_items": null,
            "left": null,
            "margin": null,
            "max_height": null,
            "max_width": null,
            "min_height": null,
            "min_width": null,
            "object_fit": null,
            "object_position": null,
            "order": null,
            "overflow": null,
            "overflow_x": null,
            "overflow_y": null,
            "padding": null,
            "right": null,
            "top": null,
            "visibility": null,
            "width": null
          }
        },
        "f66d600457184d6296dc5dc5275f9ec7": {
          "model_module": "@jupyter-widgets/controls",
          "model_module_version": "1.5.0",
          "model_name": "HTMLModel",
          "state": {
            "_dom_classes": [],
            "_model_module": "@jupyter-widgets/controls",
            "_model_module_version": "1.5.0",
            "_model_name": "HTMLModel",
            "_view_count": null,
            "_view_module": "@jupyter-widgets/controls",
            "_view_module_version": "1.5.0",
            "_view_name": "HTMLView",
            "description": "",
            "description_tooltip": null,
            "layout": "IPY_MODEL_3b2c4706c52e4ea88a8ef03b98b3936b",
            "placeholder": "​",
            "style": "IPY_MODEL_170932db2d97481aa23d1713b05f1d0b",
            "value": " 12.3k/12.3k [00:00&lt;00:00, 319kB/s]"
          }
        },
        "fb039bf3c2974889b5cd728ae71a0e00": {
          "model_module": "@jupyter-widgets/base",
          "model_module_version": "1.2.0",
          "model_name": "LayoutModel",
          "state": {
            "_model_module": "@jupyter-widgets/base",
            "_model_module_version": "1.2.0",
            "_model_name": "LayoutModel",
            "_view_count": null,
            "_view_module": "@jupyter-widgets/base",
            "_view_module_version": "1.2.0",
            "_view_name": "LayoutView",
            "align_content": null,
            "align_items": null,
            "align_self": null,
            "border": null,
            "bottom": null,
            "display": null,
            "flex": null,
            "flex_flow": null,
            "grid_area": null,
            "grid_auto_columns": null,
            "grid_auto_flow": null,
            "grid_auto_rows": null,
            "grid_column": null,
            "grid_gap": null,
            "grid_row": null,
            "grid_template_areas": null,
            "grid_template_columns": null,
            "grid_template_rows": null,
            "height": null,
            "justify_content": null,
            "justify_items": null,
            "left": null,
            "margin": null,
            "max_height": null,
            "max_width": null,
            "min_height": null,
            "min_width": null,
            "object_fit": null,
            "object_position": null,
            "order": null,
            "overflow": null,
            "overflow_x": null,
            "overflow_y": null,
            "padding": null,
            "right": null,
            "top": null,
            "visibility": null,
            "width": null
          }
        },
        "fc76354e1500421ebe800dba86628a2c": {
          "model_module": "@jupyter-widgets/base",
          "model_module_version": "1.2.0",
          "model_name": "LayoutModel",
          "state": {
            "_model_module": "@jupyter-widgets/base",
            "_model_module_version": "1.2.0",
            "_model_name": "LayoutModel",
            "_view_count": null,
            "_view_module": "@jupyter-widgets/base",
            "_view_module_version": "1.2.0",
            "_view_name": "LayoutView",
            "align_content": null,
            "align_items": null,
            "align_self": null,
            "border": null,
            "bottom": null,
            "display": null,
            "flex": null,
            "flex_flow": null,
            "grid_area": null,
            "grid_auto_columns": null,
            "grid_auto_flow": null,
            "grid_auto_rows": null,
            "grid_column": null,
            "grid_gap": null,
            "grid_row": null,
            "grid_template_areas": null,
            "grid_template_columns": null,
            "grid_template_rows": null,
            "height": null,
            "justify_content": null,
            "justify_items": null,
            "left": null,
            "margin": null,
            "max_height": null,
            "max_width": null,
            "min_height": null,
            "min_width": null,
            "object_fit": null,
            "object_position": null,
            "order": null,
            "overflow": null,
            "overflow_x": null,
            "overflow_y": null,
            "padding": null,
            "right": null,
            "top": null,
            "visibility": null,
            "width": null
          }
        },
        "fd9eadbb84a2439ea4262d8833bd687e": {
          "model_module": "@jupyter-widgets/controls",
          "model_module_version": "1.5.0",
          "model_name": "DescriptionStyleModel",
          "state": {
            "_model_module": "@jupyter-widgets/controls",
            "_model_module_version": "1.5.0",
            "_model_name": "DescriptionStyleModel",
            "_view_count": null,
            "_view_module": "@jupyter-widgets/base",
            "_view_module_version": "1.2.0",
            "_view_name": "StyleView",
            "description_width": ""
          }
        }
      }
    }
  },
  "nbformat": 4,
  "nbformat_minor": 0
}
